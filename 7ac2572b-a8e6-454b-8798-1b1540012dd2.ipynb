{
 "cells": [
  {
   "cell_type": "markdown",
   "metadata": {
    "id": "H6cQIZr3ElW1"
   },
   "source": [
    "# Проект: Обучение с учителем: качество модели\n",
    "\n",
    "## **Описание проекта**\n",
    "\n",
    "Интернет-магазин «В один клик» продаёт разные товары: для детей, для дома, мелкую бытовую технику, косметику и даже продукты. Отчёт магазина за прошлый период показал, что активность покупателей начала снижаться. Привлекать новых клиентов уже не так эффективно: о магазине и так знает большая часть целевой аудитории. Возможный выход — удерживать активность постоянных клиентов. Сделать это можно с помощью персонализированных предложений.\n",
    "Вашему отделу поручили разработать решение, которое позволит персонализировать предложения постоянным клиентам, чтобы увеличить их покупательскую активность.\n",
    "\n",
    "**Как решать задачу**\n",
    "\n",
    "Нужно промаркировать уровень финансовой активности постоянных покупателей. В компании принято выделять два уровня активности: «снизилась», если клиент стал покупать меньше товаров, и «прежний уровень».\n",
    "Нужно собрать данные по клиентам по следующим группам:\n",
    "- Признаки, которые описывают коммуникацию сотрудников компании с клиентом.\n",
    "- Признаки, которые описывают продуктовое поведение покупателя. Например, какие товары покупает и как часто.\n",
    "- Признаки, которые описывают покупательское поведение клиента. Например, сколько тратил в магазине.\n",
    "- Признаки, которые описывают поведение покупателя на сайте. Например, как много страниц просматривает и сколько времени проводит на сайте.\n",
    "\n",
    "Четыре группы: \n",
    "1. коммуникация с клиентом, \n",
    "2. продуктовое поведение, \n",
    "3. поведение на сайте \n",
    "4. финансовое поведение.\n",
    "\n",
    "Нужно построить модель, которая предскажет вероятность снижения покупательской активности клиента в следующие три месяца.\n",
    "В исследование нужно включить дополнительные данные финансового департамента о прибыльности клиента: какой доход каждый покупатель приносил компании за последние три месяца.\n",
    "Используя данные модели и данные о прибыльности клиентов, нужно выделить сегменты покупателей и разработать для них персонализированные предложения.\n",
    "Руководство одобрило описание решения, и вам, как специалисту по DS, нужно его реализовать.\n",
    "\n",
    "**Описание данных**\n",
    "\n",
    "Данные для работы находятся в нескольких таблицах.\n",
    "market_file.csv\n",
    "\n",
    "Таблица, которая содержит данные о поведении покупателя на сайте, о коммуникациях с покупателем и его продуктовом поведении.\n",
    "- `id` — номер покупателя в корпоративной базе данных.\n",
    "- `Покупательская активность` — рассчитанный класс покупательской активности (целевой признак): «снизилась» или «прежний уровень».\n",
    "- `Тип сервиса` — уровень сервиса, например «премиум» и «стандарт».\n",
    "- `Разрешить сообщать` — информация о том, можно ли присылать покупателю дополнительные предложения о товаре. Согласие на это даёт покупатель.\n",
    "- `Маркет_актив_6_мес` — среднемесячное значение маркетинговых коммуникаций компании, которое приходилось на покупателя за последние 6 месяцев. Это значение показывает, какое число рассылок, звонков, показов рекламы и прочего приходилось на клиента.\n",
    "- `Маркет_актив_тек_мес` — количество маркетинговых коммуникаций в текущем месяце.\n",
    "- `Длительность` — значение, которое показывает, сколько дней прошло с момента регистрации покупателя на сайте.\n",
    "- `Акционные_покупки` — среднемесячная доля покупок по акции от общего числа покупок за последние 6 месяцев.\n",
    "- `Популярная_категория` — самая популярная категория товаров у покупателя за последние 6 месяцев.\n",
    "- `Средний_просмотр_категорий_за_визит` — показывает, сколько в среднем категорий покупатель просмотрел за визит в течение последнего месяца.\n",
    "- `Неоплаченные_продукты_штук_квартал` — общее число неоплаченных товаров в корзине за последние 3 месяца.\n",
    "- `Ошибка_сервиса` — число сбоев, которые коснулись покупателя во время посещения сайта.\n",
    "- `Страниц_за_визит` — среднее количество страниц, которые просмотрел покупатель за один визит на сайт за последние 3 месяца.\n",
    "\n",
    "market_money.csv\n",
    "\n",
    "Таблица с данными о выручке, которую получает магазин с покупателя, то есть сколько покупатель всего потратил за период взаимодействия с сайтом.\n",
    "- `id` — номер покупателя в корпоративной базе данных.\n",
    "- `Период` — название периода, во время которого зафиксирована выручка. Например, 'текущий_месяц' или 'предыдущий_месяц'.\n",
    "- `Выручка` — сумма выручки за период.\n",
    "\n",
    "market_time.csv\n",
    "\n",
    "Таблица с данными о времени (в минутах), которое покупатель провёл на сайте в течение периода.\n",
    "- `id` — номер покупателя в корпоративной базе данных.\n",
    "- `Период` — название периода, во время которого зафиксировано общее время.\n",
    "- `минут` — значение времени, проведённого на сайте, в минутах.\n",
    "\n",
    "money.csv\n",
    "\n",
    "Таблица с данными о среднемесячной прибыли покупателя за последние 3 месяца: какую прибыль получает магазин от продаж каждому покупателю.\n",
    "- `id` — номер покупателя в корпоративной базе данных.\n",
    "- `Прибыль` — значение прибыли.\n",
    "\n",
    "\n",
    "**Инструкция по выполнению проекта**\n",
    "\n",
    "Решать задачу вам нужно в два этапа:\n",
    "1. Разработайте модель, которая предскажет вероятность снижения покупательской активности.\n",
    "2. Выделите сегмент покупателей, проанализируйте его и предложите, как увеличить его покупательскую активность. Используйте данные моделирования, данные о прибыли покупателей и исходные данные (если понадобятся). По желанию вы можете проанализировать больше одного сегмента.\n",
    "\n",
    "Ниже несколько примеров сегментов, но вы также можете выделить свой:\n",
    "\n",
    "- Группа клиентов с максимальной долей покупок по акции и высокой вероятностью снижения покупательской активности.\n",
    "- Группа клиентов, которые покупают только технику, то есть товары с длинным жизненным циклом.\n",
    "- Группа клиентов, которые покупают товары из категории «Товары для себя» (новая категория, которую можно выделить на основе текущих) или «Товары для детей».\n",
    "- Группа клиентов с высокой вероятностью снижения покупательской активности и наиболее высокой прибыльностью.\n",
    "\n",
    "Шаг 1. Загрузка данных\n",
    "\n",
    "- 1.Загрузите данные. Файлы market_file.csv, market_money.csv, market_time.csv, money.csv доступны по ссылкам в описании данных или через пути к ним:\n",
    "- `/datasets/market_file.csv`\n",
    "- `/datasets/market_money.csv`\n",
    "- `/datasets/market_time.csv`\n",
    "- `/datasets/money.csv`\n",
    "\n",
    "Обратите внимание: в некоторых файлах разделитель значений — **точка с запятой**, а разделитель десятичных значений — **запятая**.\n",
    "\n",
    "- 2. Проверьте, что данные в таблицах соответствуют описанию. Исследованием и объединением данных вы займётесь позже.\n",
    "\n",
    "Шаг 2. Предобработка данных\n",
    "\n",
    "- Проведите необходимую предобработку данных. Названия столбцов можно оставить кириллическими.\n",
    "\n",
    "Шаг 3. Исследовательский анализ данных\n",
    "\n",
    "- Проведите исследовательский анализ данных из каждой таблицы. Отберите клиентов с покупательской активностью не менее трёх месяцев, то есть таких, которые что-либо покупали в этот период. Оформите выводы по результатам шага.\n",
    "\n",
    "Шаг 4. Объединение таблиц\n",
    "\n",
    "- 4.1 Объедините таблицы market_file.csv, market_money.csv, market_time.csv. Данные о прибыли из файла money.csv при моделировании вам не понадобятся. \n",
    "- 4.2 Учитывайте, что данные о выручке и времени на сайте находятся в одном столбце для всех периодов. В итоговой таблице сделайте отдельный столбец для каждого периода.\n",
    "\n",
    "Шаг 5. Корреляционный анализ\n",
    "\n",
    "- Проведите корреляционный анализ признаков в количественной шкале в итоговой таблице для моделирования. Сделайте выводы о мультиколлинеарности и при необходимости устраните её.\n",
    "\n",
    "Шаг 6. Использование пайплайнов\n",
    "\n",
    "Примените все изученные модели. Для этого используйте пайплайны.\n",
    "- 6.1 Во время подготовки данных используйте ColumnTransformer. Количественные и категориальные признаки обработайте в пайплайне раздельно. Для кодирования категориальных признаков используйте как минимум два кодировщика, для масштабирования количественных — как минимум два скейлера.\n",
    "\n",
    "Напоминаем, что для каждой модели можно подготовить данные с разным кодированием и масштабированием.\n",
    "\n",
    "- 6.2 Обучите четыре модели: KNeighborsClassifier(), DecisionTreeClassifier(), LogisticRegression() и  SVC(). Для каждой из них подберите как минимум один гиперпараметр. Выберите подходящую для задачи метрику, аргументируйте свой выбор. Используйте эту метрику при подборе гиперпараметров.\n",
    "- 6.3 Выберите лучшую модель, используя заданную метрику. Для этого примените одну из стратегий:\n",
    "использовать пайплайны и инструменты подбора гиперпараметров для каждой модели отдельно, чтобы выбрать лучшую модель самостоятельно;\n",
    "использовать один общий пайплайн для всех моделей и инструмент подбора гиперпараметров, который вернёт вам лучшую модель.\n",
    "\n",
    "Шаг 7. Анализ важности признаков\n",
    "\n",
    "- 7.1 Оцените важность признаков для лучшей модели и постройте график важности с помощью метода SHAP. \n",
    "- 7.2 Сделайте выводы о значимости признаков:\n",
    "    - какие признаки мало значимы для модели;\n",
    "    - какие признаки сильнее всего влияют на целевой признак;\n",
    "    - как можно использовать эти наблюдения при моделировании и принятии бизнес-решений.\n",
    "\n",
    "Шаг 8. Сегментация покупателей\n",
    "\n",
    "- 8.1 Выполните сегментацию покупателей. Используйте результаты моделирования и данные о прибыльности покупателей.\n",
    "- 8.2 Выберите группу покупателей и предложите, как увеличить её покупательскую активность: \n",
    "    - Проведите графическое и аналитическое исследование группы покупателей.\n",
    "    - Сделайте предложения по работе с сегментом для увеличения покупательской активности.\n",
    "\n",
    "8.3 Сделайте выводы о сегментах:\n",
    "- какой сегмент вы взяли для дополнительного исследования,\n",
    "какие предложения вы сделали и почему.\n",
    "\n",
    "Шаг 9. Общий вывод\n",
    "- Сделайте общий вывод:\n",
    "    - опишите задачу;\n",
    "    - опишите исходные данные и проведённую предобработку;\n",
    "    - напишите, что вы сделали для поиска лучшей модели;\n",
    "    - укажите лучшую модель;\n",
    "    - добавьте выводы и дополнительные предложения для выбранного сегмента покупателей."
   ]
  },
  {
   "cell_type": "markdown",
   "metadata": {},
   "source": [
    "## Импорт библиотек"
   ]
  },
  {
   "cell_type": "code",
   "execution_count": null,
   "metadata": {},
   "outputs": [],
   "source": [
    "!pip install phik -q\n",
    "!pip install scikit-learn --upgrade -q\n",
    "!pip install shap -q\n",
    "!pip install shap --upgrade -q"
   ]
  },
  {
   "cell_type": "code",
   "execution_count": null,
   "metadata": {},
   "outputs": [],
   "source": [
    "import pandas as pd\n",
    "import numpy as np\n",
    "import seaborn as sns\n",
    "import matplotlib\n",
    "from matplotlib import pyplot as plt\n",
    "import pylab\n",
    "import scipy.stats as stats\n",
    "from scipy.stats import shapiro\n",
    "from sklearn.model_selection import (train_test_split,\n",
    "                                     cross_val_score,\n",
    "                                     RandomizedSearchCV,\n",
    "                                     GridSearchCV)\n",
    "                                     \n",
    "from sklearn.linear_model import LogisticRegression\n",
    "from sklearn.linear_model import LogisticRegression\n",
    "from sklearn.neighbors import KNeighborsClassifier\n",
    "from sklearn.tree import DecisionTreeClassifier\n",
    "from sklearn.svm import SVC\n",
    "                                     \n",
    "from sklearn.metrics import (confusion_matrix,\n",
    "                             ConfusionMatrixDisplay,\n",
    "                             precision_score,\n",
    "                             f1_score,\n",
    "                             roc_curve,\n",
    "                             roc_auc_score)\n",
    "                                     \n",
    "from sklearn.preprocessing import (OneHotEncoder, \n",
    "                                   OrdinalEncoder, \n",
    "                                   StandardScaler, \n",
    "                                   MinMaxScaler, \n",
    "                                   RobustScaler,\n",
    "                                   LabelEncoder\n",
    "                                  )\n",
    "\n",
    "from sklearn.impute import SimpleImputer\n",
    "                                     \n",
    "from sklearn.pipeline import Pipeline\n",
    "from sklearn.compose import ColumnTransformer\n",
    "                                     \n",
    "\n",
    "import warnings\n",
    "import re\n",
    "import phik\n",
    "import shap\n",
    "import random\n",
    "from tqdm import tqdm\n",
    "from sklearn.dummy import DummyClassifier"
   ]
  },
  {
   "cell_type": "code",
   "execution_count": null,
   "metadata": {},
   "outputs": [],
   "source": [
    "warnings.filterwarnings(\"ignore\")\n",
    "\n",
    "sns.set(rc={'figure.figsize':(12, 6)})\n",
    "#sns.set_palette(\"viridis\")\n",
    "\n",
    "pd.set_option('display.max_columns', None)\n",
    "\n",
    "RANDOM_STATE = 15\n",
    "TEST_SIZE = 0.25"
   ]
  },
  {
   "cell_type": "code",
   "execution_count": null,
   "metadata": {},
   "outputs": [],
   "source": [
    "market_main_df = pd.read_csv('/datasets/market_file.csv')\n",
    "market_money_df = pd.read_csv('/datasets/market_money.csv')\n",
    "market_time_df = pd.read_csv('/datasets/market_time.csv')\n",
    "ave_money_df = pd.read_csv('/datasets/money.csv', delimiter=';')"
   ]
  },
  {
   "cell_type": "code",
   "execution_count": null,
   "metadata": {},
   "outputs": [],
   "source": [
    "market_main_df.head()"
   ]
  },
  {
   "cell_type": "code",
   "execution_count": null,
   "metadata": {},
   "outputs": [],
   "source": [
    "market_main_df.head()"
   ]
  },
  {
   "cell_type": "code",
   "execution_count": null,
   "metadata": {},
   "outputs": [],
   "source": [
    "market_money_df.head(10)"
   ]
  },
  {
   "cell_type": "code",
   "execution_count": null,
   "metadata": {},
   "outputs": [],
   "source": [
    "market_time_df.head()"
   ]
  },
  {
   "cell_type": "code",
   "execution_count": null,
   "metadata": {},
   "outputs": [],
   "source": [
    "ave_money_df.head()"
   ]
  },
  {
   "cell_type": "markdown",
   "metadata": {},
   "source": [
    "## Предобработка данных"
   ]
  },
  {
   "cell_type": "code",
   "execution_count": null,
   "metadata": {},
   "outputs": [],
   "source": [
    "#приводим названия столбцов к нижнему регистру и snake_case\n",
    "dfs = [market_main_df, \n",
    "       market_money_df,\n",
    "       market_time_df,\n",
    "       ave_money_df\n",
    "      ]\n",
    "\n",
    "for df in dfs:\n",
    "    df.columns = [re.sub(r'(?<!^)(?=[А-Я])', '_', i).replace(' ', '_').lower() for i in df.columns]"
   ]
  },
  {
   "cell_type": "code",
   "execution_count": null,
   "metadata": {},
   "outputs": [],
   "source": [
    "market_main_df.info()"
   ]
  },
  {
   "cell_type": "markdown",
   "metadata": {},
   "source": [
    "- Пропуски в данных отсутствуют.\n",
    "- Значения колонок соответствуют своим типам."
   ]
  },
  {
   "cell_type": "code",
   "execution_count": null,
   "metadata": {},
   "outputs": [],
   "source": [
    "market_main_df['id'].duplicated().sum()"
   ]
  },
  {
   "cell_type": "code",
   "execution_count": null,
   "metadata": {},
   "outputs": [],
   "source": [
    "market_main_df['покупательская_активность'].value_counts()"
   ]
  },
  {
   "cell_type": "code",
   "execution_count": null,
   "metadata": {},
   "outputs": [],
   "source": [
    "market_main_df['тип_сервиса'].value_counts()"
   ]
  },
  {
   "cell_type": "code",
   "execution_count": null,
   "metadata": {},
   "outputs": [],
   "source": [
    "market_main_df['тип_сервиса'] = market_main_df['тип_сервиса'].str.replace('стандартт', 'стандарт')"
   ]
  },
  {
   "cell_type": "code",
   "execution_count": null,
   "metadata": {},
   "outputs": [],
   "source": [
    "market_main_df['тип_сервиса'].value_counts()"
   ]
  },
  {
   "cell_type": "code",
   "execution_count": null,
   "metadata": {},
   "outputs": [],
   "source": [
    "market_main_df['разрешить_сообщать'].value_counts()"
   ]
  },
  {
   "cell_type": "code",
   "execution_count": null,
   "metadata": {},
   "outputs": [],
   "source": [
    "market_main_df['популярная_категория'].value_counts()"
   ]
  },
  {
   "cell_type": "code",
   "execution_count": null,
   "metadata": {},
   "outputs": [],
   "source": [
    "market_money_df.info()"
   ]
  },
  {
   "cell_type": "code",
   "execution_count": null,
   "metadata": {},
   "outputs": [],
   "source": [
    "market_money_df['период'].value_counts()"
   ]
  },
  {
   "cell_type": "code",
   "execution_count": null,
   "metadata": {},
   "outputs": [],
   "source": [
    "market_time_df.info()"
   ]
  },
  {
   "cell_type": "code",
   "execution_count": null,
   "metadata": {},
   "outputs": [],
   "source": [
    "market_time_df['период'].value_counts()"
   ]
  },
  {
   "cell_type": "code",
   "execution_count": null,
   "metadata": {},
   "outputs": [],
   "source": [
    "ave_money_df.info()"
   ]
  },
  {
   "cell_type": "code",
   "execution_count": null,
   "metadata": {},
   "outputs": [],
   "source": [
    "ave_money_df['прибыль'] = ave_money_df['прибыль'].str.replace(',', '.').astype('float')"
   ]
  },
  {
   "cell_type": "code",
   "execution_count": null,
   "metadata": {},
   "outputs": [],
   "source": [
    "ave_money_df.info()"
   ]
  },
  {
   "cell_type": "markdown",
   "metadata": {},
   "source": [
    "- дубликатов в колонке `id` у датасета `market_main_df` не обнаружено\n",
    "- неявные дубликаты устранены\n",
    "- значения приведены к соответствующим типам"
   ]
  },
  {
   "cell_type": "markdown",
   "metadata": {},
   "source": [
    "## Исследовательский анализ"
   ]
  },
  {
   "cell_type": "markdown",
   "metadata": {},
   "source": [
    "Определим `id` пользователей, у которых нет активности в течение 3-х месяцев. Для этого достаточно определить траты в предыдущем месяце. "
   ]
  },
  {
   "cell_type": "code",
   "execution_count": null,
   "metadata": {},
   "outputs": [],
   "source": [
    "id_to_drop = (market_money_df['id'].\n",
    "              loc[((market_money_df['период'] == 'предыдущий_месяц') & (market_money_df['выручка'] == 0)) | \n",
    "                  ((market_money_df['период'] == 'препредыдущий_месяц') & (market_money_df['выручка'] == 0))].unique())\n",
    "id_to_drop"
   ]
  },
  {
   "cell_type": "code",
   "execution_count": null,
   "metadata": {},
   "outputs": [],
   "source": [
    "for i in id_to_drop:\n",
    "    market_main_df.drop(market_main_df[market_main_df['id'] == i].index, axis=0, inplace=True)\n",
    "    market_money_df.drop(market_money_df[market_money_df['id'] == i].index, axis=0, inplace=True)\n",
    "    market_time_df.drop(market_time_df[market_time_df['id'] == i].index, axis=0, inplace=True)\n",
    "    ave_money_df.drop(ave_money_df[ave_money_df['id'] == i].index, axis=0, inplace=True)\n",
    "    \n",
    "\n",
    "market_main_df.reset_index(drop=True, inplace=True)\n",
    "market_money_df.reset_index(drop=True, inplace=True)\n",
    "market_time_df.reset_index(drop=True, inplace=True)\n",
    "ave_money_df.reset_index(drop=True, inplace=True)"
   ]
  },
  {
   "cell_type": "code",
   "execution_count": null,
   "metadata": {},
   "outputs": [],
   "source": [
    "corr_plot = sns.pairplot(market_main_df.drop(columns='id'), diag_kind='kde', hue='покупательская_активность')\n",
    "for axes in corr_plot.axes.flat:\n",
    "    axes.set_ylabel(axes.get_ylabel(), rotation=60, horizontalalignment='right')\n",
    "    axes.set_xlabel(axes.get_xlabel(), rotation=45)\n",
    "plt.show()"
   ]
  },
  {
   "cell_type": "markdown",
   "metadata": {},
   "source": [
    "- Линейной зависимости у признаков не наблюдается.\n",
    "- Маркетинг в текущем месяце проводится для 3 групп.\n",
    "- По количеству просмотров категорий за визит пользователи разделены на 6 групп.\n",
    "- По доле аукционных покупок пользователи разделены на 2 группы. При этом видно, что три пользователя выбиваются из общей тенденции."
   ]
  },
  {
   "cell_type": "code",
   "execution_count": null,
   "metadata": {},
   "outputs": [],
   "source": [
    "def numeric_analysis(df, column, annot):\n",
    "    # выводим таблицу со статистикой и считаем усы боксплота\n",
    "    stat = df[column].describe()\n",
    "    print(stat)\n",
    "    up_whisker = stat['75%'] + 1.5 * (stat['75%'] - stat['25%'])\n",
    "    low_whisker = stat['25%'] - 1.5 * (stat['75%'] - stat['25%'])\n",
    "    \n",
    "    print(f'\\nВерхний ус: {round(up_whisker, 2)} \\nНижний ус: {round(low_whisker, 2)} \\\n",
    "    \\nМедианное значение: {df[column].median()}')\n",
    "    \n",
    "    # строим ящик с усами и гистограмму признака\n",
    "    f, (ax_box, ax_hist) = plt.subplots(2, sharex=True, gridspec_kw={\"height_ratios\": (.15, .85)})\n",
    "    sns.boxplot(df[column], orient=\"h\", ax=ax_box)\n",
    "    sns.histplot(data=df, x=column, ax=ax_hist, bins=100, kde=True)\n",
    "    plt.axvline(df[column].mean(), color='r', linestyle='-', label=f'Среднее значение: {round(df[column].mean(), 2)}')\n",
    "    plt.axvline(df[column].median(), color='g', linestyle='--', label=f'Медианное значение: {round(df[column].median(), 2)}')\n",
    "    ax_box.set(xlabel='')\n",
    "    ax_hist.legend(loc='best')\n",
    "    ax_box.set_title(f'График распределения {annot}', weight='bold')\n",
    "    plt.show()"
   ]
  },
  {
   "cell_type": "code",
   "execution_count": null,
   "metadata": {},
   "outputs": [],
   "source": [
    "num_cols = market_main_df.select_dtypes(include='number').columns.tolist()\n",
    "num_cols"
   ]
  },
  {
   "cell_type": "markdown",
   "metadata": {},
   "source": [
    "### Анализ пользователей"
   ]
  },
  {
   "cell_type": "code",
   "execution_count": null,
   "metadata": {},
   "outputs": [],
   "source": [
    "numeric_analysis(market_main_df, 'маркет_актив_6_мес', 'маркет_актив_6_мес')"
   ]
  },
  {
   "cell_type": "markdown",
   "metadata": {},
   "source": [
    "- С учетом выбросов видно, что есть две группы по маркетиноговой активности за 6 месяцев: 1) от 0 до 2 и 2) все остальные."
   ]
  },
  {
   "cell_type": "code",
   "execution_count": null,
   "metadata": {},
   "outputs": [],
   "source": [
    "(market_main_df[market_main_df['маркет_актив_6_мес'] < 2].\n",
    " groupby('покупательская_активность')['маркет_актив_6_мес'].agg('count'))"
   ]
  },
  {
   "cell_type": "markdown",
   "metadata": {},
   "source": [
    "- В первой группе 34 пользователя со сниженной активностью."
   ]
  },
  {
   "cell_type": "code",
   "execution_count": null,
   "metadata": {},
   "outputs": [],
   "source": [
    "numeric_analysis(market_main_df, 'маркет_актив_тек_мес', 'маркет_актив_тек_мес')"
   ]
  },
  {
   "cell_type": "code",
   "execution_count": null,
   "metadata": {},
   "outputs": [],
   "source": [
    "numeric_analysis(market_main_df, 'длительность', 'длительность')"
   ]
  },
  {
   "cell_type": "code",
   "execution_count": null,
   "metadata": {},
   "outputs": [],
   "source": [
    "def norm_check(df):\n",
    "    stat, p = shapiro(df)\n",
    "    print(f'stat:{round(stat, 3)}, p:{round(p, 6)}')\n",
    "    if p > 0.05:\n",
    "        print('Распределние нормальное')\n",
    "    else:\n",
    "        print('Распределение не нормальное')\n",
    "\n",
    "    stats.probplot(df, dist='norm', plot=pylab)\n",
    "    pylab.show()\n",
    "\n",
    "norm_check(market_main_df['длительность'])"
   ]
  },
  {
   "cell_type": "code",
   "execution_count": null,
   "metadata": {},
   "outputs": [],
   "source": [
    "numeric_analysis(market_main_df, 'акционные_покупки', 'акционные_покупки')"
   ]
  },
  {
   "cell_type": "markdown",
   "metadata": {},
   "source": [
    "- На графике видно лучше, что пользователи деляться на две группы по поведению с аукционным товаром.\n",
    "- Три пользователя находятся в диапазоне от 0.6 до 0.8. При оценки модели проверю два варианта: 1) Включены 2) Удалены. "
   ]
  },
  {
   "cell_type": "code",
   "execution_count": null,
   "metadata": {},
   "outputs": [],
   "source": [
    "market_main_df.loc[(market_main_df['акционные_покупки'] > 0.59) & (market_main_df['акционные_покупки'] < 0.8) ]"
   ]
  },
  {
   "cell_type": "code",
   "execution_count": null,
   "metadata": {},
   "outputs": [],
   "source": [
    "numeric_analysis(market_main_df, 'средний_просмотр_категорий_за_визит', 'средний_просмотр_категорий_за_визит')"
   ]
  },
  {
   "cell_type": "code",
   "execution_count": null,
   "metadata": {},
   "outputs": [],
   "source": [
    "numeric_analysis(market_main_df, 'неоплаченные_продукты_штук_квартал', 'неоплаченные_продукты_штук_квартал')"
   ]
  },
  {
   "cell_type": "code",
   "execution_count": null,
   "metadata": {},
   "outputs": [],
   "source": [
    "market_main_df.loc[(market_main_df['неоплаченные_продукты_штук_квартал'] > 8)]"
   ]
  },
  {
   "cell_type": "markdown",
   "metadata": {},
   "source": [
    "- По кол-ву неоплаченных продуктов пользователи разделились на 11 групп.\n",
    "- Группы 10, 11 отобразились как выброс. При этом покупательская активность в данных группах снизилась."
   ]
  },
  {
   "cell_type": "code",
   "execution_count": null,
   "metadata": {},
   "outputs": [],
   "source": [
    "numeric_analysis(market_main_df, 'ошибка_сервиса', 'ошибка_сервиса')"
   ]
  },
  {
   "cell_type": "code",
   "execution_count": null,
   "metadata": {},
   "outputs": [],
   "source": [
    "numeric_analysis(market_main_df, 'страниц_за_визит', 'страниц_за_визит')"
   ]
  },
  {
   "cell_type": "code",
   "execution_count": null,
   "metadata": {},
   "outputs": [],
   "source": [
    "cat_cols = market_main_df.select_dtypes(exclude='number').columns.tolist()\n",
    "cat_cols"
   ]
  },
  {
   "cell_type": "code",
   "execution_count": null,
   "metadata": {},
   "outputs": [],
   "source": [
    "def cat_vis(cat):\n",
    "    buyers_activity_grouped = market_main_df.groupby(cat)['id'].agg('count')\n",
    "    sns.barplot(x=market_main_df[cat].value_counts(), \n",
    "                y=market_main_df[cat].value_counts().index, \n",
    "                data=market_main_df,\n",
    "               )\n",
    "    plt.title(f'График распределения {cat}', weight='bold')\n",
    "    plt.xlabel('Кол-во покупателей')\n",
    "    plt.show()"
   ]
  },
  {
   "cell_type": "code",
   "execution_count": null,
   "metadata": {},
   "outputs": [],
   "source": [
    "cat_vis('тип_сервиса')"
   ]
  },
  {
   "cell_type": "code",
   "execution_count": null,
   "metadata": {},
   "outputs": [],
   "source": [
    "cat_vis('популярная_категория')"
   ]
  },
  {
   "cell_type": "code",
   "execution_count": null,
   "metadata": {},
   "outputs": [],
   "source": [
    "cat_vis('разрешить_сообщать')"
   ]
  },
  {
   "cell_type": "code",
   "execution_count": null,
   "metadata": {
    "scrolled": false
   },
   "outputs": [],
   "source": [
    "cat_vis('покупательская_активность')"
   ]
  },
  {
   "cell_type": "markdown",
   "metadata": {},
   "source": [
    "- График показывает, что присутствует дисбаланс классов в целевом признаке."
   ]
  },
  {
   "cell_type": "markdown",
   "metadata": {},
   "source": [
    "### Анализ выручки"
   ]
  },
  {
   "cell_type": "code",
   "execution_count": null,
   "metadata": {},
   "outputs": [],
   "source": [
    "market_money_df.head()"
   ]
  },
  {
   "cell_type": "code",
   "execution_count": null,
   "metadata": {},
   "outputs": [],
   "source": [
    "numeric_analysis(market_money_df, 'выручка', 'выручка')"
   ]
  },
  {
   "cell_type": "code",
   "execution_count": null,
   "metadata": {},
   "outputs": [],
   "source": [
    "market_money_df[market_money_df['выручка'] > 10000]"
   ]
  },
  {
   "cell_type": "code",
   "execution_count": null,
   "metadata": {},
   "outputs": [],
   "source": [
    "market_main_df[market_main_df['id'] == 215380]"
   ]
  },
  {
   "cell_type": "markdown",
   "metadata": {},
   "source": [
    "- Скорее всего это ошибка ввода или считывания данных. \n",
    "- Предполагаю, что выручка составила 6862.2, поэтому пользователя удалять не буду, а поменяю значение."
   ]
  },
  {
   "cell_type": "code",
   "execution_count": null,
   "metadata": {},
   "outputs": [],
   "source": [
    "market_money_df.loc[market_money_df['id'] == 215380, 'выручка'] = 6862.2"
   ]
  },
  {
   "cell_type": "code",
   "execution_count": null,
   "metadata": {},
   "outputs": [],
   "source": [
    "numeric_analysis(market_money_df, 'выручка', 'выручка')"
   ]
  },
  {
   "cell_type": "markdown",
   "metadata": {},
   "source": [
    "### Анализ проведенного времени на сайте"
   ]
  },
  {
   "cell_type": "code",
   "execution_count": null,
   "metadata": {},
   "outputs": [],
   "source": [
    "numeric_analysis(market_time_df, 'минут', 'минут')"
   ]
  },
  {
   "cell_type": "markdown",
   "metadata": {},
   "source": [
    "### Анализ прибыли"
   ]
  },
  {
   "cell_type": "code",
   "execution_count": null,
   "metadata": {},
   "outputs": [],
   "source": [
    "numeric_analysis(ave_money_df, 'прибыль', 'прибыль')"
   ]
  },
  {
   "cell_type": "markdown",
   "metadata": {},
   "source": [
    "## Объединение данных"
   ]
  },
  {
   "cell_type": "code",
   "execution_count": null,
   "metadata": {},
   "outputs": [],
   "source": [
    "market_money_df_new = market_money_df.pivot_table(index='id', columns='период', values='выручка')\n",
    "market_money_df_new.rename(columns={'предыдущий_месяц': 'предыдущий_месяц_выручка',\n",
    "                                   'препредыдущий_месяц': 'препредыдущий_месяц_выручка',\n",
    "                                   'текущий_месяц': 'текущий_месяц_выручка',\n",
    "                                  }, inplace=True)\n",
    "market_money_df_new.head()"
   ]
  },
  {
   "cell_type": "code",
   "execution_count": null,
   "metadata": {},
   "outputs": [],
   "source": [
    "market_time_df.columns"
   ]
  },
  {
   "cell_type": "code",
   "execution_count": null,
   "metadata": {},
   "outputs": [],
   "source": [
    "market_time_df_new = market_time_df.pivot_table(index='id', columns='период', values='минут')\n",
    "market_time_df_new.rename(columns={'предыдцщий_месяц': 'предыдущий_месяц_время',\n",
    "                                   'текущий_месяц': 'текущий_месяц_время'\n",
    "                                  }, inplace=True)\n",
    "market_time_df_new.head()"
   ]
  },
  {
   "cell_type": "code",
   "execution_count": null,
   "metadata": {},
   "outputs": [],
   "source": [
    "market_main_df = market_main_df.set_index('id')"
   ]
  },
  {
   "cell_type": "code",
   "execution_count": null,
   "metadata": {},
   "outputs": [],
   "source": [
    "market_full_df = market_main_df.join([market_money_df_new, market_time_df_new], how='outer')\n",
    "market_full_df.info()"
   ]
  },
  {
   "cell_type": "markdown",
   "metadata": {},
   "source": [
    "## Корреляционный анализ"
   ]
  },
  {
   "cell_type": "code",
   "execution_count": null,
   "metadata": {},
   "outputs": [],
   "source": [
    "#new_num_cols = market_full_df.select_dtypes(include='number').columns.tolist()\n",
    "new_num_cols = ['маркет_актив_6_мес', \n",
    "                'длительность', \n",
    "                'акционные_покупки', \n",
    "                'предыдущий_месяц_выручка', \n",
    "                'препредыдущий_месяц_выручка', \n",
    "                'текущий_месяц_выручка']"
   ]
  },
  {
   "cell_type": "code",
   "execution_count": null,
   "metadata": {},
   "outputs": [],
   "source": [
    "corr = market_full_df.phik_matrix(interval_cols=new_num_cols)"
   ]
  },
  {
   "cell_type": "code",
   "execution_count": null,
   "metadata": {},
   "outputs": [],
   "source": [
    "mask = np.triu(np.ones_like(corr, dtype=bool))\n",
    "sns.set_theme(style=\"white\")\n",
    "plt.figure(figsize=(12, 12))\n",
    "cmap = sns.color_palette(\"crest\", as_cmap=True)\n",
    "sns.heatmap(corr, mask=mask, \n",
    "            square=True, \n",
    "            linewidths=.3,\n",
    "            vmax=0.6,\n",
    "        \n",
    "            annot=True, \n",
    "            cmap=cmap, \n",
    "            fmt='.2f')\n",
    "\n",
    "plt.show()"
   ]
  },
  {
   "cell_type": "markdown",
   "metadata": {},
   "source": [
    "- Сильная зависимость целевого признака с объясняющими прослеживается в следующих:\n",
    "    1. страниц_за_визит\n",
    "    2. предыдущий_месяц_выручка\n",
    "    3. текущий_месяц_время\n",
    "- Мультиколлинеарность между признаками не обнаружена"
   ]
  },
  {
   "cell_type": "markdown",
   "metadata": {},
   "source": [
    "## Пайплайны"
   ]
  },
  {
   "cell_type": "code",
   "execution_count": null,
   "metadata": {},
   "outputs": [],
   "source": [
    "market_full_df.head()"
   ]
  },
  {
   "cell_type": "code",
   "execution_count": null,
   "metadata": {},
   "outputs": [],
   "source": [
    "ohe_columns = ['разрешить_сообщать', 'популярная_категория']\n",
    "ord_columns = ['тип_сервиса']\n",
    "num_columns = market_full_df.select_dtypes(include='number').columns.tolist()"
   ]
  },
  {
   "cell_type": "code",
   "execution_count": null,
   "metadata": {},
   "outputs": [],
   "source": [
    "#пайплайн кодирования категориального бинарного признака\n",
    "ohe_pipe = Pipeline(\n",
    "    [\n",
    "        (\n",
    "            'ohe', \n",
    "            OneHotEncoder(drop='first', handle_unknown='ignore', sparse_output=False)\n",
    "        )\n",
    "    ]\n",
    ") "
   ]
  },
  {
   "cell_type": "code",
   "execution_count": null,
   "metadata": {},
   "outputs": [],
   "source": [
    "#пайплайн кодирования категориального признака\n",
    "ord_pipe = Pipeline(\n",
    "    [\n",
    "        (\n",
    "            'ord',  \n",
    "            OrdinalEncoder(\n",
    "                categories=[['стандарт', 'премиум']], \n",
    "                handle_unknown='use_encoded_value', unknown_value=np.nan\n",
    "            )\n",
    "        ),\n",
    "        (\n",
    "            'simpleImputer_after_ord', \n",
    "            SimpleImputer(missing_values=np.nan, strategy='most_frequent')\n",
    "        )\n",
    "    ]\n",
    ") "
   ]
  },
  {
   "cell_type": "code",
   "execution_count": null,
   "metadata": {},
   "outputs": [],
   "source": [
    "#сбор кодировщиков и скейлеров\n",
    "data_preprocessor = ColumnTransformer(\n",
    "    [\n",
    "        ('ohe', ohe_pipe, ohe_columns),\n",
    "        ('ord', ord_pipe, ord_columns),\n",
    "        ('num', StandardScaler(), num_columns)\n",
    "    ], \n",
    "    remainder='passthrough'\n",
    ") "
   ]
  },
  {
   "cell_type": "code",
   "execution_count": null,
   "metadata": {},
   "outputs": [],
   "source": [
    "#финальный пайплайн\n",
    "pipe_final = Pipeline(\n",
    "    [\n",
    "        ('preprocessor', data_preprocessor),\n",
    "        ('models', DecisionTreeClassifier(random_state=RANDOM_STATE))\n",
    "    ]\n",
    ")"
   ]
  },
  {
   "cell_type": "code",
   "execution_count": null,
   "metadata": {},
   "outputs": [],
   "source": [
    "param_grid = [\n",
    "    # словарь для модели KNeighborsClassifier() \n",
    "    {\n",
    "        # название модели\n",
    "        'models': [KNeighborsClassifier()],\n",
    "        # указываем гиперпараметр модели n_neighbors\n",
    "        'models__n_neighbors': range(1, 10),\n",
    "        # указываем список методов масштабирования\n",
    "        'preprocessor__num': [StandardScaler(), MinMaxScaler(), RobustScaler()]   \n",
    "    },\n",
    "    # словарь для модели DecisionTreeClassifier()\n",
    "    {\n",
    "        'models': [DecisionTreeClassifier(random_state=RANDOM_STATE)],\n",
    "        'models__max_depth': range(2, 6),\n",
    "        'models__min_samples_split': range(2, 6),\n",
    "        'models__min_samples_leaf': range(2, 6),\n",
    "        'preprocessor__num': [StandardScaler(), MinMaxScaler(), RobustScaler()]  \n",
    "    },\n",
    "    # словарь для модели SVC()\n",
    "    {\n",
    "        'models': [SVC(random_state=RANDOM_STATE, probability=True)],\n",
    "        'models__C': [0.01, 0.1, 1, 10],\n",
    "        'models__gamma': [0.01, 0.1, 1, 10],\n",
    "        'models__kernel': ['linear'],\n",
    "        'models__degree': range(2, 10),\n",
    "        'preprocessor__num': [StandardScaler(), MinMaxScaler(), RobustScaler()]  \n",
    "\n",
    "    },\n",
    "    # словарь для модели LogisticRegression()\n",
    "    {\n",
    "        'models': [LogisticRegression(random_state=RANDOM_STATE)],\n",
    "        'preprocessor__num': [StandardScaler(), MinMaxScaler(), RobustScaler()]  \n",
    "    }\n",
    "] "
   ]
  },
  {
   "cell_type": "code",
   "execution_count": null,
   "metadata": {},
   "outputs": [],
   "source": [
    "scoring = {'f1_score': 'f1',\n",
    "           'roc_auc_score': 'roc_auc'\n",
    "          }\n",
    "\n",
    "grdscv = GridSearchCV(\n",
    "    estimator=pipe_final,\n",
    "    param_grid=param_grid,\n",
    "    scoring=scoring,\n",
    "    n_jobs=-1,\n",
    "    cv=5,\n",
    "    refit = 'roc_auc_score'\n",
    ")"
   ]
  },
  {
   "cell_type": "code",
   "execution_count": null,
   "metadata": {},
   "outputs": [],
   "source": [
    "X = market_full_df.drop(columns='покупательская_активность')\n",
    "y = market_full_df['покупательская_активность']\n",
    "\n",
    "X_train, X_test, y_train, y_test = train_test_split(\n",
    "    X, \n",
    "    y, \n",
    "    random_state=RANDOM_STATE,\n",
    "    test_size=TEST_SIZE,\n",
    "    stratify=y\n",
    ")"
   ]
  },
  {
   "cell_type": "code",
   "execution_count": null,
   "metadata": {},
   "outputs": [],
   "source": [
    "label_encoder = LabelEncoder()\n",
    "\n",
    "y_train_labeled = label_encoder.fit_transform(y_train)\n",
    "y_test_labeled = label_encoder.transform(y_test) "
   ]
  },
  {
   "cell_type": "code",
   "execution_count": null,
   "metadata": {
    "scrolled": false
   },
   "outputs": [],
   "source": [
    "with tqdm(total=1, desc=\"Fitting GridSearchCV\") as pbar:\n",
    "    grdscv.fit(X_train, y_train_labeled)\n",
    "    pbar.update(1)\n"
   ]
  },
  {
   "cell_type": "code",
   "execution_count": null,
   "metadata": {},
   "outputs": [],
   "source": [
    "pd.DataFrame(grdscv.cv_results_).sort_values(by='rank_test_roc_auc_score').head()"
   ]
  },
  {
   "cell_type": "markdown",
   "metadata": {},
   "source": [
    "- Лучшая модель KNeighborsClassifier(n_neighbors=8)\n",
    "- Лучший скалер RobustScaler().\n",
    "- Так как у нас задача классификации, то для оценки качества работы модели подходит две метрики f1 и roc_auc. Первая поможет найти баланс между recall и precision, что в свою очередь поможет после предсказаний работать как с пользователями, которые не изменили поведение на сайте, так и с пользователями, которые снизили активность. Оба класса приносят деньги, поэтому нельзя игнорировать какой-то конкретный класс. Метрика roc_auc в свою очередь даст нам общую оценку работы модели по классификации.   "
   ]
  },
  {
   "cell_type": "code",
   "execution_count": null,
   "metadata": {
    "scrolled": false
   },
   "outputs": [],
   "source": [
    "best_model = grdscv.best_estimator_\n",
    "pred_y = best_model.predict(X_test)\n",
    "pred_prob_y = best_model.predict_proba(X_test)[:,1]\n",
    "\n",
    "f1 = f1_score(y_test_labeled, pred_y)\n",
    "roc_auc = roc_auc_score(y_test_labeled, pred_prob_y)\n",
    "pd.DataFrame(data=[f1, roc_auc], index=['f1', 'roc_auc'], columns=['score'])"
   ]
  },
  {
   "cell_type": "code",
   "execution_count": null,
   "metadata": {},
   "outputs": [],
   "source": [
    "pd.DataFrame(zip(y_test, y_test_labeled, pred_prob_y), \n",
    "             columns = ['y','y_valid', 'y_proba']).sort_values(by='y_proba',ascending=False).head(10)"
   ]
  },
  {
   "cell_type": "code",
   "execution_count": null,
   "metadata": {
    "scrolled": true
   },
   "outputs": [],
   "source": [
    "precision_score(y_test_labeled, pred_y)"
   ]
  },
  {
   "cell_type": "code",
   "execution_count": null,
   "metadata": {},
   "outputs": [],
   "source": [
    "fpr, tpr, _ = roc_curve(y_test_labeled, pred_prob_y)\n",
    "plt.plot(fpr, tpr)\n",
    "plt.plot([0, 1], [0, 1], linestyle='--', color='red')\n",
    "plt.ylabel('True Positive Rate')\n",
    "plt.xlabel('False Positive Rate')\n",
    "\n",
    "auc = roc_auc_score(y_test_labeled, pred_prob_y)\n",
    "plt.fill_between(fpr, tpr)\n",
    "plt.show()\n",
    "print(\"AUC: %.3f\" % auc)"
   ]
  },
  {
   "cell_type": "code",
   "execution_count": null,
   "metadata": {},
   "outputs": [],
   "source": [
    "dummy_model = DummyClassifier(strategy='stratified', random_state=RANDOM_STATE)\n",
    "dummy_model.fit(X_train, y_train_labeled)"
   ]
  },
  {
   "cell_type": "code",
   "execution_count": null,
   "metadata": {},
   "outputs": [],
   "source": [
    "dummy_y = dummy_model.predict(X_test)\n",
    "dummy_pred_y = dummy_model.predict_proba(X_test)[:, 1]"
   ]
  },
  {
   "cell_type": "code",
   "execution_count": null,
   "metadata": {},
   "outputs": [],
   "source": [
    "f1_dummy = f1_score(y_test_labeled, dummy_y)\n",
    "roc_auc_dummy = roc_auc_score(y_test_labeled, dummy_pred_y)\n",
    "pd.DataFrame(data=[f1_dummy, roc_auc_dummy], index=['f1_dummy', 'roc_auc_dummy'], columns=['score'])"
   ]
  },
  {
   "cell_type": "markdown",
   "metadata": {},
   "source": [
    "Наша основная модель показывает лучший результат (f1 = 0.83, roc_auc = 0.898) по сравнению с базовой (f1 = 0.41, roc_auc = 0.523)."
   ]
  },
  {
   "cell_type": "markdown",
   "metadata": {},
   "source": [
    "## Анализ важности признаков"
   ]
  },
  {
   "cell_type": "code",
   "execution_count": null,
   "metadata": {},
   "outputs": [],
   "source": [
    "X_train_transformed = best_model.named_steps['preprocessor'].fit_transform(X_train)\n",
    "X_test_transformed = best_model.named_steps['preprocessor'].transform(X_test)\n",
    "\n",
    "X_train_df = pd.DataFrame(\n",
    "    X_train_transformed,\n",
    "    columns=best_model.named_steps['preprocessor'].get_feature_names_out()\n",
    ")\n",
    "\n",
    "X_test_df = pd.DataFrame(\n",
    "    X_test_transformed,\n",
    "    columns=best_model.named_steps['preprocessor'].get_feature_names_out()\n",
    ")"
   ]
  },
  {
   "cell_type": "code",
   "execution_count": null,
   "metadata": {},
   "outputs": [],
   "source": [
    "explainer = shap.SamplingExplainer(lambda x: best_model.named_steps['models'].predict_proba(x)[:,1], X_train_transformed)"
   ]
  },
  {
   "cell_type": "markdown",
   "metadata": {},
   "source": [
    "explainer = shap.Explainer(best_model.named_steps['models'], X_train_transformed)"
   ]
  },
  {
   "cell_type": "code",
   "execution_count": null,
   "metadata": {},
   "outputs": [],
   "source": [
    "shap_values = explainer.shap_values(X_test_df)"
   ]
  },
  {
   "cell_type": "code",
   "execution_count": null,
   "metadata": {},
   "outputs": [],
   "source": [
    "shap.summary_plot(shap_values, X_test_df, plot_size=(15, 16), show=False)\n",
    "# Get the current figure and axes objects. from @GarrettCGraham code\n",
    "fig, ax = plt.gcf(), plt.gca()\n",
    "\n",
    "# Modifying main plot parameters\n",
    "ax.tick_params(labelsize=12)\n",
    "ax.set_xlabel(\"SHAP значения (влияние признаков на классификацию)\", fontsize=15)\n",
    "ax.set_ylabel(\"SHAP признаки\", fontsize=15)\n",
    "ax.set_title('Значимость признаков - Классификация покупательской активности', fontsize=16, weight='bold', loc='right')\n",
    "\n",
    "# Get colorbar\n",
    "cb_ax = fig.axes[1] \n",
    "\n",
    "# Modifying color bar parameters\n",
    "cb_ax.tick_params(labelsize=12)\n",
    "cb_ax.set_ylabel(\"Значимость признака\", fontsize=15)\n",
    "\n",
    "plt.show()"
   ]
  },
  {
   "cell_type": "markdown",
   "metadata": {},
   "source": [
    "- Признак \"Аукционные покупки\" и \"неоплаченные продукты\" сильнее всего влияют на отнесение к 1 класса (снижение активности).\n",
    "- Признак с \"Время проведенное в предыдущий месяц на сайте\" по \"маркетинговая активность за 6 месяцев\" сильнее всего влияет на отнесения к классу 0 (Прежний уровень).\n",
    "- Для поднятия активности пользователей, у которых снизилась активности, можно, например, пранализировав корзину с неоплаченными покупками, предложить по ним стимулирующие акции."
   ]
  },
  {
   "cell_type": "markdown",
   "metadata": {},
   "source": [
    "## Сегментация покупателей"
   ]
  },
  {
   "cell_type": "code",
   "execution_count": null,
   "metadata": {},
   "outputs": [],
   "source": [
    "X_test.shape"
   ]
  },
  {
   "cell_type": "code",
   "execution_count": null,
   "metadata": {},
   "outputs": [],
   "source": [
    "segment_profit_df = X_test.merge(ave_money_df, left_index=True, right_on='id', how='inner')"
   ]
  },
  {
   "cell_type": "code",
   "execution_count": null,
   "metadata": {
    "scrolled": true
   },
   "outputs": [],
   "source": [
    "segment_profit_df.shape"
   ]
  },
  {
   "cell_type": "code",
   "execution_count": null,
   "metadata": {},
   "outputs": [],
   "source": [
    "segment_profit_df.head()"
   ]
  },
  {
   "cell_type": "code",
   "execution_count": null,
   "metadata": {},
   "outputs": [],
   "source": [
    "user_activity_pred = pd.DataFrame({'activity_pred': pred_y, 'activity_pred_prob': pred_prob_y})"
   ]
  },
  {
   "cell_type": "code",
   "execution_count": null,
   "metadata": {},
   "outputs": [],
   "source": [
    "user_activity_pred"
   ]
  },
  {
   "cell_type": "code",
   "execution_count": null,
   "metadata": {},
   "outputs": [],
   "source": [
    "segment_profit_df.reset_index(drop=True, inplace=True)"
   ]
  },
  {
   "cell_type": "code",
   "execution_count": null,
   "metadata": {},
   "outputs": [],
   "source": [
    "segment_profit_df.head()"
   ]
  },
  {
   "cell_type": "code",
   "execution_count": null,
   "metadata": {},
   "outputs": [],
   "source": [
    "segment_profit_df = pd.concat([segment_profit_df, user_activity_pred], axis=1)"
   ]
  },
  {
   "cell_type": "code",
   "execution_count": null,
   "metadata": {},
   "outputs": [],
   "source": [
    "segment_profit_df.columns"
   ]
  },
  {
   "cell_type": "code",
   "execution_count": null,
   "metadata": {
    "scrolled": true
   },
   "outputs": [],
   "source": [
    "segment_profit_df.head()"
   ]
  },
  {
   "cell_type": "code",
   "execution_count": null,
   "metadata": {},
   "outputs": [],
   "source": [
    "mask_ = segment_profit_df[segment_profit_df['activity_pred'] == 1]"
   ]
  },
  {
   "cell_type": "code",
   "execution_count": null,
   "metadata": {},
   "outputs": [],
   "source": [
    "numeric_col = segment_profit_df.drop(columns='id').select_dtypes(include=[np.number]).columns.values\n",
    "non_numeric_col = segment_profit_df.drop(columns='id').select_dtypes(exclude=[np.number]).columns.values"
   ]
  },
  {
   "cell_type": "code",
   "execution_count": null,
   "metadata": {},
   "outputs": [],
   "source": [
    "numeric_col"
   ]
  },
  {
   "cell_type": "code",
   "execution_count": null,
   "metadata": {},
   "outputs": [],
   "source": [
    "mask_.head()"
   ]
  },
  {
   "cell_type": "code",
   "execution_count": null,
   "metadata": {},
   "outputs": [],
   "source": [
    "mask_['среднемесячная_выручка'] = (mask_['текущий_месяц_выручка'] + \n",
    "                                   mask_['препредыдущий_месяц_выручка'] + \n",
    "                                   mask_['препредыдущий_месяц_выручка']) / 3"
   ]
  },
  {
   "cell_type": "code",
   "execution_count": null,
   "metadata": {
    "scrolled": true
   },
   "outputs": [],
   "source": [
    "mask_['среднемесячная_выручка'].describe()"
   ]
  },
  {
   "cell_type": "code",
   "execution_count": null,
   "metadata": {
    "scrolled": true
   },
   "outputs": [],
   "source": [
    "mask_['прибыль'].describe()      "
   ]
  },
  {
   "cell_type": "code",
   "execution_count": null,
   "metadata": {},
   "outputs": [],
   "source": [
    "mask_['популярная_категория'].value_counts()"
   ]
  },
  {
   "cell_type": "code",
   "execution_count": null,
   "metadata": {},
   "outputs": [],
   "source": [
    "sns.scatterplot(data=mask_, x=\"среднемесячная_выручка\", y=\"прибыль\", hue='популярная_категория')\n",
    "plt.legend(loc='best')\n",
    "plt.axvline(mask_['среднемесячная_выручка'].median(), color='r', linestyle='-')\n",
    "plt.axhline(mask_['прибыль'].median(), color='r', linestyle='-')\n",
    "plt.show()"
   ]
  },
  {
   "cell_type": "code",
   "execution_count": null,
   "metadata": {},
   "outputs": [],
   "source": [
    "segement_to_analyze = mask_[(mask_['среднемесячная_выручка'] > 4912) & \n",
    "      (mask_['прибыль'] < 4.17)]"
   ]
  },
  {
   "cell_type": "code",
   "execution_count": null,
   "metadata": {},
   "outputs": [],
   "source": [
    "segement_to_analyze.info()"
   ]
  },
  {
   "cell_type": "code",
   "execution_count": null,
   "metadata": {},
   "outputs": [],
   "source": [
    "sns.scatterplot(data=segement_to_analyze, x=\"неоплаченные_продукты_штук_квартал\", y=\"прибыль\", hue='популярная_категория')\n",
    "plt.legend(loc='best')\n",
    "#plt.axvline(mask_['среднемесячная_выручка'].mean(), color='r', linestyle='-')\n",
    "#plt.axhline(segement_to_analyze['прибыль'].mean(), color='r', linestyle='-')\n",
    "plt.show()"
   ]
  },
  {
   "cell_type": "code",
   "execution_count": null,
   "metadata": {
    "scrolled": true
   },
   "outputs": [],
   "source": [
    "segement_to_analyze['акционные_покупки'].describe()            "
   ]
  },
  {
   "cell_type": "code",
   "execution_count": null,
   "metadata": {},
   "outputs": [],
   "source": [
    "segement_to_analyze['activity_pred_prob'].describe()"
   ]
  },
  {
   "cell_type": "code",
   "execution_count": null,
   "metadata": {},
   "outputs": [],
   "source": [
    "segement_to_analyze['популярная_категория'].value_counts()"
   ]
  },
  {
   "cell_type": "code",
   "execution_count": null,
   "metadata": {},
   "outputs": [],
   "source": [
    "mask_['страниц_за_визит'].describe()"
   ]
  },
  {
   "cell_type": "code",
   "execution_count": null,
   "metadata": {},
   "outputs": [],
   "source": [
    "segement_to_analyze['страниц_за_визит'].describe()"
   ]
  },
  {
   "cell_type": "markdown",
   "metadata": {},
   "source": [
    "Сегмент для анализа, это пользователи с выручкой выше медианного значения по выборке (4912) и ниже медианного значения по прибыли (4.17).\n",
    "\n",
    "В этом сегменте довльно низкое значение аукционных покупок (медиана 0.36), что может говорить о том, что на сайте проводится мало акций по категориям товаров среди этих пользователей. Очасти, это подтверждается кол-вом неоплаченных покупок.\n",
    "\n",
    "Снижение активности, возможно связано с низким ассортиментом в данных категориях.\n",
    "\n",
    "Для увеличения покупательской активности, можно провести следующие мероприятия:\n",
    "1. Увеличить ассортимент.\n",
    "2. Предлагать товары из смежных категорий как отдельно, так и в формате комплекта, например бытовая химия за уходом за бельем подарком к покупке текстиля."
   ]
  },
  {
   "cell_type": "markdown",
   "metadata": {},
   "source": [
    "## Общий вывод"
   ]
  },
  {
   "attachments": {
    "image-2.png": {
     "image/png": "[encoded data removed]"
    },
    "image-4.png": {
     "image/png": "[encoded data removed]"
    }
   },
   "cell_type": "markdown",
   "metadata": {},
   "source": [
    "**Задача:**\n",
    "Нужно построить модель, которая предскажет вероятность снижения покупательской активности клиента в следующие три месяца.\n",
    "В исследование нужно включить дополнительные данные финансового департамента о прибыльности клиента: какой доход каждый покупатель приносил компании за последние три месяца.\n",
    "Используя данные модели и данные о прибыльности клиентов, нужно выделить сегменты покупателей и разработать для них персонализированные предложения.\n",
    "\n",
    "------\n",
    "\n",
    "**Описание исходных данных:**\n",
    "\n",
    "Данные для работы находятся в нескольких таблицах.\n",
    "market_file.csv\n",
    "\n",
    "Таблица, которая содержит данные о поведении покупателя на сайте, о коммуникациях с покупателем и его продуктовом поведении.\n",
    "- `id` — номер покупателя в корпоративной базе данных.\n",
    "- `Покупательская активность` — рассчитанный класс покупательской активности (целевой признак): «снизилась» или «прежний уровень».\n",
    "- `Тип сервиса` — уровень сервиса, например «премиум» и «стандарт».\n",
    "- `Разрешить сообщать` — информация о том, можно ли присылать покупателю дополнительные предложения о товаре. Согласие на это даёт покупатель.\n",
    "- `Маркет_актив_6_мес` — среднемесячное значение маркетинговых коммуникаций компании, которое приходилось на покупателя за последние 6 месяцев. Это значение показывает, какое число рассылок, звонков, показов рекламы и прочего приходилось на клиента.\n",
    "- `Маркет_актив_тек_мес` — количество маркетинговых коммуникаций в текущем месяце.\n",
    "- `Длительность` — значение, которое показывает, сколько дней прошло с момента регистрации покупателя на сайте.\n",
    "- `Акционные_покупки` — среднемесячная доля покупок по акции от общего числа покупок за последние 6 месяцев.\n",
    "- `Популярная_категория` — самая популярная категория товаров у покупателя за последние 6 месяцев.\n",
    "- `Средний_просмотр_категорий_за_визит` — показывает, сколько в среднем категорий покупатель просмотрел за визит в течение последнего месяца.\n",
    "- `Неоплаченные_продукты_штук_квартал` — общее число неоплаченных товаров в корзине за последние 3 месяца.\n",
    "- `Ошибка_сервиса` — число сбоев, которые коснулись покупателя во время посещения сайта.\n",
    "- `Страниц_за_визит` — среднее количество страниц, которые просмотрел покупатель за один визит на сайт за последние 3 месяца.\n",
    "\n",
    "market_money.csv\n",
    "\n",
    "Таблица с данными о выручке, которую получает магазин с покупателя, то есть сколько покупатель всего потратил за период взаимодействия с сайтом.\n",
    "- `id` — номер покупателя в корпоративной базе данных.\n",
    "- `Период` — название периода, во время которого зафиксирована выручка. Например, 'текущий_месяц' или 'предыдущий_месяц'.\n",
    "- `Выручка` — сумма выручки за период.\n",
    "\n",
    "market_time.csv\n",
    "\n",
    "Таблица с данными о времени (в минутах), которое покупатель провёл на сайте в течение периода.\n",
    "- `id` — номер покупателя в корпоративной базе данных.\n",
    "- `Период` — название периода, во время которого зафиксировано общее время.\n",
    "- `минут` — значение времени, проведённого на сайте, в минутах.\n",
    "\n",
    "money.csv\n",
    "\n",
    "Таблица с данными о среднемесячной прибыли покупателя за последние 3 месяца: какую прибыль получает магазин от продаж каждому покупателю.\n",
    "- `id` — номер покупателя в корпоративной базе данных.\n",
    "- `Прибыль` — значение прибыли.\n",
    "\n",
    "С данными юыли проведены следующие работы:\n",
    "1. Поиск явных и неявынх дубликатов.\n",
    "2. Приведение названия колонок к единому стилю.\n",
    "3. Перевод значений к соответствующим стилям.\n",
    "\n",
    "-----\n",
    "\n",
    "Для поиска лучшей модели и ее параметров я выбрал метод создания пайплайна и перебор методом GridSearchCV. Для определения лучшей использовал ROC-AUC и F1 метрики.\n",
    "\n",
    "- Лучшая модель KNeighborsClassifier(n_neighbors=8)\n",
    "- Лучший скалер RobustScaler().\n",
    "- Так как у нас задача классификации, то для оценки качества работы модели подходит две метрики f1 и roc_auc. Первая поможет найти баланс между recall и precision, что в свою очередь поможет после предсказаний работать как с пользователями, которые не изменили поведение на сайте, так и с пользователями, которые снизили активность. Оба класса приносят деньги, поэтому нельзя игнорировать какой-то конкретный класс. Метрика roc_auc в свою очередь даст нам общую оценку работы модели по классификации. \n",
    "\n",
    "![image-2.png](attachment:image-2.png)\n",
    "\n",
    "После проведения сравнения базовой с лучшей моделью, последняя показывает лучший результат (f1 = 0.83, roc_auc = 0.898) по сравнению с первой (f1 = 0.41, roc_auc = 0.523).\n",
    "\n",
    "![image-4.png](attachment:image-4.png)\n",
    "\n",
    "------\n",
    "\n",
    "Сегмент для анализа, это пользователи со выручкой выше медианного значения по выборки (4912) и ниже медианного значения по прибыли (4.17).\n",
    "\n",
    "В этом сегменте довльно низкое значение аукционных покупок (медиана 0.36), что может говорить о том, что на сайте проводится мало акций по категориям товаров среди этих пользователей. Очасти это подтверждается кол-вом неоплаченных покупок.\n",
    "\n",
    "Снижение активности, возможно связано с низким ассортиментом в данных котегориях.\n",
    "\n",
    "Для увеличения покупательской активности, можно провести следующие мероприятия:\n",
    "1. Увеличить ассортимент.\n",
    "2. Предлагать товары из смежных категорий как отдельно, так и в формате комплекта, например бытовая химия за уходом за бельем подарком к покупке текстиля."
   ]
  },
  {
   "cell_type": "markdown",
   "metadata": {},
   "source": [
    "<div style=\"border:solid Chocolate 2px; padding: 40px\">\n",
    "\n",
    "# Комментарий ревьюера: общий вывод по проекту.\n",
    "\n",
    "Денис, проект получился на довольно хорошем уровне - отличная работа над проектом, молодец!\n",
    "\n",
    "Мне нравится твой аналитический подход к выполнению проекта, ты соблюдаешь структуру работы, выполняешь её последовательно - это очень хорошо! Шаги проекта выполнены по порядку согласно плану проекта, нет смысловых и структурных ям. Важно, что не забываешь про выводы.\n",
    "\n",
    "Работа с моделями также выполнена отлично: исследовано несколько алгоритмов, проведён подбор гиперпараметров с помощью `GridSearchCV`, выполнена промежуточная оценка моделей на кросс-валидации - молодец! Здорово, что используешь сочетание `ColumnTransformer` и `Pipeline` для соединения разных инструментов в единый модельный объект и настраиваешь бесперебойную работу энкодера в случае появления в данных новых, неизвестных на момент обучения значений признаков - так твоё решение будет более гибким и масштабируемым. \n",
    "    \n",
    "Над проектом ещё стоит поработать - есть рекомендации по дополнению некоторых твоих шагов проекта. Такие рекомендации я отметил жёлтыми комментариями. Будет здорово, если ты учтёшь их - так проект станет структурно и содержательно более совершенным.\n",
    "    \n",
    "Также в работе есть критические замечания. К этим замечаниям я оставил пояснительные комментарии красного цвета, в которых перечислил возможные варианты дальнейших действий. Уверен, ты быстро с этим управишься:)\n",
    "    \n",
    "Если о том, что нужно сделать в рамках комментариев, будут возникать вопросы - оставь их, пожалуйста, в комментариях, и я отвечу на них во время следующего ревью.\n",
    "    \n",
    "Также буду рад ответить на любые твои вопросы по проекту или на какие-либо другие, если они у тебя имеются - оставь их в комментариях, и я постараюсь ответить:)\n",
    "    \n",
    "Жду твой проект на повторном ревью. До встречи:)"
   ]
  },
  {
   "cell_type": "markdown",
   "metadata": {},
   "source": [
    "<div style=\"border:solid Chocolate 2px; padding: 40px\">\n",
    "\n",
    "# Комментарий ревьюера: итоговый вывод по проекту.\n",
    "\n",
    "Денис, все замечания учтены - проект принят!\n",
    "    \n",
    "Спасибо за хорошую работу над проектом, желаю успехов в дальнейшем обучении:)"
   ]
  }
 ],
 "metadata": {
  "ExecuteTimeLog": [
   {
    "duration": 1354,
    "start_time": "2024-07-06T10:59:15.397Z"
   },
   {
    "duration": 4,
    "start_time": "2024-07-06T10:59:17.931Z"
   },
   {
    "duration": 23,
    "start_time": "2024-07-06T11:02:57.983Z"
   },
   {
    "duration": 3,
    "start_time": "2024-07-06T11:03:12.308Z"
   },
   {
    "duration": 339,
    "start_time": "2024-07-06T11:06:25.312Z"
   },
   {
    "duration": 14,
    "start_time": "2024-07-06T11:06:35.727Z"
   },
   {
    "duration": 9,
    "start_time": "2024-07-06T11:07:01.759Z"
   },
   {
    "duration": 9,
    "start_time": "2024-07-06T11:07:30.777Z"
   },
   {
    "duration": 6,
    "start_time": "2024-07-06T11:07:54.922Z"
   },
   {
    "duration": 84,
    "start_time": "2024-07-06T11:08:27.377Z"
   },
   {
    "duration": 16,
    "start_time": "2024-07-06T11:08:29.011Z"
   },
   {
    "duration": 7,
    "start_time": "2024-07-06T11:08:29.409Z"
   },
   {
    "duration": 7,
    "start_time": "2024-07-06T11:08:29.744Z"
   },
   {
    "duration": 6,
    "start_time": "2024-07-06T11:08:31.360Z"
   },
   {
    "duration": 7,
    "start_time": "2024-07-06T11:10:28.586Z"
   },
   {
    "duration": 79,
    "start_time": "2024-07-06T11:15:56.248Z"
   },
   {
    "duration": 10,
    "start_time": "2024-07-06T11:15:58.872Z"
   },
   {
    "duration": 7,
    "start_time": "2024-07-06T11:16:02.519Z"
   },
   {
    "duration": 7,
    "start_time": "2024-07-06T11:16:05.865Z"
   },
   {
    "duration": 6,
    "start_time": "2024-07-06T11:16:08.599Z"
   },
   {
    "duration": 107,
    "start_time": "2024-07-06T11:18:31.061Z"
   },
   {
    "duration": 8,
    "start_time": "2024-07-06T11:19:23.659Z"
   },
   {
    "duration": 12,
    "start_time": "2024-07-06T11:19:55.209Z"
   },
   {
    "duration": 5,
    "start_time": "2024-07-06T11:24:00.079Z"
   },
   {
    "duration": 4,
    "start_time": "2024-07-06T11:24:02.992Z"
   },
   {
    "duration": 7,
    "start_time": "2024-07-06T11:24:05.000Z"
   },
   {
    "duration": 6,
    "start_time": "2024-07-06T11:24:14.674Z"
   },
   {
    "duration": 6,
    "start_time": "2024-07-06T11:24:17.049Z"
   },
   {
    "duration": 10,
    "start_time": "2024-07-06T11:24:23.976Z"
   },
   {
    "duration": 10,
    "start_time": "2024-07-06T11:42:57.631Z"
   },
   {
    "duration": 11,
    "start_time": "2024-07-06T11:43:02.687Z"
   },
   {
    "duration": 5,
    "start_time": "2024-07-06T11:44:26.454Z"
   },
   {
    "duration": 5,
    "start_time": "2024-07-06T11:44:26.460Z"
   },
   {
    "duration": 82,
    "start_time": "2024-07-06T11:44:26.466Z"
   },
   {
    "duration": 10,
    "start_time": "2024-07-06T11:44:26.549Z"
   },
   {
    "duration": 9,
    "start_time": "2024-07-06T11:44:26.561Z"
   },
   {
    "duration": 7,
    "start_time": "2024-07-06T11:44:26.572Z"
   },
   {
    "duration": 10,
    "start_time": "2024-07-06T11:44:26.580Z"
   },
   {
    "duration": 17,
    "start_time": "2024-07-06T11:44:26.592Z"
   },
   {
    "duration": 8,
    "start_time": "2024-07-06T11:44:26.610Z"
   },
   {
    "duration": 9,
    "start_time": "2024-07-06T11:44:26.619Z"
   },
   {
    "duration": 19,
    "start_time": "2024-07-06T11:47:58.101Z"
   },
   {
    "duration": 5,
    "start_time": "2024-07-06T11:48:11.524Z"
   },
   {
    "duration": 6,
    "start_time": "2024-07-06T11:48:24.110Z"
   },
   {
    "duration": 4,
    "start_time": "2024-07-06T11:50:00.503Z"
   },
   {
    "duration": 5,
    "start_time": "2024-07-06T11:52:01.920Z"
   },
   {
    "duration": 6,
    "start_time": "2024-07-06T11:52:05.705Z"
   },
   {
    "duration": 4,
    "start_time": "2024-07-06T11:52:24.838Z"
   },
   {
    "duration": 4,
    "start_time": "2024-07-06T11:52:57.287Z"
   },
   {
    "duration": 10,
    "start_time": "2024-07-06T12:06:37.088Z"
   },
   {
    "duration": 4,
    "start_time": "2024-07-06T12:07:18.835Z"
   },
   {
    "duration": 12,
    "start_time": "2024-07-06T12:07:49.401Z"
   },
   {
    "duration": 5,
    "start_time": "2024-07-06T12:08:01.130Z"
   },
   {
    "duration": 9,
    "start_time": "2024-07-06T12:10:31.554Z"
   },
   {
    "duration": 5,
    "start_time": "2024-07-06T12:12:45.821Z"
   },
   {
    "duration": 8,
    "start_time": "2024-07-06T12:12:50.295Z"
   },
   {
    "duration": 8,
    "start_time": "2024-07-06T12:45:33.942Z"
   },
   {
    "duration": 4,
    "start_time": "2024-07-06T12:45:44.511Z"
   },
   {
    "duration": 5,
    "start_time": "2024-07-06T12:45:44.518Z"
   },
   {
    "duration": 82,
    "start_time": "2024-07-06T12:45:44.524Z"
   },
   {
    "duration": 11,
    "start_time": "2024-07-06T12:45:44.607Z"
   },
   {
    "duration": 9,
    "start_time": "2024-07-06T12:45:44.620Z"
   },
   {
    "duration": 7,
    "start_time": "2024-07-06T12:45:44.631Z"
   },
   {
    "duration": 6,
    "start_time": "2024-07-06T12:45:44.639Z"
   },
   {
    "duration": 5,
    "start_time": "2024-07-06T12:45:44.646Z"
   },
   {
    "duration": 4,
    "start_time": "2024-07-06T12:45:44.652Z"
   },
   {
    "duration": 11,
    "start_time": "2024-07-06T12:45:44.657Z"
   },
   {
    "duration": 9,
    "start_time": "2024-07-06T12:45:44.671Z"
   },
   {
    "duration": 6,
    "start_time": "2024-07-06T12:45:44.682Z"
   },
   {
    "duration": 6,
    "start_time": "2024-07-06T12:45:44.689Z"
   },
   {
    "duration": 3,
    "start_time": "2024-07-06T12:45:44.697Z"
   },
   {
    "duration": 21,
    "start_time": "2024-07-06T12:45:44.701Z"
   },
   {
    "duration": 6,
    "start_time": "2024-07-06T12:45:44.723Z"
   },
   {
    "duration": 4,
    "start_time": "2024-07-06T12:45:44.730Z"
   },
   {
    "duration": 9,
    "start_time": "2024-07-06T12:45:44.736Z"
   },
   {
    "duration": 4,
    "start_time": "2024-07-06T12:45:44.746Z"
   },
   {
    "duration": 15,
    "start_time": "2024-07-06T12:45:44.752Z"
   },
   {
    "duration": 5,
    "start_time": "2024-07-06T12:45:44.771Z"
   },
   {
    "duration": 11,
    "start_time": "2024-07-06T12:45:44.777Z"
   },
   {
    "duration": 4,
    "start_time": "2024-07-06T12:45:44.789Z"
   },
   {
    "duration": 10,
    "start_time": "2024-07-06T12:45:44.795Z"
   },
   {
    "duration": 14,
    "start_time": "2024-07-06T12:45:44.806Z"
   },
   {
    "duration": 9,
    "start_time": "2024-07-06T12:45:49.598Z"
   },
   {
    "duration": 8,
    "start_time": "2024-07-06T12:46:05.320Z"
   },
   {
    "duration": 9,
    "start_time": "2024-07-06T12:46:08.176Z"
   },
   {
    "duration": 9,
    "start_time": "2024-07-06T12:46:22.957Z"
   },
   {
    "duration": 9,
    "start_time": "2024-07-06T12:46:31.975Z"
   },
   {
    "duration": 9,
    "start_time": "2024-07-06T12:46:49.942Z"
   },
   {
    "duration": 254,
    "start_time": "2024-07-06T12:47:02.654Z"
   },
   {
    "duration": 186,
    "start_time": "2024-07-06T12:49:54.618Z"
   },
   {
    "duration": 7,
    "start_time": "2024-07-06T12:50:09.834Z"
   },
   {
    "duration": 4,
    "start_time": "2024-07-06T12:52:21.562Z"
   },
   {
    "duration": 5,
    "start_time": "2024-07-06T12:52:25.184Z"
   },
   {
    "duration": 11,
    "start_time": "2024-07-06T12:58:49.343Z"
   },
   {
    "duration": 23,
    "start_time": "2024-07-06T12:59:09.110Z"
   },
   {
    "duration": 7,
    "start_time": "2024-07-06T12:59:14.519Z"
   },
   {
    "duration": 20,
    "start_time": "2024-07-06T12:59:17.486Z"
   },
   {
    "duration": 4,
    "start_time": "2024-07-06T12:59:59.505Z"
   },
   {
    "duration": 4,
    "start_time": "2024-07-06T13:01:22.017Z"
   },
   {
    "duration": 2,
    "start_time": "2024-07-06T13:01:32.121Z"
   },
   {
    "duration": 4,
    "start_time": "2024-07-06T13:01:40.521Z"
   },
   {
    "duration": 4,
    "start_time": "2024-07-06T13:03:01.506Z"
   },
   {
    "duration": 6,
    "start_time": "2024-07-06T13:03:06.466Z"
   },
   {
    "duration": 6,
    "start_time": "2024-07-06T13:03:12.500Z"
   },
   {
    "duration": 114,
    "start_time": "2024-07-06T13:03:29.466Z"
   },
   {
    "duration": 7,
    "start_time": "2024-07-06T13:03:35.547Z"
   },
   {
    "duration": 14,
    "start_time": "2024-07-06T13:03:38.044Z"
   },
   {
    "duration": 10,
    "start_time": "2024-07-06T13:03:56.251Z"
   },
   {
    "duration": 10,
    "start_time": "2024-07-06T13:03:59.947Z"
   },
   {
    "duration": 9,
    "start_time": "2024-07-06T13:04:06.901Z"
   },
   {
    "duration": 6,
    "start_time": "2024-07-06T13:04:13.129Z"
   },
   {
    "duration": 4,
    "start_time": "2024-07-06T13:04:13.137Z"
   },
   {
    "duration": 87,
    "start_time": "2024-07-06T13:04:13.142Z"
   },
   {
    "duration": 10,
    "start_time": "2024-07-06T13:04:13.230Z"
   },
   {
    "duration": 10,
    "start_time": "2024-07-06T13:04:13.242Z"
   },
   {
    "duration": 9,
    "start_time": "2024-07-06T13:04:13.253Z"
   },
   {
    "duration": 14,
    "start_time": "2024-07-06T13:04:13.263Z"
   },
   {
    "duration": 6,
    "start_time": "2024-07-06T13:04:13.278Z"
   },
   {
    "duration": 4,
    "start_time": "2024-07-06T13:04:13.285Z"
   },
   {
    "duration": 10,
    "start_time": "2024-07-06T13:04:13.291Z"
   },
   {
    "duration": 7,
    "start_time": "2024-07-06T13:04:13.303Z"
   },
   {
    "duration": 17,
    "start_time": "2024-07-06T13:04:13.312Z"
   },
   {
    "duration": 4,
    "start_time": "2024-07-06T13:04:13.330Z"
   },
   {
    "duration": 6,
    "start_time": "2024-07-06T13:04:13.336Z"
   },
   {
    "duration": 13,
    "start_time": "2024-07-06T13:04:13.343Z"
   },
   {
    "duration": 18,
    "start_time": "2024-07-06T13:04:13.357Z"
   },
   {
    "duration": 9,
    "start_time": "2024-07-06T13:04:13.376Z"
   },
   {
    "duration": 14,
    "start_time": "2024-07-06T13:04:13.386Z"
   },
   {
    "duration": 6,
    "start_time": "2024-07-06T13:04:13.401Z"
   },
   {
    "duration": 12,
    "start_time": "2024-07-06T13:04:13.408Z"
   },
   {
    "duration": 5,
    "start_time": "2024-07-06T13:04:13.422Z"
   },
   {
    "duration": 22,
    "start_time": "2024-07-06T13:04:13.429Z"
   },
   {
    "duration": 5,
    "start_time": "2024-07-06T13:04:13.452Z"
   },
   {
    "duration": 20,
    "start_time": "2024-07-06T13:04:13.459Z"
   },
   {
    "duration": 17,
    "start_time": "2024-07-06T13:04:13.480Z"
   },
   {
    "duration": 15,
    "start_time": "2024-07-06T13:04:13.499Z"
   },
   {
    "duration": 10,
    "start_time": "2024-07-06T13:04:24.419Z"
   },
   {
    "duration": 11,
    "start_time": "2024-07-06T13:04:36.820Z"
   },
   {
    "duration": 5,
    "start_time": "2024-07-06T13:05:28.484Z"
   },
   {
    "duration": 9,
    "start_time": "2024-07-06T13:07:38.679Z"
   },
   {
    "duration": 9,
    "start_time": "2024-07-06T13:07:47.375Z"
   },
   {
    "duration": 12,
    "start_time": "2024-07-06T13:08:20.650Z"
   },
   {
    "duration": 6,
    "start_time": "2024-07-06T13:12:54.796Z"
   },
   {
    "duration": 10,
    "start_time": "2024-07-06T13:13:32.035Z"
   },
   {
    "duration": 6,
    "start_time": "2024-07-06T13:13:47.699Z"
   },
   {
    "duration": 2,
    "start_time": "2024-07-06T13:32:03.657Z"
   },
   {
    "duration": 63,
    "start_time": "2024-07-08T09:13:49.782Z"
   },
   {
    "duration": 1818,
    "start_time": "2024-07-08T09:13:53.089Z"
   },
   {
    "duration": 4,
    "start_time": "2024-07-08T09:13:54.909Z"
   },
   {
    "duration": 370,
    "start_time": "2024-07-08T09:13:54.914Z"
   },
   {
    "duration": 17,
    "start_time": "2024-07-08T09:13:55.286Z"
   },
   {
    "duration": 13,
    "start_time": "2024-07-08T09:13:55.305Z"
   },
   {
    "duration": 18,
    "start_time": "2024-07-08T09:13:55.320Z"
   },
   {
    "duration": 8,
    "start_time": "2024-07-08T09:13:55.340Z"
   },
   {
    "duration": 11,
    "start_time": "2024-07-08T09:13:55.350Z"
   },
   {
    "duration": 13,
    "start_time": "2024-07-08T09:13:55.363Z"
   },
   {
    "duration": 13,
    "start_time": "2024-07-08T09:13:55.391Z"
   },
   {
    "duration": 6,
    "start_time": "2024-07-08T09:13:55.406Z"
   },
   {
    "duration": 6,
    "start_time": "2024-07-08T09:13:55.413Z"
   },
   {
    "duration": 54,
    "start_time": "2024-07-08T09:13:55.420Z"
   },
   {
    "duration": 33,
    "start_time": "2024-07-08T09:13:55.477Z"
   },
   {
    "duration": 8,
    "start_time": "2024-07-08T09:13:55.512Z"
   },
   {
    "duration": 7,
    "start_time": "2024-07-08T09:13:55.521Z"
   },
   {
    "duration": 8,
    "start_time": "2024-07-08T09:13:55.529Z"
   },
   {
    "duration": 18,
    "start_time": "2024-07-08T09:13:55.539Z"
   },
   {
    "duration": 7,
    "start_time": "2024-07-08T09:13:55.558Z"
   },
   {
    "duration": 17,
    "start_time": "2024-07-08T09:13:55.567Z"
   },
   {
    "duration": 11,
    "start_time": "2024-07-08T09:13:55.585Z"
   },
   {
    "duration": 12,
    "start_time": "2024-07-08T09:13:55.598Z"
   },
   {
    "duration": 6,
    "start_time": "2024-07-08T09:13:55.612Z"
   },
   {
    "duration": 21,
    "start_time": "2024-07-08T09:13:55.619Z"
   },
   {
    "duration": 16,
    "start_time": "2024-07-08T09:13:55.642Z"
   },
   {
    "duration": 3,
    "start_time": "2024-07-08T09:13:55.659Z"
   },
   {
    "duration": 101,
    "start_time": "2024-07-08T09:13:55.663Z"
   },
   {
    "duration": 16,
    "start_time": "2024-07-08T09:14:57.205Z"
   },
   {
    "duration": 12,
    "start_time": "2024-07-08T09:15:09.867Z"
   },
   {
    "duration": 14,
    "start_time": "2024-07-08T09:16:06.754Z"
   },
   {
    "duration": 20,
    "start_time": "2024-07-08T09:19:57.096Z"
   },
   {
    "duration": 21,
    "start_time": "2024-07-08T09:43:52.619Z"
   },
   {
    "duration": 8,
    "start_time": "2024-07-08T09:44:53.105Z"
   },
   {
    "duration": 9,
    "start_time": "2024-07-08T09:45:00.880Z"
   },
   {
    "duration": 21,
    "start_time": "2024-07-08T09:46:05.107Z"
   },
   {
    "duration": 21,
    "start_time": "2024-07-08T09:47:03.636Z"
   },
   {
    "duration": 12908,
    "start_time": "2024-07-08T09:54:21.044Z"
   },
   {
    "duration": 17,
    "start_time": "2024-07-08T09:55:03.440Z"
   },
   {
    "duration": 20,
    "start_time": "2024-07-08T09:55:23.842Z"
   },
   {
    "duration": 12,
    "start_time": "2024-07-08T09:55:45.154Z"
   },
   {
    "duration": 10615,
    "start_time": "2024-07-08T09:56:00.217Z"
   },
   {
    "duration": 8,
    "start_time": "2024-07-08T10:08:40.262Z"
   },
   {
    "duration": 5,
    "start_time": "2024-07-08T10:13:07.945Z"
   },
   {
    "duration": 6,
    "start_time": "2024-07-08T10:13:11.840Z"
   },
   {
    "duration": 902,
    "start_time": "2024-07-08T10:13:28.032Z"
   },
   {
    "duration": 661,
    "start_time": "2024-07-08T10:14:55.655Z"
   },
   {
    "duration": 585,
    "start_time": "2024-07-08T10:17:38.221Z"
   },
   {
    "duration": 257,
    "start_time": "2024-07-08T10:18:19.085Z"
   },
   {
    "duration": 709,
    "start_time": "2024-07-08T10:19:28.488Z"
   },
   {
    "duration": 15,
    "start_time": "2024-07-08T10:22:15.943Z"
   },
   {
    "duration": 34,
    "start_time": "2024-07-08T10:22:30.328Z"
   },
   {
    "duration": 22,
    "start_time": "2024-07-08T10:23:08.102Z"
   },
   {
    "duration": 701,
    "start_time": "2024-07-08T10:28:54.257Z"
   },
   {
    "duration": 632,
    "start_time": "2024-07-08T10:31:11.133Z"
   },
   {
    "duration": 18,
    "start_time": "2024-07-08T10:32:01.274Z"
   },
   {
    "duration": 25,
    "start_time": "2024-07-08T10:32:55.000Z"
   },
   {
    "duration": 18,
    "start_time": "2024-07-08T10:33:04.274Z"
   },
   {
    "duration": 661,
    "start_time": "2024-07-08T10:48:55.031Z"
   },
   {
    "duration": 36,
    "start_time": "2024-07-08T10:58:00.896Z"
   },
   {
    "duration": 25,
    "start_time": "2024-07-08T11:00:11.775Z"
   },
   {
    "duration": 354,
    "start_time": "2024-07-08T11:00:18.816Z"
   },
   {
    "duration": 341,
    "start_time": "2024-07-08T11:01:08.666Z"
   },
   {
    "duration": 19,
    "start_time": "2024-07-08T11:01:36.236Z"
   },
   {
    "duration": 12,
    "start_time": "2024-07-08T11:02:43.145Z"
   },
   {
    "duration": 14,
    "start_time": "2024-07-08T11:02:47.815Z"
   },
   {
    "duration": 17,
    "start_time": "2024-07-08T11:04:53.916Z"
   },
   {
    "duration": 14,
    "start_time": "2024-07-08T11:04:59.680Z"
   },
   {
    "duration": 19,
    "start_time": "2024-07-08T11:06:25.531Z"
   },
   {
    "duration": 13,
    "start_time": "2024-07-08T11:07:04.038Z"
   },
   {
    "duration": 519,
    "start_time": "2024-07-08T11:08:18.511Z"
   },
   {
    "duration": 20,
    "start_time": "2024-07-08T11:08:38.939Z"
   },
   {
    "duration": 636,
    "start_time": "2024-07-08T11:08:53.112Z"
   },
   {
    "duration": 238,
    "start_time": "2024-07-08T11:09:04.184Z"
   },
   {
    "duration": 726,
    "start_time": "2024-07-08T11:09:09.571Z"
   },
   {
    "duration": 515,
    "start_time": "2024-07-08T11:09:14.253Z"
   },
   {
    "duration": 329,
    "start_time": "2024-07-08T11:09:28.237Z"
   },
   {
    "duration": 187,
    "start_time": "2024-07-08T11:11:17.296Z"
   },
   {
    "duration": 60,
    "start_time": "2024-07-08T11:12:09.394Z"
   },
   {
    "duration": 173,
    "start_time": "2024-07-08T11:12:22.549Z"
   },
   {
    "duration": 8,
    "start_time": "2024-07-08T11:12:51.346Z"
   },
   {
    "duration": 6,
    "start_time": "2024-07-08T11:13:09.273Z"
   },
   {
    "duration": 11,
    "start_time": "2024-07-08T11:13:21.201Z"
   },
   {
    "duration": 681,
    "start_time": "2024-07-08T11:40:56.106Z"
   },
   {
    "duration": 8,
    "start_time": "2024-07-08T11:43:13.991Z"
   },
   {
    "duration": 21,
    "start_time": "2024-07-08T11:44:58.449Z"
   },
   {
    "duration": 15,
    "start_time": "2024-07-08T11:45:16.993Z"
   },
   {
    "duration": 15,
    "start_time": "2024-07-08T11:45:27.386Z"
   },
   {
    "duration": 56,
    "start_time": "2024-07-08T11:45:37.890Z"
   },
   {
    "duration": 228,
    "start_time": "2024-07-08T11:45:41.811Z"
   },
   {
    "duration": 16,
    "start_time": "2024-07-08T11:46:15.698Z"
   },
   {
    "duration": 16,
    "start_time": "2024-07-08T11:46:25.155Z"
   },
   {
    "duration": 178,
    "start_time": "2024-07-08T11:46:32.780Z"
   },
   {
    "duration": 87,
    "start_time": "2024-07-08T11:47:05.804Z"
   },
   {
    "duration": 182,
    "start_time": "2024-07-08T11:47:34.611Z"
   },
   {
    "duration": 162,
    "start_time": "2024-07-08T11:47:44.075Z"
   },
   {
    "duration": 7,
    "start_time": "2024-07-08T11:47:49.331Z"
   },
   {
    "duration": 6,
    "start_time": "2024-07-08T11:48:15.260Z"
   },
   {
    "duration": 7,
    "start_time": "2024-07-08T11:48:24.244Z"
   },
   {
    "duration": 14,
    "start_time": "2024-07-08T11:48:50.101Z"
   },
   {
    "duration": 12,
    "start_time": "2024-07-08T11:48:55.749Z"
   },
   {
    "duration": 7,
    "start_time": "2024-07-08T11:49:02.580Z"
   },
   {
    "duration": 6,
    "start_time": "2024-07-08T11:49:05.644Z"
   },
   {
    "duration": 180,
    "start_time": "2024-07-08T11:49:28.278Z"
   },
   {
    "duration": 156,
    "start_time": "2024-07-08T11:49:57.239Z"
   },
   {
    "duration": 179,
    "start_time": "2024-07-08T11:52:32.326Z"
   },
   {
    "duration": 160,
    "start_time": "2024-07-08T11:52:36.112Z"
   },
   {
    "duration": 170,
    "start_time": "2024-07-08T11:53:33.178Z"
   },
   {
    "duration": 153,
    "start_time": "2024-07-08T11:53:51.254Z"
   },
   {
    "duration": 139,
    "start_time": "2024-07-08T11:54:32.340Z"
   },
   {
    "duration": 147,
    "start_time": "2024-07-08T11:54:55.371Z"
   },
   {
    "duration": 149,
    "start_time": "2024-07-08T11:55:24.577Z"
   },
   {
    "duration": 148,
    "start_time": "2024-07-08T11:55:32.835Z"
   },
   {
    "duration": 167,
    "start_time": "2024-07-08T11:55:39.835Z"
   },
   {
    "duration": 177,
    "start_time": "2024-07-08T11:55:49.135Z"
   },
   {
    "duration": 181,
    "start_time": "2024-07-08T11:56:02.317Z"
   },
   {
    "duration": 147,
    "start_time": "2024-07-08T11:56:11.496Z"
   },
   {
    "duration": 164,
    "start_time": "2024-07-08T11:56:36.005Z"
   },
   {
    "duration": 13,
    "start_time": "2024-07-08T11:56:41.267Z"
   },
   {
    "duration": 148,
    "start_time": "2024-07-08T11:56:45.495Z"
   },
   {
    "duration": 19,
    "start_time": "2024-07-08T11:57:15.148Z"
   },
   {
    "duration": 27,
    "start_time": "2024-07-08T11:57:39.499Z"
   },
   {
    "duration": 158,
    "start_time": "2024-07-08T12:00:23.887Z"
   },
   {
    "duration": 146,
    "start_time": "2024-07-08T12:02:15.889Z"
   },
   {
    "duration": 144,
    "start_time": "2024-07-08T12:02:23.201Z"
   },
   {
    "duration": 162,
    "start_time": "2024-07-08T12:02:33.741Z"
   },
   {
    "duration": 567,
    "start_time": "2024-07-08T12:07:59.790Z"
   },
   {
    "duration": 799,
    "start_time": "2024-07-08T12:08:19.471Z"
   },
   {
    "duration": 21,
    "start_time": "2024-07-08T12:08:36.349Z"
   },
   {
    "duration": 193,
    "start_time": "2024-07-08T12:09:21.983Z"
   },
   {
    "duration": 62,
    "start_time": "2024-07-08T12:09:33.590Z"
   },
   {
    "duration": 193,
    "start_time": "2024-07-08T12:09:49.038Z"
   },
   {
    "duration": 191,
    "start_time": "2024-07-08T12:10:08.057Z"
   },
   {
    "duration": 263,
    "start_time": "2024-07-08T12:11:08.040Z"
   },
   {
    "duration": 213,
    "start_time": "2024-07-08T12:11:15.704Z"
   },
   {
    "duration": 230,
    "start_time": "2024-07-08T12:11:21.175Z"
   },
   {
    "duration": 24,
    "start_time": "2024-07-08T12:28:23.010Z"
   },
   {
    "duration": 17985,
    "start_time": "2024-07-08T12:28:32.929Z"
   },
   {
    "duration": 19422,
    "start_time": "2024-07-08T12:29:56.476Z"
   },
   {
    "duration": 19313,
    "start_time": "2024-07-08T12:30:30.652Z"
   },
   {
    "duration": 19445,
    "start_time": "2024-07-08T12:31:37.277Z"
   },
   {
    "duration": 20504,
    "start_time": "2024-07-08T12:36:33.522Z"
   },
   {
    "duration": 21172,
    "start_time": "2024-07-08T12:38:11.841Z"
   },
   {
    "duration": 21057,
    "start_time": "2024-07-08T12:41:13.636Z"
   },
   {
    "duration": 20279,
    "start_time": "2024-07-08T12:42:09.912Z"
   },
   {
    "duration": 20172,
    "start_time": "2024-07-08T12:42:46.630Z"
   },
   {
    "duration": 21922,
    "start_time": "2024-07-08T12:50:28.554Z"
   },
   {
    "duration": 22573,
    "start_time": "2024-07-08T12:52:45.020Z"
   },
   {
    "duration": 22690,
    "start_time": "2024-07-08T12:53:46.531Z"
   },
   {
    "duration": 23619,
    "start_time": "2024-07-08T12:54:18.891Z"
   },
   {
    "duration": 22705,
    "start_time": "2024-07-08T12:54:58.675Z"
   },
   {
    "duration": 24588,
    "start_time": "2024-07-08T14:05:07.135Z"
   },
   {
    "duration": 23838,
    "start_time": "2024-07-08T14:06:49.160Z"
   },
   {
    "duration": 24528,
    "start_time": "2024-07-08T14:07:19.032Z"
   },
   {
    "duration": 19,
    "start_time": "2024-07-08T14:17:45.966Z"
   },
   {
    "duration": 21,
    "start_time": "2024-07-08T14:20:28.074Z"
   },
   {
    "duration": 18,
    "start_time": "2024-07-08T14:20:50.618Z"
   },
   {
    "duration": 14,
    "start_time": "2024-07-08T14:21:06.341Z"
   },
   {
    "duration": 21,
    "start_time": "2024-07-08T14:21:09.887Z"
   },
   {
    "duration": 16,
    "start_time": "2024-07-08T14:21:30.803Z"
   },
   {
    "duration": 6,
    "start_time": "2024-07-08T14:21:44.212Z"
   },
   {
    "duration": 28,
    "start_time": "2024-07-08T14:21:47.644Z"
   },
   {
    "duration": 22,
    "start_time": "2024-07-08T14:21:59.703Z"
   },
   {
    "duration": 5,
    "start_time": "2024-07-08T14:22:53.789Z"
   },
   {
    "duration": 28,
    "start_time": "2024-07-08T14:22:54.377Z"
   },
   {
    "duration": 5,
    "start_time": "2024-07-08T14:28:06.010Z"
   },
   {
    "duration": 14,
    "start_time": "2024-07-08T14:28:12.432Z"
   },
   {
    "duration": 19,
    "start_time": "2024-07-08T14:28:17.017Z"
   },
   {
    "duration": 18,
    "start_time": "2024-07-08T14:28:25.887Z"
   },
   {
    "duration": 24,
    "start_time": "2024-07-08T14:28:34.095Z"
   },
   {
    "duration": 20,
    "start_time": "2024-07-08T14:28:46.610Z"
   },
   {
    "duration": 27,
    "start_time": "2024-07-08T14:29:08.011Z"
   },
   {
    "duration": 18,
    "start_time": "2024-07-08T14:29:47.928Z"
   },
   {
    "duration": 8,
    "start_time": "2024-07-08T14:30:35.773Z"
   },
   {
    "duration": 26,
    "start_time": "2024-07-08T14:30:35.783Z"
   },
   {
    "duration": 91,
    "start_time": "2024-07-08T14:30:35.811Z"
   },
   {
    "duration": 13,
    "start_time": "2024-07-08T14:30:35.905Z"
   },
   {
    "duration": 16,
    "start_time": "2024-07-08T14:30:35.920Z"
   },
   {
    "duration": 35,
    "start_time": "2024-07-08T14:30:35.937Z"
   },
   {
    "duration": 24,
    "start_time": "2024-07-08T14:30:35.974Z"
   },
   {
    "duration": 46,
    "start_time": "2024-07-08T14:30:36.001Z"
   },
   {
    "duration": 16,
    "start_time": "2024-07-08T14:30:36.054Z"
   },
   {
    "duration": 37,
    "start_time": "2024-07-08T14:30:36.074Z"
   },
   {
    "duration": 36,
    "start_time": "2024-07-08T14:30:36.113Z"
   },
   {
    "duration": 18,
    "start_time": "2024-07-08T14:30:36.151Z"
   },
   {
    "duration": 6,
    "start_time": "2024-07-08T14:30:36.171Z"
   },
   {
    "duration": 15,
    "start_time": "2024-07-08T14:30:36.178Z"
   },
   {
    "duration": 17,
    "start_time": "2024-07-08T14:30:36.196Z"
   },
   {
    "duration": 18,
    "start_time": "2024-07-08T14:30:36.215Z"
   },
   {
    "duration": 24,
    "start_time": "2024-07-08T14:30:36.235Z"
   },
   {
    "duration": 25,
    "start_time": "2024-07-08T14:30:36.261Z"
   },
   {
    "duration": 48,
    "start_time": "2024-07-08T14:30:36.289Z"
   },
   {
    "duration": 25,
    "start_time": "2024-07-08T14:30:36.339Z"
   },
   {
    "duration": 95,
    "start_time": "2024-07-08T14:30:36.367Z"
   },
   {
    "duration": 17,
    "start_time": "2024-07-08T14:30:36.463Z"
   },
   {
    "duration": 5,
    "start_time": "2024-07-08T14:30:36.481Z"
   },
   {
    "duration": 10,
    "start_time": "2024-07-08T14:30:36.488Z"
   },
   {
    "duration": 8,
    "start_time": "2024-07-08T14:30:36.500Z"
   },
   {
    "duration": 4,
    "start_time": "2024-07-08T14:30:36.510Z"
   },
   {
    "duration": 26,
    "start_time": "2024-07-08T14:30:36.515Z"
   },
   {
    "duration": 22804,
    "start_time": "2024-07-08T14:30:36.546Z"
   },
   {
    "duration": 9,
    "start_time": "2024-07-08T14:30:59.353Z"
   },
   {
    "duration": 30,
    "start_time": "2024-07-08T14:30:59.364Z"
   },
   {
    "duration": 809,
    "start_time": "2024-07-08T14:30:59.396Z"
   },
   {
    "duration": 9,
    "start_time": "2024-07-08T14:31:00.206Z"
   },
   {
    "duration": 762,
    "start_time": "2024-07-08T14:31:00.216Z"
   },
   {
    "duration": 694,
    "start_time": "2024-07-08T14:31:00.980Z"
   },
   {
    "duration": 284,
    "start_time": "2024-07-08T14:31:01.676Z"
   },
   {
    "duration": 685,
    "start_time": "2024-07-08T14:31:01.962Z"
   },
   {
    "duration": 14,
    "start_time": "2024-07-08T14:31:02.649Z"
   },
   {
    "duration": 792,
    "start_time": "2024-07-08T14:31:02.665Z"
   },
   {
    "duration": 731,
    "start_time": "2024-07-08T14:31:03.458Z"
   },
   {
    "duration": 17,
    "start_time": "2024-07-08T14:31:04.191Z"
   },
   {
    "duration": 665,
    "start_time": "2024-07-08T14:31:04.211Z"
   },
   {
    "duration": 693,
    "start_time": "2024-07-08T14:31:04.880Z"
   },
   {
    "duration": 6,
    "start_time": "2024-07-08T14:31:05.575Z"
   },
   {
    "duration": 239,
    "start_time": "2024-07-08T14:31:05.582Z"
   },
   {
    "duration": 19,
    "start_time": "2024-07-08T14:31:05.823Z"
   },
   {
    "duration": 18,
    "start_time": "2024-07-08T14:31:05.844Z"
   },
   {
    "duration": 32,
    "start_time": "2024-07-08T14:31:05.863Z"
   },
   {
    "duration": 23,
    "start_time": "2024-07-08T14:31:05.896Z"
   },
   {
    "duration": 11,
    "start_time": "2024-07-08T14:31:23.707Z"
   },
   {
    "duration": 4,
    "start_time": "2024-07-08T14:31:49.392Z"
   },
   {
    "duration": 25,
    "start_time": "2024-07-08T14:31:50.299Z"
   },
   {
    "duration": 21,
    "start_time": "2024-07-08T14:33:43.553Z"
   },
   {
    "duration": 16,
    "start_time": "2024-07-08T14:33:50.570Z"
   },
   {
    "duration": 19,
    "start_time": "2024-07-08T14:41:49.536Z"
   },
   {
    "duration": 6,
    "start_time": "2024-07-08T14:42:06.407Z"
   },
   {
    "duration": 30,
    "start_time": "2024-07-08T14:42:09.775Z"
   },
   {
    "duration": 19,
    "start_time": "2024-07-08T14:42:32.587Z"
   },
   {
    "duration": 15,
    "start_time": "2024-07-08T14:42:47.866Z"
   },
   {
    "duration": 10653,
    "start_time": "2024-07-09T14:38:17.597Z"
   },
   {
    "duration": 6173,
    "start_time": "2024-07-09T14:38:33.250Z"
   },
   {
    "duration": 1433,
    "start_time": "2024-07-09T14:38:39.425Z"
   },
   {
    "duration": 4,
    "start_time": "2024-07-09T14:38:40.859Z"
   },
   {
    "duration": 337,
    "start_time": "2024-07-09T14:38:40.865Z"
   },
   {
    "duration": 31,
    "start_time": "2024-07-09T14:38:41.203Z"
   },
   {
    "duration": 13,
    "start_time": "2024-07-09T14:38:41.236Z"
   },
   {
    "duration": 7,
    "start_time": "2024-07-09T14:38:41.250Z"
   },
   {
    "duration": 5,
    "start_time": "2024-07-09T14:38:41.259Z"
   },
   {
    "duration": 5,
    "start_time": "2024-07-09T14:38:41.266Z"
   },
   {
    "duration": 3,
    "start_time": "2024-07-09T14:38:41.275Z"
   },
   {
    "duration": 18,
    "start_time": "2024-07-09T14:38:41.280Z"
   },
   {
    "duration": 9,
    "start_time": "2024-07-09T14:38:41.317Z"
   },
   {
    "duration": 9,
    "start_time": "2024-07-09T14:38:41.327Z"
   },
   {
    "duration": 14,
    "start_time": "2024-07-09T14:38:41.338Z"
   },
   {
    "duration": 8,
    "start_time": "2024-07-09T14:38:41.353Z"
   },
   {
    "duration": 12,
    "start_time": "2024-07-09T14:38:41.362Z"
   },
   {
    "duration": 18,
    "start_time": "2024-07-09T14:38:41.375Z"
   },
   {
    "duration": 15,
    "start_time": "2024-07-09T14:38:41.395Z"
   },
   {
    "duration": 27,
    "start_time": "2024-07-09T14:38:41.417Z"
   },
   {
    "duration": 11,
    "start_time": "2024-07-09T14:38:41.445Z"
   },
   {
    "duration": 9,
    "start_time": "2024-07-09T14:38:41.458Z"
   },
   {
    "duration": 10,
    "start_time": "2024-07-09T14:38:41.468Z"
   },
   {
    "duration": 31,
    "start_time": "2024-07-09T14:38:41.479Z"
   },
   {
    "duration": 8,
    "start_time": "2024-07-09T14:38:41.511Z"
   },
   {
    "duration": 14,
    "start_time": "2024-07-09T14:38:41.521Z"
   },
   {
    "duration": 9,
    "start_time": "2024-07-09T14:38:41.536Z"
   },
   {
    "duration": 2,
    "start_time": "2024-07-09T14:38:41.546Z"
   },
   {
    "duration": 14,
    "start_time": "2024-07-09T14:38:41.551Z"
   },
   {
    "duration": 14112,
    "start_time": "2024-07-09T14:38:41.566Z"
   },
   {
    "duration": 6,
    "start_time": "2024-07-09T14:38:55.680Z"
   },
   {
    "duration": 35,
    "start_time": "2024-07-09T14:38:55.687Z"
   },
   {
    "duration": 514,
    "start_time": "2024-07-09T14:38:55.724Z"
   },
   {
    "duration": 6,
    "start_time": "2024-07-09T14:38:56.240Z"
   },
   {
    "duration": 623,
    "start_time": "2024-07-09T14:38:56.247Z"
   },
   {
    "duration": 483,
    "start_time": "2024-07-09T14:38:56.872Z"
   },
   {
    "duration": 190,
    "start_time": "2024-07-09T14:38:57.357Z"
   },
   {
    "duration": 497,
    "start_time": "2024-07-09T14:38:57.549Z"
   },
   {
    "duration": 11,
    "start_time": "2024-07-09T14:38:58.047Z"
   },
   {
    "duration": 512,
    "start_time": "2024-07-09T14:38:58.059Z"
   },
   {
    "duration": 518,
    "start_time": "2024-07-09T14:38:58.572Z"
   },
   {
    "duration": 13,
    "start_time": "2024-07-09T14:38:59.092Z"
   },
   {
    "duration": 628,
    "start_time": "2024-07-09T14:38:59.117Z"
   },
   {
    "duration": 577,
    "start_time": "2024-07-09T14:38:59.747Z"
   },
   {
    "duration": 5,
    "start_time": "2024-07-09T14:39:00.326Z"
   },
   {
    "duration": 326,
    "start_time": "2024-07-09T14:39:00.333Z"
   },
   {
    "duration": 17,
    "start_time": "2024-07-09T14:39:00.660Z"
   },
   {
    "duration": 42,
    "start_time": "2024-07-09T14:39:00.679Z"
   },
   {
    "duration": 118,
    "start_time": "2024-07-09T14:39:00.723Z"
   },
   {
    "duration": 31,
    "start_time": "2024-07-09T14:39:00.842Z"
   },
   {
    "duration": 56,
    "start_time": "2024-07-09T14:39:00.874Z"
   },
   {
    "duration": 5,
    "start_time": "2024-07-09T14:39:58.732Z"
   },
   {
    "duration": 129,
    "start_time": "2024-07-09T14:40:41.970Z"
   },
   {
    "duration": 10,
    "start_time": "2024-07-09T14:40:50.183Z"
   },
   {
    "duration": 25,
    "start_time": "2024-07-09T14:41:11.432Z"
   },
   {
    "duration": 245701,
    "start_time": "2024-07-09T14:41:16.483Z"
   },
   {
    "duration": 6,
    "start_time": "2024-07-09T14:45:22.185Z"
   },
   {
    "duration": 2079,
    "start_time": "2024-07-09T14:47:52.080Z"
   },
   {
    "duration": 1950,
    "start_time": "2024-07-09T14:48:00.847Z"
   },
   {
    "duration": 6228,
    "start_time": "2024-07-09T14:48:54.472Z"
   },
   {
    "duration": 1278,
    "start_time": "2024-07-09T14:49:00.702Z"
   },
   {
    "duration": 4,
    "start_time": "2024-07-09T14:49:01.981Z"
   },
   {
    "duration": 108,
    "start_time": "2024-07-09T14:49:01.987Z"
   },
   {
    "duration": 21,
    "start_time": "2024-07-09T14:49:02.096Z"
   },
   {
    "duration": 21,
    "start_time": "2024-07-09T14:49:02.123Z"
   },
   {
    "duration": 10,
    "start_time": "2024-07-09T14:49:02.145Z"
   },
   {
    "duration": 7,
    "start_time": "2024-07-09T14:49:02.157Z"
   },
   {
    "duration": 11,
    "start_time": "2024-07-09T14:49:02.166Z"
   },
   {
    "duration": 10,
    "start_time": "2024-07-09T14:49:02.180Z"
   },
   {
    "duration": 14,
    "start_time": "2024-07-09T14:49:02.191Z"
   },
   {
    "duration": 17,
    "start_time": "2024-07-09T14:49:02.206Z"
   },
   {
    "duration": 6,
    "start_time": "2024-07-09T14:49:02.224Z"
   },
   {
    "duration": 8,
    "start_time": "2024-07-09T14:49:02.231Z"
   },
   {
    "duration": 4,
    "start_time": "2024-07-09T14:49:02.240Z"
   },
   {
    "duration": 12,
    "start_time": "2024-07-09T14:49:02.246Z"
   },
   {
    "duration": 15,
    "start_time": "2024-07-09T14:49:02.259Z"
   },
   {
    "duration": 12,
    "start_time": "2024-07-09T14:49:02.275Z"
   },
   {
    "duration": 16,
    "start_time": "2024-07-09T14:49:02.289Z"
   },
   {
    "duration": 5,
    "start_time": "2024-07-09T14:49:02.306Z"
   },
   {
    "duration": 18,
    "start_time": "2024-07-09T14:49:02.312Z"
   },
   {
    "duration": 6,
    "start_time": "2024-07-09T14:49:02.331Z"
   },
   {
    "duration": 8,
    "start_time": "2024-07-09T14:49:02.338Z"
   },
   {
    "duration": 5,
    "start_time": "2024-07-09T14:49:02.348Z"
   },
   {
    "duration": 9,
    "start_time": "2024-07-09T14:49:02.355Z"
   },
   {
    "duration": 21,
    "start_time": "2024-07-09T14:49:02.365Z"
   },
   {
    "duration": 14,
    "start_time": "2024-07-09T14:49:02.387Z"
   },
   {
    "duration": 24,
    "start_time": "2024-07-09T14:49:02.404Z"
   },
   {
    "duration": 13801,
    "start_time": "2024-07-09T14:49:02.429Z"
   },
   {
    "duration": 7,
    "start_time": "2024-07-09T14:49:16.231Z"
   },
   {
    "duration": 23,
    "start_time": "2024-07-09T14:49:16.239Z"
   },
   {
    "duration": 621,
    "start_time": "2024-07-09T14:49:16.263Z"
   },
   {
    "duration": 6,
    "start_time": "2024-07-09T14:49:16.886Z"
   },
   {
    "duration": 582,
    "start_time": "2024-07-09T14:49:16.893Z"
   },
   {
    "duration": 499,
    "start_time": "2024-07-09T14:49:17.476Z"
   },
   {
    "duration": 192,
    "start_time": "2024-07-09T14:49:17.976Z"
   },
   {
    "duration": 493,
    "start_time": "2024-07-09T14:49:18.169Z"
   },
   {
    "duration": 11,
    "start_time": "2024-07-09T14:49:18.664Z"
   },
   {
    "duration": 547,
    "start_time": "2024-07-09T14:49:18.676Z"
   },
   {
    "duration": 519,
    "start_time": "2024-07-09T14:49:19.224Z"
   },
   {
    "duration": 14,
    "start_time": "2024-07-09T14:49:19.745Z"
   },
   {
    "duration": 674,
    "start_time": "2024-07-09T14:49:19.761Z"
   },
   {
    "duration": 536,
    "start_time": "2024-07-09T14:49:20.437Z"
   },
   {
    "duration": 6,
    "start_time": "2024-07-09T14:49:20.974Z"
   },
   {
    "duration": 184,
    "start_time": "2024-07-09T14:49:20.981Z"
   },
   {
    "duration": 17,
    "start_time": "2024-07-09T14:49:21.166Z"
   },
   {
    "duration": 4,
    "start_time": "2024-07-09T14:49:21.184Z"
   },
   {
    "duration": 30,
    "start_time": "2024-07-09T14:49:21.189Z"
   },
   {
    "duration": 7,
    "start_time": "2024-07-09T14:49:21.221Z"
   },
   {
    "duration": 14,
    "start_time": "2024-07-09T14:49:21.229Z"
   },
   {
    "duration": 18,
    "start_time": "2024-07-09T14:49:21.244Z"
   },
   {
    "duration": 1983,
    "start_time": "2024-07-09T14:49:21.263Z"
   },
   {
    "duration": 6124,
    "start_time": "2024-07-09T14:54:14.111Z"
   },
   {
    "duration": 5,
    "start_time": "2024-07-09T14:54:20.238Z"
   },
   {
    "duration": 43,
    "start_time": "2024-07-09T14:54:20.245Z"
   },
   {
    "duration": 93,
    "start_time": "2024-07-09T14:54:20.290Z"
   },
   {
    "duration": 12,
    "start_time": "2024-07-09T14:54:20.385Z"
   },
   {
    "duration": 32,
    "start_time": "2024-07-09T14:54:20.398Z"
   },
   {
    "duration": 11,
    "start_time": "2024-07-09T14:54:20.432Z"
   },
   {
    "duration": 7,
    "start_time": "2024-07-09T14:54:20.444Z"
   },
   {
    "duration": 27,
    "start_time": "2024-07-09T14:54:20.452Z"
   },
   {
    "duration": 7,
    "start_time": "2024-07-09T14:54:20.481Z"
   },
   {
    "duration": 11,
    "start_time": "2024-07-09T14:54:20.489Z"
   },
   {
    "duration": 26,
    "start_time": "2024-07-09T14:54:20.501Z"
   },
   {
    "duration": 39,
    "start_time": "2024-07-09T14:54:20.529Z"
   },
   {
    "duration": 20,
    "start_time": "2024-07-09T14:54:20.570Z"
   },
   {
    "duration": 7,
    "start_time": "2024-07-09T14:54:20.592Z"
   },
   {
    "duration": 14,
    "start_time": "2024-07-09T14:54:20.601Z"
   },
   {
    "duration": 6,
    "start_time": "2024-07-09T14:54:20.617Z"
   },
   {
    "duration": 14,
    "start_time": "2024-07-09T14:54:20.625Z"
   },
   {
    "duration": 25,
    "start_time": "2024-07-09T14:54:20.641Z"
   },
   {
    "duration": 55,
    "start_time": "2024-07-09T14:54:20.667Z"
   },
   {
    "duration": 44,
    "start_time": "2024-07-09T14:54:20.723Z"
   },
   {
    "duration": 69,
    "start_time": "2024-07-09T14:54:20.770Z"
   },
   {
    "duration": 17,
    "start_time": "2024-07-09T14:54:20.841Z"
   },
   {
    "duration": 15,
    "start_time": "2024-07-09T14:54:20.860Z"
   },
   {
    "duration": 16,
    "start_time": "2024-07-09T14:54:20.876Z"
   },
   {
    "duration": 10,
    "start_time": "2024-07-09T14:54:20.894Z"
   },
   {
    "duration": 30,
    "start_time": "2024-07-09T14:54:20.906Z"
   },
   {
    "duration": 49,
    "start_time": "2024-07-09T14:54:20.941Z"
   },
   {
    "duration": 14515,
    "start_time": "2024-07-09T14:54:20.993Z"
   },
   {
    "duration": 8,
    "start_time": "2024-07-09T14:54:35.510Z"
   },
   {
    "duration": 16,
    "start_time": "2024-07-09T14:54:35.520Z"
   },
   {
    "duration": 528,
    "start_time": "2024-07-09T14:54:35.537Z"
   },
   {
    "duration": 7,
    "start_time": "2024-07-09T14:54:36.066Z"
   },
   {
    "duration": 563,
    "start_time": "2024-07-09T14:54:36.074Z"
   },
   {
    "duration": 514,
    "start_time": "2024-07-09T14:54:36.639Z"
   },
   {
    "duration": 190,
    "start_time": "2024-07-09T14:54:37.155Z"
   },
   {
    "duration": 709,
    "start_time": "2024-07-09T14:54:37.346Z"
   },
   {
    "duration": 12,
    "start_time": "2024-07-09T14:54:38.057Z"
   },
   {
    "duration": 558,
    "start_time": "2024-07-09T14:54:38.070Z"
   },
   {
    "duration": 543,
    "start_time": "2024-07-09T14:54:38.630Z"
   },
   {
    "duration": 14,
    "start_time": "2024-07-09T14:54:39.175Z"
   },
   {
    "duration": 499,
    "start_time": "2024-07-09T14:54:39.191Z"
   },
   {
    "duration": 609,
    "start_time": "2024-07-09T14:54:39.692Z"
   },
   {
    "duration": 6,
    "start_time": "2024-07-09T14:54:40.303Z"
   },
   {
    "duration": 188,
    "start_time": "2024-07-09T14:54:40.312Z"
   },
   {
    "duration": 62,
    "start_time": "2024-07-09T14:54:40.501Z"
   },
   {
    "duration": 0,
    "start_time": "2024-07-09T14:54:40.565Z"
   },
   {
    "duration": 0,
    "start_time": "2024-07-09T14:54:40.566Z"
   },
   {
    "duration": 0,
    "start_time": "2024-07-09T14:54:40.567Z"
   },
   {
    "duration": 0,
    "start_time": "2024-07-09T14:54:40.568Z"
   },
   {
    "duration": 0,
    "start_time": "2024-07-09T14:54:40.569Z"
   },
   {
    "duration": 0,
    "start_time": "2024-07-09T14:54:40.570Z"
   },
   {
    "duration": 57,
    "start_time": "2024-07-09T14:55:31.516Z"
   },
   {
    "duration": 26,
    "start_time": "2024-07-09T14:55:49.009Z"
   },
   {
    "duration": 4,
    "start_time": "2024-07-09T14:55:52.705Z"
   },
   {
    "duration": 18,
    "start_time": "2024-07-09T14:55:53.318Z"
   },
   {
    "duration": 4,
    "start_time": "2024-07-09T14:56:07.151Z"
   },
   {
    "duration": 16,
    "start_time": "2024-07-09T14:56:09.824Z"
   },
   {
    "duration": 16,
    "start_time": "2024-07-09T14:56:55.565Z"
   },
   {
    "duration": 140,
    "start_time": "2024-07-09T14:56:59.245Z"
   },
   {
    "duration": 11,
    "start_time": "2024-07-09T14:56:59.440Z"
   },
   {
    "duration": 6357,
    "start_time": "2024-07-09T14:57:09.874Z"
   },
   {
    "duration": 8,
    "start_time": "2024-07-09T14:57:16.233Z"
   },
   {
    "duration": 13,
    "start_time": "2024-07-09T14:57:16.242Z"
   },
   {
    "duration": 95,
    "start_time": "2024-07-09T14:57:16.259Z"
   },
   {
    "duration": 18,
    "start_time": "2024-07-09T14:57:16.357Z"
   },
   {
    "duration": 15,
    "start_time": "2024-07-09T14:57:16.377Z"
   },
   {
    "duration": 16,
    "start_time": "2024-07-09T14:57:16.394Z"
   },
   {
    "duration": 8,
    "start_time": "2024-07-09T14:57:16.420Z"
   },
   {
    "duration": 34,
    "start_time": "2024-07-09T14:57:16.430Z"
   },
   {
    "duration": 9,
    "start_time": "2024-07-09T14:57:16.466Z"
   },
   {
    "duration": 13,
    "start_time": "2024-07-09T14:57:16.476Z"
   },
   {
    "duration": 4,
    "start_time": "2024-07-09T14:57:16.490Z"
   },
   {
    "duration": 6,
    "start_time": "2024-07-09T14:57:16.495Z"
   },
   {
    "duration": 5,
    "start_time": "2024-07-09T14:57:16.504Z"
   },
   {
    "duration": 6,
    "start_time": "2024-07-09T14:57:16.510Z"
   },
   {
    "duration": 8,
    "start_time": "2024-07-09T14:57:16.518Z"
   },
   {
    "duration": 19,
    "start_time": "2024-07-09T14:57:16.527Z"
   },
   {
    "duration": 10,
    "start_time": "2024-07-09T14:57:16.547Z"
   },
   {
    "duration": 21,
    "start_time": "2024-07-09T14:57:16.558Z"
   },
   {
    "duration": 6,
    "start_time": "2024-07-09T14:57:16.580Z"
   },
   {
    "duration": 21,
    "start_time": "2024-07-09T14:57:16.587Z"
   },
   {
    "duration": 18,
    "start_time": "2024-07-09T14:57:16.609Z"
   },
   {
    "duration": 10,
    "start_time": "2024-07-09T14:57:16.629Z"
   },
   {
    "duration": 4,
    "start_time": "2024-07-09T14:57:16.641Z"
   },
   {
    "duration": 11,
    "start_time": "2024-07-09T14:57:16.647Z"
   },
   {
    "duration": 8,
    "start_time": "2024-07-09T14:57:16.660Z"
   },
   {
    "duration": 11,
    "start_time": "2024-07-09T14:57:16.669Z"
   },
   {
    "duration": 15,
    "start_time": "2024-07-09T14:57:16.682Z"
   },
   {
    "duration": 14478,
    "start_time": "2024-07-09T14:57:16.698Z"
   },
   {
    "duration": 6,
    "start_time": "2024-07-09T14:57:31.178Z"
   },
   {
    "duration": 75,
    "start_time": "2024-07-09T14:57:31.186Z"
   },
   {
    "duration": 567,
    "start_time": "2024-07-09T14:57:31.262Z"
   },
   {
    "duration": 8,
    "start_time": "2024-07-09T14:57:31.831Z"
   },
   {
    "duration": 787,
    "start_time": "2024-07-09T14:57:31.841Z"
   },
   {
    "duration": 528,
    "start_time": "2024-07-09T14:57:32.630Z"
   },
   {
    "duration": 193,
    "start_time": "2024-07-09T14:57:33.160Z"
   },
   {
    "duration": 529,
    "start_time": "2024-07-09T14:57:33.355Z"
   },
   {
    "duration": 11,
    "start_time": "2024-07-09T14:57:33.886Z"
   },
   {
    "duration": 550,
    "start_time": "2024-07-09T14:57:33.898Z"
   },
   {
    "duration": 512,
    "start_time": "2024-07-09T14:57:34.450Z"
   },
   {
    "duration": 15,
    "start_time": "2024-07-09T14:57:34.966Z"
   },
   {
    "duration": 525,
    "start_time": "2024-07-09T14:57:34.982Z"
   },
   {
    "duration": 675,
    "start_time": "2024-07-09T14:57:35.509Z"
   },
   {
    "duration": 5,
    "start_time": "2024-07-09T14:57:36.185Z"
   },
   {
    "duration": 191,
    "start_time": "2024-07-09T14:57:36.192Z"
   },
   {
    "duration": 19,
    "start_time": "2024-07-09T14:57:36.384Z"
   },
   {
    "duration": 4,
    "start_time": "2024-07-09T14:57:36.413Z"
   },
   {
    "duration": 22,
    "start_time": "2024-07-09T14:57:36.418Z"
   },
   {
    "duration": 4,
    "start_time": "2024-07-09T14:57:36.442Z"
   },
   {
    "duration": 18,
    "start_time": "2024-07-09T14:57:36.447Z"
   },
   {
    "duration": 6,
    "start_time": "2024-07-09T14:57:36.467Z"
   },
   {
    "duration": 1974,
    "start_time": "2024-07-09T14:57:36.475Z"
   },
   {
    "duration": 10,
    "start_time": "2024-07-09T15:08:20.042Z"
   },
   {
    "duration": 5,
    "start_time": "2024-07-09T15:10:08.324Z"
   },
   {
    "duration": 4,
    "start_time": "2024-07-09T15:10:48.276Z"
   },
   {
    "duration": 9,
    "start_time": "2024-07-09T15:10:52.765Z"
   },
   {
    "duration": 10,
    "start_time": "2024-07-09T15:11:06.603Z"
   },
   {
    "duration": 12,
    "start_time": "2024-07-09T15:11:10.356Z"
   },
   {
    "duration": 8,
    "start_time": "2024-07-09T15:11:12.295Z"
   },
   {
    "duration": 9,
    "start_time": "2024-07-09T15:12:09.087Z"
   },
   {
    "duration": 7,
    "start_time": "2024-07-09T15:13:27.249Z"
   },
   {
    "duration": 9,
    "start_time": "2024-07-09T15:13:32.501Z"
   },
   {
    "duration": 15,
    "start_time": "2024-07-09T15:14:15.783Z"
   },
   {
    "duration": 8,
    "start_time": "2024-07-09T15:17:08.482Z"
   },
   {
    "duration": 5,
    "start_time": "2024-07-09T15:17:13.238Z"
   },
   {
    "duration": 3,
    "start_time": "2024-07-09T15:17:15.884Z"
   },
   {
    "duration": 4,
    "start_time": "2024-07-09T15:18:45.864Z"
   },
   {
    "duration": 4,
    "start_time": "2024-07-09T15:18:47.690Z"
   },
   {
    "duration": 3,
    "start_time": "2024-07-09T15:19:18.402Z"
   },
   {
    "duration": 3,
    "start_time": "2024-07-09T15:19:18.962Z"
   },
   {
    "duration": 3,
    "start_time": "2024-07-09T15:30:25.045Z"
   },
   {
    "duration": 3,
    "start_time": "2024-07-09T15:30:25.543Z"
   },
   {
    "duration": 3,
    "start_time": "2024-07-09T15:30:26.405Z"
   },
   {
    "duration": 3,
    "start_time": "2024-07-09T15:30:56.194Z"
   },
   {
    "duration": 2,
    "start_time": "2024-07-09T15:36:39.935Z"
   },
   {
    "duration": 3,
    "start_time": "2024-07-09T15:40:05.099Z"
   },
   {
    "duration": 64,
    "start_time": "2024-07-09T19:15:12.260Z"
   },
   {
    "duration": 6213,
    "start_time": "2024-07-09T19:16:18.218Z"
   },
   {
    "duration": 1238,
    "start_time": "2024-07-09T19:16:24.433Z"
   },
   {
    "duration": 3,
    "start_time": "2024-07-09T19:16:25.673Z"
   },
   {
    "duration": 89,
    "start_time": "2024-07-09T19:16:25.678Z"
   },
   {
    "duration": 15,
    "start_time": "2024-07-09T19:16:25.769Z"
   },
   {
    "duration": 11,
    "start_time": "2024-07-09T19:16:25.786Z"
   },
   {
    "duration": 16,
    "start_time": "2024-07-09T19:16:25.798Z"
   },
   {
    "duration": 10,
    "start_time": "2024-07-09T19:16:25.816Z"
   },
   {
    "duration": 11,
    "start_time": "2024-07-09T19:16:25.828Z"
   },
   {
    "duration": 8,
    "start_time": "2024-07-09T19:16:25.842Z"
   },
   {
    "duration": 19,
    "start_time": "2024-07-09T19:16:25.852Z"
   },
   {
    "duration": 7,
    "start_time": "2024-07-09T19:16:25.873Z"
   },
   {
    "duration": 8,
    "start_time": "2024-07-09T19:16:25.881Z"
   },
   {
    "duration": 23,
    "start_time": "2024-07-09T19:16:25.891Z"
   },
   {
    "duration": 8,
    "start_time": "2024-07-09T19:16:25.916Z"
   },
   {
    "duration": 51,
    "start_time": "2024-07-09T19:16:25.927Z"
   },
   {
    "duration": 5,
    "start_time": "2024-07-09T19:16:25.979Z"
   },
   {
    "duration": 6,
    "start_time": "2024-07-09T19:16:25.986Z"
   },
   {
    "duration": 8,
    "start_time": "2024-07-09T19:16:25.994Z"
   },
   {
    "duration": 6,
    "start_time": "2024-07-09T19:16:26.004Z"
   },
   {
    "duration": 18,
    "start_time": "2024-07-09T19:16:26.011Z"
   },
   {
    "duration": 6,
    "start_time": "2024-07-09T19:16:26.030Z"
   },
   {
    "duration": 9,
    "start_time": "2024-07-09T19:16:26.038Z"
   },
   {
    "duration": 4,
    "start_time": "2024-07-09T19:16:26.049Z"
   },
   {
    "duration": 13,
    "start_time": "2024-07-09T19:16:26.055Z"
   },
   {
    "duration": 11,
    "start_time": "2024-07-09T19:16:26.069Z"
   },
   {
    "duration": 2,
    "start_time": "2024-07-09T19:16:26.082Z"
   },
   {
    "duration": 34,
    "start_time": "2024-07-09T19:16:26.088Z"
   },
   {
    "duration": 14142,
    "start_time": "2024-07-09T19:16:26.124Z"
   },
   {
    "duration": 6,
    "start_time": "2024-07-09T19:16:40.268Z"
   },
   {
    "duration": 8,
    "start_time": "2024-07-09T19:16:40.276Z"
   },
   {
    "duration": 662,
    "start_time": "2024-07-09T19:16:40.286Z"
   },
   {
    "duration": 7,
    "start_time": "2024-07-09T19:16:40.949Z"
   },
   {
    "duration": 540,
    "start_time": "2024-07-09T19:16:40.957Z"
   },
   {
    "duration": 542,
    "start_time": "2024-07-09T19:16:41.499Z"
   },
   {
    "duration": 192,
    "start_time": "2024-07-09T19:16:42.042Z"
   },
   {
    "duration": 533,
    "start_time": "2024-07-09T19:16:42.236Z"
   },
   {
    "duration": 12,
    "start_time": "2024-07-09T19:16:42.771Z"
   },
   {
    "duration": 581,
    "start_time": "2024-07-09T19:16:42.785Z"
   },
   {
    "duration": 513,
    "start_time": "2024-07-09T19:16:43.368Z"
   },
   {
    "duration": 15,
    "start_time": "2024-07-09T19:16:43.882Z"
   },
   {
    "duration": 661,
    "start_time": "2024-07-09T19:16:43.899Z"
   },
   {
    "duration": 512,
    "start_time": "2024-07-09T19:16:44.561Z"
   },
   {
    "duration": 6,
    "start_time": "2024-07-09T19:16:45.075Z"
   },
   {
    "duration": 200,
    "start_time": "2024-07-09T19:16:45.082Z"
   },
   {
    "duration": 33,
    "start_time": "2024-07-09T19:16:45.284Z"
   },
   {
    "duration": 4,
    "start_time": "2024-07-09T19:16:45.322Z"
   },
   {
    "duration": 16,
    "start_time": "2024-07-09T19:16:45.329Z"
   },
   {
    "duration": 3,
    "start_time": "2024-07-09T19:16:45.347Z"
   },
   {
    "duration": 17,
    "start_time": "2024-07-09T19:16:45.351Z"
   },
   {
    "duration": 6,
    "start_time": "2024-07-09T19:16:45.369Z"
   },
   {
    "duration": 2018,
    "start_time": "2024-07-09T19:16:45.377Z"
   },
   {
    "duration": 30,
    "start_time": "2024-07-09T19:16:47.396Z"
   },
   {
    "duration": 5,
    "start_time": "2024-07-09T19:16:47.428Z"
   },
   {
    "duration": 5,
    "start_time": "2024-07-09T19:16:47.434Z"
   },
   {
    "duration": 4,
    "start_time": "2024-07-09T19:16:47.441Z"
   },
   {
    "duration": 6,
    "start_time": "2024-07-09T19:16:47.446Z"
   },
   {
    "duration": 4,
    "start_time": "2024-07-09T19:16:47.454Z"
   },
   {
    "duration": 4,
    "start_time": "2024-07-09T19:16:47.459Z"
   },
   {
    "duration": 59,
    "start_time": "2024-07-09T19:16:47.464Z"
   },
   {
    "duration": 126,
    "start_time": "2024-07-09T19:17:07.366Z"
   },
   {
    "duration": 7,
    "start_time": "2024-07-09T19:18:19.016Z"
   },
   {
    "duration": 12,
    "start_time": "2024-07-09T19:18:27.681Z"
   },
   {
    "duration": 11,
    "start_time": "2024-07-09T19:18:53.381Z"
   },
   {
    "duration": 5,
    "start_time": "2024-07-09T19:19:05.936Z"
   },
   {
    "duration": 5,
    "start_time": "2024-07-09T19:21:26.103Z"
   },
   {
    "duration": 6,
    "start_time": "2024-07-09T19:22:41.543Z"
   },
   {
    "duration": 9913,
    "start_time": "2024-07-09T19:34:28.695Z"
   },
   {
    "duration": 445,
    "start_time": "2024-07-09T19:34:42.874Z"
   },
   {
    "duration": 393,
    "start_time": "2024-07-09T19:34:46.433Z"
   },
   {
    "duration": 9316,
    "start_time": "2024-07-09T19:35:13.093Z"
   },
   {
    "duration": 20,
    "start_time": "2024-07-09T19:35:24.565Z"
   },
   {
    "duration": 19,
    "start_time": "2024-07-09T19:37:44.742Z"
   },
   {
    "duration": 7,
    "start_time": "2024-07-09T19:37:58.870Z"
   },
   {
    "duration": 5,
    "start_time": "2024-07-09T19:38:03.905Z"
   },
   {
    "duration": 12,
    "start_time": "2024-07-09T19:39:04.826Z"
   },
   {
    "duration": 11,
    "start_time": "2024-07-09T19:39:32.377Z"
   },
   {
    "duration": 12,
    "start_time": "2024-07-09T19:39:33.222Z"
   },
   {
    "duration": 5,
    "start_time": "2024-07-09T19:42:38.363Z"
   },
   {
    "duration": 3,
    "start_time": "2024-07-09T19:42:45.178Z"
   },
   {
    "duration": 8,
    "start_time": "2024-07-09T19:43:01.775Z"
   },
   {
    "duration": 74,
    "start_time": "2024-07-09T19:44:19.073Z"
   },
   {
    "duration": 3,
    "start_time": "2024-07-09T19:44:21.926Z"
   },
   {
    "duration": 64,
    "start_time": "2024-07-09T19:44:31.269Z"
   },
   {
    "duration": 9,
    "start_time": "2024-07-09T19:44:36.027Z"
   },
   {
    "duration": 7,
    "start_time": "2024-07-09T19:57:57.082Z"
   },
   {
    "duration": 15,
    "start_time": "2024-07-09T19:58:13.517Z"
   },
   {
    "duration": 2,
    "start_time": "2024-07-09T19:58:43.004Z"
   },
   {
    "duration": 6,
    "start_time": "2024-07-09T19:58:43.480Z"
   },
   {
    "duration": 6170,
    "start_time": "2024-07-09T19:58:44.233Z"
   },
   {
    "duration": 6368,
    "start_time": "2024-07-09T20:46:40.959Z"
   },
   {
    "duration": 6,
    "start_time": "2024-07-09T20:46:47.329Z"
   },
   {
    "duration": 8,
    "start_time": "2024-07-09T20:46:47.336Z"
   },
   {
    "duration": 82,
    "start_time": "2024-07-09T20:46:47.345Z"
   },
   {
    "duration": 13,
    "start_time": "2024-07-09T20:46:47.429Z"
   },
   {
    "duration": 15,
    "start_time": "2024-07-09T20:46:47.443Z"
   },
   {
    "duration": 7,
    "start_time": "2024-07-09T20:46:47.459Z"
   },
   {
    "duration": 7,
    "start_time": "2024-07-09T20:46:47.468Z"
   },
   {
    "duration": 11,
    "start_time": "2024-07-09T20:46:47.477Z"
   },
   {
    "duration": 5,
    "start_time": "2024-07-09T20:46:47.490Z"
   },
   {
    "duration": 24,
    "start_time": "2024-07-09T20:46:47.497Z"
   },
   {
    "duration": 4,
    "start_time": "2024-07-09T20:46:47.523Z"
   },
   {
    "duration": 11,
    "start_time": "2024-07-09T20:46:47.529Z"
   },
   {
    "duration": 12,
    "start_time": "2024-07-09T20:46:47.542Z"
   },
   {
    "duration": 5,
    "start_time": "2024-07-09T20:46:47.555Z"
   },
   {
    "duration": 7,
    "start_time": "2024-07-09T20:46:47.562Z"
   },
   {
    "duration": 8,
    "start_time": "2024-07-09T20:46:47.570Z"
   },
   {
    "duration": 8,
    "start_time": "2024-07-09T20:46:47.579Z"
   },
   {
    "duration": 32,
    "start_time": "2024-07-09T20:46:47.588Z"
   },
   {
    "duration": 7,
    "start_time": "2024-07-09T20:46:47.623Z"
   },
   {
    "duration": 27,
    "start_time": "2024-07-09T20:46:47.631Z"
   },
   {
    "duration": 6,
    "start_time": "2024-07-09T20:46:47.659Z"
   },
   {
    "duration": 15,
    "start_time": "2024-07-09T20:46:47.666Z"
   },
   {
    "duration": 9,
    "start_time": "2024-07-09T20:46:47.683Z"
   },
   {
    "duration": 9,
    "start_time": "2024-07-09T20:46:47.693Z"
   },
   {
    "duration": 9,
    "start_time": "2024-07-09T20:46:47.704Z"
   },
   {
    "duration": 2,
    "start_time": "2024-07-09T20:46:47.714Z"
   },
   {
    "duration": 18,
    "start_time": "2024-07-09T20:46:47.720Z"
   },
   {
    "duration": 13923,
    "start_time": "2024-07-09T20:46:47.740Z"
   },
   {
    "duration": 6,
    "start_time": "2024-07-09T20:47:01.665Z"
   },
   {
    "duration": 52,
    "start_time": "2024-07-09T20:47:01.672Z"
   },
   {
    "duration": 533,
    "start_time": "2024-07-09T20:47:01.726Z"
   },
   {
    "duration": 6,
    "start_time": "2024-07-09T20:47:02.261Z"
   },
   {
    "duration": 520,
    "start_time": "2024-07-09T20:47:02.268Z"
   },
   {
    "duration": 499,
    "start_time": "2024-07-09T20:47:02.789Z"
   },
   {
    "duration": 189,
    "start_time": "2024-07-09T20:47:03.289Z"
   },
   {
    "duration": 781,
    "start_time": "2024-07-09T20:47:03.479Z"
   },
   {
    "duration": 12,
    "start_time": "2024-07-09T20:47:04.261Z"
   },
   {
    "duration": 520,
    "start_time": "2024-07-09T20:47:04.274Z"
   },
   {
    "duration": 506,
    "start_time": "2024-07-09T20:47:04.795Z"
   },
   {
    "duration": 21,
    "start_time": "2024-07-09T20:47:05.302Z"
   },
   {
    "duration": 529,
    "start_time": "2024-07-09T20:47:05.324Z"
   },
   {
    "duration": 515,
    "start_time": "2024-07-09T20:47:05.854Z"
   },
   {
    "duration": 5,
    "start_time": "2024-07-09T20:47:06.370Z"
   },
   {
    "duration": 171,
    "start_time": "2024-07-09T20:47:06.377Z"
   },
   {
    "duration": 18,
    "start_time": "2024-07-09T20:47:06.550Z"
   },
   {
    "duration": 4,
    "start_time": "2024-07-09T20:47:06.569Z"
   },
   {
    "duration": 39,
    "start_time": "2024-07-09T20:47:06.575Z"
   },
   {
    "duration": 4,
    "start_time": "2024-07-09T20:47:06.616Z"
   },
   {
    "duration": 13,
    "start_time": "2024-07-09T20:47:06.622Z"
   },
   {
    "duration": 5,
    "start_time": "2024-07-09T20:47:06.637Z"
   },
   {
    "duration": 2039,
    "start_time": "2024-07-09T20:47:06.643Z"
   },
   {
    "duration": 13,
    "start_time": "2024-07-09T20:47:08.683Z"
   },
   {
    "duration": 57,
    "start_time": "2024-07-09T20:47:08.697Z"
   },
   {
    "duration": 0,
    "start_time": "2024-07-09T20:47:08.756Z"
   },
   {
    "duration": 0,
    "start_time": "2024-07-09T20:47:08.757Z"
   },
   {
    "duration": 0,
    "start_time": "2024-07-09T20:47:08.759Z"
   },
   {
    "duration": 0,
    "start_time": "2024-07-09T20:47:08.760Z"
   },
   {
    "duration": 0,
    "start_time": "2024-07-09T20:47:08.761Z"
   },
   {
    "duration": 0,
    "start_time": "2024-07-09T20:47:08.762Z"
   },
   {
    "duration": 0,
    "start_time": "2024-07-09T20:47:08.763Z"
   },
   {
    "duration": 0,
    "start_time": "2024-07-09T20:47:08.764Z"
   },
   {
    "duration": 0,
    "start_time": "2024-07-09T20:47:08.765Z"
   },
   {
    "duration": 4,
    "start_time": "2024-07-09T20:47:20.396Z"
   },
   {
    "duration": 4,
    "start_time": "2024-07-09T20:47:22.947Z"
   },
   {
    "duration": 30,
    "start_time": "2024-07-09T20:47:22.952Z"
   },
   {
    "duration": 12,
    "start_time": "2024-07-09T20:47:22.983Z"
   },
   {
    "duration": 26,
    "start_time": "2024-07-09T20:47:22.997Z"
   },
   {
    "duration": 4,
    "start_time": "2024-07-09T20:47:23.024Z"
   },
   {
    "duration": 13,
    "start_time": "2024-07-09T20:47:23.029Z"
   },
   {
    "duration": 6,
    "start_time": "2024-07-09T20:47:23.043Z"
   },
   {
    "duration": 21,
    "start_time": "2024-07-09T20:47:23.050Z"
   },
   {
    "duration": 6,
    "start_time": "2024-07-09T20:47:23.073Z"
   },
   {
    "duration": 9,
    "start_time": "2024-07-09T20:49:20.341Z"
   },
   {
    "duration": 5,
    "start_time": "2024-07-09T20:49:48.534Z"
   },
   {
    "duration": 8,
    "start_time": "2024-07-09T20:49:53.191Z"
   },
   {
    "duration": 12,
    "start_time": "2024-07-09T20:51:22.369Z"
   },
   {
    "duration": 3,
    "start_time": "2024-07-09T20:51:30.864Z"
   },
   {
    "duration": 9,
    "start_time": "2024-07-09T20:51:37.019Z"
   },
   {
    "duration": 5,
    "start_time": "2024-07-09T20:51:40.840Z"
   },
   {
    "duration": 4,
    "start_time": "2024-07-09T20:51:47.573Z"
   },
   {
    "duration": 611,
    "start_time": "2024-07-09T20:51:58.959Z"
   },
   {
    "duration": 4,
    "start_time": "2024-07-09T20:52:50.944Z"
   },
   {
    "duration": 6177,
    "start_time": "2024-07-09T20:52:54.515Z"
   },
   {
    "duration": 7,
    "start_time": "2024-07-09T20:53:00.695Z"
   },
   {
    "duration": 98,
    "start_time": "2024-07-09T20:53:00.703Z"
   },
   {
    "duration": 147,
    "start_time": "2024-07-09T20:53:00.804Z"
   },
   {
    "duration": 12,
    "start_time": "2024-07-09T20:53:00.952Z"
   },
   {
    "duration": 33,
    "start_time": "2024-07-09T20:53:00.966Z"
   },
   {
    "duration": 46,
    "start_time": "2024-07-09T20:53:01.000Z"
   },
   {
    "duration": 37,
    "start_time": "2024-07-09T20:53:01.047Z"
   },
   {
    "duration": 45,
    "start_time": "2024-07-09T20:53:01.086Z"
   },
   {
    "duration": 26,
    "start_time": "2024-07-09T20:53:01.134Z"
   },
   {
    "duration": 79,
    "start_time": "2024-07-09T20:53:01.161Z"
   },
   {
    "duration": 28,
    "start_time": "2024-07-09T20:53:01.241Z"
   },
   {
    "duration": 30,
    "start_time": "2024-07-09T20:53:01.270Z"
   },
   {
    "duration": 42,
    "start_time": "2024-07-09T20:53:01.301Z"
   },
   {
    "duration": 25,
    "start_time": "2024-07-09T20:53:01.345Z"
   },
   {
    "duration": 23,
    "start_time": "2024-07-09T20:53:01.372Z"
   },
   {
    "duration": 31,
    "start_time": "2024-07-09T20:53:01.397Z"
   },
   {
    "duration": 13,
    "start_time": "2024-07-09T20:53:01.430Z"
   },
   {
    "duration": 10,
    "start_time": "2024-07-09T20:53:01.445Z"
   },
   {
    "duration": 8,
    "start_time": "2024-07-09T20:53:01.457Z"
   },
   {
    "duration": 9,
    "start_time": "2024-07-09T20:53:01.467Z"
   },
   {
    "duration": 9,
    "start_time": "2024-07-09T20:53:01.478Z"
   },
   {
    "duration": 35,
    "start_time": "2024-07-09T20:53:01.489Z"
   },
   {
    "duration": 33,
    "start_time": "2024-07-09T20:53:01.525Z"
   },
   {
    "duration": 33,
    "start_time": "2024-07-09T20:53:01.559Z"
   },
   {
    "duration": 39,
    "start_time": "2024-07-09T20:53:01.593Z"
   },
   {
    "duration": 20,
    "start_time": "2024-07-09T20:53:01.633Z"
   },
   {
    "duration": 16,
    "start_time": "2024-07-09T20:53:01.656Z"
   },
   {
    "duration": 13823,
    "start_time": "2024-07-09T20:53:01.674Z"
   },
   {
    "duration": 17,
    "start_time": "2024-07-09T20:53:15.498Z"
   },
   {
    "duration": 23,
    "start_time": "2024-07-09T20:53:15.517Z"
   },
   {
    "duration": 713,
    "start_time": "2024-07-09T20:53:15.541Z"
   },
   {
    "duration": 6,
    "start_time": "2024-07-09T20:53:16.256Z"
   },
   {
    "duration": 535,
    "start_time": "2024-07-09T20:53:16.263Z"
   },
   {
    "duration": 512,
    "start_time": "2024-07-09T20:53:16.800Z"
   },
   {
    "duration": 184,
    "start_time": "2024-07-09T20:53:17.313Z"
   },
   {
    "duration": 528,
    "start_time": "2024-07-09T20:53:17.498Z"
   },
   {
    "duration": 11,
    "start_time": "2024-07-09T20:53:18.028Z"
   },
   {
    "duration": 515,
    "start_time": "2024-07-09T20:53:18.040Z"
   },
   {
    "duration": 500,
    "start_time": "2024-07-09T20:53:18.556Z"
   },
   {
    "duration": 15,
    "start_time": "2024-07-09T20:53:19.057Z"
   },
   {
    "duration": 655,
    "start_time": "2024-07-09T20:53:19.073Z"
   },
   {
    "duration": 543,
    "start_time": "2024-07-09T20:53:19.730Z"
   },
   {
    "duration": 5,
    "start_time": "2024-07-09T20:53:20.274Z"
   },
   {
    "duration": 165,
    "start_time": "2024-07-09T20:53:20.280Z"
   },
   {
    "duration": 17,
    "start_time": "2024-07-09T20:53:20.447Z"
   },
   {
    "duration": 33,
    "start_time": "2024-07-09T20:53:20.465Z"
   },
   {
    "duration": 23,
    "start_time": "2024-07-09T20:53:20.500Z"
   },
   {
    "duration": 3,
    "start_time": "2024-07-09T20:53:20.524Z"
   },
   {
    "duration": 15,
    "start_time": "2024-07-09T20:53:20.529Z"
   },
   {
    "duration": 5,
    "start_time": "2024-07-09T20:53:20.545Z"
   },
   {
    "duration": 1935,
    "start_time": "2024-07-09T20:53:20.552Z"
   },
   {
    "duration": 14,
    "start_time": "2024-07-09T20:53:22.488Z"
   },
   {
    "duration": 17,
    "start_time": "2024-07-09T20:53:22.503Z"
   },
   {
    "duration": 5,
    "start_time": "2024-07-09T20:53:22.521Z"
   },
   {
    "duration": 3,
    "start_time": "2024-07-09T20:53:22.527Z"
   },
   {
    "duration": 5,
    "start_time": "2024-07-09T20:53:22.531Z"
   },
   {
    "duration": 18,
    "start_time": "2024-07-09T20:53:22.537Z"
   },
   {
    "duration": 3,
    "start_time": "2024-07-09T20:53:22.557Z"
   },
   {
    "duration": 5,
    "start_time": "2024-07-09T20:53:22.561Z"
   },
   {
    "duration": 4,
    "start_time": "2024-07-09T20:53:22.567Z"
   },
   {
    "duration": 6,
    "start_time": "2024-07-09T20:53:22.572Z"
   },
   {
    "duration": 13,
    "start_time": "2024-07-09T20:53:22.579Z"
   },
   {
    "duration": 6202,
    "start_time": "2024-07-09T21:02:24.141Z"
   },
   {
    "duration": 1221,
    "start_time": "2024-07-09T21:02:30.346Z"
   },
   {
    "duration": 3,
    "start_time": "2024-07-09T21:02:31.569Z"
   },
   {
    "duration": 110,
    "start_time": "2024-07-09T21:02:31.574Z"
   },
   {
    "duration": 14,
    "start_time": "2024-07-09T21:02:31.686Z"
   },
   {
    "duration": 34,
    "start_time": "2024-07-09T21:02:31.702Z"
   },
   {
    "duration": 33,
    "start_time": "2024-07-09T21:02:31.738Z"
   },
   {
    "duration": 51,
    "start_time": "2024-07-09T21:02:31.773Z"
   },
   {
    "duration": 13,
    "start_time": "2024-07-09T21:02:31.827Z"
   },
   {
    "duration": 6,
    "start_time": "2024-07-09T21:02:31.843Z"
   },
   {
    "duration": 15,
    "start_time": "2024-07-09T21:02:31.850Z"
   },
   {
    "duration": 8,
    "start_time": "2024-07-09T21:02:31.867Z"
   },
   {
    "duration": 25,
    "start_time": "2024-07-09T21:02:31.877Z"
   },
   {
    "duration": 5,
    "start_time": "2024-07-09T21:02:31.903Z"
   },
   {
    "duration": 12,
    "start_time": "2024-07-09T21:02:31.909Z"
   },
   {
    "duration": 5,
    "start_time": "2024-07-09T21:02:31.926Z"
   },
   {
    "duration": 6,
    "start_time": "2024-07-09T21:02:31.932Z"
   },
   {
    "duration": 8,
    "start_time": "2024-07-09T21:02:31.939Z"
   },
   {
    "duration": 10,
    "start_time": "2024-07-09T21:02:31.949Z"
   },
   {
    "duration": 5,
    "start_time": "2024-07-09T21:02:31.960Z"
   },
   {
    "duration": 8,
    "start_time": "2024-07-09T21:02:31.967Z"
   },
   {
    "duration": 20,
    "start_time": "2024-07-09T21:02:31.976Z"
   },
   {
    "duration": 14,
    "start_time": "2024-07-09T21:02:31.998Z"
   },
   {
    "duration": 5,
    "start_time": "2024-07-09T21:02:32.013Z"
   },
   {
    "duration": 11,
    "start_time": "2024-07-09T21:02:32.020Z"
   },
   {
    "duration": 7,
    "start_time": "2024-07-09T21:02:32.033Z"
   },
   {
    "duration": 2,
    "start_time": "2024-07-09T21:02:32.041Z"
   },
   {
    "duration": 14,
    "start_time": "2024-07-09T21:02:32.047Z"
   },
   {
    "duration": 13444,
    "start_time": "2024-07-09T21:02:32.062Z"
   },
   {
    "duration": 7,
    "start_time": "2024-07-09T21:02:45.507Z"
   },
   {
    "duration": 18,
    "start_time": "2024-07-09T21:02:45.515Z"
   },
   {
    "duration": 623,
    "start_time": "2024-07-09T21:02:45.535Z"
   },
   {
    "duration": 5,
    "start_time": "2024-07-09T21:02:46.160Z"
   },
   {
    "duration": 507,
    "start_time": "2024-07-09T21:02:46.167Z"
   },
   {
    "duration": 495,
    "start_time": "2024-07-09T21:02:46.675Z"
   },
   {
    "duration": 196,
    "start_time": "2024-07-09T21:02:47.171Z"
   },
   {
    "duration": 514,
    "start_time": "2024-07-09T21:02:47.369Z"
   },
   {
    "duration": 12,
    "start_time": "2024-07-09T21:02:47.885Z"
   },
   {
    "duration": 549,
    "start_time": "2024-07-09T21:02:47.898Z"
   },
   {
    "duration": 497,
    "start_time": "2024-07-09T21:02:48.448Z"
   },
   {
    "duration": 14,
    "start_time": "2024-07-09T21:02:48.946Z"
   },
   {
    "duration": 666,
    "start_time": "2024-07-09T21:02:48.961Z"
   },
   {
    "duration": 536,
    "start_time": "2024-07-09T21:02:49.628Z"
   },
   {
    "duration": 5,
    "start_time": "2024-07-09T21:02:50.166Z"
   },
   {
    "duration": 170,
    "start_time": "2024-07-09T21:02:50.172Z"
   },
   {
    "duration": 17,
    "start_time": "2024-07-09T21:02:50.343Z"
   },
   {
    "duration": 72,
    "start_time": "2024-07-09T21:02:50.362Z"
   },
   {
    "duration": 16,
    "start_time": "2024-07-09T21:02:50.436Z"
   },
   {
    "duration": 51,
    "start_time": "2024-07-09T21:02:50.453Z"
   },
   {
    "duration": 25,
    "start_time": "2024-07-09T21:02:50.505Z"
   },
   {
    "duration": 13,
    "start_time": "2024-07-09T21:02:50.532Z"
   },
   {
    "duration": 1988,
    "start_time": "2024-07-09T21:02:50.546Z"
   },
   {
    "duration": 14,
    "start_time": "2024-07-09T21:02:52.535Z"
   },
   {
    "duration": 5,
    "start_time": "2024-07-09T21:02:52.550Z"
   },
   {
    "duration": 9,
    "start_time": "2024-07-09T21:02:52.556Z"
   },
   {
    "duration": 6,
    "start_time": "2024-07-09T21:02:52.566Z"
   },
   {
    "duration": 10,
    "start_time": "2024-07-09T21:02:52.573Z"
   },
   {
    "duration": 4,
    "start_time": "2024-07-09T21:02:52.584Z"
   },
   {
    "duration": 5,
    "start_time": "2024-07-09T21:02:52.589Z"
   },
   {
    "duration": 19,
    "start_time": "2024-07-09T21:02:52.595Z"
   },
   {
    "duration": 6,
    "start_time": "2024-07-09T21:02:52.616Z"
   },
   {
    "duration": 8,
    "start_time": "2024-07-09T21:02:52.623Z"
   },
   {
    "duration": 22,
    "start_time": "2024-07-09T21:02:52.632Z"
   },
   {
    "duration": 6122,
    "start_time": "2024-07-09T21:34:33.816Z"
   },
   {
    "duration": 1203,
    "start_time": "2024-07-09T21:34:39.940Z"
   },
   {
    "duration": 3,
    "start_time": "2024-07-09T21:34:41.145Z"
   },
   {
    "duration": 83,
    "start_time": "2024-07-09T21:34:41.150Z"
   },
   {
    "duration": 14,
    "start_time": "2024-07-09T21:34:41.234Z"
   },
   {
    "duration": 10,
    "start_time": "2024-07-09T21:34:41.250Z"
   },
   {
    "duration": 11,
    "start_time": "2024-07-09T21:34:41.261Z"
   },
   {
    "duration": 8,
    "start_time": "2024-07-09T21:34:41.273Z"
   },
   {
    "duration": 11,
    "start_time": "2024-07-09T21:34:41.282Z"
   },
   {
    "duration": 14,
    "start_time": "2024-07-09T21:34:41.295Z"
   },
   {
    "duration": 21,
    "start_time": "2024-07-09T21:34:41.310Z"
   },
   {
    "duration": 5,
    "start_time": "2024-07-09T21:34:41.332Z"
   },
   {
    "duration": 5,
    "start_time": "2024-07-09T21:34:41.338Z"
   },
   {
    "duration": 16,
    "start_time": "2024-07-09T21:34:41.344Z"
   },
   {
    "duration": 19,
    "start_time": "2024-07-09T21:34:41.361Z"
   },
   {
    "duration": 10,
    "start_time": "2024-07-09T21:34:41.381Z"
   },
   {
    "duration": 12,
    "start_time": "2024-07-09T21:34:41.392Z"
   },
   {
    "duration": 5,
    "start_time": "2024-07-09T21:34:41.406Z"
   },
   {
    "duration": 20,
    "start_time": "2024-07-09T21:34:41.412Z"
   },
   {
    "duration": 4,
    "start_time": "2024-07-09T21:34:41.434Z"
   },
   {
    "duration": 9,
    "start_time": "2024-07-09T21:34:41.439Z"
   },
   {
    "duration": 4,
    "start_time": "2024-07-09T21:34:41.449Z"
   },
   {
    "duration": 9,
    "start_time": "2024-07-09T21:34:41.454Z"
   },
   {
    "duration": 19,
    "start_time": "2024-07-09T21:34:41.464Z"
   },
   {
    "duration": 15,
    "start_time": "2024-07-09T21:34:41.484Z"
   },
   {
    "duration": 12,
    "start_time": "2024-07-09T21:34:41.500Z"
   },
   {
    "duration": 14,
    "start_time": "2024-07-09T21:34:41.514Z"
   },
   {
    "duration": 14,
    "start_time": "2024-07-09T21:34:41.531Z"
   },
   {
    "duration": 13051,
    "start_time": "2024-07-09T21:34:41.546Z"
   },
   {
    "duration": 9,
    "start_time": "2024-07-09T21:34:54.619Z"
   },
   {
    "duration": 26,
    "start_time": "2024-07-09T21:34:54.630Z"
   },
   {
    "duration": 594,
    "start_time": "2024-07-09T21:34:54.658Z"
   },
   {
    "duration": 6,
    "start_time": "2024-07-09T21:34:55.253Z"
   },
   {
    "duration": 514,
    "start_time": "2024-07-09T21:34:55.260Z"
   },
   {
    "duration": 489,
    "start_time": "2024-07-09T21:34:55.776Z"
   },
   {
    "duration": 185,
    "start_time": "2024-07-09T21:34:56.267Z"
   },
   {
    "duration": 483,
    "start_time": "2024-07-09T21:34:56.453Z"
   },
   {
    "duration": 11,
    "start_time": "2024-07-09T21:34:56.938Z"
   },
   {
    "duration": 524,
    "start_time": "2024-07-09T21:34:56.950Z"
   },
   {
    "duration": 501,
    "start_time": "2024-07-09T21:34:57.475Z"
   },
   {
    "duration": 15,
    "start_time": "2024-07-09T21:34:57.977Z"
   },
   {
    "duration": 637,
    "start_time": "2024-07-09T21:34:57.993Z"
   },
   {
    "duration": 532,
    "start_time": "2024-07-09T21:34:58.631Z"
   },
   {
    "duration": 5,
    "start_time": "2024-07-09T21:34:59.164Z"
   },
   {
    "duration": 168,
    "start_time": "2024-07-09T21:34:59.171Z"
   },
   {
    "duration": 17,
    "start_time": "2024-07-09T21:34:59.341Z"
   },
   {
    "duration": 6,
    "start_time": "2024-07-09T21:34:59.359Z"
   },
   {
    "duration": 13,
    "start_time": "2024-07-09T21:34:59.366Z"
   },
   {
    "duration": 3,
    "start_time": "2024-07-09T21:34:59.381Z"
   },
   {
    "duration": 30,
    "start_time": "2024-07-09T21:34:59.385Z"
   },
   {
    "duration": 7,
    "start_time": "2024-07-09T21:34:59.416Z"
   },
   {
    "duration": 9497,
    "start_time": "2024-07-10T08:47:17.618Z"
   },
   {
    "duration": 1455,
    "start_time": "2024-07-10T08:47:27.117Z"
   },
   {
    "duration": 4,
    "start_time": "2024-07-10T08:47:28.574Z"
   },
   {
    "duration": 264,
    "start_time": "2024-07-10T08:47:28.579Z"
   },
   {
    "duration": 19,
    "start_time": "2024-07-10T08:47:28.845Z"
   },
   {
    "duration": 16,
    "start_time": "2024-07-10T08:47:28.866Z"
   },
   {
    "duration": 8,
    "start_time": "2024-07-10T08:47:28.883Z"
   },
   {
    "duration": 7,
    "start_time": "2024-07-10T08:47:28.893Z"
   },
   {
    "duration": 14,
    "start_time": "2024-07-10T08:47:28.901Z"
   },
   {
    "duration": 24,
    "start_time": "2024-07-10T08:47:28.916Z"
   },
   {
    "duration": 15,
    "start_time": "2024-07-10T08:47:28.941Z"
   },
   {
    "duration": 16,
    "start_time": "2024-07-10T08:47:28.957Z"
   },
   {
    "duration": 10,
    "start_time": "2024-07-10T08:47:28.974Z"
   },
   {
    "duration": 4,
    "start_time": "2024-07-10T08:47:28.987Z"
   },
   {
    "duration": 22,
    "start_time": "2024-07-10T08:47:28.993Z"
   },
   {
    "duration": 12,
    "start_time": "2024-07-10T08:47:29.016Z"
   },
   {
    "duration": 11,
    "start_time": "2024-07-10T08:47:29.029Z"
   },
   {
    "duration": 12,
    "start_time": "2024-07-10T08:47:29.041Z"
   },
   {
    "duration": 9,
    "start_time": "2024-07-10T08:47:29.055Z"
   },
   {
    "duration": 5,
    "start_time": "2024-07-10T08:47:29.065Z"
   },
   {
    "duration": 14,
    "start_time": "2024-07-10T08:47:29.071Z"
   },
   {
    "duration": 5,
    "start_time": "2024-07-10T08:47:29.086Z"
   },
   {
    "duration": 13,
    "start_time": "2024-07-10T08:47:29.093Z"
   },
   {
    "duration": 24,
    "start_time": "2024-07-10T08:47:29.107Z"
   },
   {
    "duration": 10,
    "start_time": "2024-07-10T08:47:29.137Z"
   },
   {
    "duration": 9,
    "start_time": "2024-07-10T08:47:29.149Z"
   },
   {
    "duration": 3,
    "start_time": "2024-07-10T08:47:29.159Z"
   },
   {
    "duration": 17,
    "start_time": "2024-07-10T08:47:29.163Z"
   },
   {
    "duration": 13993,
    "start_time": "2024-07-10T08:47:29.182Z"
   },
   {
    "duration": 5,
    "start_time": "2024-07-10T08:47:43.177Z"
   },
   {
    "duration": 18,
    "start_time": "2024-07-10T08:47:43.184Z"
   },
   {
    "duration": 661,
    "start_time": "2024-07-10T08:47:43.203Z"
   },
   {
    "duration": 7,
    "start_time": "2024-07-10T08:47:43.865Z"
   },
   {
    "duration": 542,
    "start_time": "2024-07-10T08:47:43.874Z"
   },
   {
    "duration": 553,
    "start_time": "2024-07-10T08:47:44.417Z"
   },
   {
    "duration": 195,
    "start_time": "2024-07-10T08:47:44.972Z"
   },
   {
    "duration": 529,
    "start_time": "2024-07-10T08:47:45.168Z"
   },
   {
    "duration": 12,
    "start_time": "2024-07-10T08:47:45.698Z"
   },
   {
    "duration": 585,
    "start_time": "2024-07-10T08:47:45.711Z"
   },
   {
    "duration": 518,
    "start_time": "2024-07-10T08:47:46.298Z"
   },
   {
    "duration": 21,
    "start_time": "2024-07-10T08:47:46.821Z"
   },
   {
    "duration": 678,
    "start_time": "2024-07-10T08:47:46.843Z"
   },
   {
    "duration": 594,
    "start_time": "2024-07-10T08:47:47.522Z"
   },
   {
    "duration": 5,
    "start_time": "2024-07-10T08:47:48.118Z"
   },
   {
    "duration": 183,
    "start_time": "2024-07-10T08:47:48.125Z"
   },
   {
    "duration": 28,
    "start_time": "2024-07-10T08:47:48.310Z"
   },
   {
    "duration": 3,
    "start_time": "2024-07-10T08:47:48.340Z"
   },
   {
    "duration": 14,
    "start_time": "2024-07-10T08:47:48.345Z"
   },
   {
    "duration": 3,
    "start_time": "2024-07-10T08:47:48.361Z"
   },
   {
    "duration": 14,
    "start_time": "2024-07-10T08:47:48.366Z"
   },
   {
    "duration": 6,
    "start_time": "2024-07-10T08:47:48.381Z"
   },
   {
    "duration": 2048,
    "start_time": "2024-07-10T08:47:48.389Z"
   },
   {
    "duration": 15,
    "start_time": "2024-07-10T08:47:50.439Z"
   },
   {
    "duration": 18,
    "start_time": "2024-07-10T08:47:50.455Z"
   },
   {
    "duration": 27,
    "start_time": "2024-07-10T08:47:50.474Z"
   },
   {
    "duration": 10,
    "start_time": "2024-07-10T08:47:50.503Z"
   },
   {
    "duration": 19,
    "start_time": "2024-07-10T08:47:50.515Z"
   },
   {
    "duration": 16,
    "start_time": "2024-07-10T08:47:50.535Z"
   },
   {
    "duration": 21,
    "start_time": "2024-07-10T08:47:50.552Z"
   },
   {
    "duration": 18,
    "start_time": "2024-07-10T08:47:50.574Z"
   },
   {
    "duration": 26,
    "start_time": "2024-07-10T08:47:50.593Z"
   },
   {
    "duration": 18,
    "start_time": "2024-07-10T08:47:50.621Z"
   },
   {
    "duration": 7,
    "start_time": "2024-07-10T08:47:50.641Z"
   },
   {
    "duration": 3237,
    "start_time": "2024-07-10T08:47:50.649Z"
   },
   {
    "duration": 35,
    "start_time": "2024-07-10T08:48:36.997Z"
   },
   {
    "duration": 109,
    "start_time": "2024-07-10T08:49:25.376Z"
   },
   {
    "duration": 11,
    "start_time": "2024-07-10T08:49:31.295Z"
   },
   {
    "duration": 8,
    "start_time": "2024-07-10T08:52:39.276Z"
   },
   {
    "duration": 4,
    "start_time": "2024-07-10T08:53:01.571Z"
   },
   {
    "duration": 7,
    "start_time": "2024-07-10T08:53:34.904Z"
   },
   {
    "duration": 4,
    "start_time": "2024-07-10T08:53:39.877Z"
   },
   {
    "duration": 5322,
    "start_time": "2024-07-10T08:54:21.878Z"
   },
   {
    "duration": 7,
    "start_time": "2024-07-10T08:54:27.202Z"
   },
   {
    "duration": 26,
    "start_time": "2024-07-10T08:54:27.210Z"
   },
   {
    "duration": 84,
    "start_time": "2024-07-10T08:54:27.238Z"
   },
   {
    "duration": 20,
    "start_time": "2024-07-10T08:54:27.324Z"
   },
   {
    "duration": 16,
    "start_time": "2024-07-10T08:54:27.346Z"
   },
   {
    "duration": 8,
    "start_time": "2024-07-10T08:54:27.363Z"
   },
   {
    "duration": 11,
    "start_time": "2024-07-10T08:54:27.372Z"
   },
   {
    "duration": 11,
    "start_time": "2024-07-10T08:54:27.385Z"
   },
   {
    "duration": 4,
    "start_time": "2024-07-10T08:54:27.398Z"
   },
   {
    "duration": 37,
    "start_time": "2024-07-10T08:54:27.403Z"
   },
   {
    "duration": 4,
    "start_time": "2024-07-10T08:54:27.442Z"
   },
   {
    "duration": 11,
    "start_time": "2024-07-10T08:54:27.448Z"
   },
   {
    "duration": 15,
    "start_time": "2024-07-10T08:54:27.461Z"
   },
   {
    "duration": 8,
    "start_time": "2024-07-10T08:54:27.479Z"
   },
   {
    "duration": 6,
    "start_time": "2024-07-10T08:54:27.489Z"
   },
   {
    "duration": 53,
    "start_time": "2024-07-10T08:54:27.496Z"
   },
   {
    "duration": 7,
    "start_time": "2024-07-10T08:54:27.551Z"
   },
   {
    "duration": 98,
    "start_time": "2024-07-10T08:54:27.560Z"
   },
   {
    "duration": 8,
    "start_time": "2024-07-10T08:54:27.660Z"
   },
   {
    "duration": 24,
    "start_time": "2024-07-10T08:54:27.670Z"
   },
   {
    "duration": 6,
    "start_time": "2024-07-10T08:54:27.696Z"
   },
   {
    "duration": 31,
    "start_time": "2024-07-10T08:54:27.704Z"
   },
   {
    "duration": 9,
    "start_time": "2024-07-10T08:54:27.736Z"
   },
   {
    "duration": 13,
    "start_time": "2024-07-10T08:54:27.747Z"
   },
   {
    "duration": 8,
    "start_time": "2024-07-10T08:54:27.761Z"
   },
   {
    "duration": 3,
    "start_time": "2024-07-10T08:54:27.770Z"
   },
   {
    "duration": 21,
    "start_time": "2024-07-10T08:54:27.777Z"
   },
   {
    "duration": 15164,
    "start_time": "2024-07-10T08:54:27.801Z"
   },
   {
    "duration": 8,
    "start_time": "2024-07-10T08:54:42.967Z"
   },
   {
    "duration": 14,
    "start_time": "2024-07-10T08:54:42.977Z"
   },
   {
    "duration": 632,
    "start_time": "2024-07-10T08:54:42.993Z"
   },
   {
    "duration": 13,
    "start_time": "2024-07-10T08:54:43.626Z"
   },
   {
    "duration": 574,
    "start_time": "2024-07-10T08:54:43.640Z"
   },
   {
    "duration": 560,
    "start_time": "2024-07-10T08:54:44.215Z"
   },
   {
    "duration": 203,
    "start_time": "2024-07-10T08:54:44.777Z"
   },
   {
    "duration": 838,
    "start_time": "2024-07-10T08:54:44.981Z"
   },
   {
    "duration": 17,
    "start_time": "2024-07-10T08:54:45.820Z"
   },
   {
    "duration": 563,
    "start_time": "2024-07-10T08:54:45.839Z"
   },
   {
    "duration": 564,
    "start_time": "2024-07-10T08:54:46.404Z"
   },
   {
    "duration": 17,
    "start_time": "2024-07-10T08:54:46.970Z"
   },
   {
    "duration": 560,
    "start_time": "2024-07-10T08:54:46.989Z"
   },
   {
    "duration": 596,
    "start_time": "2024-07-10T08:54:47.551Z"
   },
   {
    "duration": 7,
    "start_time": "2024-07-10T08:54:48.149Z"
   },
   {
    "duration": 255,
    "start_time": "2024-07-10T08:54:48.158Z"
   },
   {
    "duration": 26,
    "start_time": "2024-07-10T08:54:48.414Z"
   },
   {
    "duration": 4,
    "start_time": "2024-07-10T08:54:48.441Z"
   },
   {
    "duration": 33,
    "start_time": "2024-07-10T08:54:48.446Z"
   },
   {
    "duration": 6,
    "start_time": "2024-07-10T08:54:48.480Z"
   },
   {
    "duration": 18,
    "start_time": "2024-07-10T08:54:48.487Z"
   },
   {
    "duration": 5,
    "start_time": "2024-07-10T08:54:48.507Z"
   },
   {
    "duration": 2169,
    "start_time": "2024-07-10T08:54:48.514Z"
   },
   {
    "duration": 14,
    "start_time": "2024-07-10T08:54:50.684Z"
   },
   {
    "duration": 28,
    "start_time": "2024-07-10T08:54:50.700Z"
   },
   {
    "duration": 11,
    "start_time": "2024-07-10T08:54:50.729Z"
   },
   {
    "duration": 17,
    "start_time": "2024-07-10T08:54:50.741Z"
   },
   {
    "duration": 56,
    "start_time": "2024-07-10T08:54:50.760Z"
   },
   {
    "duration": 25,
    "start_time": "2024-07-10T08:54:50.818Z"
   },
   {
    "duration": 23,
    "start_time": "2024-07-10T08:54:50.844Z"
   },
   {
    "duration": 20,
    "start_time": "2024-07-10T08:54:50.868Z"
   },
   {
    "duration": 34,
    "start_time": "2024-07-10T08:54:50.889Z"
   },
   {
    "duration": 30,
    "start_time": "2024-07-10T08:54:50.925Z"
   },
   {
    "duration": 12,
    "start_time": "2024-07-10T08:54:50.957Z"
   },
   {
    "duration": 3320,
    "start_time": "2024-07-10T08:54:50.970Z"
   },
   {
    "duration": 12,
    "start_time": "2024-07-10T08:54:54.292Z"
   },
   {
    "duration": 0,
    "start_time": "2024-07-10T08:54:54.305Z"
   },
   {
    "duration": 9,
    "start_time": "2024-07-10T08:56:55.302Z"
   },
   {
    "duration": 8,
    "start_time": "2024-07-10T08:57:08.094Z"
   },
   {
    "duration": 5,
    "start_time": "2024-07-10T08:57:23.105Z"
   },
   {
    "duration": 37,
    "start_time": "2024-07-10T09:01:58.852Z"
   },
   {
    "duration": 30,
    "start_time": "2024-07-10T09:02:45.850Z"
   },
   {
    "duration": 3,
    "start_time": "2024-07-10T09:03:32.542Z"
   },
   {
    "duration": 7,
    "start_time": "2024-07-10T09:03:34.163Z"
   },
   {
    "duration": 5,
    "start_time": "2024-07-10T09:03:35.119Z"
   },
   {
    "duration": 13,
    "start_time": "2024-07-10T09:03:35.865Z"
   },
   {
    "duration": 3,
    "start_time": "2024-07-10T09:15:07.119Z"
   },
   {
    "duration": 6,
    "start_time": "2024-07-10T09:15:07.812Z"
   },
   {
    "duration": 4,
    "start_time": "2024-07-10T09:15:08.607Z"
   },
   {
    "duration": 214,
    "start_time": "2024-07-10T09:15:09.095Z"
   },
   {
    "duration": 4,
    "start_time": "2024-07-10T09:19:08.856Z"
   },
   {
    "duration": 9,
    "start_time": "2024-07-10T09:19:09.435Z"
   },
   {
    "duration": 4,
    "start_time": "2024-07-10T09:19:10.058Z"
   },
   {
    "duration": 3800,
    "start_time": "2024-07-10T09:19:11.403Z"
   },
   {
    "duration": 3837,
    "start_time": "2024-07-10T09:19:24.704Z"
   },
   {
    "duration": 13,
    "start_time": "2024-07-10T09:19:28.543Z"
   },
   {
    "duration": 13,
    "start_time": "2024-07-10T09:19:30.865Z"
   },
   {
    "duration": 46,
    "start_time": "2024-07-10T09:19:38.235Z"
   },
   {
    "duration": 48,
    "start_time": "2024-07-10T09:20:01.810Z"
   },
   {
    "duration": 6,
    "start_time": "2024-07-10T10:05:51.335Z"
   },
   {
    "duration": 21,
    "start_time": "2024-07-10T10:07:20.373Z"
   },
   {
    "duration": 22,
    "start_time": "2024-07-10T10:09:07.053Z"
   },
   {
    "duration": 16,
    "start_time": "2024-07-10T10:09:53.429Z"
   },
   {
    "duration": 5321,
    "start_time": "2024-07-10T10:09:59.002Z"
   },
   {
    "duration": 6,
    "start_time": "2024-07-10T10:10:04.326Z"
   },
   {
    "duration": 29,
    "start_time": "2024-07-10T10:10:04.334Z"
   },
   {
    "duration": 89,
    "start_time": "2024-07-10T10:10:04.365Z"
   },
   {
    "duration": 13,
    "start_time": "2024-07-10T10:10:04.455Z"
   },
   {
    "duration": 23,
    "start_time": "2024-07-10T10:10:04.469Z"
   },
   {
    "duration": 26,
    "start_time": "2024-07-10T10:10:04.493Z"
   },
   {
    "duration": 9,
    "start_time": "2024-07-10T10:10:04.520Z"
   },
   {
    "duration": 10,
    "start_time": "2024-07-10T10:10:04.530Z"
   },
   {
    "duration": 11,
    "start_time": "2024-07-10T10:10:04.542Z"
   },
   {
    "duration": 15,
    "start_time": "2024-07-10T10:10:04.554Z"
   },
   {
    "duration": 15,
    "start_time": "2024-07-10T10:10:04.570Z"
   },
   {
    "duration": 8,
    "start_time": "2024-07-10T10:10:04.586Z"
   },
   {
    "duration": 14,
    "start_time": "2024-07-10T10:10:04.595Z"
   },
   {
    "duration": 4,
    "start_time": "2024-07-10T10:10:04.611Z"
   },
   {
    "duration": 6,
    "start_time": "2024-07-10T10:10:04.616Z"
   },
   {
    "duration": 14,
    "start_time": "2024-07-10T10:10:04.624Z"
   },
   {
    "duration": 5,
    "start_time": "2024-07-10T10:10:04.639Z"
   },
   {
    "duration": 15,
    "start_time": "2024-07-10T10:10:04.645Z"
   },
   {
    "duration": 4,
    "start_time": "2024-07-10T10:10:04.662Z"
   },
   {
    "duration": 9,
    "start_time": "2024-07-10T10:10:04.668Z"
   },
   {
    "duration": 11,
    "start_time": "2024-07-10T10:10:04.678Z"
   },
   {
    "duration": 13,
    "start_time": "2024-07-10T10:10:04.690Z"
   },
   {
    "duration": 21,
    "start_time": "2024-07-10T10:10:04.704Z"
   },
   {
    "duration": 27,
    "start_time": "2024-07-10T10:10:04.726Z"
   },
   {
    "duration": 8,
    "start_time": "2024-07-10T10:10:04.755Z"
   },
   {
    "duration": 7,
    "start_time": "2024-07-10T10:10:04.765Z"
   },
   {
    "duration": 20,
    "start_time": "2024-07-10T10:10:04.776Z"
   },
   {
    "duration": 15022,
    "start_time": "2024-07-10T10:10:04.797Z"
   },
   {
    "duration": 17,
    "start_time": "2024-07-10T10:10:19.821Z"
   },
   {
    "duration": 97,
    "start_time": "2024-07-10T10:10:19.839Z"
   },
   {
    "duration": 845,
    "start_time": "2024-07-10T10:10:19.937Z"
   },
   {
    "duration": 7,
    "start_time": "2024-07-10T10:10:20.784Z"
   },
   {
    "duration": 590,
    "start_time": "2024-07-10T10:10:20.793Z"
   },
   {
    "duration": 548,
    "start_time": "2024-07-10T10:10:21.385Z"
   },
   {
    "duration": 199,
    "start_time": "2024-07-10T10:10:21.938Z"
   },
   {
    "duration": 562,
    "start_time": "2024-07-10T10:10:22.139Z"
   },
   {
    "duration": 13,
    "start_time": "2024-07-10T10:10:22.703Z"
   },
   {
    "duration": 562,
    "start_time": "2024-07-10T10:10:22.717Z"
   },
   {
    "duration": 511,
    "start_time": "2024-07-10T10:10:23.281Z"
   },
   {
    "duration": 14,
    "start_time": "2024-07-10T10:10:23.794Z"
   },
   {
    "duration": 722,
    "start_time": "2024-07-10T10:10:23.810Z"
   },
   {
    "duration": 573,
    "start_time": "2024-07-10T10:10:24.534Z"
   },
   {
    "duration": 7,
    "start_time": "2024-07-10T10:10:25.109Z"
   },
   {
    "duration": 187,
    "start_time": "2024-07-10T10:10:25.117Z"
   },
   {
    "duration": 20,
    "start_time": "2024-07-10T10:10:25.306Z"
   },
   {
    "duration": 19,
    "start_time": "2024-07-10T10:10:25.328Z"
   },
   {
    "duration": 16,
    "start_time": "2024-07-10T10:10:25.349Z"
   },
   {
    "duration": 4,
    "start_time": "2024-07-10T10:10:25.367Z"
   },
   {
    "duration": 14,
    "start_time": "2024-07-10T10:10:25.372Z"
   },
   {
    "duration": 6,
    "start_time": "2024-07-10T10:10:25.387Z"
   },
   {
    "duration": 2061,
    "start_time": "2024-07-10T10:10:25.395Z"
   },
   {
    "duration": 15,
    "start_time": "2024-07-10T10:10:27.457Z"
   },
   {
    "duration": 23,
    "start_time": "2024-07-10T10:10:27.474Z"
   },
   {
    "duration": 6,
    "start_time": "2024-07-10T10:10:27.499Z"
   },
   {
    "duration": 4,
    "start_time": "2024-07-10T10:10:27.506Z"
   },
   {
    "duration": 7,
    "start_time": "2024-07-10T10:10:27.511Z"
   },
   {
    "duration": 9,
    "start_time": "2024-07-10T10:10:27.520Z"
   },
   {
    "duration": 8,
    "start_time": "2024-07-10T10:10:27.530Z"
   },
   {
    "duration": 7,
    "start_time": "2024-07-10T10:10:27.540Z"
   },
   {
    "duration": 28,
    "start_time": "2024-07-10T10:10:27.549Z"
   },
   {
    "duration": 7,
    "start_time": "2024-07-10T10:10:27.579Z"
   },
   {
    "duration": 15,
    "start_time": "2024-07-10T10:10:27.587Z"
   },
   {
    "duration": 5,
    "start_time": "2024-07-10T10:10:27.603Z"
   },
   {
    "duration": 3767,
    "start_time": "2024-07-10T10:10:27.609Z"
   },
   {
    "duration": 34,
    "start_time": "2024-07-10T10:10:31.377Z"
   },
   {
    "duration": 58,
    "start_time": "2024-07-10T10:10:31.412Z"
   },
   {
    "duration": 27,
    "start_time": "2024-07-10T10:17:23.482Z"
   },
   {
    "duration": 39,
    "start_time": "2024-07-10T10:17:28.116Z"
   },
   {
    "duration": 36,
    "start_time": "2024-07-10T10:17:37.117Z"
   },
   {
    "duration": 28,
    "start_time": "2024-07-10T10:19:17.401Z"
   },
   {
    "duration": 22,
    "start_time": "2024-07-10T10:22:27.469Z"
   },
   {
    "duration": 8233,
    "start_time": "2024-07-10T10:22:42.578Z"
   },
   {
    "duration": 19,
    "start_time": "2024-07-10T10:22:53.278Z"
   },
   {
    "duration": 37,
    "start_time": "2024-07-10T10:22:58.147Z"
   },
   {
    "duration": 28,
    "start_time": "2024-07-10T10:23:08.077Z"
   },
   {
    "duration": 30,
    "start_time": "2024-07-10T10:23:25.647Z"
   },
   {
    "duration": 513285,
    "start_time": "2024-07-10T10:24:06.032Z"
   },
   {
    "duration": 15,
    "start_time": "2024-07-10T10:54:51.347Z"
   },
   {
    "duration": 15,
    "start_time": "2024-07-10T10:55:16.185Z"
   },
   {
    "duration": 13,
    "start_time": "2024-07-10T10:55:25.421Z"
   },
   {
    "duration": 18,
    "start_time": "2024-07-10T10:56:18.158Z"
   },
   {
    "duration": 5,
    "start_time": "2024-07-10T10:56:42.382Z"
   },
   {
    "duration": 6,
    "start_time": "2024-07-10T10:56:55.194Z"
   },
   {
    "duration": 16,
    "start_time": "2024-07-10T10:57:03.439Z"
   },
   {
    "duration": 5268,
    "start_time": "2024-07-10T11:00:49.077Z"
   },
   {
    "duration": 6,
    "start_time": "2024-07-10T11:00:54.347Z"
   },
   {
    "duration": 29,
    "start_time": "2024-07-10T11:00:54.354Z"
   },
   {
    "duration": 96,
    "start_time": "2024-07-10T11:00:54.386Z"
   },
   {
    "duration": 12,
    "start_time": "2024-07-10T11:00:54.483Z"
   },
   {
    "duration": 16,
    "start_time": "2024-07-10T11:00:54.496Z"
   },
   {
    "duration": 10,
    "start_time": "2024-07-10T11:00:54.513Z"
   },
   {
    "duration": 7,
    "start_time": "2024-07-10T11:00:54.524Z"
   },
   {
    "duration": 8,
    "start_time": "2024-07-10T11:00:54.532Z"
   },
   {
    "duration": 4,
    "start_time": "2024-07-10T11:00:54.542Z"
   },
   {
    "duration": 18,
    "start_time": "2024-07-10T11:00:54.548Z"
   },
   {
    "duration": 4,
    "start_time": "2024-07-10T11:00:54.568Z"
   },
   {
    "duration": 11,
    "start_time": "2024-07-10T11:00:54.573Z"
   },
   {
    "duration": 19,
    "start_time": "2024-07-10T11:00:54.585Z"
   },
   {
    "duration": 25,
    "start_time": "2024-07-10T11:00:54.606Z"
   },
   {
    "duration": 16,
    "start_time": "2024-07-10T11:00:54.632Z"
   },
   {
    "duration": 8,
    "start_time": "2024-07-10T11:00:54.649Z"
   },
   {
    "duration": 17,
    "start_time": "2024-07-10T11:00:54.658Z"
   },
   {
    "duration": 28,
    "start_time": "2024-07-10T11:00:54.677Z"
   },
   {
    "duration": 7,
    "start_time": "2024-07-10T11:00:54.706Z"
   },
   {
    "duration": 9,
    "start_time": "2024-07-10T11:00:54.714Z"
   },
   {
    "duration": 16,
    "start_time": "2024-07-10T11:00:54.724Z"
   },
   {
    "duration": 9,
    "start_time": "2024-07-10T11:00:54.742Z"
   },
   {
    "duration": 7,
    "start_time": "2024-07-10T11:00:54.752Z"
   },
   {
    "duration": 17,
    "start_time": "2024-07-10T11:00:54.761Z"
   },
   {
    "duration": 34,
    "start_time": "2024-07-10T11:00:54.780Z"
   },
   {
    "duration": 7,
    "start_time": "2024-07-10T11:00:54.815Z"
   },
   {
    "duration": 22,
    "start_time": "2024-07-10T11:00:54.825Z"
   },
   {
    "duration": 15239,
    "start_time": "2024-07-10T11:00:54.848Z"
   },
   {
    "duration": 6,
    "start_time": "2024-07-10T11:01:10.088Z"
   },
   {
    "duration": 35,
    "start_time": "2024-07-10T11:01:10.096Z"
   },
   {
    "duration": 546,
    "start_time": "2024-07-10T11:01:10.132Z"
   },
   {
    "duration": 9,
    "start_time": "2024-07-10T11:01:10.680Z"
   },
   {
    "duration": 631,
    "start_time": "2024-07-10T11:01:10.691Z"
   },
   {
    "duration": 547,
    "start_time": "2024-07-10T11:01:11.323Z"
   },
   {
    "duration": 195,
    "start_time": "2024-07-10T11:01:11.872Z"
   },
   {
    "duration": 531,
    "start_time": "2024-07-10T11:01:12.068Z"
   },
   {
    "duration": 13,
    "start_time": "2024-07-10T11:01:12.600Z"
   },
   {
    "duration": 586,
    "start_time": "2024-07-10T11:01:12.614Z"
   },
   {
    "duration": 881,
    "start_time": "2024-07-10T11:01:13.201Z"
   },
   {
    "duration": 15,
    "start_time": "2024-07-10T11:01:14.085Z"
   },
   {
    "duration": 578,
    "start_time": "2024-07-10T11:01:14.101Z"
   },
   {
    "duration": 533,
    "start_time": "2024-07-10T11:01:14.680Z"
   },
   {
    "duration": 6,
    "start_time": "2024-07-10T11:01:15.215Z"
   },
   {
    "duration": 327,
    "start_time": "2024-07-10T11:01:15.237Z"
   },
   {
    "duration": 21,
    "start_time": "2024-07-10T11:01:15.566Z"
   },
   {
    "duration": 9,
    "start_time": "2024-07-10T11:01:15.588Z"
   },
   {
    "duration": 21,
    "start_time": "2024-07-10T11:01:15.598Z"
   },
   {
    "duration": 3,
    "start_time": "2024-07-10T11:01:15.621Z"
   },
   {
    "duration": 31,
    "start_time": "2024-07-10T11:01:15.625Z"
   },
   {
    "duration": 11,
    "start_time": "2024-07-10T11:01:15.658Z"
   },
   {
    "duration": 2229,
    "start_time": "2024-07-10T11:01:15.671Z"
   },
   {
    "duration": 14,
    "start_time": "2024-07-10T11:01:17.902Z"
   },
   {
    "duration": 34,
    "start_time": "2024-07-10T11:01:17.917Z"
   },
   {
    "duration": 21,
    "start_time": "2024-07-10T11:01:17.953Z"
   },
   {
    "duration": 20,
    "start_time": "2024-07-10T11:01:17.975Z"
   },
   {
    "duration": 69,
    "start_time": "2024-07-10T11:01:17.996Z"
   },
   {
    "duration": 46,
    "start_time": "2024-07-10T11:01:18.067Z"
   },
   {
    "duration": 20,
    "start_time": "2024-07-10T11:01:18.114Z"
   },
   {
    "duration": 20,
    "start_time": "2024-07-10T11:01:18.136Z"
   },
   {
    "duration": 20,
    "start_time": "2024-07-10T11:01:18.158Z"
   },
   {
    "duration": 61,
    "start_time": "2024-07-10T11:01:18.179Z"
   },
   {
    "duration": 0,
    "start_time": "2024-07-10T11:01:18.242Z"
   },
   {
    "duration": 0,
    "start_time": "2024-07-10T11:01:18.243Z"
   },
   {
    "duration": 0,
    "start_time": "2024-07-10T11:01:18.244Z"
   },
   {
    "duration": 0,
    "start_time": "2024-07-10T11:01:18.245Z"
   },
   {
    "duration": 0,
    "start_time": "2024-07-10T11:01:18.246Z"
   },
   {
    "duration": 8,
    "start_time": "2024-07-10T11:01:22.563Z"
   },
   {
    "duration": 15,
    "start_time": "2024-07-10T11:01:24.031Z"
   },
   {
    "duration": 4,
    "start_time": "2024-07-10T11:01:29.488Z"
   },
   {
    "duration": 3520,
    "start_time": "2024-07-10T11:01:29.881Z"
   },
   {
    "duration": 33,
    "start_time": "2024-07-10T11:01:39.626Z"
   },
   {
    "duration": 24,
    "start_time": "2024-07-10T11:01:55.013Z"
   },
   {
    "duration": 16,
    "start_time": "2024-07-10T11:02:01.111Z"
   },
   {
    "duration": 21,
    "start_time": "2024-07-10T11:03:35.803Z"
   },
   {
    "duration": 22,
    "start_time": "2024-07-10T11:04:34.662Z"
   },
   {
    "duration": 35,
    "start_time": "2024-07-10T11:04:39.197Z"
   },
   {
    "duration": 22,
    "start_time": "2024-07-10T11:05:01.924Z"
   },
   {
    "duration": 20,
    "start_time": "2024-07-10T11:11:33.178Z"
   },
   {
    "duration": 26,
    "start_time": "2024-07-10T11:11:50.353Z"
   },
   {
    "duration": 23,
    "start_time": "2024-07-10T11:12:05.003Z"
   },
   {
    "duration": 23,
    "start_time": "2024-07-10T11:12:08.729Z"
   },
   {
    "duration": 29,
    "start_time": "2024-07-10T11:12:11.748Z"
   },
   {
    "duration": 20,
    "start_time": "2024-07-10T11:12:22.686Z"
   },
   {
    "duration": 16,
    "start_time": "2024-07-10T11:13:47.608Z"
   },
   {
    "duration": 21,
    "start_time": "2024-07-10T11:18:57.526Z"
   },
   {
    "duration": 14,
    "start_time": "2024-07-10T11:19:06.639Z"
   },
   {
    "duration": 4,
    "start_time": "2024-07-10T11:22:03.801Z"
   },
   {
    "duration": 14,
    "start_time": "2024-07-10T11:22:14.197Z"
   },
   {
    "duration": 11,
    "start_time": "2024-07-10T11:22:49.098Z"
   },
   {
    "duration": 9,
    "start_time": "2024-07-10T11:22:55.698Z"
   },
   {
    "duration": 13,
    "start_time": "2024-07-10T11:23:40.989Z"
   },
   {
    "duration": 14,
    "start_time": "2024-07-10T11:24:52.349Z"
   },
   {
    "duration": 5185,
    "start_time": "2024-07-10T11:27:39.329Z"
   },
   {
    "duration": 1284,
    "start_time": "2024-07-10T11:27:44.516Z"
   },
   {
    "duration": 4,
    "start_time": "2024-07-10T11:27:45.802Z"
   },
   {
    "duration": 127,
    "start_time": "2024-07-10T11:27:45.807Z"
   },
   {
    "duration": 14,
    "start_time": "2024-07-10T11:27:45.936Z"
   },
   {
    "duration": 13,
    "start_time": "2024-07-10T11:27:45.951Z"
   },
   {
    "duration": 33,
    "start_time": "2024-07-10T11:27:45.965Z"
   },
   {
    "duration": 39,
    "start_time": "2024-07-10T11:27:45.999Z"
   },
   {
    "duration": 32,
    "start_time": "2024-07-10T11:27:46.040Z"
   },
   {
    "duration": 31,
    "start_time": "2024-07-10T11:27:46.074Z"
   },
   {
    "duration": 72,
    "start_time": "2024-07-10T11:27:46.107Z"
   },
   {
    "duration": 62,
    "start_time": "2024-07-10T11:27:46.180Z"
   },
   {
    "duration": 44,
    "start_time": "2024-07-10T11:27:46.243Z"
   },
   {
    "duration": 13,
    "start_time": "2024-07-10T11:27:46.289Z"
   },
   {
    "duration": 49,
    "start_time": "2024-07-10T11:27:46.303Z"
   },
   {
    "duration": 18,
    "start_time": "2024-07-10T11:27:46.354Z"
   },
   {
    "duration": 13,
    "start_time": "2024-07-10T11:27:46.373Z"
   },
   {
    "duration": 20,
    "start_time": "2024-07-10T11:27:46.387Z"
   },
   {
    "duration": 35,
    "start_time": "2024-07-10T11:27:46.409Z"
   },
   {
    "duration": 9,
    "start_time": "2024-07-10T11:27:46.445Z"
   },
   {
    "duration": 32,
    "start_time": "2024-07-10T11:27:46.456Z"
   },
   {
    "duration": 13,
    "start_time": "2024-07-10T11:27:46.490Z"
   },
   {
    "duration": 28,
    "start_time": "2024-07-10T11:27:46.504Z"
   },
   {
    "duration": 38,
    "start_time": "2024-07-10T11:27:46.534Z"
   },
   {
    "duration": 34,
    "start_time": "2024-07-10T11:27:46.574Z"
   },
   {
    "duration": 23,
    "start_time": "2024-07-10T11:27:46.610Z"
   },
   {
    "duration": 26,
    "start_time": "2024-07-10T11:27:46.635Z"
   },
   {
    "duration": 23,
    "start_time": "2024-07-10T11:27:46.665Z"
   },
   {
    "duration": 14478,
    "start_time": "2024-07-10T11:27:46.689Z"
   },
   {
    "duration": 6,
    "start_time": "2024-07-10T11:28:01.169Z"
   },
   {
    "duration": 269,
    "start_time": "2024-07-10T11:28:01.177Z"
   },
   {
    "duration": 745,
    "start_time": "2024-07-10T11:28:01.447Z"
   },
   {
    "duration": 7,
    "start_time": "2024-07-10T11:28:02.194Z"
   },
   {
    "duration": 699,
    "start_time": "2024-07-10T11:28:02.202Z"
   },
   {
    "duration": 534,
    "start_time": "2024-07-10T11:28:02.903Z"
   },
   {
    "duration": 206,
    "start_time": "2024-07-10T11:28:03.439Z"
   },
   {
    "duration": 542,
    "start_time": "2024-07-10T11:28:03.646Z"
   },
   {
    "duration": 12,
    "start_time": "2024-07-10T11:28:04.190Z"
   },
   {
    "duration": 584,
    "start_time": "2024-07-10T11:28:04.203Z"
   },
   {
    "duration": 575,
    "start_time": "2024-07-10T11:28:04.789Z"
   },
   {
    "duration": 15,
    "start_time": "2024-07-10T11:28:05.365Z"
   },
   {
    "duration": 751,
    "start_time": "2024-07-10T11:28:05.382Z"
   },
   {
    "duration": 573,
    "start_time": "2024-07-10T11:28:06.137Z"
   },
   {
    "duration": 11,
    "start_time": "2024-07-10T11:28:06.712Z"
   },
   {
    "duration": 181,
    "start_time": "2024-07-10T11:28:06.725Z"
   },
   {
    "duration": 19,
    "start_time": "2024-07-10T11:28:06.908Z"
   },
   {
    "duration": 4,
    "start_time": "2024-07-10T11:28:06.937Z"
   },
   {
    "duration": 17,
    "start_time": "2024-07-10T11:28:06.943Z"
   },
   {
    "duration": 4,
    "start_time": "2024-07-10T11:28:06.962Z"
   },
   {
    "duration": 27,
    "start_time": "2024-07-10T11:28:06.967Z"
   },
   {
    "duration": 46,
    "start_time": "2024-07-10T11:28:06.996Z"
   },
   {
    "duration": 2180,
    "start_time": "2024-07-10T11:28:07.044Z"
   },
   {
    "duration": 22,
    "start_time": "2024-07-10T11:28:09.225Z"
   },
   {
    "duration": 10,
    "start_time": "2024-07-10T11:28:09.249Z"
   },
   {
    "duration": 9,
    "start_time": "2024-07-10T11:28:09.261Z"
   },
   {
    "duration": 3,
    "start_time": "2024-07-10T11:28:09.271Z"
   },
   {
    "duration": 6,
    "start_time": "2024-07-10T11:28:09.275Z"
   },
   {
    "duration": 13,
    "start_time": "2024-07-10T11:28:09.282Z"
   },
   {
    "duration": 7,
    "start_time": "2024-07-10T11:28:09.297Z"
   },
   {
    "duration": 10,
    "start_time": "2024-07-10T11:28:09.306Z"
   },
   {
    "duration": 9,
    "start_time": "2024-07-10T11:28:09.318Z"
   },
   {
    "duration": 13,
    "start_time": "2024-07-10T11:28:09.328Z"
   },
   {
    "duration": 97,
    "start_time": "2024-07-10T11:28:09.342Z"
   },
   {
    "duration": 29,
    "start_time": "2024-07-10T11:28:09.441Z"
   },
   {
    "duration": 8903,
    "start_time": "2024-07-10T11:28:09.472Z"
   },
   {
    "duration": 32,
    "start_time": "2024-07-10T11:28:18.376Z"
   },
   {
    "duration": 36,
    "start_time": "2024-07-10T11:28:18.410Z"
   },
   {
    "duration": 12,
    "start_time": "2024-07-10T11:28:18.447Z"
   },
   {
    "duration": 19,
    "start_time": "2024-07-10T11:28:44.319Z"
   },
   {
    "duration": 15,
    "start_time": "2024-07-10T11:29:02.623Z"
   },
   {
    "duration": 18,
    "start_time": "2024-07-10T11:30:49.294Z"
   },
   {
    "duration": 17,
    "start_time": "2024-07-10T11:31:06.409Z"
   },
   {
    "duration": 20,
    "start_time": "2024-07-10T11:33:10.227Z"
   },
   {
    "duration": 7,
    "start_time": "2024-07-10T11:47:05.481Z"
   },
   {
    "duration": 3,
    "start_time": "2024-07-10T11:47:06.006Z"
   },
   {
    "duration": 8,
    "start_time": "2024-07-10T11:47:07.195Z"
   },
   {
    "duration": 15,
    "start_time": "2024-07-10T11:47:07.815Z"
   },
   {
    "duration": 3,
    "start_time": "2024-07-10T11:47:13.446Z"
   },
   {
    "duration": 5585,
    "start_time": "2024-07-10T11:48:29.602Z"
   },
   {
    "duration": 1226,
    "start_time": "2024-07-10T11:48:35.189Z"
   },
   {
    "duration": 4,
    "start_time": "2024-07-10T11:48:36.417Z"
   },
   {
    "duration": 92,
    "start_time": "2024-07-10T11:48:36.423Z"
   },
   {
    "duration": 16,
    "start_time": "2024-07-10T11:48:36.516Z"
   },
   {
    "duration": 11,
    "start_time": "2024-07-10T11:48:36.534Z"
   },
   {
    "duration": 15,
    "start_time": "2024-07-10T11:48:36.546Z"
   },
   {
    "duration": 8,
    "start_time": "2024-07-10T11:48:36.562Z"
   },
   {
    "duration": 6,
    "start_time": "2024-07-10T11:48:36.571Z"
   },
   {
    "duration": 4,
    "start_time": "2024-07-10T11:48:36.579Z"
   },
   {
    "duration": 13,
    "start_time": "2024-07-10T11:48:36.585Z"
   },
   {
    "duration": 4,
    "start_time": "2024-07-10T11:48:36.600Z"
   },
   {
    "duration": 35,
    "start_time": "2024-07-10T11:48:36.606Z"
   },
   {
    "duration": 9,
    "start_time": "2024-07-10T11:48:36.642Z"
   },
   {
    "duration": 4,
    "start_time": "2024-07-10T11:48:36.652Z"
   },
   {
    "duration": 6,
    "start_time": "2024-07-10T11:48:36.658Z"
   },
   {
    "duration": 5,
    "start_time": "2024-07-10T11:48:36.665Z"
   },
   {
    "duration": 5,
    "start_time": "2024-07-10T11:48:36.671Z"
   },
   {
    "duration": 10,
    "start_time": "2024-07-10T11:48:36.678Z"
   },
   {
    "duration": 5,
    "start_time": "2024-07-10T11:48:36.689Z"
   },
   {
    "duration": 42,
    "start_time": "2024-07-10T11:48:36.695Z"
   },
   {
    "duration": 4,
    "start_time": "2024-07-10T11:48:36.739Z"
   },
   {
    "duration": 9,
    "start_time": "2024-07-10T11:48:36.745Z"
   },
   {
    "duration": 4,
    "start_time": "2024-07-10T11:48:36.755Z"
   },
   {
    "duration": 10,
    "start_time": "2024-07-10T11:48:36.760Z"
   },
   {
    "duration": 9,
    "start_time": "2024-07-10T11:48:36.771Z"
   },
   {
    "duration": 2,
    "start_time": "2024-07-10T11:48:36.782Z"
   },
   {
    "duration": 18,
    "start_time": "2024-07-10T11:48:36.787Z"
   },
   {
    "duration": 14008,
    "start_time": "2024-07-10T11:48:36.807Z"
   },
   {
    "duration": 9,
    "start_time": "2024-07-10T11:48:50.817Z"
   },
   {
    "duration": 49,
    "start_time": "2024-07-10T11:48:50.827Z"
   },
   {
    "duration": 624,
    "start_time": "2024-07-10T11:48:50.878Z"
   },
   {
    "duration": 7,
    "start_time": "2024-07-10T11:48:51.504Z"
   },
   {
    "duration": 660,
    "start_time": "2024-07-10T11:48:51.513Z"
   },
   {
    "duration": 525,
    "start_time": "2024-07-10T11:48:52.175Z"
   },
   {
    "duration": 188,
    "start_time": "2024-07-10T11:48:52.702Z"
   },
   {
    "duration": 522,
    "start_time": "2024-07-10T11:48:52.892Z"
   },
   {
    "duration": 14,
    "start_time": "2024-07-10T11:48:53.416Z"
   },
   {
    "duration": 570,
    "start_time": "2024-07-10T11:48:53.444Z"
   },
   {
    "duration": 565,
    "start_time": "2024-07-10T11:48:54.016Z"
   },
   {
    "duration": 15,
    "start_time": "2024-07-10T11:48:54.582Z"
   },
   {
    "duration": 721,
    "start_time": "2024-07-10T11:48:54.599Z"
   },
   {
    "duration": 555,
    "start_time": "2024-07-10T11:48:55.322Z"
   },
   {
    "duration": 5,
    "start_time": "2024-07-10T11:48:55.879Z"
   },
   {
    "duration": 165,
    "start_time": "2024-07-10T11:48:55.885Z"
   },
   {
    "duration": 18,
    "start_time": "2024-07-10T11:48:56.051Z"
   },
   {
    "duration": 3,
    "start_time": "2024-07-10T11:48:56.071Z"
   },
   {
    "duration": 22,
    "start_time": "2024-07-10T11:48:56.075Z"
   },
   {
    "duration": 11,
    "start_time": "2024-07-10T11:48:56.098Z"
   },
   {
    "duration": 13,
    "start_time": "2024-07-10T11:48:56.111Z"
   },
   {
    "duration": 6,
    "start_time": "2024-07-10T11:48:56.138Z"
   },
   {
    "duration": 2080,
    "start_time": "2024-07-10T11:48:56.145Z"
   },
   {
    "duration": 17,
    "start_time": "2024-07-10T11:48:58.227Z"
   },
   {
    "duration": 65,
    "start_time": "2024-07-10T11:48:58.246Z"
   },
   {
    "duration": 8,
    "start_time": "2024-07-10T11:48:58.312Z"
   },
   {
    "duration": 33,
    "start_time": "2024-07-10T11:48:58.322Z"
   },
   {
    "duration": 39,
    "start_time": "2024-07-10T11:48:58.357Z"
   },
   {
    "duration": 18,
    "start_time": "2024-07-10T11:48:58.397Z"
   },
   {
    "duration": 23,
    "start_time": "2024-07-10T11:48:58.416Z"
   },
   {
    "duration": 20,
    "start_time": "2024-07-10T11:48:58.441Z"
   },
   {
    "duration": 35,
    "start_time": "2024-07-10T11:48:58.462Z"
   },
   {
    "duration": 57,
    "start_time": "2024-07-10T11:48:58.498Z"
   },
   {
    "duration": 31,
    "start_time": "2024-07-10T11:48:58.556Z"
   },
   {
    "duration": 5104,
    "start_time": "2024-07-10T11:54:39.537Z"
   },
   {
    "duration": 1268,
    "start_time": "2024-07-10T11:54:44.643Z"
   },
   {
    "duration": 4,
    "start_time": "2024-07-10T11:54:45.915Z"
   },
   {
    "duration": 107,
    "start_time": "2024-07-10T11:54:45.921Z"
   },
   {
    "duration": 15,
    "start_time": "2024-07-10T11:54:46.029Z"
   },
   {
    "duration": 19,
    "start_time": "2024-07-10T11:54:46.045Z"
   },
   {
    "duration": 18,
    "start_time": "2024-07-10T11:54:46.066Z"
   },
   {
    "duration": 21,
    "start_time": "2024-07-10T11:54:46.086Z"
   },
   {
    "duration": 16,
    "start_time": "2024-07-10T11:54:46.110Z"
   },
   {
    "duration": 8,
    "start_time": "2024-07-10T11:54:46.127Z"
   },
   {
    "duration": 17,
    "start_time": "2024-07-10T11:54:46.137Z"
   },
   {
    "duration": 12,
    "start_time": "2024-07-10T11:54:46.156Z"
   },
   {
    "duration": 22,
    "start_time": "2024-07-10T11:54:46.170Z"
   },
   {
    "duration": 42,
    "start_time": "2024-07-10T11:54:46.194Z"
   },
   {
    "duration": 28,
    "start_time": "2024-07-10T11:54:46.237Z"
   },
   {
    "duration": 41,
    "start_time": "2024-07-10T11:54:46.267Z"
   },
   {
    "duration": 33,
    "start_time": "2024-07-10T11:54:46.309Z"
   },
   {
    "duration": 24,
    "start_time": "2024-07-10T11:54:46.343Z"
   },
   {
    "duration": 10,
    "start_time": "2024-07-10T11:54:46.368Z"
   },
   {
    "duration": 5,
    "start_time": "2024-07-10T11:54:46.379Z"
   },
   {
    "duration": 13,
    "start_time": "2024-07-10T11:54:46.385Z"
   },
   {
    "duration": 10,
    "start_time": "2024-07-10T11:54:46.399Z"
   },
   {
    "duration": 14,
    "start_time": "2024-07-10T11:54:46.410Z"
   },
   {
    "duration": 11,
    "start_time": "2024-07-10T11:54:46.425Z"
   },
   {
    "duration": 9,
    "start_time": "2024-07-10T11:54:46.438Z"
   },
   {
    "duration": 16,
    "start_time": "2024-07-10T11:54:46.448Z"
   },
   {
    "duration": 11,
    "start_time": "2024-07-10T11:54:46.468Z"
   },
   {
    "duration": 35,
    "start_time": "2024-07-10T11:54:46.480Z"
   },
   {
    "duration": 14283,
    "start_time": "2024-07-10T11:54:46.516Z"
   },
   {
    "duration": 6,
    "start_time": "2024-07-10T11:55:00.801Z"
   },
   {
    "duration": 162,
    "start_time": "2024-07-10T11:55:00.809Z"
   },
   {
    "duration": 714,
    "start_time": "2024-07-10T11:55:00.972Z"
   },
   {
    "duration": 6,
    "start_time": "2024-07-10T11:55:01.687Z"
   },
   {
    "duration": 657,
    "start_time": "2024-07-10T11:55:01.694Z"
   },
   {
    "duration": 522,
    "start_time": "2024-07-10T11:55:02.353Z"
   },
   {
    "duration": 198,
    "start_time": "2024-07-10T11:55:02.877Z"
   },
   {
    "duration": 512,
    "start_time": "2024-07-10T11:55:03.076Z"
   },
   {
    "duration": 13,
    "start_time": "2024-07-10T11:55:03.590Z"
   },
   {
    "duration": 554,
    "start_time": "2024-07-10T11:55:03.604Z"
   },
   {
    "duration": 526,
    "start_time": "2024-07-10T11:55:04.159Z"
   },
   {
    "duration": 17,
    "start_time": "2024-07-10T11:55:04.686Z"
   },
   {
    "duration": 679,
    "start_time": "2024-07-10T11:55:04.704Z"
   },
   {
    "duration": 546,
    "start_time": "2024-07-10T11:55:05.384Z"
   },
   {
    "duration": 9,
    "start_time": "2024-07-10T11:55:05.932Z"
   },
   {
    "duration": 176,
    "start_time": "2024-07-10T11:55:05.943Z"
   },
   {
    "duration": 26,
    "start_time": "2024-07-10T11:55:06.120Z"
   },
   {
    "duration": 3,
    "start_time": "2024-07-10T11:55:06.148Z"
   },
   {
    "duration": 68,
    "start_time": "2024-07-10T11:55:06.152Z"
   },
   {
    "duration": 22,
    "start_time": "2024-07-10T11:55:06.222Z"
   },
   {
    "duration": 104,
    "start_time": "2024-07-10T11:55:06.246Z"
   },
   {
    "duration": 6,
    "start_time": "2024-07-10T11:55:06.352Z"
   },
   {
    "duration": 2026,
    "start_time": "2024-07-10T11:55:06.359Z"
   },
   {
    "duration": 15,
    "start_time": "2024-07-10T11:55:08.386Z"
   },
   {
    "duration": 46,
    "start_time": "2024-07-10T11:55:08.402Z"
   },
   {
    "duration": 36,
    "start_time": "2024-07-10T11:55:08.449Z"
   },
   {
    "duration": 26,
    "start_time": "2024-07-10T11:55:08.486Z"
   },
   {
    "duration": 26,
    "start_time": "2024-07-10T11:55:08.514Z"
   },
   {
    "duration": 18,
    "start_time": "2024-07-10T11:55:08.542Z"
   },
   {
    "duration": 41,
    "start_time": "2024-07-10T11:55:08.562Z"
   },
   {
    "duration": 15,
    "start_time": "2024-07-10T11:55:08.604Z"
   },
   {
    "duration": 34,
    "start_time": "2024-07-10T11:55:08.620Z"
   },
   {
    "duration": 22,
    "start_time": "2024-07-10T11:55:08.655Z"
   },
   {
    "duration": 22,
    "start_time": "2024-07-10T11:55:08.678Z"
   },
   {
    "duration": 5658,
    "start_time": "2024-07-10T12:35:33.794Z"
   },
   {
    "duration": 8,
    "start_time": "2024-07-10T12:35:39.455Z"
   },
   {
    "duration": 11,
    "start_time": "2024-07-10T12:35:39.465Z"
   },
   {
    "duration": 85,
    "start_time": "2024-07-10T12:35:39.478Z"
   },
   {
    "duration": 12,
    "start_time": "2024-07-10T12:35:39.565Z"
   },
   {
    "duration": 18,
    "start_time": "2024-07-10T12:35:39.578Z"
   },
   {
    "duration": 21,
    "start_time": "2024-07-10T12:35:39.598Z"
   },
   {
    "duration": 10,
    "start_time": "2024-07-10T12:35:39.621Z"
   },
   {
    "duration": 18,
    "start_time": "2024-07-10T12:35:39.632Z"
   },
   {
    "duration": 4,
    "start_time": "2024-07-10T12:35:39.651Z"
   },
   {
    "duration": 17,
    "start_time": "2024-07-10T12:35:39.657Z"
   },
   {
    "duration": 4,
    "start_time": "2024-07-10T12:35:39.676Z"
   },
   {
    "duration": 12,
    "start_time": "2024-07-10T12:35:39.681Z"
   },
   {
    "duration": 10,
    "start_time": "2024-07-10T12:35:39.695Z"
   },
   {
    "duration": 6,
    "start_time": "2024-07-10T12:35:39.707Z"
   },
   {
    "duration": 9,
    "start_time": "2024-07-10T12:35:39.714Z"
   },
   {
    "duration": 16,
    "start_time": "2024-07-10T12:35:39.724Z"
   },
   {
    "duration": 7,
    "start_time": "2024-07-10T12:35:39.741Z"
   },
   {
    "duration": 13,
    "start_time": "2024-07-10T12:35:39.749Z"
   },
   {
    "duration": 5,
    "start_time": "2024-07-10T12:35:39.763Z"
   },
   {
    "duration": 10,
    "start_time": "2024-07-10T12:35:39.770Z"
   },
   {
    "duration": 10,
    "start_time": "2024-07-10T12:35:39.781Z"
   },
   {
    "duration": 12,
    "start_time": "2024-07-10T12:35:39.792Z"
   },
   {
    "duration": 33,
    "start_time": "2024-07-10T12:35:39.805Z"
   },
   {
    "duration": 24,
    "start_time": "2024-07-10T12:35:39.840Z"
   },
   {
    "duration": 38,
    "start_time": "2024-07-10T12:35:39.866Z"
   },
   {
    "duration": 27,
    "start_time": "2024-07-10T12:35:39.906Z"
   },
   {
    "duration": 57,
    "start_time": "2024-07-10T12:35:39.935Z"
   },
   {
    "duration": 15246,
    "start_time": "2024-07-10T12:35:39.994Z"
   },
   {
    "duration": 6,
    "start_time": "2024-07-10T12:35:55.242Z"
   },
   {
    "duration": 13,
    "start_time": "2024-07-10T12:35:55.249Z"
   },
   {
    "duration": 591,
    "start_time": "2024-07-10T12:35:55.264Z"
   },
   {
    "duration": 7,
    "start_time": "2024-07-10T12:35:55.857Z"
   },
   {
    "duration": 554,
    "start_time": "2024-07-10T12:35:55.865Z"
   },
   {
    "duration": 570,
    "start_time": "2024-07-10T12:35:56.421Z"
   },
   {
    "duration": 214,
    "start_time": "2024-07-10T12:35:56.993Z"
   },
   {
    "duration": 808,
    "start_time": "2024-07-10T12:35:57.209Z"
   },
   {
    "duration": 12,
    "start_time": "2024-07-10T12:35:58.019Z"
   },
   {
    "duration": 600,
    "start_time": "2024-07-10T12:35:58.038Z"
   },
   {
    "duration": 546,
    "start_time": "2024-07-10T12:35:58.639Z"
   },
   {
    "duration": 15,
    "start_time": "2024-07-10T12:35:59.187Z"
   },
   {
    "duration": 539,
    "start_time": "2024-07-10T12:35:59.203Z"
   },
   {
    "duration": 587,
    "start_time": "2024-07-10T12:35:59.744Z"
   },
   {
    "duration": 5,
    "start_time": "2024-07-10T12:36:00.333Z"
   },
   {
    "duration": 203,
    "start_time": "2024-07-10T12:36:00.340Z"
   },
   {
    "duration": 19,
    "start_time": "2024-07-10T12:36:00.545Z"
   },
   {
    "duration": 77,
    "start_time": "2024-07-10T12:36:00.566Z"
   },
   {
    "duration": 51,
    "start_time": "2024-07-10T12:36:00.645Z"
   },
   {
    "duration": 33,
    "start_time": "2024-07-10T12:36:00.698Z"
   },
   {
    "duration": 49,
    "start_time": "2024-07-10T12:36:00.732Z"
   },
   {
    "duration": 59,
    "start_time": "2024-07-10T12:36:00.783Z"
   },
   {
    "duration": 2306,
    "start_time": "2024-07-10T12:36:00.844Z"
   },
   {
    "duration": 15,
    "start_time": "2024-07-10T12:36:03.151Z"
   },
   {
    "duration": 8,
    "start_time": "2024-07-10T12:36:03.168Z"
   },
   {
    "duration": 13,
    "start_time": "2024-07-10T12:36:03.178Z"
   },
   {
    "duration": 17,
    "start_time": "2024-07-10T12:36:03.197Z"
   },
   {
    "duration": 11,
    "start_time": "2024-07-10T12:36:03.215Z"
   },
   {
    "duration": 5,
    "start_time": "2024-07-10T12:36:03.228Z"
   },
   {
    "duration": 6,
    "start_time": "2024-07-10T12:36:03.234Z"
   },
   {
    "duration": 7,
    "start_time": "2024-07-10T12:36:03.242Z"
   },
   {
    "duration": 9,
    "start_time": "2024-07-10T12:36:03.250Z"
   },
   {
    "duration": 13,
    "start_time": "2024-07-10T12:36:03.260Z"
   },
   {
    "duration": 11,
    "start_time": "2024-07-10T12:36:03.274Z"
   },
   {
    "duration": 5285,
    "start_time": "2024-07-10T12:39:48.181Z"
   },
   {
    "duration": 1266,
    "start_time": "2024-07-10T12:39:53.468Z"
   },
   {
    "duration": 4,
    "start_time": "2024-07-10T12:39:54.735Z"
   },
   {
    "duration": 185,
    "start_time": "2024-07-10T12:39:54.741Z"
   },
   {
    "duration": 15,
    "start_time": "2024-07-10T12:39:54.927Z"
   },
   {
    "duration": 37,
    "start_time": "2024-07-10T12:39:54.943Z"
   },
   {
    "duration": 24,
    "start_time": "2024-07-10T12:39:54.982Z"
   },
   {
    "duration": 18,
    "start_time": "2024-07-10T12:39:55.007Z"
   },
   {
    "duration": 8,
    "start_time": "2024-07-10T12:39:55.026Z"
   },
   {
    "duration": 5,
    "start_time": "2024-07-10T12:39:55.036Z"
   },
   {
    "duration": 15,
    "start_time": "2024-07-10T12:39:55.042Z"
   },
   {
    "duration": 5,
    "start_time": "2024-07-10T12:39:55.059Z"
   },
   {
    "duration": 22,
    "start_time": "2024-07-10T12:39:55.066Z"
   },
   {
    "duration": 19,
    "start_time": "2024-07-10T12:39:55.089Z"
   },
   {
    "duration": 24,
    "start_time": "2024-07-10T12:39:55.109Z"
   },
   {
    "duration": 14,
    "start_time": "2024-07-10T12:39:55.134Z"
   },
   {
    "duration": 36,
    "start_time": "2024-07-10T12:39:55.149Z"
   },
   {
    "duration": 32,
    "start_time": "2024-07-10T12:39:55.187Z"
   },
   {
    "duration": 38,
    "start_time": "2024-07-10T12:39:55.221Z"
   },
   {
    "duration": 10,
    "start_time": "2024-07-10T12:39:55.260Z"
   },
   {
    "duration": 11,
    "start_time": "2024-07-10T12:39:55.272Z"
   },
   {
    "duration": 18,
    "start_time": "2024-07-10T12:39:55.285Z"
   },
   {
    "duration": 15,
    "start_time": "2024-07-10T12:39:55.305Z"
   },
   {
    "duration": 6,
    "start_time": "2024-07-10T12:39:55.321Z"
   },
   {
    "duration": 11,
    "start_time": "2024-07-10T12:39:55.328Z"
   },
   {
    "duration": 10,
    "start_time": "2024-07-10T12:39:55.340Z"
   },
   {
    "duration": 14,
    "start_time": "2024-07-10T12:39:55.351Z"
   },
   {
    "duration": 39,
    "start_time": "2024-07-10T12:39:55.370Z"
   },
   {
    "duration": 14325,
    "start_time": "2024-07-10T12:39:55.410Z"
   },
   {
    "duration": 9,
    "start_time": "2024-07-10T12:40:09.737Z"
   },
   {
    "duration": 17,
    "start_time": "2024-07-10T12:40:09.748Z"
   },
   {
    "duration": 670,
    "start_time": "2024-07-10T12:40:09.767Z"
   },
   {
    "duration": 6,
    "start_time": "2024-07-10T12:40:10.439Z"
   },
   {
    "duration": 603,
    "start_time": "2024-07-10T12:40:10.446Z"
   },
   {
    "duration": 529,
    "start_time": "2024-07-10T12:40:11.050Z"
   },
   {
    "duration": 190,
    "start_time": "2024-07-10T12:40:11.581Z"
   },
   {
    "duration": 516,
    "start_time": "2024-07-10T12:40:11.772Z"
   },
   {
    "duration": 12,
    "start_time": "2024-07-10T12:40:12.290Z"
   },
   {
    "duration": 584,
    "start_time": "2024-07-10T12:40:12.304Z"
   },
   {
    "duration": 510,
    "start_time": "2024-07-10T12:40:12.890Z"
   },
   {
    "duration": 14,
    "start_time": "2024-07-10T12:40:13.401Z"
   },
   {
    "duration": 735,
    "start_time": "2024-07-10T12:40:13.416Z"
   },
   {
    "duration": 594,
    "start_time": "2024-07-10T12:40:14.153Z"
   },
   {
    "duration": 5,
    "start_time": "2024-07-10T12:40:14.749Z"
   },
   {
    "duration": 193,
    "start_time": "2024-07-10T12:40:14.755Z"
   },
   {
    "duration": 18,
    "start_time": "2024-07-10T12:40:14.950Z"
   },
   {
    "duration": 25,
    "start_time": "2024-07-10T12:40:14.970Z"
   },
   {
    "duration": 52,
    "start_time": "2024-07-10T12:40:14.996Z"
   },
   {
    "duration": 15,
    "start_time": "2024-07-10T12:40:15.050Z"
   },
   {
    "duration": 48,
    "start_time": "2024-07-10T12:40:15.067Z"
   },
   {
    "duration": 58,
    "start_time": "2024-07-10T12:40:15.117Z"
   },
   {
    "duration": 2116,
    "start_time": "2024-07-10T12:40:15.177Z"
   },
   {
    "duration": 21,
    "start_time": "2024-07-10T12:40:17.295Z"
   },
   {
    "duration": 10,
    "start_time": "2024-07-10T12:40:17.317Z"
   },
   {
    "duration": 7,
    "start_time": "2024-07-10T12:40:17.336Z"
   },
   {
    "duration": 3,
    "start_time": "2024-07-10T12:40:17.345Z"
   },
   {
    "duration": 6,
    "start_time": "2024-07-10T12:40:17.349Z"
   },
   {
    "duration": 3,
    "start_time": "2024-07-10T12:40:17.356Z"
   },
   {
    "duration": 3,
    "start_time": "2024-07-10T12:40:17.361Z"
   },
   {
    "duration": 6,
    "start_time": "2024-07-10T12:40:17.365Z"
   },
   {
    "duration": 16,
    "start_time": "2024-07-10T12:40:17.372Z"
   },
   {
    "duration": 8,
    "start_time": "2024-07-10T12:40:17.390Z"
   },
   {
    "duration": 4,
    "start_time": "2024-07-10T12:40:17.399Z"
   },
   {
    "duration": 8797,
    "start_time": "2024-07-10T12:40:17.404Z"
   },
   {
    "duration": 40,
    "start_time": "2024-07-10T12:40:26.202Z"
   },
   {
    "duration": 20,
    "start_time": "2024-07-10T12:40:26.244Z"
   },
   {
    "duration": 20,
    "start_time": "2024-07-10T12:40:26.266Z"
   },
   {
    "duration": 5274,
    "start_time": "2024-07-10T12:58:24.043Z"
   },
   {
    "duration": 6,
    "start_time": "2024-07-10T12:58:29.319Z"
   },
   {
    "duration": 33,
    "start_time": "2024-07-10T12:58:29.327Z"
   },
   {
    "duration": 100,
    "start_time": "2024-07-10T12:58:29.361Z"
   },
   {
    "duration": 14,
    "start_time": "2024-07-10T12:58:29.464Z"
   },
   {
    "duration": 15,
    "start_time": "2024-07-10T12:58:29.480Z"
   },
   {
    "duration": 15,
    "start_time": "2024-07-10T12:58:29.497Z"
   },
   {
    "duration": 18,
    "start_time": "2024-07-10T12:58:29.514Z"
   },
   {
    "duration": 6,
    "start_time": "2024-07-10T12:58:29.535Z"
   },
   {
    "duration": 4,
    "start_time": "2024-07-10T12:58:29.543Z"
   },
   {
    "duration": 19,
    "start_time": "2024-07-10T12:58:29.549Z"
   },
   {
    "duration": 7,
    "start_time": "2024-07-10T12:58:29.570Z"
   },
   {
    "duration": 9,
    "start_time": "2024-07-10T12:58:29.579Z"
   },
   {
    "duration": 10,
    "start_time": "2024-07-10T12:58:29.592Z"
   },
   {
    "duration": 25,
    "start_time": "2024-07-10T12:58:29.603Z"
   },
   {
    "duration": 26,
    "start_time": "2024-07-10T12:58:29.630Z"
   },
   {
    "duration": 31,
    "start_time": "2024-07-10T12:58:29.658Z"
   },
   {
    "duration": 7,
    "start_time": "2024-07-10T12:58:29.690Z"
   },
   {
    "duration": 20,
    "start_time": "2024-07-10T12:58:29.698Z"
   },
   {
    "duration": 5,
    "start_time": "2024-07-10T12:58:29.720Z"
   },
   {
    "duration": 9,
    "start_time": "2024-07-10T12:58:29.726Z"
   },
   {
    "duration": 5,
    "start_time": "2024-07-10T12:58:29.736Z"
   },
   {
    "duration": 12,
    "start_time": "2024-07-10T12:58:29.742Z"
   },
   {
    "duration": 14,
    "start_time": "2024-07-10T12:58:29.755Z"
   },
   {
    "duration": 9,
    "start_time": "2024-07-10T12:58:29.770Z"
   },
   {
    "duration": 7,
    "start_time": "2024-07-10T12:58:29.780Z"
   },
   {
    "duration": 2,
    "start_time": "2024-07-10T12:58:29.789Z"
   },
   {
    "duration": 17,
    "start_time": "2024-07-10T12:58:29.793Z"
   },
   {
    "duration": 14879,
    "start_time": "2024-07-10T12:58:29.812Z"
   },
   {
    "duration": 6,
    "start_time": "2024-07-10T12:58:44.693Z"
   },
   {
    "duration": 38,
    "start_time": "2024-07-10T12:58:44.700Z"
   },
   {
    "duration": 562,
    "start_time": "2024-07-10T12:58:44.740Z"
   },
   {
    "duration": 6,
    "start_time": "2024-07-10T12:58:45.304Z"
   },
   {
    "duration": 618,
    "start_time": "2024-07-10T12:58:45.311Z"
   },
   {
    "duration": 552,
    "start_time": "2024-07-10T12:58:45.931Z"
   },
   {
    "duration": 220,
    "start_time": "2024-07-10T12:58:46.484Z"
   },
   {
    "duration": 786,
    "start_time": "2024-07-10T12:58:46.706Z"
   },
   {
    "duration": 12,
    "start_time": "2024-07-10T12:58:47.493Z"
   },
   {
    "duration": 552,
    "start_time": "2024-07-10T12:58:47.507Z"
   },
   {
    "duration": 541,
    "start_time": "2024-07-10T12:58:48.060Z"
   },
   {
    "duration": 15,
    "start_time": "2024-07-10T12:58:48.605Z"
   },
   {
    "duration": 547,
    "start_time": "2024-07-10T12:58:48.621Z"
   },
   {
    "duration": 587,
    "start_time": "2024-07-10T12:58:49.170Z"
   },
   {
    "duration": 6,
    "start_time": "2024-07-10T12:58:49.758Z"
   },
   {
    "duration": 174,
    "start_time": "2024-07-10T12:58:49.765Z"
   },
   {
    "duration": 19,
    "start_time": "2024-07-10T12:58:49.941Z"
   },
   {
    "duration": 4,
    "start_time": "2024-07-10T12:58:49.961Z"
   },
   {
    "duration": 16,
    "start_time": "2024-07-10T12:58:49.967Z"
   },
   {
    "duration": 33,
    "start_time": "2024-07-10T12:58:49.984Z"
   },
   {
    "duration": 41,
    "start_time": "2024-07-10T12:58:50.018Z"
   },
   {
    "duration": 10,
    "start_time": "2024-07-10T12:58:50.061Z"
   },
   {
    "duration": 2216,
    "start_time": "2024-07-10T12:58:50.073Z"
   },
   {
    "duration": 17,
    "start_time": "2024-07-10T12:58:52.291Z"
   },
   {
    "duration": 30,
    "start_time": "2024-07-10T12:58:52.310Z"
   },
   {
    "duration": 6,
    "start_time": "2024-07-10T12:58:52.341Z"
   },
   {
    "duration": 3,
    "start_time": "2024-07-10T12:58:52.349Z"
   },
   {
    "duration": 8,
    "start_time": "2024-07-10T12:58:52.354Z"
   },
   {
    "duration": 4,
    "start_time": "2024-07-10T12:58:52.364Z"
   },
   {
    "duration": 4,
    "start_time": "2024-07-10T12:58:52.370Z"
   },
   {
    "duration": 49,
    "start_time": "2024-07-10T12:58:52.375Z"
   },
   {
    "duration": 77,
    "start_time": "2024-07-10T12:58:52.425Z"
   },
   {
    "duration": 24,
    "start_time": "2024-07-10T12:58:52.503Z"
   },
   {
    "duration": 6,
    "start_time": "2024-07-10T12:58:52.528Z"
   },
   {
    "duration": 10173,
    "start_time": "2024-07-10T12:58:52.536Z"
   },
   {
    "duration": 39,
    "start_time": "2024-07-10T12:59:02.711Z"
   },
   {
    "duration": 62,
    "start_time": "2024-07-10T12:59:02.751Z"
   },
   {
    "duration": 26,
    "start_time": "2024-07-10T12:59:02.814Z"
   },
   {
    "duration": 5214,
    "start_time": "2024-07-10T13:00:05.019Z"
   },
   {
    "duration": 7,
    "start_time": "2024-07-10T13:00:10.235Z"
   },
   {
    "duration": 59,
    "start_time": "2024-07-10T13:00:10.243Z"
   },
   {
    "duration": 90,
    "start_time": "2024-07-10T13:00:10.304Z"
   },
   {
    "duration": 13,
    "start_time": "2024-07-10T13:00:10.396Z"
   },
   {
    "duration": 90,
    "start_time": "2024-07-10T13:00:10.410Z"
   },
   {
    "duration": 10,
    "start_time": "2024-07-10T13:00:10.502Z"
   },
   {
    "duration": 11,
    "start_time": "2024-07-10T13:00:10.514Z"
   },
   {
    "duration": 8,
    "start_time": "2024-07-10T13:00:10.526Z"
   },
   {
    "duration": 14,
    "start_time": "2024-07-10T13:00:10.536Z"
   },
   {
    "duration": 106,
    "start_time": "2024-07-10T13:00:10.551Z"
   },
   {
    "duration": 10,
    "start_time": "2024-07-10T13:00:10.659Z"
   },
   {
    "duration": 7,
    "start_time": "2024-07-10T13:00:10.670Z"
   },
   {
    "duration": 20,
    "start_time": "2024-07-10T13:00:10.678Z"
   },
   {
    "duration": 6,
    "start_time": "2024-07-10T13:00:10.700Z"
   },
   {
    "duration": 10,
    "start_time": "2024-07-10T13:00:10.708Z"
   },
   {
    "duration": 7,
    "start_time": "2024-07-10T13:00:10.719Z"
   },
   {
    "duration": 10,
    "start_time": "2024-07-10T13:00:10.728Z"
   },
   {
    "duration": 14,
    "start_time": "2024-07-10T13:00:10.740Z"
   },
   {
    "duration": 7,
    "start_time": "2024-07-10T13:00:10.756Z"
   },
   {
    "duration": 13,
    "start_time": "2024-07-10T13:00:10.764Z"
   },
   {
    "duration": 12,
    "start_time": "2024-07-10T13:00:10.779Z"
   },
   {
    "duration": 30,
    "start_time": "2024-07-10T13:00:10.793Z"
   },
   {
    "duration": 7,
    "start_time": "2024-07-10T13:00:10.825Z"
   },
   {
    "duration": 12,
    "start_time": "2024-07-10T13:00:10.837Z"
   },
   {
    "duration": 12,
    "start_time": "2024-07-10T13:00:10.850Z"
   },
   {
    "duration": 3,
    "start_time": "2024-07-10T13:00:10.863Z"
   },
   {
    "duration": 19,
    "start_time": "2024-07-10T13:00:10.869Z"
   },
   {
    "duration": 14751,
    "start_time": "2024-07-10T13:00:10.889Z"
   },
   {
    "duration": 6,
    "start_time": "2024-07-10T13:00:25.642Z"
   },
   {
    "duration": 17,
    "start_time": "2024-07-10T13:00:25.649Z"
   },
   {
    "duration": 524,
    "start_time": "2024-07-10T13:00:25.668Z"
   },
   {
    "duration": 7,
    "start_time": "2024-07-10T13:00:26.194Z"
   },
   {
    "duration": 806,
    "start_time": "2024-07-10T13:00:26.202Z"
   },
   {
    "duration": 557,
    "start_time": "2024-07-10T13:00:27.009Z"
   },
   {
    "duration": 247,
    "start_time": "2024-07-10T13:00:27.567Z"
   },
   {
    "duration": 561,
    "start_time": "2024-07-10T13:00:27.816Z"
   },
   {
    "duration": 13,
    "start_time": "2024-07-10T13:00:28.378Z"
   },
   {
    "duration": 526,
    "start_time": "2024-07-10T13:00:28.393Z"
   },
   {
    "duration": 566,
    "start_time": "2024-07-10T13:00:28.920Z"
   },
   {
    "duration": 15,
    "start_time": "2024-07-10T13:00:29.488Z"
   },
   {
    "duration": 684,
    "start_time": "2024-07-10T13:00:29.505Z"
   },
   {
    "duration": 540,
    "start_time": "2024-07-10T13:00:30.190Z"
   },
   {
    "duration": 10,
    "start_time": "2024-07-10T13:00:30.732Z"
   },
   {
    "duration": 384,
    "start_time": "2024-07-10T13:00:30.743Z"
   },
   {
    "duration": 18,
    "start_time": "2024-07-10T13:00:31.129Z"
   },
   {
    "duration": 63,
    "start_time": "2024-07-10T13:00:31.149Z"
   },
   {
    "duration": 50,
    "start_time": "2024-07-10T13:00:31.213Z"
   },
   {
    "duration": 38,
    "start_time": "2024-07-10T13:00:31.265Z"
   },
   {
    "duration": 45,
    "start_time": "2024-07-10T13:00:31.305Z"
   },
   {
    "duration": 29,
    "start_time": "2024-07-10T13:00:31.351Z"
   },
   {
    "duration": 2055,
    "start_time": "2024-07-10T13:00:31.382Z"
   },
   {
    "duration": 17,
    "start_time": "2024-07-10T13:00:33.439Z"
   },
   {
    "duration": 7,
    "start_time": "2024-07-10T13:00:33.457Z"
   },
   {
    "duration": 5,
    "start_time": "2024-07-10T13:00:33.465Z"
   },
   {
    "duration": 3,
    "start_time": "2024-07-10T13:00:33.471Z"
   },
   {
    "duration": 8,
    "start_time": "2024-07-10T13:00:33.475Z"
   },
   {
    "duration": 8,
    "start_time": "2024-07-10T13:00:33.484Z"
   },
   {
    "duration": 14,
    "start_time": "2024-07-10T13:00:33.493Z"
   },
   {
    "duration": 5,
    "start_time": "2024-07-10T13:00:33.509Z"
   },
   {
    "duration": 22,
    "start_time": "2024-07-10T13:00:33.516Z"
   },
   {
    "duration": 30,
    "start_time": "2024-07-10T13:00:33.539Z"
   },
   {
    "duration": 8,
    "start_time": "2024-07-10T13:00:33.570Z"
   },
   {
    "duration": 8832,
    "start_time": "2024-07-10T13:00:33.579Z"
   },
   {
    "duration": 39,
    "start_time": "2024-07-10T13:00:42.413Z"
   },
   {
    "duration": 45,
    "start_time": "2024-07-10T13:00:42.454Z"
   },
   {
    "duration": 23,
    "start_time": "2024-07-10T13:00:42.500Z"
   },
   {
    "duration": 5351,
    "start_time": "2024-07-10T13:02:51.184Z"
   },
   {
    "duration": 1318,
    "start_time": "2024-07-10T13:02:56.538Z"
   },
   {
    "duration": 3,
    "start_time": "2024-07-10T13:02:57.858Z"
   },
   {
    "duration": 89,
    "start_time": "2024-07-10T13:02:57.864Z"
   },
   {
    "duration": 17,
    "start_time": "2024-07-10T13:02:57.955Z"
   },
   {
    "duration": 18,
    "start_time": "2024-07-10T13:02:57.973Z"
   },
   {
    "duration": 12,
    "start_time": "2024-07-10T13:02:57.992Z"
   },
   {
    "duration": 18,
    "start_time": "2024-07-10T13:02:58.006Z"
   },
   {
    "duration": 8,
    "start_time": "2024-07-10T13:02:58.026Z"
   },
   {
    "duration": 4,
    "start_time": "2024-07-10T13:02:58.038Z"
   },
   {
    "duration": 17,
    "start_time": "2024-07-10T13:02:58.043Z"
   },
   {
    "duration": 4,
    "start_time": "2024-07-10T13:02:58.062Z"
   },
   {
    "duration": 9,
    "start_time": "2024-07-10T13:02:58.068Z"
   },
   {
    "duration": 12,
    "start_time": "2024-07-10T13:02:58.079Z"
   },
   {
    "duration": 7,
    "start_time": "2024-07-10T13:02:58.093Z"
   },
   {
    "duration": 38,
    "start_time": "2024-07-10T13:02:58.102Z"
   },
   {
    "duration": 6,
    "start_time": "2024-07-10T13:02:58.141Z"
   },
   {
    "duration": 7,
    "start_time": "2024-07-10T13:02:58.149Z"
   },
   {
    "duration": 37,
    "start_time": "2024-07-10T13:02:58.158Z"
   },
   {
    "duration": 18,
    "start_time": "2024-07-10T13:02:58.197Z"
   },
   {
    "duration": 15,
    "start_time": "2024-07-10T13:02:58.216Z"
   },
   {
    "duration": 31,
    "start_time": "2024-07-10T13:02:58.233Z"
   },
   {
    "duration": 47,
    "start_time": "2024-07-10T13:02:58.266Z"
   },
   {
    "duration": 12,
    "start_time": "2024-07-10T13:02:58.315Z"
   },
   {
    "duration": 19,
    "start_time": "2024-07-10T13:02:58.329Z"
   },
   {
    "duration": 24,
    "start_time": "2024-07-10T13:02:58.350Z"
   },
   {
    "duration": 3,
    "start_time": "2024-07-10T13:02:58.376Z"
   },
   {
    "duration": 19,
    "start_time": "2024-07-10T13:02:58.382Z"
   },
   {
    "duration": 14504,
    "start_time": "2024-07-10T13:02:58.403Z"
   },
   {
    "duration": 6,
    "start_time": "2024-07-10T13:03:12.909Z"
   },
   {
    "duration": 22,
    "start_time": "2024-07-10T13:03:12.916Z"
   },
   {
    "duration": 706,
    "start_time": "2024-07-10T13:03:12.939Z"
   },
   {
    "duration": 7,
    "start_time": "2024-07-10T13:03:13.646Z"
   },
   {
    "duration": 583,
    "start_time": "2024-07-10T13:03:13.654Z"
   },
   {
    "duration": 542,
    "start_time": "2024-07-10T13:03:14.239Z"
   },
   {
    "duration": 188,
    "start_time": "2024-07-10T13:03:14.783Z"
   },
   {
    "duration": 527,
    "start_time": "2024-07-10T13:03:14.973Z"
   },
   {
    "duration": 12,
    "start_time": "2024-07-10T13:03:15.502Z"
   },
   {
    "duration": 573,
    "start_time": "2024-07-10T13:03:15.515Z"
   },
   {
    "duration": 523,
    "start_time": "2024-07-10T13:03:16.090Z"
   },
   {
    "duration": 22,
    "start_time": "2024-07-10T13:03:16.615Z"
   },
   {
    "duration": 753,
    "start_time": "2024-07-10T13:03:16.639Z"
   },
   {
    "duration": 552,
    "start_time": "2024-07-10T13:03:17.393Z"
   },
   {
    "duration": 6,
    "start_time": "2024-07-10T13:03:17.947Z"
   },
   {
    "duration": 178,
    "start_time": "2024-07-10T13:03:17.954Z"
   },
   {
    "duration": 19,
    "start_time": "2024-07-10T13:03:18.133Z"
   },
   {
    "duration": 4,
    "start_time": "2024-07-10T13:03:18.154Z"
   },
   {
    "duration": 33,
    "start_time": "2024-07-10T13:03:18.159Z"
   },
   {
    "duration": 38,
    "start_time": "2024-07-10T13:03:18.193Z"
   },
   {
    "duration": 26,
    "start_time": "2024-07-10T13:03:18.233Z"
   },
   {
    "duration": 36,
    "start_time": "2024-07-10T13:03:18.261Z"
   },
   {
    "duration": 2016,
    "start_time": "2024-07-10T13:03:18.298Z"
   },
   {
    "duration": 22,
    "start_time": "2024-07-10T13:03:20.316Z"
   },
   {
    "duration": 17,
    "start_time": "2024-07-10T13:03:20.340Z"
   },
   {
    "duration": 29,
    "start_time": "2024-07-10T13:03:20.358Z"
   },
   {
    "duration": 3,
    "start_time": "2024-07-10T13:03:20.388Z"
   },
   {
    "duration": 28,
    "start_time": "2024-07-10T13:03:20.392Z"
   },
   {
    "duration": 41,
    "start_time": "2024-07-10T13:03:20.421Z"
   },
   {
    "duration": 50,
    "start_time": "2024-07-10T13:03:20.464Z"
   },
   {
    "duration": 31,
    "start_time": "2024-07-10T13:03:20.515Z"
   },
   {
    "duration": 10,
    "start_time": "2024-07-10T13:03:20.548Z"
   },
   {
    "duration": 9,
    "start_time": "2024-07-10T13:03:20.560Z"
   },
   {
    "duration": 92,
    "start_time": "2024-07-10T13:03:20.571Z"
   },
   {
    "duration": 7713,
    "start_time": "2024-07-10T13:03:20.665Z"
   },
   {
    "duration": 33,
    "start_time": "2024-07-10T13:03:28.380Z"
   },
   {
    "duration": 36,
    "start_time": "2024-07-10T13:03:28.415Z"
   },
   {
    "duration": 20,
    "start_time": "2024-07-10T13:03:28.453Z"
   },
   {
    "duration": 4,
    "start_time": "2024-07-10T13:10:11.613Z"
   },
   {
    "duration": 104,
    "start_time": "2024-07-10T13:10:13.771Z"
   },
   {
    "duration": 5,
    "start_time": "2024-07-10T13:10:20.970Z"
   },
   {
    "duration": 6,
    "start_time": "2024-07-10T13:10:25.072Z"
   },
   {
    "duration": 173,
    "start_time": "2024-07-10T13:16:31.227Z"
   },
   {
    "duration": 15,
    "start_time": "2024-07-10T13:17:21.528Z"
   },
   {
    "duration": 6,
    "start_time": "2024-07-10T13:17:24.023Z"
   },
   {
    "duration": 165,
    "start_time": "2024-07-10T13:17:25.129Z"
   },
   {
    "duration": 82,
    "start_time": "2024-07-10T14:22:09.464Z"
   },
   {
    "duration": 5705,
    "start_time": "2024-07-10T15:26:57.315Z"
   },
   {
    "duration": 1335,
    "start_time": "2024-07-10T15:27:03.023Z"
   },
   {
    "duration": 3,
    "start_time": "2024-07-10T15:27:04.360Z"
   },
   {
    "duration": 88,
    "start_time": "2024-07-10T15:27:04.365Z"
   },
   {
    "duration": 16,
    "start_time": "2024-07-10T15:27:04.455Z"
   },
   {
    "duration": 12,
    "start_time": "2024-07-10T15:27:04.473Z"
   },
   {
    "duration": 13,
    "start_time": "2024-07-10T15:27:04.487Z"
   },
   {
    "duration": 8,
    "start_time": "2024-07-10T15:27:04.501Z"
   },
   {
    "duration": 12,
    "start_time": "2024-07-10T15:27:04.511Z"
   },
   {
    "duration": 9,
    "start_time": "2024-07-10T15:27:04.525Z"
   },
   {
    "duration": 14,
    "start_time": "2024-07-10T15:27:04.535Z"
   },
   {
    "duration": 6,
    "start_time": "2024-07-10T15:27:04.551Z"
   },
   {
    "duration": 7,
    "start_time": "2024-07-10T15:27:04.558Z"
   },
   {
    "duration": 6,
    "start_time": "2024-07-10T15:27:04.569Z"
   },
   {
    "duration": 5,
    "start_time": "2024-07-10T15:27:04.577Z"
   },
   {
    "duration": 7,
    "start_time": "2024-07-10T15:27:04.583Z"
   },
   {
    "duration": 9,
    "start_time": "2024-07-10T15:27:04.592Z"
   },
   {
    "duration": 6,
    "start_time": "2024-07-10T15:27:04.636Z"
   },
   {
    "duration": 11,
    "start_time": "2024-07-10T15:27:04.644Z"
   },
   {
    "duration": 6,
    "start_time": "2024-07-10T15:27:04.657Z"
   },
   {
    "duration": 11,
    "start_time": "2024-07-10T15:27:04.664Z"
   },
   {
    "duration": 12,
    "start_time": "2024-07-10T15:27:04.677Z"
   },
   {
    "duration": 20,
    "start_time": "2024-07-10T15:27:04.690Z"
   },
   {
    "duration": 27,
    "start_time": "2024-07-10T15:27:04.712Z"
   },
   {
    "duration": 13,
    "start_time": "2024-07-10T15:27:04.740Z"
   },
   {
    "duration": 7,
    "start_time": "2024-07-10T15:27:04.755Z"
   },
   {
    "duration": 2,
    "start_time": "2024-07-10T15:27:04.764Z"
   },
   {
    "duration": 17,
    "start_time": "2024-07-10T15:27:04.767Z"
   },
   {
    "duration": 15242,
    "start_time": "2024-07-10T15:27:04.785Z"
   },
   {
    "duration": 7,
    "start_time": "2024-07-10T15:27:20.029Z"
   },
   {
    "duration": 44,
    "start_time": "2024-07-10T15:27:20.037Z"
   },
   {
    "duration": 717,
    "start_time": "2024-07-10T15:27:20.083Z"
   },
   {
    "duration": 7,
    "start_time": "2024-07-10T15:27:20.802Z"
   },
   {
    "duration": 637,
    "start_time": "2024-07-10T15:27:20.811Z"
   },
   {
    "duration": 573,
    "start_time": "2024-07-10T15:27:21.450Z"
   },
   {
    "duration": 202,
    "start_time": "2024-07-10T15:27:22.024Z"
   },
   {
    "duration": 645,
    "start_time": "2024-07-10T15:27:22.228Z"
   },
   {
    "duration": 13,
    "start_time": "2024-07-10T15:27:22.875Z"
   },
   {
    "duration": 649,
    "start_time": "2024-07-10T15:27:22.889Z"
   },
   {
    "duration": 606,
    "start_time": "2024-07-10T15:27:23.540Z"
   },
   {
    "duration": 16,
    "start_time": "2024-07-10T15:27:24.150Z"
   },
   {
    "duration": 790,
    "start_time": "2024-07-10T15:27:24.168Z"
   },
   {
    "duration": 584,
    "start_time": "2024-07-10T15:27:24.960Z"
   },
   {
    "duration": 8,
    "start_time": "2024-07-10T15:27:25.545Z"
   },
   {
    "duration": 210,
    "start_time": "2024-07-10T15:27:25.555Z"
   },
   {
    "duration": 20,
    "start_time": "2024-07-10T15:27:25.766Z"
   },
   {
    "duration": 5,
    "start_time": "2024-07-10T15:27:25.788Z"
   },
   {
    "duration": 43,
    "start_time": "2024-07-10T15:27:25.795Z"
   },
   {
    "duration": 4,
    "start_time": "2024-07-10T15:27:25.841Z"
   },
   {
    "duration": 25,
    "start_time": "2024-07-10T15:27:25.846Z"
   },
   {
    "duration": 8,
    "start_time": "2024-07-10T15:27:25.872Z"
   },
   {
    "duration": 2168,
    "start_time": "2024-07-10T15:27:25.882Z"
   },
   {
    "duration": 18,
    "start_time": "2024-07-10T15:27:28.052Z"
   },
   {
    "duration": 14,
    "start_time": "2024-07-10T15:27:28.071Z"
   },
   {
    "duration": 10,
    "start_time": "2024-07-10T15:27:28.087Z"
   },
   {
    "duration": 8,
    "start_time": "2024-07-10T15:27:28.098Z"
   },
   {
    "duration": 33,
    "start_time": "2024-07-10T15:27:28.107Z"
   },
   {
    "duration": 12,
    "start_time": "2024-07-10T15:27:28.141Z"
   },
   {
    "duration": 15,
    "start_time": "2024-07-10T15:27:28.155Z"
   },
   {
    "duration": 14,
    "start_time": "2024-07-10T15:27:28.172Z"
   },
   {
    "duration": 28,
    "start_time": "2024-07-10T15:27:28.188Z"
   },
   {
    "duration": 11,
    "start_time": "2024-07-10T15:27:28.219Z"
   },
   {
    "duration": 6,
    "start_time": "2024-07-10T15:27:28.232Z"
   },
   {
    "duration": 7931,
    "start_time": "2024-07-10T15:27:28.240Z"
   },
   {
    "duration": 34,
    "start_time": "2024-07-10T15:27:36.173Z"
   },
   {
    "duration": 42,
    "start_time": "2024-07-10T15:27:36.209Z"
   },
   {
    "duration": 17,
    "start_time": "2024-07-10T15:27:36.253Z"
   },
   {
    "duration": 20,
    "start_time": "2024-07-10T15:27:36.272Z"
   },
   {
    "duration": 168,
    "start_time": "2024-07-10T15:27:36.294Z"
   },
   {
    "duration": 5377,
    "start_time": "2024-07-10T15:55:50.183Z"
   },
   {
    "duration": 1281,
    "start_time": "2024-07-10T15:55:55.562Z"
   },
   {
    "duration": 5,
    "start_time": "2024-07-10T15:55:56.844Z"
   },
   {
    "duration": 98,
    "start_time": "2024-07-10T15:55:56.851Z"
   },
   {
    "duration": 18,
    "start_time": "2024-07-10T15:55:56.951Z"
   },
   {
    "duration": 12,
    "start_time": "2024-07-10T15:55:56.971Z"
   },
   {
    "duration": 29,
    "start_time": "2024-07-10T15:55:56.985Z"
   },
   {
    "duration": 8,
    "start_time": "2024-07-10T15:55:57.016Z"
   },
   {
    "duration": 13,
    "start_time": "2024-07-10T15:55:57.026Z"
   },
   {
    "duration": 4,
    "start_time": "2024-07-10T15:55:57.042Z"
   },
   {
    "duration": 11,
    "start_time": "2024-07-10T15:55:57.047Z"
   },
   {
    "duration": 4,
    "start_time": "2024-07-10T15:55:57.060Z"
   },
   {
    "duration": 6,
    "start_time": "2024-07-10T15:55:57.065Z"
   },
   {
    "duration": 26,
    "start_time": "2024-07-10T15:55:57.072Z"
   },
   {
    "duration": 11,
    "start_time": "2024-07-10T15:55:57.100Z"
   },
   {
    "duration": 7,
    "start_time": "2024-07-10T15:55:57.112Z"
   },
   {
    "duration": 20,
    "start_time": "2024-07-10T15:55:57.120Z"
   },
   {
    "duration": 6,
    "start_time": "2024-07-10T15:55:57.142Z"
   },
   {
    "duration": 10,
    "start_time": "2024-07-10T15:55:57.150Z"
   },
   {
    "duration": 6,
    "start_time": "2024-07-10T15:55:57.162Z"
   },
   {
    "duration": 11,
    "start_time": "2024-07-10T15:55:57.169Z"
   },
   {
    "duration": 16,
    "start_time": "2024-07-10T15:55:57.181Z"
   },
   {
    "duration": 20,
    "start_time": "2024-07-10T15:55:57.199Z"
   },
   {
    "duration": 20,
    "start_time": "2024-07-10T15:55:57.221Z"
   },
   {
    "duration": 19,
    "start_time": "2024-07-10T15:55:57.243Z"
   },
   {
    "duration": 21,
    "start_time": "2024-07-10T15:55:57.263Z"
   },
   {
    "duration": 9,
    "start_time": "2024-07-10T15:55:57.285Z"
   },
   {
    "duration": 118,
    "start_time": "2024-07-10T15:55:57.298Z"
   },
   {
    "duration": 14797,
    "start_time": "2024-07-10T15:55:57.418Z"
   },
   {
    "duration": 6,
    "start_time": "2024-07-10T15:56:12.217Z"
   },
   {
    "duration": 28,
    "start_time": "2024-07-10T15:56:12.225Z"
   },
   {
    "duration": 736,
    "start_time": "2024-07-10T15:56:12.255Z"
   },
   {
    "duration": 7,
    "start_time": "2024-07-10T15:56:12.993Z"
   },
   {
    "duration": 613,
    "start_time": "2024-07-10T15:56:13.001Z"
   },
   {
    "duration": 539,
    "start_time": "2024-07-10T15:56:13.615Z"
   },
   {
    "duration": 217,
    "start_time": "2024-07-10T15:56:14.156Z"
   },
   {
    "duration": 514,
    "start_time": "2024-07-10T15:56:14.375Z"
   },
   {
    "duration": 12,
    "start_time": "2024-07-10T15:56:14.891Z"
   },
   {
    "duration": 580,
    "start_time": "2024-07-10T15:56:14.905Z"
   },
   {
    "duration": 629,
    "start_time": "2024-07-10T15:56:15.487Z"
   },
   {
    "duration": 20,
    "start_time": "2024-07-10T15:56:16.118Z"
   },
   {
    "duration": 721,
    "start_time": "2024-07-10T15:56:16.140Z"
   },
   {
    "duration": 569,
    "start_time": "2024-07-10T15:56:16.863Z"
   },
   {
    "duration": 7,
    "start_time": "2024-07-10T15:56:17.434Z"
   },
   {
    "duration": 200,
    "start_time": "2024-07-10T15:56:17.443Z"
   },
   {
    "duration": 18,
    "start_time": "2024-07-10T15:56:17.645Z"
   },
   {
    "duration": 8,
    "start_time": "2024-07-10T15:56:17.665Z"
   },
   {
    "duration": 18,
    "start_time": "2024-07-10T15:56:17.675Z"
   },
   {
    "duration": 5,
    "start_time": "2024-07-10T15:56:17.694Z"
   },
   {
    "duration": 13,
    "start_time": "2024-07-10T15:56:17.700Z"
   },
   {
    "duration": 6,
    "start_time": "2024-07-10T15:56:17.737Z"
   },
   {
    "duration": 2081,
    "start_time": "2024-07-10T15:56:17.744Z"
   },
   {
    "duration": 18,
    "start_time": "2024-07-10T15:56:19.827Z"
   },
   {
    "duration": 34,
    "start_time": "2024-07-10T15:56:19.847Z"
   },
   {
    "duration": 34,
    "start_time": "2024-07-10T15:56:19.882Z"
   },
   {
    "duration": 25,
    "start_time": "2024-07-10T15:56:19.917Z"
   },
   {
    "duration": 23,
    "start_time": "2024-07-10T15:56:19.944Z"
   },
   {
    "duration": 13,
    "start_time": "2024-07-10T15:56:19.969Z"
   },
   {
    "duration": 16,
    "start_time": "2024-07-10T15:56:19.984Z"
   },
   {
    "duration": 29,
    "start_time": "2024-07-10T15:56:20.001Z"
   },
   {
    "duration": 36,
    "start_time": "2024-07-10T15:56:20.032Z"
   },
   {
    "duration": 32,
    "start_time": "2024-07-10T15:56:20.070Z"
   },
   {
    "duration": 40,
    "start_time": "2024-07-10T15:56:20.104Z"
   },
   {
    "duration": 7739,
    "start_time": "2024-07-10T15:56:20.145Z"
   },
   {
    "duration": 33,
    "start_time": "2024-07-10T15:56:27.886Z"
   },
   {
    "duration": 45,
    "start_time": "2024-07-10T15:56:27.920Z"
   },
   {
    "duration": 36,
    "start_time": "2024-07-10T15:56:27.967Z"
   },
   {
    "duration": 13,
    "start_time": "2024-07-10T15:56:28.005Z"
   },
   {
    "duration": 211,
    "start_time": "2024-07-10T15:56:28.019Z"
   },
   {
    "duration": 5240,
    "start_time": "2024-07-10T15:58:33.316Z"
   },
   {
    "duration": 9,
    "start_time": "2024-07-10T15:58:38.559Z"
   },
   {
    "duration": 9,
    "start_time": "2024-07-10T15:58:38.569Z"
   },
   {
    "duration": 100,
    "start_time": "2024-07-10T15:58:38.580Z"
   },
   {
    "duration": 17,
    "start_time": "2024-07-10T15:58:38.682Z"
   },
   {
    "duration": 18,
    "start_time": "2024-07-10T15:58:38.701Z"
   },
   {
    "duration": 13,
    "start_time": "2024-07-10T15:58:38.721Z"
   },
   {
    "duration": 11,
    "start_time": "2024-07-10T15:58:38.736Z"
   },
   {
    "duration": 9,
    "start_time": "2024-07-10T15:58:38.749Z"
   },
   {
    "duration": 7,
    "start_time": "2024-07-10T15:58:38.761Z"
   },
   {
    "duration": 23,
    "start_time": "2024-07-10T15:58:38.770Z"
   },
   {
    "duration": 4,
    "start_time": "2024-07-10T15:58:38.796Z"
   },
   {
    "duration": 6,
    "start_time": "2024-07-10T15:58:38.801Z"
   },
   {
    "duration": 14,
    "start_time": "2024-07-10T15:58:38.808Z"
   },
   {
    "duration": 6,
    "start_time": "2024-07-10T15:58:38.824Z"
   },
   {
    "duration": 5,
    "start_time": "2024-07-10T15:58:38.837Z"
   },
   {
    "duration": 11,
    "start_time": "2024-07-10T15:58:38.843Z"
   },
   {
    "duration": 8,
    "start_time": "2024-07-10T15:58:38.856Z"
   },
   {
    "duration": 28,
    "start_time": "2024-07-10T15:58:38.865Z"
   },
   {
    "duration": 27,
    "start_time": "2024-07-10T15:58:38.895Z"
   },
   {
    "duration": 11,
    "start_time": "2024-07-10T15:58:38.924Z"
   },
   {
    "duration": 5,
    "start_time": "2024-07-10T15:58:38.936Z"
   },
   {
    "duration": 23,
    "start_time": "2024-07-10T15:58:38.942Z"
   },
   {
    "duration": 14,
    "start_time": "2024-07-10T15:58:38.967Z"
   },
   {
    "duration": 33,
    "start_time": "2024-07-10T15:58:38.983Z"
   },
   {
    "duration": 21,
    "start_time": "2024-07-10T15:58:39.017Z"
   },
   {
    "duration": 5,
    "start_time": "2024-07-10T15:58:39.040Z"
   },
   {
    "duration": 17,
    "start_time": "2024-07-10T15:58:39.049Z"
   },
   {
    "duration": 15223,
    "start_time": "2024-07-10T15:58:39.067Z"
   },
   {
    "duration": 6,
    "start_time": "2024-07-10T15:58:54.292Z"
   },
   {
    "duration": 62,
    "start_time": "2024-07-10T15:58:54.300Z"
   },
   {
    "duration": 560,
    "start_time": "2024-07-10T15:58:54.365Z"
   },
   {
    "duration": 12,
    "start_time": "2024-07-10T15:58:54.927Z"
   },
   {
    "duration": 580,
    "start_time": "2024-07-10T15:58:54.941Z"
   },
   {
    "duration": 577,
    "start_time": "2024-07-10T15:58:55.522Z"
   },
   {
    "duration": 203,
    "start_time": "2024-07-10T15:58:56.102Z"
   },
   {
    "duration": 856,
    "start_time": "2024-07-10T15:58:56.307Z"
   },
   {
    "duration": 13,
    "start_time": "2024-07-10T15:58:57.165Z"
   },
   {
    "duration": 580,
    "start_time": "2024-07-10T15:58:57.179Z"
   },
   {
    "duration": 562,
    "start_time": "2024-07-10T15:58:57.761Z"
   },
   {
    "duration": 18,
    "start_time": "2024-07-10T15:58:58.325Z"
   },
   {
    "duration": 558,
    "start_time": "2024-07-10T15:58:58.344Z"
   },
   {
    "duration": 634,
    "start_time": "2024-07-10T15:58:58.904Z"
   },
   {
    "duration": 8,
    "start_time": "2024-07-10T15:58:59.540Z"
   },
   {
    "duration": 187,
    "start_time": "2024-07-10T15:58:59.550Z"
   },
   {
    "duration": 17,
    "start_time": "2024-07-10T15:58:59.739Z"
   },
   {
    "duration": 33,
    "start_time": "2024-07-10T15:58:59.757Z"
   },
   {
    "duration": 48,
    "start_time": "2024-07-10T15:58:59.791Z"
   },
   {
    "duration": 4,
    "start_time": "2024-07-10T15:58:59.840Z"
   },
   {
    "duration": 25,
    "start_time": "2024-07-10T15:58:59.845Z"
   },
   {
    "duration": 6,
    "start_time": "2024-07-10T15:58:59.872Z"
   },
   {
    "duration": 2363,
    "start_time": "2024-07-10T15:58:59.879Z"
   },
   {
    "duration": 0,
    "start_time": "2024-07-10T15:59:02.244Z"
   },
   {
    "duration": 0,
    "start_time": "2024-07-10T15:59:02.245Z"
   },
   {
    "duration": 0,
    "start_time": "2024-07-10T15:59:02.247Z"
   },
   {
    "duration": 0,
    "start_time": "2024-07-10T15:59:02.248Z"
   },
   {
    "duration": 0,
    "start_time": "2024-07-10T15:59:02.249Z"
   },
   {
    "duration": 0,
    "start_time": "2024-07-10T15:59:02.251Z"
   },
   {
    "duration": 0,
    "start_time": "2024-07-10T15:59:02.252Z"
   },
   {
    "duration": 0,
    "start_time": "2024-07-10T15:59:02.253Z"
   },
   {
    "duration": 0,
    "start_time": "2024-07-10T15:59:02.254Z"
   },
   {
    "duration": 0,
    "start_time": "2024-07-10T15:59:02.255Z"
   },
   {
    "duration": 0,
    "start_time": "2024-07-10T15:59:02.256Z"
   },
   {
    "duration": 0,
    "start_time": "2024-07-10T15:59:02.258Z"
   },
   {
    "duration": 0,
    "start_time": "2024-07-10T15:59:02.259Z"
   },
   {
    "duration": 0,
    "start_time": "2024-07-10T15:59:02.260Z"
   },
   {
    "duration": 0,
    "start_time": "2024-07-10T15:59:02.262Z"
   },
   {
    "duration": 0,
    "start_time": "2024-07-10T15:59:02.263Z"
   },
   {
    "duration": 0,
    "start_time": "2024-07-10T15:59:02.265Z"
   },
   {
    "duration": 5306,
    "start_time": "2024-07-10T15:59:15.747Z"
   },
   {
    "duration": 6,
    "start_time": "2024-07-10T15:59:21.056Z"
   },
   {
    "duration": 8,
    "start_time": "2024-07-10T15:59:21.064Z"
   },
   {
    "duration": 101,
    "start_time": "2024-07-10T15:59:21.074Z"
   },
   {
    "duration": 12,
    "start_time": "2024-07-10T15:59:21.177Z"
   },
   {
    "duration": 26,
    "start_time": "2024-07-10T15:59:21.191Z"
   },
   {
    "duration": 29,
    "start_time": "2024-07-10T15:59:21.219Z"
   },
   {
    "duration": 7,
    "start_time": "2024-07-10T15:59:21.249Z"
   },
   {
    "duration": 21,
    "start_time": "2024-07-10T15:59:21.258Z"
   },
   {
    "duration": 14,
    "start_time": "2024-07-10T15:59:21.282Z"
   },
   {
    "duration": 18,
    "start_time": "2024-07-10T15:59:21.297Z"
   },
   {
    "duration": 5,
    "start_time": "2024-07-10T15:59:21.316Z"
   },
   {
    "duration": 5,
    "start_time": "2024-07-10T15:59:21.322Z"
   },
   {
    "duration": 23,
    "start_time": "2024-07-10T15:59:21.329Z"
   },
   {
    "duration": 50,
    "start_time": "2024-07-10T15:59:21.353Z"
   },
   {
    "duration": 12,
    "start_time": "2024-07-10T15:59:21.405Z"
   },
   {
    "duration": 6,
    "start_time": "2024-07-10T15:59:21.418Z"
   },
   {
    "duration": 19,
    "start_time": "2024-07-10T15:59:21.425Z"
   },
   {
    "duration": 18,
    "start_time": "2024-07-10T15:59:21.446Z"
   },
   {
    "duration": 30,
    "start_time": "2024-07-10T15:59:21.466Z"
   },
   {
    "duration": 13,
    "start_time": "2024-07-10T15:59:21.498Z"
   },
   {
    "duration": 14,
    "start_time": "2024-07-10T15:59:21.513Z"
   },
   {
    "duration": 28,
    "start_time": "2024-07-10T15:59:21.528Z"
   },
   {
    "duration": 17,
    "start_time": "2024-07-10T15:59:21.558Z"
   },
   {
    "duration": 34,
    "start_time": "2024-07-10T15:59:21.577Z"
   },
   {
    "duration": 15,
    "start_time": "2024-07-10T15:59:21.613Z"
   },
   {
    "duration": 4,
    "start_time": "2024-07-10T15:59:21.630Z"
   },
   {
    "duration": 21,
    "start_time": "2024-07-10T15:59:21.639Z"
   },
   {
    "duration": 15259,
    "start_time": "2024-07-10T15:59:21.662Z"
   },
   {
    "duration": 16,
    "start_time": "2024-07-10T15:59:36.922Z"
   },
   {
    "duration": 13,
    "start_time": "2024-07-10T15:59:36.940Z"
   },
   {
    "duration": 565,
    "start_time": "2024-07-10T15:59:36.954Z"
   },
   {
    "duration": 7,
    "start_time": "2024-07-10T15:59:37.521Z"
   },
   {
    "duration": 936,
    "start_time": "2024-07-10T15:59:37.529Z"
   },
   {
    "duration": 530,
    "start_time": "2024-07-10T15:59:38.466Z"
   },
   {
    "duration": 189,
    "start_time": "2024-07-10T15:59:38.998Z"
   },
   {
    "duration": 539,
    "start_time": "2024-07-10T15:59:39.189Z"
   },
   {
    "duration": 21,
    "start_time": "2024-07-10T15:59:39.730Z"
   },
   {
    "duration": 568,
    "start_time": "2024-07-10T15:59:39.752Z"
   },
   {
    "duration": 571,
    "start_time": "2024-07-10T15:59:40.321Z"
   },
   {
    "duration": 15,
    "start_time": "2024-07-10T15:59:40.894Z"
   },
   {
    "duration": 573,
    "start_time": "2024-07-10T15:59:40.910Z"
   },
   {
    "duration": 809,
    "start_time": "2024-07-10T15:59:41.484Z"
   },
   {
    "duration": 6,
    "start_time": "2024-07-10T15:59:42.294Z"
   },
   {
    "duration": 227,
    "start_time": "2024-07-10T15:59:42.302Z"
   },
   {
    "duration": 23,
    "start_time": "2024-07-10T15:59:42.531Z"
   },
   {
    "duration": 3,
    "start_time": "2024-07-10T15:59:42.556Z"
   },
   {
    "duration": 17,
    "start_time": "2024-07-10T15:59:42.561Z"
   },
   {
    "duration": 3,
    "start_time": "2024-07-10T15:59:42.579Z"
   },
   {
    "duration": 20,
    "start_time": "2024-07-10T15:59:42.584Z"
   },
   {
    "duration": 36,
    "start_time": "2024-07-10T15:59:42.606Z"
   },
   {
    "duration": 2109,
    "start_time": "2024-07-10T15:59:42.645Z"
   },
   {
    "duration": 17,
    "start_time": "2024-07-10T15:59:44.756Z"
   },
   {
    "duration": 17,
    "start_time": "2024-07-10T15:59:44.775Z"
   },
   {
    "duration": 31,
    "start_time": "2024-07-10T15:59:44.793Z"
   },
   {
    "duration": 20,
    "start_time": "2024-07-10T15:59:44.826Z"
   },
   {
    "duration": 50,
    "start_time": "2024-07-10T15:59:44.848Z"
   },
   {
    "duration": 35,
    "start_time": "2024-07-10T15:59:44.900Z"
   },
   {
    "duration": 33,
    "start_time": "2024-07-10T15:59:44.937Z"
   },
   {
    "duration": 26,
    "start_time": "2024-07-10T15:59:44.972Z"
   },
   {
    "duration": 64,
    "start_time": "2024-07-10T15:59:45.000Z"
   },
   {
    "duration": 53,
    "start_time": "2024-07-10T15:59:45.065Z"
   },
   {
    "duration": 74,
    "start_time": "2024-07-10T15:59:45.119Z"
   },
   {
    "duration": 8015,
    "start_time": "2024-07-10T15:59:45.194Z"
   },
   {
    "duration": 40,
    "start_time": "2024-07-10T15:59:53.211Z"
   },
   {
    "duration": 28,
    "start_time": "2024-07-10T15:59:53.253Z"
   },
   {
    "duration": 24,
    "start_time": "2024-07-10T15:59:53.283Z"
   },
   {
    "duration": 7,
    "start_time": "2024-07-10T15:59:53.308Z"
   },
   {
    "duration": 198,
    "start_time": "2024-07-10T15:59:53.316Z"
   },
   {
    "duration": 7,
    "start_time": "2024-07-10T16:03:55.536Z"
   },
   {
    "duration": 31,
    "start_time": "2024-07-10T16:04:08.169Z"
   },
   {
    "duration": 33,
    "start_time": "2024-07-10T16:04:50.850Z"
   },
   {
    "duration": 26,
    "start_time": "2024-07-10T16:05:06.032Z"
   },
   {
    "duration": 8,
    "start_time": "2024-07-10T16:05:16.850Z"
   },
   {
    "duration": 4,
    "start_time": "2024-07-10T16:07:58.798Z"
   },
   {
    "duration": 5221,
    "start_time": "2024-07-10T16:11:09.924Z"
   },
   {
    "duration": 1284,
    "start_time": "2024-07-10T16:11:15.148Z"
   },
   {
    "duration": 3,
    "start_time": "2024-07-10T16:11:16.434Z"
   },
   {
    "duration": 116,
    "start_time": "2024-07-10T16:11:16.439Z"
   },
   {
    "duration": 15,
    "start_time": "2024-07-10T16:11:16.557Z"
   },
   {
    "duration": 11,
    "start_time": "2024-07-10T16:11:16.574Z"
   },
   {
    "duration": 9,
    "start_time": "2024-07-10T16:11:16.586Z"
   },
   {
    "duration": 24,
    "start_time": "2024-07-10T16:11:16.596Z"
   },
   {
    "duration": 22,
    "start_time": "2024-07-10T16:11:16.622Z"
   },
   {
    "duration": 4,
    "start_time": "2024-07-10T16:11:16.646Z"
   },
   {
    "duration": 11,
    "start_time": "2024-07-10T16:11:16.651Z"
   },
   {
    "duration": 4,
    "start_time": "2024-07-10T16:11:16.664Z"
   },
   {
    "duration": 16,
    "start_time": "2024-07-10T16:11:16.669Z"
   },
   {
    "duration": 5,
    "start_time": "2024-07-10T16:11:16.686Z"
   },
   {
    "duration": 5,
    "start_time": "2024-07-10T16:11:16.693Z"
   },
   {
    "duration": 6,
    "start_time": "2024-07-10T16:11:16.699Z"
   },
   {
    "duration": 6,
    "start_time": "2024-07-10T16:11:16.706Z"
   },
   {
    "duration": 5,
    "start_time": "2024-07-10T16:11:16.738Z"
   },
   {
    "duration": 21,
    "start_time": "2024-07-10T16:11:16.745Z"
   },
   {
    "duration": 6,
    "start_time": "2024-07-10T16:11:16.767Z"
   },
   {
    "duration": 25,
    "start_time": "2024-07-10T16:11:16.775Z"
   },
   {
    "duration": 5,
    "start_time": "2024-07-10T16:11:16.802Z"
   },
   {
    "duration": 21,
    "start_time": "2024-07-10T16:11:16.809Z"
   },
   {
    "duration": 9,
    "start_time": "2024-07-10T16:11:16.832Z"
   },
   {
    "duration": 10,
    "start_time": "2024-07-10T16:11:16.842Z"
   },
   {
    "duration": 8,
    "start_time": "2024-07-10T16:11:16.854Z"
   },
   {
    "duration": 3,
    "start_time": "2024-07-10T16:11:16.863Z"
   },
   {
    "duration": 17,
    "start_time": "2024-07-10T16:11:16.869Z"
   },
   {
    "duration": 14372,
    "start_time": "2024-07-10T16:11:16.887Z"
   },
   {
    "duration": 6,
    "start_time": "2024-07-10T16:11:31.261Z"
   },
   {
    "duration": 62,
    "start_time": "2024-07-10T16:11:31.268Z"
   },
   {
    "duration": 671,
    "start_time": "2024-07-10T16:11:31.332Z"
   },
   {
    "duration": 7,
    "start_time": "2024-07-10T16:11:32.004Z"
   },
   {
    "duration": 588,
    "start_time": "2024-07-10T16:11:32.012Z"
   },
   {
    "duration": 588,
    "start_time": "2024-07-10T16:11:32.602Z"
   },
   {
    "duration": 185,
    "start_time": "2024-07-10T16:11:33.191Z"
   },
   {
    "duration": 518,
    "start_time": "2024-07-10T16:11:33.377Z"
   },
   {
    "duration": 13,
    "start_time": "2024-07-10T16:11:33.897Z"
   },
   {
    "duration": 571,
    "start_time": "2024-07-10T16:11:33.912Z"
   },
   {
    "duration": 506,
    "start_time": "2024-07-10T16:11:34.485Z"
   },
   {
    "duration": 15,
    "start_time": "2024-07-10T16:11:34.992Z"
   },
   {
    "duration": 665,
    "start_time": "2024-07-10T16:11:35.008Z"
   },
   {
    "duration": 559,
    "start_time": "2024-07-10T16:11:35.675Z"
   },
   {
    "duration": 6,
    "start_time": "2024-07-10T16:11:36.237Z"
   },
   {
    "duration": 167,
    "start_time": "2024-07-10T16:11:36.245Z"
   },
   {
    "duration": 25,
    "start_time": "2024-07-10T16:11:36.414Z"
   },
   {
    "duration": 70,
    "start_time": "2024-07-10T16:11:36.441Z"
   },
   {
    "duration": 33,
    "start_time": "2024-07-10T16:11:36.513Z"
   },
   {
    "duration": 7,
    "start_time": "2024-07-10T16:11:36.548Z"
   },
   {
    "duration": 24,
    "start_time": "2024-07-10T16:11:36.557Z"
   },
   {
    "duration": 14,
    "start_time": "2024-07-10T16:11:36.583Z"
   },
   {
    "duration": 2295,
    "start_time": "2024-07-10T16:11:36.599Z"
   },
   {
    "duration": 16,
    "start_time": "2024-07-10T16:11:38.896Z"
   },
   {
    "duration": 11,
    "start_time": "2024-07-10T16:11:38.914Z"
   },
   {
    "duration": 11,
    "start_time": "2024-07-10T16:11:38.938Z"
   },
   {
    "duration": 12,
    "start_time": "2024-07-10T16:11:38.951Z"
   },
   {
    "duration": 10,
    "start_time": "2024-07-10T16:11:38.965Z"
   },
   {
    "duration": 4,
    "start_time": "2024-07-10T16:11:38.977Z"
   },
   {
    "duration": 8,
    "start_time": "2024-07-10T16:11:38.982Z"
   },
   {
    "duration": 6,
    "start_time": "2024-07-10T16:11:38.992Z"
   },
   {
    "duration": 14,
    "start_time": "2024-07-10T16:11:38.999Z"
   },
   {
    "duration": 24,
    "start_time": "2024-07-10T16:11:39.014Z"
   },
   {
    "duration": 12,
    "start_time": "2024-07-10T16:11:39.040Z"
   },
   {
    "duration": 514,
    "start_time": "2024-07-10T16:11:39.054Z"
   },
   {
    "duration": 0,
    "start_time": "2024-07-10T16:11:39.569Z"
   },
   {
    "duration": 1,
    "start_time": "2024-07-10T16:11:39.570Z"
   },
   {
    "duration": 0,
    "start_time": "2024-07-10T16:11:39.572Z"
   },
   {
    "duration": 0,
    "start_time": "2024-07-10T16:11:39.573Z"
   },
   {
    "duration": 0,
    "start_time": "2024-07-10T16:11:39.574Z"
   },
   {
    "duration": 0,
    "start_time": "2024-07-10T16:11:39.575Z"
   },
   {
    "duration": 4,
    "start_time": "2024-07-10T16:12:42.469Z"
   },
   {
    "duration": 5440,
    "start_time": "2024-07-10T16:13:34.704Z"
   },
   {
    "duration": 1260,
    "start_time": "2024-07-10T16:13:40.146Z"
   },
   {
    "duration": 6,
    "start_time": "2024-07-10T16:13:41.408Z"
   },
   {
    "duration": 154,
    "start_time": "2024-07-10T16:13:41.416Z"
   },
   {
    "duration": 19,
    "start_time": "2024-07-10T16:13:41.572Z"
   },
   {
    "duration": 15,
    "start_time": "2024-07-10T16:13:41.593Z"
   },
   {
    "duration": 12,
    "start_time": "2024-07-10T16:13:41.609Z"
   },
   {
    "duration": 9,
    "start_time": "2024-07-10T16:13:41.631Z"
   },
   {
    "duration": 8,
    "start_time": "2024-07-10T16:13:41.642Z"
   },
   {
    "duration": 7,
    "start_time": "2024-07-10T16:13:41.657Z"
   },
   {
    "duration": 16,
    "start_time": "2024-07-10T16:13:41.666Z"
   },
   {
    "duration": 8,
    "start_time": "2024-07-10T16:13:41.683Z"
   },
   {
    "duration": 21,
    "start_time": "2024-07-10T16:13:41.693Z"
   },
   {
    "duration": 23,
    "start_time": "2024-07-10T16:13:41.716Z"
   },
   {
    "duration": 10,
    "start_time": "2024-07-10T16:13:41.741Z"
   },
   {
    "duration": 11,
    "start_time": "2024-07-10T16:13:41.753Z"
   },
   {
    "duration": 29,
    "start_time": "2024-07-10T16:13:41.767Z"
   },
   {
    "duration": 6,
    "start_time": "2024-07-10T16:13:41.798Z"
   },
   {
    "duration": 15,
    "start_time": "2024-07-10T16:13:41.806Z"
   },
   {
    "duration": 12,
    "start_time": "2024-07-10T16:13:41.823Z"
   },
   {
    "duration": 20,
    "start_time": "2024-07-10T16:13:41.837Z"
   },
   {
    "duration": 7,
    "start_time": "2024-07-10T16:13:41.859Z"
   },
   {
    "duration": 12,
    "start_time": "2024-07-10T16:13:41.868Z"
   },
   {
    "duration": 22,
    "start_time": "2024-07-10T16:13:41.881Z"
   },
   {
    "duration": 12,
    "start_time": "2024-07-10T16:13:41.904Z"
   },
   {
    "duration": 27,
    "start_time": "2024-07-10T16:13:41.917Z"
   },
   {
    "duration": 3,
    "start_time": "2024-07-10T16:13:41.946Z"
   },
   {
    "duration": 31,
    "start_time": "2024-07-10T16:13:41.953Z"
   },
   {
    "duration": 14950,
    "start_time": "2024-07-10T16:13:41.985Z"
   },
   {
    "duration": 7,
    "start_time": "2024-07-10T16:13:56.936Z"
   },
   {
    "duration": 23,
    "start_time": "2024-07-10T16:13:56.944Z"
   },
   {
    "duration": 725,
    "start_time": "2024-07-10T16:13:56.968Z"
   },
   {
    "duration": 9,
    "start_time": "2024-07-10T16:13:57.695Z"
   },
   {
    "duration": 676,
    "start_time": "2024-07-10T16:13:57.706Z"
   },
   {
    "duration": 533,
    "start_time": "2024-07-10T16:13:58.383Z"
   },
   {
    "duration": 180,
    "start_time": "2024-07-10T16:13:58.917Z"
   },
   {
    "duration": 621,
    "start_time": "2024-07-10T16:13:59.099Z"
   },
   {
    "duration": 17,
    "start_time": "2024-07-10T16:13:59.722Z"
   },
   {
    "duration": 603,
    "start_time": "2024-07-10T16:13:59.740Z"
   },
   {
    "duration": 592,
    "start_time": "2024-07-10T16:14:00.345Z"
   },
   {
    "duration": 16,
    "start_time": "2024-07-10T16:14:00.939Z"
   },
   {
    "duration": 903,
    "start_time": "2024-07-10T16:14:00.957Z"
   },
   {
    "duration": 569,
    "start_time": "2024-07-10T16:14:01.861Z"
   },
   {
    "duration": 10,
    "start_time": "2024-07-10T16:14:02.432Z"
   },
   {
    "duration": 187,
    "start_time": "2024-07-10T16:14:02.444Z"
   },
   {
    "duration": 26,
    "start_time": "2024-07-10T16:14:02.637Z"
   },
   {
    "duration": 4,
    "start_time": "2024-07-10T16:14:02.665Z"
   },
   {
    "duration": 93,
    "start_time": "2024-07-10T16:14:02.670Z"
   },
   {
    "duration": 19,
    "start_time": "2024-07-10T16:14:02.765Z"
   },
   {
    "duration": 35,
    "start_time": "2024-07-10T16:14:02.786Z"
   },
   {
    "duration": 8,
    "start_time": "2024-07-10T16:14:02.823Z"
   },
   {
    "duration": 2189,
    "start_time": "2024-07-10T16:14:02.833Z"
   },
   {
    "duration": 27,
    "start_time": "2024-07-10T16:14:05.023Z"
   },
   {
    "duration": 21,
    "start_time": "2024-07-10T16:14:05.052Z"
   },
   {
    "duration": 31,
    "start_time": "2024-07-10T16:14:05.074Z"
   },
   {
    "duration": 15,
    "start_time": "2024-07-10T16:14:05.106Z"
   },
   {
    "duration": 14,
    "start_time": "2024-07-10T16:14:05.123Z"
   },
   {
    "duration": 8,
    "start_time": "2024-07-10T16:14:05.140Z"
   },
   {
    "duration": 12,
    "start_time": "2024-07-10T16:14:05.151Z"
   },
   {
    "duration": 37,
    "start_time": "2024-07-10T16:14:05.165Z"
   },
   {
    "duration": 15,
    "start_time": "2024-07-10T16:14:05.204Z"
   },
   {
    "duration": 13,
    "start_time": "2024-07-10T16:14:05.221Z"
   },
   {
    "duration": 25,
    "start_time": "2024-07-10T16:14:05.236Z"
   },
   {
    "duration": 479,
    "start_time": "2024-07-10T16:14:05.262Z"
   },
   {
    "duration": 0,
    "start_time": "2024-07-10T16:14:05.744Z"
   },
   {
    "duration": 0,
    "start_time": "2024-07-10T16:14:05.745Z"
   },
   {
    "duration": 0,
    "start_time": "2024-07-10T16:14:05.747Z"
   },
   {
    "duration": 0,
    "start_time": "2024-07-10T16:14:05.749Z"
   },
   {
    "duration": 0,
    "start_time": "2024-07-10T16:14:05.750Z"
   },
   {
    "duration": 0,
    "start_time": "2024-07-10T16:14:05.751Z"
   },
   {
    "duration": 5251,
    "start_time": "2024-07-10T16:15:20.279Z"
   },
   {
    "duration": 1376,
    "start_time": "2024-07-10T16:15:25.533Z"
   },
   {
    "duration": 4,
    "start_time": "2024-07-10T16:15:26.911Z"
   },
   {
    "duration": 87,
    "start_time": "2024-07-10T16:15:26.916Z"
   },
   {
    "duration": 16,
    "start_time": "2024-07-10T16:15:27.005Z"
   },
   {
    "duration": 21,
    "start_time": "2024-07-10T16:15:27.022Z"
   },
   {
    "duration": 32,
    "start_time": "2024-07-10T16:15:27.044Z"
   },
   {
    "duration": 41,
    "start_time": "2024-07-10T16:15:27.077Z"
   },
   {
    "duration": 63,
    "start_time": "2024-07-10T16:15:27.119Z"
   },
   {
    "duration": 52,
    "start_time": "2024-07-10T16:15:27.184Z"
   },
   {
    "duration": 55,
    "start_time": "2024-07-10T16:15:27.238Z"
   },
   {
    "duration": 29,
    "start_time": "2024-07-10T16:15:27.295Z"
   },
   {
    "duration": 56,
    "start_time": "2024-07-10T16:15:27.325Z"
   },
   {
    "duration": 33,
    "start_time": "2024-07-10T16:15:27.384Z"
   },
   {
    "duration": 88,
    "start_time": "2024-07-10T16:15:27.419Z"
   },
   {
    "duration": 42,
    "start_time": "2024-07-10T16:15:27.509Z"
   },
   {
    "duration": 54,
    "start_time": "2024-07-10T16:15:27.554Z"
   },
   {
    "duration": 44,
    "start_time": "2024-07-10T16:15:27.609Z"
   },
   {
    "duration": 56,
    "start_time": "2024-07-10T16:15:27.655Z"
   },
   {
    "duration": 59,
    "start_time": "2024-07-10T16:15:27.712Z"
   },
   {
    "duration": 52,
    "start_time": "2024-07-10T16:15:27.773Z"
   },
   {
    "duration": 42,
    "start_time": "2024-07-10T16:15:27.827Z"
   },
   {
    "duration": 44,
    "start_time": "2024-07-10T16:15:27.870Z"
   },
   {
    "duration": 54,
    "start_time": "2024-07-10T16:15:27.916Z"
   },
   {
    "duration": 28,
    "start_time": "2024-07-10T16:15:27.972Z"
   },
   {
    "duration": 36,
    "start_time": "2024-07-10T16:15:28.002Z"
   },
   {
    "duration": 22,
    "start_time": "2024-07-10T16:15:28.040Z"
   },
   {
    "duration": 32,
    "start_time": "2024-07-10T16:15:28.064Z"
   },
   {
    "duration": 14773,
    "start_time": "2024-07-10T16:15:28.098Z"
   },
   {
    "duration": 7,
    "start_time": "2024-07-10T16:15:42.873Z"
   },
   {
    "duration": 30,
    "start_time": "2024-07-10T16:15:42.881Z"
   },
   {
    "duration": 760,
    "start_time": "2024-07-10T16:15:42.913Z"
   },
   {
    "duration": 7,
    "start_time": "2024-07-10T16:15:43.674Z"
   },
   {
    "duration": 580,
    "start_time": "2024-07-10T16:15:43.683Z"
   },
   {
    "duration": 558,
    "start_time": "2024-07-10T16:15:44.265Z"
   },
   {
    "duration": 196,
    "start_time": "2024-07-10T16:15:44.825Z"
   },
   {
    "duration": 604,
    "start_time": "2024-07-10T16:15:45.023Z"
   },
   {
    "duration": 19,
    "start_time": "2024-07-10T16:15:45.629Z"
   },
   {
    "duration": 617,
    "start_time": "2024-07-10T16:15:45.652Z"
   },
   {
    "duration": 584,
    "start_time": "2024-07-10T16:15:46.272Z"
   },
   {
    "duration": 16,
    "start_time": "2024-07-10T16:15:46.860Z"
   },
   {
    "duration": 777,
    "start_time": "2024-07-10T16:15:46.878Z"
   },
   {
    "duration": 620,
    "start_time": "2024-07-10T16:15:47.657Z"
   },
   {
    "duration": 7,
    "start_time": "2024-07-10T16:15:48.280Z"
   },
   {
    "duration": 220,
    "start_time": "2024-07-10T16:15:48.289Z"
   },
   {
    "duration": 18,
    "start_time": "2024-07-10T16:15:48.510Z"
   },
   {
    "duration": 48,
    "start_time": "2024-07-10T16:15:48.537Z"
   },
   {
    "duration": 39,
    "start_time": "2024-07-10T16:15:48.587Z"
   },
   {
    "duration": 11,
    "start_time": "2024-07-10T16:15:48.628Z"
   },
   {
    "duration": 39,
    "start_time": "2024-07-10T16:15:48.640Z"
   },
   {
    "duration": 15,
    "start_time": "2024-07-10T16:15:48.680Z"
   },
   {
    "duration": 2051,
    "start_time": "2024-07-10T16:15:48.697Z"
   },
   {
    "duration": 19,
    "start_time": "2024-07-10T16:15:50.750Z"
   },
   {
    "duration": 45,
    "start_time": "2024-07-10T16:15:50.770Z"
   },
   {
    "duration": 45,
    "start_time": "2024-07-10T16:15:50.817Z"
   },
   {
    "duration": 31,
    "start_time": "2024-07-10T16:15:50.863Z"
   },
   {
    "duration": 58,
    "start_time": "2024-07-10T16:15:50.895Z"
   },
   {
    "duration": 40,
    "start_time": "2024-07-10T16:15:50.955Z"
   },
   {
    "duration": 16,
    "start_time": "2024-07-10T16:15:50.997Z"
   },
   {
    "duration": 30,
    "start_time": "2024-07-10T16:15:51.015Z"
   },
   {
    "duration": 18,
    "start_time": "2024-07-10T16:15:51.047Z"
   },
   {
    "duration": 19,
    "start_time": "2024-07-10T16:15:51.066Z"
   },
   {
    "duration": 41,
    "start_time": "2024-07-10T16:15:51.087Z"
   },
   {
    "duration": 511,
    "start_time": "2024-07-10T16:15:51.130Z"
   },
   {
    "duration": 0,
    "start_time": "2024-07-10T16:15:51.642Z"
   },
   {
    "duration": 0,
    "start_time": "2024-07-10T16:15:51.644Z"
   },
   {
    "duration": 0,
    "start_time": "2024-07-10T16:15:51.645Z"
   },
   {
    "duration": 0,
    "start_time": "2024-07-10T16:15:51.646Z"
   },
   {
    "duration": 0,
    "start_time": "2024-07-10T16:15:51.647Z"
   },
   {
    "duration": 0,
    "start_time": "2024-07-10T16:15:51.648Z"
   },
   {
    "duration": 5620,
    "start_time": "2024-07-10T16:16:41.468Z"
   },
   {
    "duration": 1325,
    "start_time": "2024-07-10T16:16:47.091Z"
   },
   {
    "duration": 4,
    "start_time": "2024-07-10T16:16:48.418Z"
   },
   {
    "duration": 96,
    "start_time": "2024-07-10T16:16:48.424Z"
   },
   {
    "duration": 24,
    "start_time": "2024-07-10T16:16:48.521Z"
   },
   {
    "duration": 72,
    "start_time": "2024-07-10T16:16:48.547Z"
   },
   {
    "duration": 31,
    "start_time": "2024-07-10T16:16:48.622Z"
   },
   {
    "duration": 7,
    "start_time": "2024-07-10T16:16:48.655Z"
   },
   {
    "duration": 27,
    "start_time": "2024-07-10T16:16:48.664Z"
   },
   {
    "duration": 5,
    "start_time": "2024-07-10T16:16:48.693Z"
   },
   {
    "duration": 12,
    "start_time": "2024-07-10T16:16:48.700Z"
   },
   {
    "duration": 7,
    "start_time": "2024-07-10T16:16:48.713Z"
   },
   {
    "duration": 24,
    "start_time": "2024-07-10T16:16:48.721Z"
   },
   {
    "duration": 7,
    "start_time": "2024-07-10T16:16:48.747Z"
   },
   {
    "duration": 6,
    "start_time": "2024-07-10T16:16:48.756Z"
   },
   {
    "duration": 11,
    "start_time": "2024-07-10T16:16:48.764Z"
   },
   {
    "duration": 7,
    "start_time": "2024-07-10T16:16:48.777Z"
   },
   {
    "duration": 25,
    "start_time": "2024-07-10T16:16:48.786Z"
   },
   {
    "duration": 31,
    "start_time": "2024-07-10T16:16:48.813Z"
   },
   {
    "duration": 7,
    "start_time": "2024-07-10T16:16:48.849Z"
   },
   {
    "duration": 19,
    "start_time": "2024-07-10T16:16:48.858Z"
   },
   {
    "duration": 7,
    "start_time": "2024-07-10T16:16:48.879Z"
   },
   {
    "duration": 13,
    "start_time": "2024-07-10T16:16:48.888Z"
   },
   {
    "duration": 18,
    "start_time": "2024-07-10T16:16:48.902Z"
   },
   {
    "duration": 21,
    "start_time": "2024-07-10T16:16:48.922Z"
   },
   {
    "duration": 21,
    "start_time": "2024-07-10T16:16:48.945Z"
   },
   {
    "duration": 5,
    "start_time": "2024-07-10T16:16:48.968Z"
   },
   {
    "duration": 24,
    "start_time": "2024-07-10T16:16:48.979Z"
   },
   {
    "duration": 15942,
    "start_time": "2024-07-10T16:16:49.005Z"
   },
   {
    "duration": 7,
    "start_time": "2024-07-10T16:17:04.949Z"
   },
   {
    "duration": 11,
    "start_time": "2024-07-10T16:17:04.958Z"
   },
   {
    "duration": 782,
    "start_time": "2024-07-10T16:17:04.971Z"
   },
   {
    "duration": 9,
    "start_time": "2024-07-10T16:17:05.756Z"
   },
   {
    "duration": 591,
    "start_time": "2024-07-10T16:17:05.766Z"
   },
   {
    "duration": 561,
    "start_time": "2024-07-10T16:17:06.359Z"
   },
   {
    "duration": 225,
    "start_time": "2024-07-10T16:17:06.922Z"
   },
   {
    "duration": 597,
    "start_time": "2024-07-10T16:17:07.149Z"
   },
   {
    "duration": 15,
    "start_time": "2024-07-10T16:17:07.748Z"
   },
   {
    "duration": 614,
    "start_time": "2024-07-10T16:17:07.765Z"
   },
   {
    "duration": 609,
    "start_time": "2024-07-10T16:17:08.381Z"
   },
   {
    "duration": 16,
    "start_time": "2024-07-10T16:17:08.991Z"
   },
   {
    "duration": 726,
    "start_time": "2024-07-10T16:17:09.009Z"
   },
   {
    "duration": 648,
    "start_time": "2024-07-10T16:17:09.737Z"
   },
   {
    "duration": 6,
    "start_time": "2024-07-10T16:17:10.387Z"
   },
   {
    "duration": 201,
    "start_time": "2024-07-10T16:17:10.394Z"
   },
   {
    "duration": 21,
    "start_time": "2024-07-10T16:17:10.596Z"
   },
   {
    "duration": 4,
    "start_time": "2024-07-10T16:17:10.618Z"
   },
   {
    "duration": 27,
    "start_time": "2024-07-10T16:17:10.637Z"
   },
   {
    "duration": 4,
    "start_time": "2024-07-10T16:17:10.665Z"
   },
   {
    "duration": 26,
    "start_time": "2024-07-10T16:17:10.670Z"
   },
   {
    "duration": 6,
    "start_time": "2024-07-10T16:17:10.697Z"
   },
   {
    "duration": 2103,
    "start_time": "2024-07-10T16:17:10.704Z"
   },
   {
    "duration": 14,
    "start_time": "2024-07-10T16:17:12.809Z"
   },
   {
    "duration": 13,
    "start_time": "2024-07-10T16:17:12.825Z"
   },
   {
    "duration": 6,
    "start_time": "2024-07-10T16:17:12.839Z"
   },
   {
    "duration": 4,
    "start_time": "2024-07-10T16:17:12.847Z"
   },
   {
    "duration": 6,
    "start_time": "2024-07-10T16:17:12.852Z"
   },
   {
    "duration": 4,
    "start_time": "2024-07-10T16:17:12.860Z"
   },
   {
    "duration": 5,
    "start_time": "2024-07-10T16:17:12.866Z"
   },
   {
    "duration": 7,
    "start_time": "2024-07-10T16:17:12.872Z"
   },
   {
    "duration": 4,
    "start_time": "2024-07-10T16:17:12.881Z"
   },
   {
    "duration": 10,
    "start_time": "2024-07-10T16:17:12.886Z"
   },
   {
    "duration": 52,
    "start_time": "2024-07-10T16:17:12.897Z"
   },
   {
    "duration": 8367,
    "start_time": "2024-07-10T16:17:12.951Z"
   },
   {
    "duration": 39,
    "start_time": "2024-07-10T16:17:21.320Z"
   },
   {
    "duration": 47,
    "start_time": "2024-07-10T16:17:21.361Z"
   },
   {
    "duration": 5,
    "start_time": "2024-07-10T16:17:21.410Z"
   },
   {
    "duration": 40,
    "start_time": "2024-07-10T16:17:21.417Z"
   },
   {
    "duration": 55,
    "start_time": "2024-07-10T16:17:21.459Z"
   },
   {
    "duration": 226,
    "start_time": "2024-07-10T16:17:21.516Z"
   },
   {
    "duration": 61,
    "start_time": "2024-07-10T16:47:15.195Z"
   },
   {
    "duration": 5113,
    "start_time": "2024-07-10T18:47:22.196Z"
   },
   {
    "duration": 6,
    "start_time": "2024-07-10T18:47:27.311Z"
   },
   {
    "duration": 14,
    "start_time": "2024-07-10T18:47:27.319Z"
   },
   {
    "duration": 87,
    "start_time": "2024-07-10T18:47:27.335Z"
   },
   {
    "duration": 14,
    "start_time": "2024-07-10T18:47:27.425Z"
   },
   {
    "duration": 17,
    "start_time": "2024-07-10T18:47:27.441Z"
   },
   {
    "duration": 20,
    "start_time": "2024-07-10T18:47:27.460Z"
   },
   {
    "duration": 23,
    "start_time": "2024-07-10T18:47:27.481Z"
   },
   {
    "duration": 8,
    "start_time": "2024-07-10T18:47:27.505Z"
   },
   {
    "duration": 5,
    "start_time": "2024-07-10T18:47:27.514Z"
   },
   {
    "duration": 18,
    "start_time": "2024-07-10T18:47:27.520Z"
   },
   {
    "duration": 6,
    "start_time": "2024-07-10T18:47:27.539Z"
   },
   {
    "duration": 5,
    "start_time": "2024-07-10T18:47:27.546Z"
   },
   {
    "duration": 10,
    "start_time": "2024-07-10T18:47:27.554Z"
   },
   {
    "duration": 25,
    "start_time": "2024-07-10T18:47:27.565Z"
   },
   {
    "duration": 14,
    "start_time": "2024-07-10T18:47:27.592Z"
   },
   {
    "duration": 11,
    "start_time": "2024-07-10T18:47:27.608Z"
   },
   {
    "duration": 5,
    "start_time": "2024-07-10T18:47:27.621Z"
   },
   {
    "duration": 16,
    "start_time": "2024-07-10T18:47:27.627Z"
   },
   {
    "duration": 5,
    "start_time": "2024-07-10T18:47:27.644Z"
   },
   {
    "duration": 12,
    "start_time": "2024-07-10T18:47:27.651Z"
   },
   {
    "duration": 27,
    "start_time": "2024-07-10T18:47:27.665Z"
   },
   {
    "duration": 11,
    "start_time": "2024-07-10T18:47:27.694Z"
   },
   {
    "duration": 14,
    "start_time": "2024-07-10T18:47:27.706Z"
   },
   {
    "duration": 11,
    "start_time": "2024-07-10T18:47:27.721Z"
   },
   {
    "duration": 8,
    "start_time": "2024-07-10T18:47:27.733Z"
   },
   {
    "duration": 8,
    "start_time": "2024-07-10T18:47:27.743Z"
   },
   {
    "duration": 17,
    "start_time": "2024-07-10T18:47:27.752Z"
   },
   {
    "duration": 14970,
    "start_time": "2024-07-10T18:47:27.770Z"
   },
   {
    "duration": 6,
    "start_time": "2024-07-10T18:47:42.741Z"
   },
   {
    "duration": 17,
    "start_time": "2024-07-10T18:47:42.748Z"
   },
   {
    "duration": 542,
    "start_time": "2024-07-10T18:47:42.766Z"
   },
   {
    "duration": 7,
    "start_time": "2024-07-10T18:47:43.310Z"
   },
   {
    "duration": 587,
    "start_time": "2024-07-10T18:47:43.318Z"
   },
   {
    "duration": 537,
    "start_time": "2024-07-10T18:47:43.907Z"
   },
   {
    "duration": 206,
    "start_time": "2024-07-10T18:47:44.446Z"
   },
   {
    "duration": 823,
    "start_time": "2024-07-10T18:47:44.654Z"
   },
   {
    "duration": 12,
    "start_time": "2024-07-10T18:47:45.480Z"
   },
   {
    "duration": 562,
    "start_time": "2024-07-10T18:47:45.494Z"
   },
   {
    "duration": 558,
    "start_time": "2024-07-10T18:47:46.057Z"
   },
   {
    "duration": 19,
    "start_time": "2024-07-10T18:47:46.619Z"
   },
   {
    "duration": 530,
    "start_time": "2024-07-10T18:47:46.640Z"
   },
   {
    "duration": 552,
    "start_time": "2024-07-10T18:47:47.171Z"
   },
   {
    "duration": 6,
    "start_time": "2024-07-10T18:47:47.724Z"
   },
   {
    "duration": 177,
    "start_time": "2024-07-10T18:47:47.731Z"
   },
   {
    "duration": 29,
    "start_time": "2024-07-10T18:47:47.909Z"
   },
   {
    "duration": 4,
    "start_time": "2024-07-10T18:47:47.940Z"
   },
   {
    "duration": 35,
    "start_time": "2024-07-10T18:47:47.946Z"
   },
   {
    "duration": 4,
    "start_time": "2024-07-10T18:47:47.983Z"
   },
   {
    "duration": 52,
    "start_time": "2024-07-10T18:47:47.989Z"
   },
   {
    "duration": 8,
    "start_time": "2024-07-10T18:47:48.044Z"
   },
   {
    "duration": 2195,
    "start_time": "2024-07-10T18:47:48.053Z"
   },
   {
    "duration": 14,
    "start_time": "2024-07-10T18:47:50.249Z"
   },
   {
    "duration": 34,
    "start_time": "2024-07-10T18:47:50.264Z"
   },
   {
    "duration": 17,
    "start_time": "2024-07-10T18:47:50.300Z"
   },
   {
    "duration": 23,
    "start_time": "2024-07-10T18:47:50.319Z"
   },
   {
    "duration": 34,
    "start_time": "2024-07-10T18:47:50.344Z"
   },
   {
    "duration": 13,
    "start_time": "2024-07-10T18:47:50.379Z"
   },
   {
    "duration": 6,
    "start_time": "2024-07-10T18:47:50.394Z"
   },
   {
    "duration": 16,
    "start_time": "2024-07-10T18:47:50.402Z"
   },
   {
    "duration": 29,
    "start_time": "2024-07-10T18:47:50.419Z"
   },
   {
    "duration": 27,
    "start_time": "2024-07-10T18:47:50.450Z"
   },
   {
    "duration": 20,
    "start_time": "2024-07-10T18:47:50.479Z"
   },
   {
    "duration": 7645,
    "start_time": "2024-07-10T18:47:50.501Z"
   },
   {
    "duration": 35,
    "start_time": "2024-07-10T18:47:58.147Z"
   },
   {
    "duration": 88,
    "start_time": "2024-07-10T18:47:58.183Z"
   },
   {
    "duration": 27,
    "start_time": "2024-07-10T18:47:58.272Z"
   },
   {
    "duration": 5,
    "start_time": "2024-07-10T18:47:58.301Z"
   },
   {
    "duration": 41,
    "start_time": "2024-07-10T18:47:58.308Z"
   },
   {
    "duration": 7,
    "start_time": "2024-07-10T18:47:58.350Z"
   },
   {
    "duration": 189,
    "start_time": "2024-07-10T18:47:58.359Z"
   },
   {
    "duration": 5433,
    "start_time": "2024-07-10T18:48:20.018Z"
   },
   {
    "duration": 1347,
    "start_time": "2024-07-10T18:48:25.454Z"
   },
   {
    "duration": 4,
    "start_time": "2024-07-10T18:48:26.803Z"
   },
   {
    "duration": 86,
    "start_time": "2024-07-10T18:48:26.808Z"
   },
   {
    "duration": 17,
    "start_time": "2024-07-10T18:48:26.895Z"
   },
   {
    "duration": 12,
    "start_time": "2024-07-10T18:48:26.913Z"
   },
   {
    "duration": 10,
    "start_time": "2024-07-10T18:48:26.926Z"
   },
   {
    "duration": 7,
    "start_time": "2024-07-10T18:48:26.937Z"
   },
   {
    "duration": 8,
    "start_time": "2024-07-10T18:48:26.946Z"
   },
   {
    "duration": 5,
    "start_time": "2024-07-10T18:48:26.957Z"
   },
   {
    "duration": 19,
    "start_time": "2024-07-10T18:48:26.964Z"
   },
   {
    "duration": 5,
    "start_time": "2024-07-10T18:48:26.984Z"
   },
   {
    "duration": 11,
    "start_time": "2024-07-10T18:48:26.991Z"
   },
   {
    "duration": 29,
    "start_time": "2024-07-10T18:48:27.004Z"
   },
   {
    "duration": 16,
    "start_time": "2024-07-10T18:48:27.038Z"
   },
   {
    "duration": 6,
    "start_time": "2024-07-10T18:48:27.056Z"
   },
   {
    "duration": 9,
    "start_time": "2024-07-10T18:48:27.063Z"
   },
   {
    "duration": 8,
    "start_time": "2024-07-10T18:48:27.073Z"
   },
   {
    "duration": 16,
    "start_time": "2024-07-10T18:48:27.082Z"
   },
   {
    "duration": 7,
    "start_time": "2024-07-10T18:48:27.100Z"
   },
   {
    "duration": 10,
    "start_time": "2024-07-10T18:48:27.109Z"
   },
   {
    "duration": 6,
    "start_time": "2024-07-10T18:48:27.138Z"
   },
   {
    "duration": 9,
    "start_time": "2024-07-10T18:48:27.146Z"
   },
   {
    "duration": 4,
    "start_time": "2024-07-10T18:48:27.157Z"
   },
   {
    "duration": 10,
    "start_time": "2024-07-10T18:48:27.162Z"
   },
   {
    "duration": 8,
    "start_time": "2024-07-10T18:48:27.173Z"
   },
   {
    "duration": 4,
    "start_time": "2024-07-10T18:48:27.182Z"
   },
   {
    "duration": 51,
    "start_time": "2024-07-10T18:48:27.189Z"
   },
   {
    "duration": 14725,
    "start_time": "2024-07-10T18:48:27.242Z"
   },
   {
    "duration": 7,
    "start_time": "2024-07-10T18:48:41.969Z"
   },
   {
    "duration": 9,
    "start_time": "2024-07-10T18:48:41.977Z"
   },
   {
    "duration": 714,
    "start_time": "2024-07-10T18:48:41.987Z"
   },
   {
    "duration": 8,
    "start_time": "2024-07-10T18:48:42.703Z"
   },
   {
    "duration": 598,
    "start_time": "2024-07-10T18:48:42.712Z"
   },
   {
    "duration": 550,
    "start_time": "2024-07-10T18:48:43.311Z"
   },
   {
    "duration": 221,
    "start_time": "2024-07-10T18:48:43.862Z"
   },
   {
    "duration": 591,
    "start_time": "2024-07-10T18:48:44.085Z"
   },
   {
    "duration": 13,
    "start_time": "2024-07-10T18:48:44.678Z"
   },
   {
    "duration": 553,
    "start_time": "2024-07-10T18:48:44.692Z"
   },
   {
    "duration": 577,
    "start_time": "2024-07-10T18:48:45.246Z"
   },
   {
    "duration": 24,
    "start_time": "2024-07-10T18:48:45.825Z"
   },
   {
    "duration": 708,
    "start_time": "2024-07-10T18:48:45.850Z"
   },
   {
    "duration": 560,
    "start_time": "2024-07-10T18:48:46.560Z"
   },
   {
    "duration": 8,
    "start_time": "2024-07-10T18:48:47.122Z"
   },
   {
    "duration": 181,
    "start_time": "2024-07-10T18:48:47.138Z"
   },
   {
    "duration": 27,
    "start_time": "2024-07-10T18:48:47.321Z"
   },
   {
    "duration": 3,
    "start_time": "2024-07-10T18:48:47.350Z"
   },
   {
    "duration": 16,
    "start_time": "2024-07-10T18:48:47.355Z"
   },
   {
    "duration": 5,
    "start_time": "2024-07-10T18:48:47.373Z"
   },
   {
    "duration": 24,
    "start_time": "2024-07-10T18:48:47.380Z"
   },
   {
    "duration": 34,
    "start_time": "2024-07-10T18:48:47.405Z"
   },
   {
    "duration": 2098,
    "start_time": "2024-07-10T18:48:47.441Z"
   },
   {
    "duration": 14,
    "start_time": "2024-07-10T18:48:49.541Z"
   },
   {
    "duration": 6,
    "start_time": "2024-07-10T18:48:49.557Z"
   },
   {
    "duration": 7,
    "start_time": "2024-07-10T18:48:49.565Z"
   },
   {
    "duration": 6,
    "start_time": "2024-07-10T18:48:49.574Z"
   },
   {
    "duration": 7,
    "start_time": "2024-07-10T18:48:49.582Z"
   },
   {
    "duration": 13,
    "start_time": "2024-07-10T18:48:49.591Z"
   },
   {
    "duration": 4,
    "start_time": "2024-07-10T18:48:49.605Z"
   },
   {
    "duration": 6,
    "start_time": "2024-07-10T18:48:49.610Z"
   },
   {
    "duration": 25,
    "start_time": "2024-07-10T18:48:49.618Z"
   },
   {
    "duration": 11,
    "start_time": "2024-07-10T18:48:49.645Z"
   },
   {
    "duration": 14,
    "start_time": "2024-07-10T18:48:49.658Z"
   },
   {
    "duration": 5168,
    "start_time": "2024-07-10T18:48:49.673Z"
   },
   {
    "duration": 35,
    "start_time": "2024-07-10T18:48:54.843Z"
   },
   {
    "duration": 71,
    "start_time": "2024-07-10T18:48:54.879Z"
   },
   {
    "duration": 34,
    "start_time": "2024-07-10T18:48:54.952Z"
   },
   {
    "duration": 4,
    "start_time": "2024-07-10T18:48:54.987Z"
   },
   {
    "duration": 57,
    "start_time": "2024-07-10T18:48:54.992Z"
   },
   {
    "duration": 9,
    "start_time": "2024-07-10T18:48:55.050Z"
   },
   {
    "duration": 184,
    "start_time": "2024-07-10T18:48:55.061Z"
   },
   {
    "duration": 5087,
    "start_time": "2024-07-10T18:51:59.707Z"
   },
   {
    "duration": 1280,
    "start_time": "2024-07-10T18:52:04.797Z"
   },
   {
    "duration": 3,
    "start_time": "2024-07-10T18:52:06.079Z"
   },
   {
    "duration": 88,
    "start_time": "2024-07-10T18:52:06.084Z"
   },
   {
    "duration": 16,
    "start_time": "2024-07-10T18:52:06.173Z"
   },
   {
    "duration": 61,
    "start_time": "2024-07-10T18:52:06.191Z"
   },
   {
    "duration": 19,
    "start_time": "2024-07-10T18:52:06.254Z"
   },
   {
    "duration": 8,
    "start_time": "2024-07-10T18:52:06.275Z"
   },
   {
    "duration": 11,
    "start_time": "2024-07-10T18:52:06.285Z"
   },
   {
    "duration": 6,
    "start_time": "2024-07-10T18:52:06.298Z"
   },
   {
    "duration": 18,
    "start_time": "2024-07-10T18:52:06.305Z"
   },
   {
    "duration": 4,
    "start_time": "2024-07-10T18:52:06.325Z"
   },
   {
    "duration": 5,
    "start_time": "2024-07-10T18:52:06.338Z"
   },
   {
    "duration": 9,
    "start_time": "2024-07-10T18:52:06.344Z"
   },
   {
    "duration": 5,
    "start_time": "2024-07-10T18:52:06.354Z"
   },
   {
    "duration": 6,
    "start_time": "2024-07-10T18:52:06.361Z"
   },
   {
    "duration": 7,
    "start_time": "2024-07-10T18:52:06.369Z"
   },
   {
    "duration": 14,
    "start_time": "2024-07-10T18:52:06.378Z"
   },
   {
    "duration": 32,
    "start_time": "2024-07-10T18:52:06.393Z"
   },
   {
    "duration": 5,
    "start_time": "2024-07-10T18:52:06.427Z"
   },
   {
    "duration": 9,
    "start_time": "2024-07-10T18:52:06.433Z"
   },
   {
    "duration": 4,
    "start_time": "2024-07-10T18:52:06.444Z"
   },
   {
    "duration": 8,
    "start_time": "2024-07-10T18:52:06.450Z"
   },
   {
    "duration": 4,
    "start_time": "2024-07-10T18:52:06.459Z"
   },
   {
    "duration": 10,
    "start_time": "2024-07-10T18:52:06.464Z"
   },
   {
    "duration": 33,
    "start_time": "2024-07-10T18:52:06.475Z"
   },
   {
    "duration": 2,
    "start_time": "2024-07-10T18:52:06.510Z"
   },
   {
    "duration": 22,
    "start_time": "2024-07-10T18:52:06.515Z"
   },
   {
    "duration": 13916,
    "start_time": "2024-07-10T18:52:06.539Z"
   },
   {
    "duration": 6,
    "start_time": "2024-07-10T18:52:20.457Z"
   },
   {
    "duration": 14,
    "start_time": "2024-07-10T18:52:20.466Z"
   },
   {
    "duration": 700,
    "start_time": "2024-07-10T18:52:20.482Z"
   },
   {
    "duration": 6,
    "start_time": "2024-07-10T18:52:21.184Z"
   },
   {
    "duration": 583,
    "start_time": "2024-07-10T18:52:21.192Z"
   },
   {
    "duration": 527,
    "start_time": "2024-07-10T18:52:21.776Z"
   },
   {
    "duration": 188,
    "start_time": "2024-07-10T18:52:22.305Z"
   },
   {
    "duration": 546,
    "start_time": "2024-07-10T18:52:22.495Z"
   },
   {
    "duration": 13,
    "start_time": "2024-07-10T18:52:23.042Z"
   },
   {
    "duration": 555,
    "start_time": "2024-07-10T18:52:23.056Z"
   },
   {
    "duration": 573,
    "start_time": "2024-07-10T18:52:23.613Z"
   },
   {
    "duration": 15,
    "start_time": "2024-07-10T18:52:24.187Z"
   },
   {
    "duration": 698,
    "start_time": "2024-07-10T18:52:24.203Z"
   },
   {
    "duration": 604,
    "start_time": "2024-07-10T18:52:24.903Z"
   },
   {
    "duration": 5,
    "start_time": "2024-07-10T18:52:25.509Z"
   },
   {
    "duration": 167,
    "start_time": "2024-07-10T18:52:25.515Z"
   },
   {
    "duration": 17,
    "start_time": "2024-07-10T18:52:25.683Z"
   },
   {
    "duration": 29,
    "start_time": "2024-07-10T18:52:25.701Z"
   },
   {
    "duration": 20,
    "start_time": "2024-07-10T18:52:25.731Z"
   },
   {
    "duration": 3,
    "start_time": "2024-07-10T18:52:25.752Z"
   },
   {
    "duration": 27,
    "start_time": "2024-07-10T18:52:25.756Z"
   },
   {
    "duration": 11,
    "start_time": "2024-07-10T18:52:25.785Z"
   },
   {
    "duration": 2045,
    "start_time": "2024-07-10T18:52:25.798Z"
   },
   {
    "duration": 15,
    "start_time": "2024-07-10T18:52:27.845Z"
   },
   {
    "duration": 14,
    "start_time": "2024-07-10T18:52:27.861Z"
   },
   {
    "duration": 11,
    "start_time": "2024-07-10T18:52:27.876Z"
   },
   {
    "duration": 19,
    "start_time": "2024-07-10T18:52:27.888Z"
   },
   {
    "duration": 11,
    "start_time": "2024-07-10T18:52:27.908Z"
   },
   {
    "duration": 4,
    "start_time": "2024-07-10T18:52:27.921Z"
   },
   {
    "duration": 3,
    "start_time": "2024-07-10T18:52:27.926Z"
   },
   {
    "duration": 17,
    "start_time": "2024-07-10T18:52:27.931Z"
   },
   {
    "duration": 7,
    "start_time": "2024-07-10T18:52:27.950Z"
   },
   {
    "duration": 14,
    "start_time": "2024-07-10T18:52:27.959Z"
   },
   {
    "duration": 6,
    "start_time": "2024-07-10T18:52:27.974Z"
   },
   {
    "duration": 7224,
    "start_time": "2024-07-10T18:52:27.982Z"
   },
   {
    "duration": 45,
    "start_time": "2024-07-10T18:52:35.208Z"
   },
   {
    "duration": 70,
    "start_time": "2024-07-10T18:52:35.255Z"
   },
   {
    "duration": 35,
    "start_time": "2024-07-10T18:52:35.327Z"
   },
   {
    "duration": 4,
    "start_time": "2024-07-10T18:52:35.364Z"
   },
   {
    "duration": 34,
    "start_time": "2024-07-10T18:52:35.369Z"
   },
   {
    "duration": 7,
    "start_time": "2024-07-10T18:52:35.405Z"
   },
   {
    "duration": 192,
    "start_time": "2024-07-10T18:52:35.413Z"
   },
   {
    "duration": 5165,
    "start_time": "2024-07-10T18:55:55.187Z"
   },
   {
    "duration": 1350,
    "start_time": "2024-07-10T18:56:00.355Z"
   },
   {
    "duration": 3,
    "start_time": "2024-07-10T18:56:01.707Z"
   },
   {
    "duration": 125,
    "start_time": "2024-07-10T18:56:01.712Z"
   },
   {
    "duration": 16,
    "start_time": "2024-07-10T18:56:01.839Z"
   },
   {
    "duration": 35,
    "start_time": "2024-07-10T18:56:01.856Z"
   },
   {
    "duration": 31,
    "start_time": "2024-07-10T18:56:01.892Z"
   },
   {
    "duration": 56,
    "start_time": "2024-07-10T18:56:01.924Z"
   },
   {
    "duration": 50,
    "start_time": "2024-07-10T18:56:01.981Z"
   },
   {
    "duration": 19,
    "start_time": "2024-07-10T18:56:02.033Z"
   },
   {
    "duration": 40,
    "start_time": "2024-07-10T18:56:02.054Z"
   },
   {
    "duration": 35,
    "start_time": "2024-07-10T18:56:02.095Z"
   },
   {
    "duration": 9,
    "start_time": "2024-07-10T18:56:02.132Z"
   },
   {
    "duration": 14,
    "start_time": "2024-07-10T18:56:02.143Z"
   },
   {
    "duration": 60,
    "start_time": "2024-07-10T18:56:02.158Z"
   },
   {
    "duration": 22,
    "start_time": "2024-07-10T18:56:02.219Z"
   },
   {
    "duration": 13,
    "start_time": "2024-07-10T18:56:02.242Z"
   },
   {
    "duration": 13,
    "start_time": "2024-07-10T18:56:02.256Z"
   },
   {
    "duration": 19,
    "start_time": "2024-07-10T18:56:02.271Z"
   },
   {
    "duration": 35,
    "start_time": "2024-07-10T18:56:02.291Z"
   },
   {
    "duration": 16,
    "start_time": "2024-07-10T18:56:02.328Z"
   },
   {
    "duration": 43,
    "start_time": "2024-07-10T18:56:02.346Z"
   },
   {
    "duration": 22,
    "start_time": "2024-07-10T18:56:02.390Z"
   },
   {
    "duration": 8,
    "start_time": "2024-07-10T18:56:02.414Z"
   },
   {
    "duration": 18,
    "start_time": "2024-07-10T18:56:02.423Z"
   },
   {
    "duration": 9,
    "start_time": "2024-07-10T18:56:02.443Z"
   },
   {
    "duration": 2,
    "start_time": "2024-07-10T18:56:02.454Z"
   },
   {
    "duration": 44,
    "start_time": "2024-07-10T18:56:02.460Z"
   },
   {
    "duration": 14173,
    "start_time": "2024-07-10T18:56:02.506Z"
   },
   {
    "duration": 6,
    "start_time": "2024-07-10T18:56:16.680Z"
   },
   {
    "duration": 12,
    "start_time": "2024-07-10T18:56:16.688Z"
   },
   {
    "duration": 673,
    "start_time": "2024-07-10T18:56:16.702Z"
   },
   {
    "duration": 6,
    "start_time": "2024-07-10T18:56:17.376Z"
   },
   {
    "duration": 552,
    "start_time": "2024-07-10T18:56:17.384Z"
   },
   {
    "duration": 534,
    "start_time": "2024-07-10T18:56:17.938Z"
   },
   {
    "duration": 189,
    "start_time": "2024-07-10T18:56:18.473Z"
   },
   {
    "duration": 537,
    "start_time": "2024-07-10T18:56:18.664Z"
   },
   {
    "duration": 13,
    "start_time": "2024-07-10T18:56:19.202Z"
   },
   {
    "duration": 567,
    "start_time": "2024-07-10T18:56:19.216Z"
   },
   {
    "duration": 550,
    "start_time": "2024-07-10T18:56:19.784Z"
   },
   {
    "duration": 15,
    "start_time": "2024-07-10T18:56:20.338Z"
   },
   {
    "duration": 725,
    "start_time": "2024-07-10T18:56:20.355Z"
   },
   {
    "duration": 522,
    "start_time": "2024-07-10T18:56:21.082Z"
   },
   {
    "duration": 5,
    "start_time": "2024-07-10T18:56:21.606Z"
   },
   {
    "duration": 168,
    "start_time": "2024-07-10T18:56:21.612Z"
   },
   {
    "duration": 18,
    "start_time": "2024-07-10T18:56:21.781Z"
   },
   {
    "duration": 4,
    "start_time": "2024-07-10T18:56:21.800Z"
   },
   {
    "duration": 34,
    "start_time": "2024-07-10T18:56:21.806Z"
   },
   {
    "duration": 4,
    "start_time": "2024-07-10T18:56:21.841Z"
   },
   {
    "duration": 13,
    "start_time": "2024-07-10T18:56:21.846Z"
   },
   {
    "duration": 6,
    "start_time": "2024-07-10T18:56:21.860Z"
   },
   {
    "duration": 2034,
    "start_time": "2024-07-10T18:56:21.867Z"
   },
   {
    "duration": 15,
    "start_time": "2024-07-10T18:56:23.903Z"
   },
   {
    "duration": 20,
    "start_time": "2024-07-10T18:56:23.920Z"
   },
   {
    "duration": 8,
    "start_time": "2024-07-10T18:56:23.942Z"
   },
   {
    "duration": 6,
    "start_time": "2024-07-10T18:56:23.951Z"
   },
   {
    "duration": 13,
    "start_time": "2024-07-10T18:56:23.958Z"
   },
   {
    "duration": 16,
    "start_time": "2024-07-10T18:56:23.973Z"
   },
   {
    "duration": 4,
    "start_time": "2024-07-10T18:56:23.990Z"
   },
   {
    "duration": 8,
    "start_time": "2024-07-10T18:56:23.995Z"
   },
   {
    "duration": 7,
    "start_time": "2024-07-10T18:56:24.004Z"
   },
   {
    "duration": 10,
    "start_time": "2024-07-10T18:56:24.012Z"
   },
   {
    "duration": 4,
    "start_time": "2024-07-10T18:56:24.023Z"
   },
   {
    "duration": 7085,
    "start_time": "2024-07-10T18:56:24.029Z"
   },
   {
    "duration": 41,
    "start_time": "2024-07-10T18:56:31.116Z"
   },
   {
    "duration": 110,
    "start_time": "2024-07-10T18:56:31.159Z"
   },
   {
    "duration": 29,
    "start_time": "2024-07-10T18:56:31.271Z"
   },
   {
    "duration": 4,
    "start_time": "2024-07-10T18:56:31.302Z"
   },
   {
    "duration": 45,
    "start_time": "2024-07-10T18:56:31.307Z"
   },
   {
    "duration": 6,
    "start_time": "2024-07-10T18:56:31.354Z"
   },
   {
    "duration": 201,
    "start_time": "2024-07-10T18:56:31.362Z"
   },
   {
    "duration": 10638,
    "start_time": "2024-07-11T09:40:13.274Z"
   },
   {
    "duration": 1526,
    "start_time": "2024-07-11T09:40:23.915Z"
   },
   {
    "duration": 4,
    "start_time": "2024-07-11T09:40:25.443Z"
   },
   {
    "duration": 291,
    "start_time": "2024-07-11T09:40:25.450Z"
   },
   {
    "duration": 16,
    "start_time": "2024-07-11T09:40:25.743Z"
   },
   {
    "duration": 12,
    "start_time": "2024-07-11T09:40:25.760Z"
   },
   {
    "duration": 7,
    "start_time": "2024-07-11T09:40:25.774Z"
   },
   {
    "duration": 9,
    "start_time": "2024-07-11T09:40:25.783Z"
   },
   {
    "duration": 9,
    "start_time": "2024-07-11T09:40:25.793Z"
   },
   {
    "duration": 22,
    "start_time": "2024-07-11T09:40:25.804Z"
   },
   {
    "duration": 16,
    "start_time": "2024-07-11T09:40:25.828Z"
   },
   {
    "duration": 5,
    "start_time": "2024-07-11T09:40:25.856Z"
   },
   {
    "duration": 14,
    "start_time": "2024-07-11T09:40:25.862Z"
   },
   {
    "duration": 10,
    "start_time": "2024-07-11T09:40:25.877Z"
   },
   {
    "duration": 91,
    "start_time": "2024-07-11T09:40:25.888Z"
   },
   {
    "duration": 21,
    "start_time": "2024-07-11T09:40:25.981Z"
   },
   {
    "duration": 25,
    "start_time": "2024-07-11T09:40:26.004Z"
   },
   {
    "duration": 21,
    "start_time": "2024-07-11T09:40:26.031Z"
   },
   {
    "duration": 16,
    "start_time": "2024-07-11T09:40:26.054Z"
   },
   {
    "duration": 6,
    "start_time": "2024-07-11T09:40:26.072Z"
   },
   {
    "duration": 16,
    "start_time": "2024-07-11T09:40:26.080Z"
   },
   {
    "duration": 6,
    "start_time": "2024-07-11T09:40:26.098Z"
   },
   {
    "duration": 10,
    "start_time": "2024-07-11T09:40:26.105Z"
   },
   {
    "duration": 5,
    "start_time": "2024-07-11T09:40:26.117Z"
   },
   {
    "duration": 37,
    "start_time": "2024-07-11T09:40:26.124Z"
   },
   {
    "duration": 16,
    "start_time": "2024-07-11T09:40:26.163Z"
   },
   {
    "duration": 20,
    "start_time": "2024-07-11T09:40:26.180Z"
   },
   {
    "duration": 30,
    "start_time": "2024-07-11T09:40:26.204Z"
   },
   {
    "duration": 15756,
    "start_time": "2024-07-11T09:40:26.236Z"
   },
   {
    "duration": 7,
    "start_time": "2024-07-11T09:40:41.994Z"
   },
   {
    "duration": 10,
    "start_time": "2024-07-11T09:40:42.003Z"
   },
   {
    "duration": 741,
    "start_time": "2024-07-11T09:40:42.014Z"
   },
   {
    "duration": 6,
    "start_time": "2024-07-11T09:40:42.757Z"
   },
   {
    "duration": 610,
    "start_time": "2024-07-11T09:40:42.765Z"
   },
   {
    "duration": 551,
    "start_time": "2024-07-11T09:40:43.376Z"
   },
   {
    "duration": 228,
    "start_time": "2024-07-11T09:40:43.929Z"
   },
   {
    "duration": 575,
    "start_time": "2024-07-11T09:40:44.159Z"
   },
   {
    "duration": 21,
    "start_time": "2024-07-11T09:40:44.735Z"
   },
   {
    "duration": 612,
    "start_time": "2024-07-11T09:40:44.757Z"
   },
   {
    "duration": 567,
    "start_time": "2024-07-11T09:40:45.370Z"
   },
   {
    "duration": 19,
    "start_time": "2024-07-11T09:40:45.939Z"
   },
   {
    "duration": 750,
    "start_time": "2024-07-11T09:40:45.960Z"
   },
   {
    "duration": 582,
    "start_time": "2024-07-11T09:40:46.712Z"
   },
   {
    "duration": 7,
    "start_time": "2024-07-11T09:40:47.295Z"
   },
   {
    "duration": 195,
    "start_time": "2024-07-11T09:40:47.304Z"
   },
   {
    "duration": 20,
    "start_time": "2024-07-11T09:40:47.501Z"
   },
   {
    "duration": 15,
    "start_time": "2024-07-11T09:40:47.523Z"
   },
   {
    "duration": 21,
    "start_time": "2024-07-11T09:40:47.555Z"
   },
   {
    "duration": 4,
    "start_time": "2024-07-11T09:40:47.578Z"
   },
   {
    "duration": 20,
    "start_time": "2024-07-11T09:40:47.583Z"
   },
   {
    "duration": 10,
    "start_time": "2024-07-11T09:40:47.605Z"
   },
   {
    "duration": 2202,
    "start_time": "2024-07-11T09:40:47.617Z"
   },
   {
    "duration": 15,
    "start_time": "2024-07-11T09:40:49.820Z"
   },
   {
    "duration": 18,
    "start_time": "2024-07-11T09:40:49.836Z"
   },
   {
    "duration": 3,
    "start_time": "2024-07-11T09:40:49.856Z"
   },
   {
    "duration": 6,
    "start_time": "2024-07-11T09:40:49.860Z"
   },
   {
    "duration": 6,
    "start_time": "2024-07-11T09:40:49.867Z"
   },
   {
    "duration": 21,
    "start_time": "2024-07-11T09:40:49.874Z"
   },
   {
    "duration": 13,
    "start_time": "2024-07-11T09:40:49.897Z"
   },
   {
    "duration": 19,
    "start_time": "2024-07-11T09:40:49.912Z"
   },
   {
    "duration": 5,
    "start_time": "2024-07-11T09:40:49.933Z"
   },
   {
    "duration": 10,
    "start_time": "2024-07-11T09:40:49.940Z"
   },
   {
    "duration": 29,
    "start_time": "2024-07-11T09:40:49.951Z"
   },
   {
    "duration": 7535,
    "start_time": "2024-07-11T09:40:49.981Z"
   },
   {
    "duration": 51,
    "start_time": "2024-07-11T09:40:57.518Z"
   },
   {
    "duration": 98,
    "start_time": "2024-07-11T09:40:57.570Z"
   },
   {
    "duration": 33,
    "start_time": "2024-07-11T09:40:57.669Z"
   },
   {
    "duration": 4,
    "start_time": "2024-07-11T09:40:57.704Z"
   },
   {
    "duration": 55,
    "start_time": "2024-07-11T09:40:57.709Z"
   },
   {
    "duration": 8,
    "start_time": "2024-07-11T09:40:57.766Z"
   },
   {
    "duration": 259,
    "start_time": "2024-07-11T09:40:57.776Z"
   },
   {
    "duration": 5663,
    "start_time": "2024-07-11T09:41:30.439Z"
   },
   {
    "duration": 1311,
    "start_time": "2024-07-11T09:41:36.104Z"
   },
   {
    "duration": 4,
    "start_time": "2024-07-11T09:41:37.416Z"
   },
   {
    "duration": 98,
    "start_time": "2024-07-11T09:41:37.421Z"
   },
   {
    "duration": 17,
    "start_time": "2024-07-11T09:41:37.520Z"
   },
   {
    "duration": 29,
    "start_time": "2024-07-11T09:41:37.539Z"
   },
   {
    "duration": 13,
    "start_time": "2024-07-11T09:41:37.570Z"
   },
   {
    "duration": 22,
    "start_time": "2024-07-11T09:41:37.584Z"
   },
   {
    "duration": 21,
    "start_time": "2024-07-11T09:41:37.608Z"
   },
   {
    "duration": 6,
    "start_time": "2024-07-11T09:41:37.633Z"
   },
   {
    "duration": 21,
    "start_time": "2024-07-11T09:41:37.641Z"
   },
   {
    "duration": 4,
    "start_time": "2024-07-11T09:41:37.663Z"
   },
   {
    "duration": 12,
    "start_time": "2024-07-11T09:41:37.669Z"
   },
   {
    "duration": 15,
    "start_time": "2024-07-11T09:41:37.682Z"
   },
   {
    "duration": 8,
    "start_time": "2024-07-11T09:41:37.698Z"
   },
   {
    "duration": 6,
    "start_time": "2024-07-11T09:41:37.708Z"
   },
   {
    "duration": 8,
    "start_time": "2024-07-11T09:41:37.716Z"
   },
   {
    "duration": 28,
    "start_time": "2024-07-11T09:41:37.726Z"
   },
   {
    "duration": 20,
    "start_time": "2024-07-11T09:41:37.756Z"
   },
   {
    "duration": 11,
    "start_time": "2024-07-11T09:41:37.778Z"
   },
   {
    "duration": 9,
    "start_time": "2024-07-11T09:41:37.790Z"
   },
   {
    "duration": 6,
    "start_time": "2024-07-11T09:41:37.801Z"
   },
   {
    "duration": 19,
    "start_time": "2024-07-11T09:41:37.809Z"
   },
   {
    "duration": 9,
    "start_time": "2024-07-11T09:41:37.830Z"
   },
   {
    "duration": 23,
    "start_time": "2024-07-11T09:41:37.840Z"
   },
   {
    "duration": 16,
    "start_time": "2024-07-11T09:41:37.865Z"
   },
   {
    "duration": 2,
    "start_time": "2024-07-11T09:41:37.883Z"
   },
   {
    "duration": 28,
    "start_time": "2024-07-11T09:41:37.889Z"
   },
   {
    "duration": 15933,
    "start_time": "2024-07-11T09:41:37.919Z"
   },
   {
    "duration": 7,
    "start_time": "2024-07-11T09:41:53.854Z"
   },
   {
    "duration": 9,
    "start_time": "2024-07-11T09:41:53.863Z"
   },
   {
    "duration": 798,
    "start_time": "2024-07-11T09:41:53.874Z"
   },
   {
    "duration": 7,
    "start_time": "2024-07-11T09:41:54.674Z"
   },
   {
    "duration": 651,
    "start_time": "2024-07-11T09:41:54.682Z"
   },
   {
    "duration": 596,
    "start_time": "2024-07-11T09:41:55.335Z"
   },
   {
    "duration": 240,
    "start_time": "2024-07-11T09:41:55.933Z"
   },
   {
    "duration": 586,
    "start_time": "2024-07-11T09:41:56.175Z"
   },
   {
    "duration": 14,
    "start_time": "2024-07-11T09:41:56.763Z"
   },
   {
    "duration": 663,
    "start_time": "2024-07-11T09:41:56.779Z"
   },
   {
    "duration": 611,
    "start_time": "2024-07-11T09:41:57.444Z"
   },
   {
    "duration": 16,
    "start_time": "2024-07-11T09:41:58.056Z"
   },
   {
    "duration": 748,
    "start_time": "2024-07-11T09:41:58.074Z"
   },
   {
    "duration": 617,
    "start_time": "2024-07-11T09:41:58.823Z"
   },
   {
    "duration": 6,
    "start_time": "2024-07-11T09:41:59.441Z"
   },
   {
    "duration": 203,
    "start_time": "2024-07-11T09:41:59.456Z"
   },
   {
    "duration": 20,
    "start_time": "2024-07-11T09:41:59.661Z"
   },
   {
    "duration": 64,
    "start_time": "2024-07-11T09:41:59.683Z"
   },
   {
    "duration": 18,
    "start_time": "2024-07-11T09:41:59.749Z"
   },
   {
    "duration": 7,
    "start_time": "2024-07-11T09:41:59.768Z"
   },
   {
    "duration": 15,
    "start_time": "2024-07-11T09:41:59.776Z"
   },
   {
    "duration": 7,
    "start_time": "2024-07-11T09:41:59.793Z"
   },
   {
    "duration": 2231,
    "start_time": "2024-07-11T09:41:59.801Z"
   },
   {
    "duration": 29,
    "start_time": "2024-07-11T09:42:02.034Z"
   },
   {
    "duration": 22,
    "start_time": "2024-07-11T09:42:02.065Z"
   },
   {
    "duration": 43,
    "start_time": "2024-07-11T09:42:02.088Z"
   },
   {
    "duration": 53,
    "start_time": "2024-07-11T09:42:02.133Z"
   },
   {
    "duration": 43,
    "start_time": "2024-07-11T09:42:02.188Z"
   },
   {
    "duration": 53,
    "start_time": "2024-07-11T09:42:02.233Z"
   },
   {
    "duration": 24,
    "start_time": "2024-07-11T09:42:02.288Z"
   },
   {
    "duration": 29,
    "start_time": "2024-07-11T09:42:02.314Z"
   },
   {
    "duration": 39,
    "start_time": "2024-07-11T09:42:02.345Z"
   },
   {
    "duration": 52,
    "start_time": "2024-07-11T09:42:02.386Z"
   },
   {
    "duration": 41,
    "start_time": "2024-07-11T09:42:02.440Z"
   },
   {
    "duration": 7733,
    "start_time": "2024-07-11T09:42:02.483Z"
   },
   {
    "duration": 46,
    "start_time": "2024-07-11T09:42:10.217Z"
   },
   {
    "duration": 77,
    "start_time": "2024-07-11T09:42:10.265Z"
   },
   {
    "duration": 39,
    "start_time": "2024-07-11T09:42:10.344Z"
   },
   {
    "duration": 4,
    "start_time": "2024-07-11T09:42:10.385Z"
   },
   {
    "duration": 40,
    "start_time": "2024-07-11T09:42:10.391Z"
   },
   {
    "duration": 27,
    "start_time": "2024-07-11T09:42:10.433Z"
   },
   {
    "duration": 195,
    "start_time": "2024-07-11T09:42:10.462Z"
   },
   {
    "duration": 5452,
    "start_time": "2024-07-11T20:54:30.604Z"
   },
   {
    "duration": 1298,
    "start_time": "2024-07-11T20:54:36.058Z"
   },
   {
    "duration": 4,
    "start_time": "2024-07-11T20:54:37.357Z"
   },
   {
    "duration": 91,
    "start_time": "2024-07-11T20:54:37.364Z"
   },
   {
    "duration": 16,
    "start_time": "2024-07-11T20:54:37.457Z"
   },
   {
    "duration": 12,
    "start_time": "2024-07-11T20:54:37.474Z"
   },
   {
    "duration": 11,
    "start_time": "2024-07-11T20:54:37.487Z"
   },
   {
    "duration": 9,
    "start_time": "2024-07-11T20:54:37.499Z"
   },
   {
    "duration": 43,
    "start_time": "2024-07-11T20:54:37.509Z"
   },
   {
    "duration": 28,
    "start_time": "2024-07-11T20:54:37.554Z"
   },
   {
    "duration": 20,
    "start_time": "2024-07-11T20:54:37.584Z"
   },
   {
    "duration": 5,
    "start_time": "2024-07-11T20:54:37.606Z"
   },
   {
    "duration": 21,
    "start_time": "2024-07-11T20:54:37.613Z"
   },
   {
    "duration": 18,
    "start_time": "2024-07-11T20:54:37.635Z"
   },
   {
    "duration": 6,
    "start_time": "2024-07-11T20:54:37.654Z"
   },
   {
    "duration": 7,
    "start_time": "2024-07-11T20:54:37.662Z"
   },
   {
    "duration": 11,
    "start_time": "2024-07-11T20:54:37.671Z"
   },
   {
    "duration": 8,
    "start_time": "2024-07-11T20:54:37.684Z"
   },
   {
    "duration": 11,
    "start_time": "2024-07-11T20:54:37.693Z"
   },
   {
    "duration": 4,
    "start_time": "2024-07-11T20:54:37.706Z"
   },
   {
    "duration": 12,
    "start_time": "2024-07-11T20:54:37.712Z"
   },
   {
    "duration": 31,
    "start_time": "2024-07-11T20:54:37.734Z"
   },
   {
    "duration": 21,
    "start_time": "2024-07-11T20:54:37.766Z"
   },
   {
    "duration": 20,
    "start_time": "2024-07-11T20:54:37.788Z"
   },
   {
    "duration": 11,
    "start_time": "2024-07-11T20:54:37.810Z"
   },
   {
    "duration": 23,
    "start_time": "2024-07-11T20:54:37.823Z"
   },
   {
    "duration": 3,
    "start_time": "2024-07-11T20:54:37.847Z"
   },
   {
    "duration": 18,
    "start_time": "2024-07-11T20:54:37.853Z"
   },
   {
    "duration": 15163,
    "start_time": "2024-07-11T20:54:37.873Z"
   },
   {
    "duration": 7,
    "start_time": "2024-07-11T20:54:53.038Z"
   },
   {
    "duration": 32,
    "start_time": "2024-07-11T20:54:53.046Z"
   },
   {
    "duration": 750,
    "start_time": "2024-07-11T20:54:53.080Z"
   },
   {
    "duration": 8,
    "start_time": "2024-07-11T20:54:53.831Z"
   },
   {
    "duration": 611,
    "start_time": "2024-07-11T20:54:53.840Z"
   },
   {
    "duration": 550,
    "start_time": "2024-07-11T20:54:54.453Z"
   },
   {
    "duration": 201,
    "start_time": "2024-07-11T20:54:55.004Z"
   },
   {
    "duration": 518,
    "start_time": "2024-07-11T20:54:55.207Z"
   },
   {
    "duration": 14,
    "start_time": "2024-07-11T20:54:55.726Z"
   },
   {
    "duration": 621,
    "start_time": "2024-07-11T20:54:55.742Z"
   },
   {
    "duration": 569,
    "start_time": "2024-07-11T20:54:56.364Z"
   },
   {
    "duration": 22,
    "start_time": "2024-07-11T20:54:56.934Z"
   },
   {
    "duration": 797,
    "start_time": "2024-07-11T20:54:56.958Z"
   },
   {
    "duration": 558,
    "start_time": "2024-07-11T20:54:57.757Z"
   },
   {
    "duration": 6,
    "start_time": "2024-07-11T20:54:58.316Z"
   },
   {
    "duration": 179,
    "start_time": "2024-07-11T20:54:58.323Z"
   },
   {
    "duration": 20,
    "start_time": "2024-07-11T20:54:58.503Z"
   },
   {
    "duration": 3,
    "start_time": "2024-07-11T20:54:58.524Z"
   },
   {
    "duration": 33,
    "start_time": "2024-07-11T20:54:58.528Z"
   },
   {
    "duration": 4,
    "start_time": "2024-07-11T20:54:58.562Z"
   },
   {
    "duration": 23,
    "start_time": "2024-07-11T20:54:58.567Z"
   },
   {
    "duration": 7,
    "start_time": "2024-07-11T20:54:58.592Z"
   },
   {
    "duration": 2117,
    "start_time": "2024-07-11T20:54:58.600Z"
   },
   {
    "duration": 19,
    "start_time": "2024-07-11T20:55:00.719Z"
   },
   {
    "duration": 179,
    "start_time": "2024-07-11T20:55:00.754Z"
   },
   {
    "duration": 44,
    "start_time": "2024-07-11T20:55:00.935Z"
   },
   {
    "duration": 76,
    "start_time": "2024-07-11T20:55:00.981Z"
   },
   {
    "duration": 121,
    "start_time": "2024-07-11T20:55:01.059Z"
   },
   {
    "duration": 52,
    "start_time": "2024-07-11T20:55:01.182Z"
   },
   {
    "duration": 49,
    "start_time": "2024-07-11T20:55:01.235Z"
   },
   {
    "duration": 72,
    "start_time": "2024-07-11T20:55:01.286Z"
   },
   {
    "duration": 63,
    "start_time": "2024-07-11T20:55:01.360Z"
   },
   {
    "duration": 42,
    "start_time": "2024-07-11T20:55:01.425Z"
   },
   {
    "duration": 34,
    "start_time": "2024-07-11T20:55:01.469Z"
   },
   {
    "duration": 7182,
    "start_time": "2024-07-11T20:55:01.505Z"
   },
   {
    "duration": 37,
    "start_time": "2024-07-11T20:55:08.688Z"
   },
   {
    "duration": 89,
    "start_time": "2024-07-11T20:55:08.727Z"
   },
   {
    "duration": 39,
    "start_time": "2024-07-11T20:55:08.817Z"
   },
   {
    "duration": 4,
    "start_time": "2024-07-11T20:55:08.858Z"
   },
   {
    "duration": 28,
    "start_time": "2024-07-11T20:55:08.864Z"
   },
   {
    "duration": 8,
    "start_time": "2024-07-11T20:55:08.894Z"
   },
   {
    "duration": 203,
    "start_time": "2024-07-11T20:55:08.903Z"
   },
   {
    "duration": 5434,
    "start_time": "2024-07-11T20:55:24.335Z"
   },
   {
    "duration": 8,
    "start_time": "2024-07-11T20:55:29.773Z"
   },
   {
    "duration": 9,
    "start_time": "2024-07-11T20:55:29.782Z"
   },
   {
    "duration": 91,
    "start_time": "2024-07-11T20:55:29.793Z"
   },
   {
    "duration": 14,
    "start_time": "2024-07-11T20:55:29.886Z"
   },
   {
    "duration": 14,
    "start_time": "2024-07-11T20:55:29.901Z"
   },
   {
    "duration": 8,
    "start_time": "2024-07-11T20:55:29.917Z"
   },
   {
    "duration": 7,
    "start_time": "2024-07-11T20:55:29.927Z"
   },
   {
    "duration": 8,
    "start_time": "2024-07-11T20:55:29.936Z"
   },
   {
    "duration": 8,
    "start_time": "2024-07-11T20:55:29.947Z"
   },
   {
    "duration": 12,
    "start_time": "2024-07-11T20:55:29.957Z"
   },
   {
    "duration": 4,
    "start_time": "2024-07-11T20:55:29.971Z"
   },
   {
    "duration": 7,
    "start_time": "2024-07-11T20:55:29.977Z"
   },
   {
    "duration": 6,
    "start_time": "2024-07-11T20:55:29.985Z"
   },
   {
    "duration": 5,
    "start_time": "2024-07-11T20:55:29.993Z"
   },
   {
    "duration": 38,
    "start_time": "2024-07-11T20:55:30.000Z"
   },
   {
    "duration": 53,
    "start_time": "2024-07-11T20:55:30.041Z"
   },
   {
    "duration": 37,
    "start_time": "2024-07-11T20:55:30.096Z"
   },
   {
    "duration": 72,
    "start_time": "2024-07-11T20:55:30.134Z"
   },
   {
    "duration": 66,
    "start_time": "2024-07-11T20:55:30.208Z"
   },
   {
    "duration": 68,
    "start_time": "2024-07-11T20:55:30.276Z"
   },
   {
    "duration": 74,
    "start_time": "2024-07-11T20:55:30.346Z"
   },
   {
    "duration": 64,
    "start_time": "2024-07-11T20:55:30.422Z"
   },
   {
    "duration": 46,
    "start_time": "2024-07-11T20:55:30.488Z"
   },
   {
    "duration": 58,
    "start_time": "2024-07-11T20:55:30.536Z"
   },
   {
    "duration": 48,
    "start_time": "2024-07-11T20:55:30.595Z"
   },
   {
    "duration": 38,
    "start_time": "2024-07-11T20:55:30.645Z"
   },
   {
    "duration": 62,
    "start_time": "2024-07-11T20:55:30.687Z"
   },
   {
    "duration": 15937,
    "start_time": "2024-07-11T20:55:30.750Z"
   },
   {
    "duration": 7,
    "start_time": "2024-07-11T20:55:46.689Z"
   },
   {
    "duration": 20,
    "start_time": "2024-07-11T20:55:46.697Z"
   },
   {
    "duration": 608,
    "start_time": "2024-07-11T20:55:46.719Z"
   },
   {
    "duration": 6,
    "start_time": "2024-07-11T20:55:47.329Z"
   },
   {
    "duration": 634,
    "start_time": "2024-07-11T20:55:47.337Z"
   },
   {
    "duration": 564,
    "start_time": "2024-07-11T20:55:47.972Z"
   },
   {
    "duration": 208,
    "start_time": "2024-07-11T20:55:48.538Z"
   },
   {
    "duration": 880,
    "start_time": "2024-07-11T20:55:48.747Z"
   },
   {
    "duration": 13,
    "start_time": "2024-07-11T20:55:49.629Z"
   },
   {
    "duration": 582,
    "start_time": "2024-07-11T20:55:49.643Z"
   },
   {
    "duration": 592,
    "start_time": "2024-07-11T20:55:50.227Z"
   },
   {
    "duration": 16,
    "start_time": "2024-07-11T20:55:50.821Z"
   },
   {
    "duration": 568,
    "start_time": "2024-07-11T20:55:50.838Z"
   },
   {
    "duration": 593,
    "start_time": "2024-07-11T20:55:51.407Z"
   },
   {
    "duration": 6,
    "start_time": "2024-07-11T20:55:52.002Z"
   },
   {
    "duration": 190,
    "start_time": "2024-07-11T20:55:52.009Z"
   },
   {
    "duration": 20,
    "start_time": "2024-07-11T20:55:52.201Z"
   },
   {
    "duration": 15,
    "start_time": "2024-07-11T20:55:52.222Z"
   },
   {
    "duration": 23,
    "start_time": "2024-07-11T20:55:52.239Z"
   },
   {
    "duration": 4,
    "start_time": "2024-07-11T20:55:52.264Z"
   },
   {
    "duration": 28,
    "start_time": "2024-07-11T20:55:52.270Z"
   },
   {
    "duration": 9,
    "start_time": "2024-07-11T20:55:52.300Z"
   },
   {
    "duration": 2280,
    "start_time": "2024-07-11T20:55:52.310Z"
   },
   {
    "duration": 16,
    "start_time": "2024-07-11T20:55:54.591Z"
   },
   {
    "duration": 5,
    "start_time": "2024-07-11T20:55:54.608Z"
   },
   {
    "duration": 5,
    "start_time": "2024-07-11T20:55:54.614Z"
   },
   {
    "duration": 5,
    "start_time": "2024-07-11T20:55:54.620Z"
   },
   {
    "duration": 5,
    "start_time": "2024-07-11T20:55:54.627Z"
   },
   {
    "duration": 4,
    "start_time": "2024-07-11T20:55:54.657Z"
   },
   {
    "duration": 24,
    "start_time": "2024-07-11T20:55:54.662Z"
   },
   {
    "duration": 7,
    "start_time": "2024-07-11T20:55:54.688Z"
   },
   {
    "duration": 5,
    "start_time": "2024-07-11T20:55:54.697Z"
   },
   {
    "duration": 9,
    "start_time": "2024-07-11T20:55:54.704Z"
   },
   {
    "duration": 13,
    "start_time": "2024-07-11T20:55:54.714Z"
   },
   {
    "duration": 15065,
    "start_time": "2024-07-11T20:55:54.728Z"
   },
   {
    "duration": 37,
    "start_time": "2024-07-11T20:56:09.795Z"
   },
   {
    "duration": 104,
    "start_time": "2024-07-11T20:56:09.834Z"
   },
   {
    "duration": 34,
    "start_time": "2024-07-11T20:56:09.940Z"
   },
   {
    "duration": 5,
    "start_time": "2024-07-11T20:56:09.975Z"
   },
   {
    "duration": 59,
    "start_time": "2024-07-11T20:56:09.981Z"
   },
   {
    "duration": 6,
    "start_time": "2024-07-11T20:56:10.042Z"
   },
   {
    "duration": 176,
    "start_time": "2024-07-11T20:56:10.049Z"
   },
   {
    "duration": 111,
    "start_time": "2024-07-11T20:57:08.930Z"
   },
   {
    "duration": 8,
    "start_time": "2024-07-11T20:57:09.394Z"
   },
   {
    "duration": 6,
    "start_time": "2024-07-11T20:57:35.653Z"
   },
   {
    "duration": 5372,
    "start_time": "2024-07-11T20:57:38.042Z"
   },
   {
    "duration": 7,
    "start_time": "2024-07-11T20:57:43.416Z"
   },
   {
    "duration": 9,
    "start_time": "2024-07-11T20:57:43.424Z"
   },
   {
    "duration": 92,
    "start_time": "2024-07-11T20:57:43.435Z"
   },
   {
    "duration": 14,
    "start_time": "2024-07-11T20:57:43.528Z"
   },
   {
    "duration": 12,
    "start_time": "2024-07-11T20:57:43.544Z"
   },
   {
    "duration": 10,
    "start_time": "2024-07-11T20:57:43.557Z"
   },
   {
    "duration": 6,
    "start_time": "2024-07-11T20:57:43.569Z"
   },
   {
    "duration": 8,
    "start_time": "2024-07-11T20:57:43.577Z"
   },
   {
    "duration": 9,
    "start_time": "2024-07-11T20:57:43.587Z"
   },
   {
    "duration": 12,
    "start_time": "2024-07-11T20:57:43.598Z"
   },
   {
    "duration": 6,
    "start_time": "2024-07-11T20:57:43.611Z"
   },
   {
    "duration": 5,
    "start_time": "2024-07-11T20:57:43.619Z"
   },
   {
    "duration": 31,
    "start_time": "2024-07-11T20:57:43.625Z"
   },
   {
    "duration": 4,
    "start_time": "2024-07-11T20:57:43.658Z"
   },
   {
    "duration": 13,
    "start_time": "2024-07-11T20:57:43.664Z"
   },
   {
    "duration": 5,
    "start_time": "2024-07-11T20:57:43.679Z"
   },
   {
    "duration": 12,
    "start_time": "2024-07-11T20:57:43.685Z"
   },
   {
    "duration": 24,
    "start_time": "2024-07-11T20:57:43.699Z"
   },
   {
    "duration": 5,
    "start_time": "2024-07-11T20:57:43.724Z"
   },
   {
    "duration": 10,
    "start_time": "2024-07-11T20:57:43.730Z"
   },
   {
    "duration": 17,
    "start_time": "2024-07-11T20:57:43.741Z"
   },
   {
    "duration": 10,
    "start_time": "2024-07-11T20:57:43.760Z"
   },
   {
    "duration": 5,
    "start_time": "2024-07-11T20:57:43.771Z"
   },
   {
    "duration": 20,
    "start_time": "2024-07-11T20:57:43.777Z"
   },
   {
    "duration": 7,
    "start_time": "2024-07-11T20:57:43.798Z"
   },
   {
    "duration": 3,
    "start_time": "2024-07-11T20:57:43.806Z"
   },
   {
    "duration": 42,
    "start_time": "2024-07-11T20:57:43.813Z"
   },
   {
    "duration": 15658,
    "start_time": "2024-07-11T20:57:43.857Z"
   },
   {
    "duration": 7,
    "start_time": "2024-07-11T20:57:59.516Z"
   },
   {
    "duration": 32,
    "start_time": "2024-07-11T20:57:59.524Z"
   },
   {
    "duration": 881,
    "start_time": "2024-07-11T20:57:59.558Z"
   },
   {
    "duration": 14,
    "start_time": "2024-07-11T20:58:00.441Z"
   },
   {
    "duration": 708,
    "start_time": "2024-07-11T20:58:00.457Z"
   },
   {
    "duration": 556,
    "start_time": "2024-07-11T20:58:01.167Z"
   },
   {
    "duration": 204,
    "start_time": "2024-07-11T20:58:01.725Z"
   },
   {
    "duration": 595,
    "start_time": "2024-07-11T20:58:01.930Z"
   },
   {
    "duration": 15,
    "start_time": "2024-07-11T20:58:02.526Z"
   },
   {
    "duration": 592,
    "start_time": "2024-07-11T20:58:02.543Z"
   },
   {
    "duration": 578,
    "start_time": "2024-07-11T20:58:03.138Z"
   },
   {
    "duration": 17,
    "start_time": "2024-07-11T20:58:03.718Z"
   },
   {
    "duration": 776,
    "start_time": "2024-07-11T20:58:03.736Z"
   },
   {
    "duration": 576,
    "start_time": "2024-07-11T20:58:04.514Z"
   },
   {
    "duration": 6,
    "start_time": "2024-07-11T20:58:05.091Z"
   },
   {
    "duration": 197,
    "start_time": "2024-07-11T20:58:05.099Z"
   },
   {
    "duration": 19,
    "start_time": "2024-07-11T20:58:05.298Z"
   },
   {
    "duration": 10,
    "start_time": "2024-07-11T20:58:05.319Z"
   },
   {
    "duration": 31,
    "start_time": "2024-07-11T20:58:05.330Z"
   },
   {
    "duration": 3,
    "start_time": "2024-07-11T20:58:05.363Z"
   },
   {
    "duration": 19,
    "start_time": "2024-07-11T20:58:05.368Z"
   },
   {
    "duration": 11,
    "start_time": "2024-07-11T20:58:05.388Z"
   },
   {
    "duration": 2180,
    "start_time": "2024-07-11T20:58:05.401Z"
   },
   {
    "duration": 23,
    "start_time": "2024-07-11T20:58:07.583Z"
   },
   {
    "duration": 10,
    "start_time": "2024-07-11T20:58:07.609Z"
   },
   {
    "duration": 4,
    "start_time": "2024-07-11T20:58:07.621Z"
   },
   {
    "duration": 29,
    "start_time": "2024-07-11T20:58:07.627Z"
   },
   {
    "duration": 6,
    "start_time": "2024-07-11T20:58:07.658Z"
   },
   {
    "duration": 17,
    "start_time": "2024-07-11T20:58:07.666Z"
   },
   {
    "duration": 3,
    "start_time": "2024-07-11T20:58:07.685Z"
   },
   {
    "duration": 12,
    "start_time": "2024-07-11T20:58:07.690Z"
   },
   {
    "duration": 15,
    "start_time": "2024-07-11T20:58:07.704Z"
   },
   {
    "duration": 0,
    "start_time": "2024-07-11T20:58:07.720Z"
   },
   {
    "duration": 0,
    "start_time": "2024-07-11T20:58:07.722Z"
   },
   {
    "duration": 0,
    "start_time": "2024-07-11T20:58:07.723Z"
   },
   {
    "duration": 0,
    "start_time": "2024-07-11T20:58:07.725Z"
   },
   {
    "duration": 0,
    "start_time": "2024-07-11T20:58:07.726Z"
   },
   {
    "duration": 0,
    "start_time": "2024-07-11T20:58:07.727Z"
   },
   {
    "duration": 0,
    "start_time": "2024-07-11T20:58:07.728Z"
   },
   {
    "duration": 0,
    "start_time": "2024-07-11T20:58:07.729Z"
   },
   {
    "duration": 0,
    "start_time": "2024-07-11T20:58:07.730Z"
   },
   {
    "duration": 0,
    "start_time": "2024-07-11T20:58:07.732Z"
   },
   {
    "duration": 5466,
    "start_time": "2024-07-11T20:58:33.174Z"
   },
   {
    "duration": 7,
    "start_time": "2024-07-11T20:58:38.642Z"
   },
   {
    "duration": 12,
    "start_time": "2024-07-11T20:58:38.650Z"
   },
   {
    "duration": 94,
    "start_time": "2024-07-11T20:58:38.664Z"
   },
   {
    "duration": 14,
    "start_time": "2024-07-11T20:58:38.759Z"
   },
   {
    "duration": 15,
    "start_time": "2024-07-11T20:58:38.775Z"
   },
   {
    "duration": 10,
    "start_time": "2024-07-11T20:58:38.791Z"
   },
   {
    "duration": 23,
    "start_time": "2024-07-11T20:58:38.802Z"
   },
   {
    "duration": 22,
    "start_time": "2024-07-11T20:58:38.827Z"
   },
   {
    "duration": 8,
    "start_time": "2024-07-11T20:58:38.851Z"
   },
   {
    "duration": 41,
    "start_time": "2024-07-11T20:58:38.860Z"
   },
   {
    "duration": 22,
    "start_time": "2024-07-11T20:58:38.903Z"
   },
   {
    "duration": 12,
    "start_time": "2024-07-11T20:58:38.926Z"
   },
   {
    "duration": 9,
    "start_time": "2024-07-11T20:58:38.940Z"
   },
   {
    "duration": 8,
    "start_time": "2024-07-11T20:58:38.951Z"
   },
   {
    "duration": 8,
    "start_time": "2024-07-11T20:58:38.961Z"
   },
   {
    "duration": 5,
    "start_time": "2024-07-11T20:58:38.970Z"
   },
   {
    "duration": 5,
    "start_time": "2024-07-11T20:58:38.977Z"
   },
   {
    "duration": 11,
    "start_time": "2024-07-11T20:58:38.984Z"
   },
   {
    "duration": 9,
    "start_time": "2024-07-11T20:58:38.996Z"
   },
   {
    "duration": 15,
    "start_time": "2024-07-11T20:58:39.006Z"
   },
   {
    "duration": 22,
    "start_time": "2024-07-11T20:58:39.022Z"
   },
   {
    "duration": 16,
    "start_time": "2024-07-11T20:58:39.045Z"
   },
   {
    "duration": 4,
    "start_time": "2024-07-11T20:58:39.063Z"
   },
   {
    "duration": 10,
    "start_time": "2024-07-11T20:58:39.069Z"
   },
   {
    "duration": 13,
    "start_time": "2024-07-11T20:58:39.081Z"
   },
   {
    "duration": 3,
    "start_time": "2024-07-11T20:58:39.095Z"
   },
   {
    "duration": 36,
    "start_time": "2024-07-11T20:58:39.102Z"
   },
   {
    "duration": 15760,
    "start_time": "2024-07-11T20:58:39.155Z"
   },
   {
    "duration": 6,
    "start_time": "2024-07-11T20:58:54.916Z"
   },
   {
    "duration": 8,
    "start_time": "2024-07-11T20:58:54.924Z"
   },
   {
    "duration": 627,
    "start_time": "2024-07-11T20:58:54.933Z"
   },
   {
    "duration": 9,
    "start_time": "2024-07-11T20:58:55.562Z"
   },
   {
    "duration": 583,
    "start_time": "2024-07-11T20:58:55.573Z"
   },
   {
    "duration": 597,
    "start_time": "2024-07-11T20:58:56.157Z"
   },
   {
    "duration": 199,
    "start_time": "2024-07-11T20:58:56.756Z"
   },
   {
    "duration": 571,
    "start_time": "2024-07-11T20:58:56.957Z"
   },
   {
    "duration": 16,
    "start_time": "2024-07-11T20:58:57.530Z"
   },
   {
    "duration": 957,
    "start_time": "2024-07-11T20:58:57.555Z"
   },
   {
    "duration": 538,
    "start_time": "2024-07-11T20:58:58.514Z"
   },
   {
    "duration": 17,
    "start_time": "2024-07-11T20:58:59.054Z"
   },
   {
    "duration": 564,
    "start_time": "2024-07-11T20:58:59.073Z"
   },
   {
    "duration": 599,
    "start_time": "2024-07-11T20:58:59.639Z"
   },
   {
    "duration": 6,
    "start_time": "2024-07-11T20:59:00.239Z"
   },
   {
    "duration": 221,
    "start_time": "2024-07-11T20:59:00.246Z"
   },
   {
    "duration": 22,
    "start_time": "2024-07-11T20:59:00.469Z"
   },
   {
    "duration": 75,
    "start_time": "2024-07-11T20:59:00.493Z"
   },
   {
    "duration": 78,
    "start_time": "2024-07-11T20:59:00.570Z"
   },
   {
    "duration": 54,
    "start_time": "2024-07-11T20:59:00.650Z"
   },
   {
    "duration": 108,
    "start_time": "2024-07-11T20:59:00.706Z"
   },
   {
    "duration": 135,
    "start_time": "2024-07-11T20:59:00.816Z"
   },
   {
    "duration": 2252,
    "start_time": "2024-07-11T20:59:00.952Z"
   },
   {
    "duration": 16,
    "start_time": "2024-07-11T20:59:03.205Z"
   },
   {
    "duration": 9,
    "start_time": "2024-07-11T20:59:03.223Z"
   },
   {
    "duration": 27,
    "start_time": "2024-07-11T20:59:03.234Z"
   },
   {
    "duration": 20,
    "start_time": "2024-07-11T20:59:03.262Z"
   },
   {
    "duration": 20,
    "start_time": "2024-07-11T20:59:03.284Z"
   },
   {
    "duration": 9,
    "start_time": "2024-07-11T20:59:03.306Z"
   },
   {
    "duration": 10,
    "start_time": "2024-07-11T20:59:03.317Z"
   },
   {
    "duration": 7,
    "start_time": "2024-07-11T20:59:03.329Z"
   },
   {
    "duration": 23,
    "start_time": "2024-07-11T20:59:03.337Z"
   },
   {
    "duration": 0,
    "start_time": "2024-07-11T20:59:03.362Z"
   },
   {
    "duration": 0,
    "start_time": "2024-07-11T20:59:03.363Z"
   },
   {
    "duration": 0,
    "start_time": "2024-07-11T20:59:03.364Z"
   },
   {
    "duration": 0,
    "start_time": "2024-07-11T20:59:03.365Z"
   },
   {
    "duration": 0,
    "start_time": "2024-07-11T20:59:03.366Z"
   },
   {
    "duration": 0,
    "start_time": "2024-07-11T20:59:03.368Z"
   },
   {
    "duration": 0,
    "start_time": "2024-07-11T20:59:03.369Z"
   },
   {
    "duration": 0,
    "start_time": "2024-07-11T20:59:03.370Z"
   },
   {
    "duration": 0,
    "start_time": "2024-07-11T20:59:03.371Z"
   },
   {
    "duration": 0,
    "start_time": "2024-07-11T20:59:03.372Z"
   },
   {
    "duration": 5417,
    "start_time": "2024-07-11T20:59:25.876Z"
   },
   {
    "duration": 7,
    "start_time": "2024-07-11T20:59:31.295Z"
   },
   {
    "duration": 59,
    "start_time": "2024-07-11T20:59:31.304Z"
   },
   {
    "duration": 137,
    "start_time": "2024-07-11T20:59:31.365Z"
   },
   {
    "duration": 13,
    "start_time": "2024-07-11T20:59:31.504Z"
   },
   {
    "duration": 27,
    "start_time": "2024-07-11T20:59:31.519Z"
   },
   {
    "duration": 62,
    "start_time": "2024-07-11T20:59:31.547Z"
   },
   {
    "duration": 27,
    "start_time": "2024-07-11T20:59:31.611Z"
   },
   {
    "duration": 36,
    "start_time": "2024-07-11T20:59:31.640Z"
   },
   {
    "duration": 40,
    "start_time": "2024-07-11T20:59:31.679Z"
   },
   {
    "duration": 29,
    "start_time": "2024-07-11T20:59:31.720Z"
   },
   {
    "duration": 51,
    "start_time": "2024-07-11T20:59:31.750Z"
   },
   {
    "duration": 51,
    "start_time": "2024-07-11T20:59:31.802Z"
   },
   {
    "duration": 43,
    "start_time": "2024-07-11T20:59:31.854Z"
   },
   {
    "duration": 34,
    "start_time": "2024-07-11T20:59:31.899Z"
   },
   {
    "duration": 58,
    "start_time": "2024-07-11T20:59:31.935Z"
   },
   {
    "duration": 28,
    "start_time": "2024-07-11T20:59:31.994Z"
   },
   {
    "duration": 26,
    "start_time": "2024-07-11T20:59:32.024Z"
   },
   {
    "duration": 29,
    "start_time": "2024-07-11T20:59:32.052Z"
   },
   {
    "duration": 68,
    "start_time": "2024-07-11T20:59:32.083Z"
   },
   {
    "duration": 38,
    "start_time": "2024-07-11T20:59:32.153Z"
   },
   {
    "duration": 33,
    "start_time": "2024-07-11T20:59:32.192Z"
   },
   {
    "duration": 39,
    "start_time": "2024-07-11T20:59:32.226Z"
   },
   {
    "duration": 39,
    "start_time": "2024-07-11T20:59:32.266Z"
   },
   {
    "duration": 28,
    "start_time": "2024-07-11T20:59:32.307Z"
   },
   {
    "duration": 27,
    "start_time": "2024-07-11T20:59:32.337Z"
   },
   {
    "duration": 92,
    "start_time": "2024-07-11T20:59:32.365Z"
   },
   {
    "duration": 36,
    "start_time": "2024-07-11T20:59:32.462Z"
   },
   {
    "duration": 16026,
    "start_time": "2024-07-11T20:59:32.500Z"
   },
   {
    "duration": 7,
    "start_time": "2024-07-11T20:59:48.528Z"
   },
   {
    "duration": 6,
    "start_time": "2024-07-11T20:59:48.555Z"
   },
   {
    "duration": 595,
    "start_time": "2024-07-11T20:59:48.563Z"
   },
   {
    "duration": 7,
    "start_time": "2024-07-11T20:59:49.160Z"
   },
   {
    "duration": 927,
    "start_time": "2024-07-11T20:59:49.169Z"
   },
   {
    "duration": 540,
    "start_time": "2024-07-11T20:59:50.098Z"
   },
   {
    "duration": 191,
    "start_time": "2024-07-11T20:59:50.640Z"
   },
   {
    "duration": 580,
    "start_time": "2024-07-11T20:59:50.832Z"
   },
   {
    "duration": 12,
    "start_time": "2024-07-11T20:59:51.414Z"
   },
   {
    "duration": 618,
    "start_time": "2024-07-11T20:59:51.427Z"
   },
   {
    "duration": 557,
    "start_time": "2024-07-11T20:59:52.048Z"
   },
   {
    "duration": 15,
    "start_time": "2024-07-11T20:59:52.607Z"
   },
   {
    "duration": 587,
    "start_time": "2024-07-11T20:59:52.623Z"
   },
   {
    "duration": 786,
    "start_time": "2024-07-11T20:59:53.211Z"
   },
   {
    "duration": 6,
    "start_time": "2024-07-11T20:59:53.998Z"
   },
   {
    "duration": 196,
    "start_time": "2024-07-11T20:59:54.006Z"
   },
   {
    "duration": 21,
    "start_time": "2024-07-11T20:59:54.204Z"
   },
   {
    "duration": 11,
    "start_time": "2024-07-11T20:59:54.226Z"
   },
   {
    "duration": 31,
    "start_time": "2024-07-11T20:59:54.239Z"
   },
   {
    "duration": 5,
    "start_time": "2024-07-11T20:59:54.272Z"
   },
   {
    "duration": 43,
    "start_time": "2024-07-11T20:59:54.278Z"
   },
   {
    "duration": 8,
    "start_time": "2024-07-11T20:59:54.323Z"
   },
   {
    "duration": 2080,
    "start_time": "2024-07-11T20:59:54.332Z"
   },
   {
    "duration": 15,
    "start_time": "2024-07-11T20:59:56.414Z"
   },
   {
    "duration": 18,
    "start_time": "2024-07-11T20:59:56.431Z"
   },
   {
    "duration": 15,
    "start_time": "2024-07-11T20:59:56.454Z"
   },
   {
    "duration": 4,
    "start_time": "2024-07-11T20:59:56.470Z"
   },
   {
    "duration": 6,
    "start_time": "2024-07-11T20:59:56.476Z"
   },
   {
    "duration": 13,
    "start_time": "2024-07-11T20:59:56.483Z"
   },
   {
    "duration": 7,
    "start_time": "2024-07-11T20:59:56.497Z"
   },
   {
    "duration": 6,
    "start_time": "2024-07-11T20:59:56.506Z"
   },
   {
    "duration": 8,
    "start_time": "2024-07-11T20:59:56.513Z"
   },
   {
    "duration": 12,
    "start_time": "2024-07-11T20:59:56.522Z"
   },
   {
    "duration": 8,
    "start_time": "2024-07-11T20:59:56.536Z"
   },
   {
    "duration": 5561,
    "start_time": "2024-07-11T21:11:16.856Z"
   },
   {
    "duration": 1279,
    "start_time": "2024-07-11T21:11:22.420Z"
   },
   {
    "duration": 3,
    "start_time": "2024-07-11T21:11:23.701Z"
   },
   {
    "duration": 99,
    "start_time": "2024-07-11T21:11:23.706Z"
   },
   {
    "duration": 15,
    "start_time": "2024-07-11T21:11:23.806Z"
   },
   {
    "duration": 11,
    "start_time": "2024-07-11T21:11:23.822Z"
   },
   {
    "duration": 20,
    "start_time": "2024-07-11T21:11:23.835Z"
   },
   {
    "duration": 12,
    "start_time": "2024-07-11T21:11:23.857Z"
   },
   {
    "duration": 8,
    "start_time": "2024-07-11T21:11:23.870Z"
   },
   {
    "duration": 6,
    "start_time": "2024-07-11T21:11:23.880Z"
   },
   {
    "duration": 11,
    "start_time": "2024-07-11T21:11:23.888Z"
   },
   {
    "duration": 3,
    "start_time": "2024-07-11T21:11:23.901Z"
   },
   {
    "duration": 5,
    "start_time": "2024-07-11T21:11:23.906Z"
   },
   {
    "duration": 11,
    "start_time": "2024-07-11T21:11:23.912Z"
   },
   {
    "duration": 5,
    "start_time": "2024-07-11T21:11:23.924Z"
   },
   {
    "duration": 29,
    "start_time": "2024-07-11T21:11:23.930Z"
   },
   {
    "duration": 6,
    "start_time": "2024-07-11T21:11:23.960Z"
   },
   {
    "duration": 11,
    "start_time": "2024-07-11T21:11:23.967Z"
   },
   {
    "duration": 21,
    "start_time": "2024-07-11T21:11:23.979Z"
   },
   {
    "duration": 5,
    "start_time": "2024-07-11T21:11:24.002Z"
   },
   {
    "duration": 17,
    "start_time": "2024-07-11T21:11:24.008Z"
   },
   {
    "duration": 17,
    "start_time": "2024-07-11T21:11:24.026Z"
   },
   {
    "duration": 17,
    "start_time": "2024-07-11T21:11:24.044Z"
   },
   {
    "duration": 9,
    "start_time": "2024-07-11T21:11:24.062Z"
   },
   {
    "duration": 9,
    "start_time": "2024-07-11T21:11:24.073Z"
   },
   {
    "duration": 9,
    "start_time": "2024-07-11T21:11:24.083Z"
   },
   {
    "duration": 5,
    "start_time": "2024-07-11T21:11:24.093Z"
   },
   {
    "duration": 16,
    "start_time": "2024-07-11T21:11:24.101Z"
   },
   {
    "duration": 15018,
    "start_time": "2024-07-11T21:11:24.119Z"
   },
   {
    "duration": 16,
    "start_time": "2024-07-11T21:11:39.139Z"
   },
   {
    "duration": 8,
    "start_time": "2024-07-11T21:11:39.157Z"
   },
   {
    "duration": 723,
    "start_time": "2024-07-11T21:11:39.166Z"
   },
   {
    "duration": 7,
    "start_time": "2024-07-11T21:11:39.891Z"
   },
   {
    "duration": 616,
    "start_time": "2024-07-11T21:11:39.899Z"
   },
   {
    "duration": 559,
    "start_time": "2024-07-11T21:11:40.517Z"
   },
   {
    "duration": 215,
    "start_time": "2024-07-11T21:11:41.078Z"
   },
   {
    "duration": 552,
    "start_time": "2024-07-11T21:11:41.295Z"
   },
   {
    "duration": 16,
    "start_time": "2024-07-11T21:11:41.849Z"
   },
   {
    "duration": 623,
    "start_time": "2024-07-11T21:11:41.867Z"
   },
   {
    "duration": 542,
    "start_time": "2024-07-11T21:11:42.492Z"
   },
   {
    "duration": 20,
    "start_time": "2024-07-11T21:11:43.036Z"
   },
   {
    "duration": 773,
    "start_time": "2024-07-11T21:11:43.058Z"
   },
   {
    "duration": 624,
    "start_time": "2024-07-11T21:11:43.833Z"
   },
   {
    "duration": 5,
    "start_time": "2024-07-11T21:11:44.459Z"
   },
   {
    "duration": 191,
    "start_time": "2024-07-11T21:11:44.466Z"
   },
   {
    "duration": 22,
    "start_time": "2024-07-11T21:11:44.659Z"
   },
   {
    "duration": 12,
    "start_time": "2024-07-11T21:11:44.683Z"
   },
   {
    "duration": 23,
    "start_time": "2024-07-11T21:11:44.697Z"
   },
   {
    "duration": 4,
    "start_time": "2024-07-11T21:11:44.722Z"
   },
   {
    "duration": 54,
    "start_time": "2024-07-11T21:11:44.728Z"
   },
   {
    "duration": 7,
    "start_time": "2024-07-11T21:11:44.783Z"
   },
   {
    "duration": 2253,
    "start_time": "2024-07-11T21:11:44.792Z"
   },
   {
    "duration": 22,
    "start_time": "2024-07-11T21:11:47.047Z"
   },
   {
    "duration": 14,
    "start_time": "2024-07-11T21:11:47.070Z"
   },
   {
    "duration": 12,
    "start_time": "2024-07-11T21:11:47.085Z"
   },
   {
    "duration": 5,
    "start_time": "2024-07-11T21:11:47.098Z"
   },
   {
    "duration": 12,
    "start_time": "2024-07-11T21:11:47.105Z"
   },
   {
    "duration": 4,
    "start_time": "2024-07-11T21:11:47.119Z"
   },
   {
    "duration": 4,
    "start_time": "2024-07-11T21:11:47.124Z"
   },
   {
    "duration": 6,
    "start_time": "2024-07-11T21:11:47.130Z"
   },
   {
    "duration": 3,
    "start_time": "2024-07-11T21:11:47.155Z"
   },
   {
    "duration": 12,
    "start_time": "2024-07-11T21:11:47.160Z"
   },
   {
    "duration": 27,
    "start_time": "2024-07-11T21:11:47.174Z"
   },
   {
    "duration": 10138,
    "start_time": "2024-07-12T13:01:51.962Z"
   },
   {
    "duration": 1616,
    "start_time": "2024-07-12T13:02:02.103Z"
   },
   {
    "duration": 4,
    "start_time": "2024-07-12T13:02:03.721Z"
   },
   {
    "duration": 417,
    "start_time": "2024-07-12T13:02:03.726Z"
   },
   {
    "duration": 23,
    "start_time": "2024-07-12T13:02:04.146Z"
   },
   {
    "duration": 37,
    "start_time": "2024-07-12T13:02:04.170Z"
   },
   {
    "duration": 17,
    "start_time": "2024-07-12T13:02:04.208Z"
   },
   {
    "duration": 10,
    "start_time": "2024-07-12T13:02:04.227Z"
   },
   {
    "duration": 10,
    "start_time": "2024-07-12T13:02:04.239Z"
   },
   {
    "duration": 5,
    "start_time": "2024-07-12T13:02:04.251Z"
   },
   {
    "duration": 16,
    "start_time": "2024-07-12T13:02:04.257Z"
   },
   {
    "duration": 4,
    "start_time": "2024-07-12T13:02:04.275Z"
   },
   {
    "duration": 15,
    "start_time": "2024-07-12T13:02:04.280Z"
   },
   {
    "duration": 18,
    "start_time": "2024-07-12T13:02:04.296Z"
   },
   {
    "duration": 14,
    "start_time": "2024-07-12T13:02:04.315Z"
   },
   {
    "duration": 8,
    "start_time": "2024-07-12T13:02:04.330Z"
   },
   {
    "duration": 14,
    "start_time": "2024-07-12T13:02:04.339Z"
   },
   {
    "duration": 8,
    "start_time": "2024-07-12T13:02:04.355Z"
   },
   {
    "duration": 11,
    "start_time": "2024-07-12T13:02:04.364Z"
   },
   {
    "duration": 5,
    "start_time": "2024-07-12T13:02:04.377Z"
   },
   {
    "duration": 13,
    "start_time": "2024-07-12T13:02:04.384Z"
   },
   {
    "duration": 8,
    "start_time": "2024-07-12T13:02:04.399Z"
   },
   {
    "duration": 17,
    "start_time": "2024-07-12T13:02:04.409Z"
   },
   {
    "duration": 8,
    "start_time": "2024-07-12T13:02:04.428Z"
   },
   {
    "duration": 12,
    "start_time": "2024-07-12T13:02:04.438Z"
   },
   {
    "duration": 7,
    "start_time": "2024-07-12T13:02:04.451Z"
   },
   {
    "duration": 3,
    "start_time": "2024-07-12T13:02:04.459Z"
   },
   {
    "duration": 32,
    "start_time": "2024-07-12T13:02:04.466Z"
   },
   {
    "duration": 15577,
    "start_time": "2024-07-12T13:02:04.500Z"
   },
   {
    "duration": 7,
    "start_time": "2024-07-12T13:02:20.079Z"
   },
   {
    "duration": 21,
    "start_time": "2024-07-12T13:02:20.087Z"
   },
   {
    "duration": 695,
    "start_time": "2024-07-12T13:02:20.110Z"
   },
   {
    "duration": 7,
    "start_time": "2024-07-12T13:02:20.806Z"
   },
   {
    "duration": 601,
    "start_time": "2024-07-12T13:02:20.814Z"
   },
   {
    "duration": 543,
    "start_time": "2024-07-12T13:02:21.416Z"
   },
   {
    "duration": 208,
    "start_time": "2024-07-12T13:02:21.960Z"
   },
   {
    "duration": 576,
    "start_time": "2024-07-12T13:02:22.170Z"
   },
   {
    "duration": 13,
    "start_time": "2024-07-12T13:02:22.748Z"
   },
   {
    "duration": 599,
    "start_time": "2024-07-12T13:02:22.762Z"
   },
   {
    "duration": 595,
    "start_time": "2024-07-12T13:02:23.362Z"
   },
   {
    "duration": 16,
    "start_time": "2024-07-12T13:02:23.958Z"
   },
   {
    "duration": 770,
    "start_time": "2024-07-12T13:02:23.975Z"
   },
   {
    "duration": 592,
    "start_time": "2024-07-12T13:02:24.746Z"
   },
   {
    "duration": 6,
    "start_time": "2024-07-12T13:02:25.339Z"
   },
   {
    "duration": 189,
    "start_time": "2024-07-12T13:02:25.346Z"
   },
   {
    "duration": 20,
    "start_time": "2024-07-12T13:02:25.537Z"
   },
   {
    "duration": 4,
    "start_time": "2024-07-12T13:02:25.558Z"
   },
   {
    "duration": 44,
    "start_time": "2024-07-12T13:02:25.564Z"
   },
   {
    "duration": 4,
    "start_time": "2024-07-12T13:02:25.609Z"
   },
   {
    "duration": 17,
    "start_time": "2024-07-12T13:02:25.615Z"
   },
   {
    "duration": 6,
    "start_time": "2024-07-12T13:02:25.634Z"
   },
   {
    "duration": 2227,
    "start_time": "2024-07-12T13:02:25.641Z"
   },
   {
    "duration": 24,
    "start_time": "2024-07-12T13:02:27.870Z"
   },
   {
    "duration": 7,
    "start_time": "2024-07-12T13:02:27.896Z"
   },
   {
    "duration": 3,
    "start_time": "2024-07-12T13:02:27.904Z"
   },
   {
    "duration": 4,
    "start_time": "2024-07-12T13:02:27.908Z"
   },
   {
    "duration": 6,
    "start_time": "2024-07-12T13:02:27.914Z"
   },
   {
    "duration": 15,
    "start_time": "2024-07-12T13:02:27.921Z"
   },
   {
    "duration": 5,
    "start_time": "2024-07-12T13:02:27.937Z"
   },
   {
    "duration": 6,
    "start_time": "2024-07-12T13:02:27.943Z"
   },
   {
    "duration": 10,
    "start_time": "2024-07-12T13:02:27.950Z"
   },
   {
    "duration": 25,
    "start_time": "2024-07-12T13:02:27.962Z"
   },
   {
    "duration": 3,
    "start_time": "2024-07-12T13:02:27.989Z"
   },
   {
    "duration": 129898,
    "start_time": "2024-07-12T13:02:27.993Z"
   },
   {
    "duration": 37,
    "start_time": "2024-07-12T13:04:37.893Z"
   },
   {
    "duration": 80,
    "start_time": "2024-07-12T13:04:37.932Z"
   },
   {
    "duration": 35,
    "start_time": "2024-07-12T13:04:38.014Z"
   },
   {
    "duration": 5,
    "start_time": "2024-07-12T13:04:38.051Z"
   },
   {
    "duration": 56,
    "start_time": "2024-07-12T13:04:38.058Z"
   },
   {
    "duration": 7,
    "start_time": "2024-07-12T13:04:38.116Z"
   },
   {
    "duration": 194,
    "start_time": "2024-07-12T13:04:38.125Z"
   },
   {
    "duration": 5,
    "start_time": "2024-07-12T13:05:00.936Z"
   },
   {
    "duration": 5723,
    "start_time": "2024-07-12T13:05:03.898Z"
   },
   {
    "duration": 7,
    "start_time": "2024-07-12T13:05:09.624Z"
   },
   {
    "duration": 16,
    "start_time": "2024-07-12T13:05:09.632Z"
   },
   {
    "duration": 93,
    "start_time": "2024-07-12T13:05:09.650Z"
   },
   {
    "duration": 14,
    "start_time": "2024-07-12T13:05:09.744Z"
   },
   {
    "duration": 15,
    "start_time": "2024-07-12T13:05:09.760Z"
   },
   {
    "duration": 9,
    "start_time": "2024-07-12T13:05:09.777Z"
   },
   {
    "duration": 11,
    "start_time": "2024-07-12T13:05:09.788Z"
   },
   {
    "duration": 9,
    "start_time": "2024-07-12T13:05:09.801Z"
   },
   {
    "duration": 7,
    "start_time": "2024-07-12T13:05:09.813Z"
   },
   {
    "duration": 15,
    "start_time": "2024-07-12T13:05:09.821Z"
   },
   {
    "duration": 4,
    "start_time": "2024-07-12T13:05:09.838Z"
   },
   {
    "duration": 6,
    "start_time": "2024-07-12T13:05:09.844Z"
   },
   {
    "duration": 10,
    "start_time": "2024-07-12T13:05:09.851Z"
   },
   {
    "duration": 27,
    "start_time": "2024-07-12T13:05:09.863Z"
   },
   {
    "duration": 20,
    "start_time": "2024-07-12T13:05:09.891Z"
   },
   {
    "duration": 14,
    "start_time": "2024-07-12T13:05:09.913Z"
   },
   {
    "duration": 7,
    "start_time": "2024-07-12T13:05:09.929Z"
   },
   {
    "duration": 12,
    "start_time": "2024-07-12T13:05:09.937Z"
   },
   {
    "duration": 6,
    "start_time": "2024-07-12T13:05:09.950Z"
   },
   {
    "duration": 33,
    "start_time": "2024-07-12T13:05:09.958Z"
   },
   {
    "duration": 53,
    "start_time": "2024-07-12T13:05:09.993Z"
   },
   {
    "duration": 20,
    "start_time": "2024-07-12T13:05:10.048Z"
   },
   {
    "duration": 4,
    "start_time": "2024-07-12T13:05:10.070Z"
   },
   {
    "duration": 13,
    "start_time": "2024-07-12T13:05:10.076Z"
   },
   {
    "duration": 21,
    "start_time": "2024-07-12T13:05:10.090Z"
   },
   {
    "duration": 8,
    "start_time": "2024-07-12T13:05:10.113Z"
   },
   {
    "duration": 17,
    "start_time": "2024-07-12T13:05:10.125Z"
   },
   {
    "duration": 15877,
    "start_time": "2024-07-12T13:05:10.144Z"
   },
   {
    "duration": 6,
    "start_time": "2024-07-12T13:05:26.023Z"
   },
   {
    "duration": 27,
    "start_time": "2024-07-12T13:05:26.031Z"
   },
   {
    "duration": 596,
    "start_time": "2024-07-12T13:05:26.060Z"
   },
   {
    "duration": 7,
    "start_time": "2024-07-12T13:05:26.658Z"
   },
   {
    "duration": 825,
    "start_time": "2024-07-12T13:05:26.666Z"
   },
   {
    "duration": 563,
    "start_time": "2024-07-12T13:05:27.493Z"
   },
   {
    "duration": 210,
    "start_time": "2024-07-12T13:05:28.058Z"
   },
   {
    "duration": 559,
    "start_time": "2024-07-12T13:05:28.270Z"
   },
   {
    "duration": 13,
    "start_time": "2024-07-12T13:05:28.831Z"
   },
   {
    "duration": 570,
    "start_time": "2024-07-12T13:05:28.845Z"
   },
   {
    "duration": 560,
    "start_time": "2024-07-12T13:05:29.417Z"
   },
   {
    "duration": 20,
    "start_time": "2024-07-12T13:05:29.978Z"
   },
   {
    "duration": 549,
    "start_time": "2024-07-12T13:05:29.999Z"
   },
   {
    "duration": 808,
    "start_time": "2024-07-12T13:05:30.550Z"
   },
   {
    "duration": 6,
    "start_time": "2024-07-12T13:05:31.359Z"
   },
   {
    "duration": 205,
    "start_time": "2024-07-12T13:05:31.367Z"
   },
   {
    "duration": 20,
    "start_time": "2024-07-12T13:05:31.574Z"
   },
   {
    "duration": 50,
    "start_time": "2024-07-12T13:05:31.596Z"
   },
   {
    "duration": 54,
    "start_time": "2024-07-12T13:05:31.647Z"
   },
   {
    "duration": 34,
    "start_time": "2024-07-12T13:05:31.702Z"
   },
   {
    "duration": 81,
    "start_time": "2024-07-12T13:05:31.738Z"
   },
   {
    "duration": 41,
    "start_time": "2024-07-12T13:05:31.821Z"
   },
   {
    "duration": 2162,
    "start_time": "2024-07-12T13:05:31.864Z"
   },
   {
    "duration": 15,
    "start_time": "2024-07-12T13:05:34.027Z"
   },
   {
    "duration": 23,
    "start_time": "2024-07-12T13:05:34.044Z"
   },
   {
    "duration": 7,
    "start_time": "2024-07-12T13:05:34.068Z"
   },
   {
    "duration": 4,
    "start_time": "2024-07-12T13:05:34.077Z"
   },
   {
    "duration": 13,
    "start_time": "2024-07-12T13:05:34.085Z"
   },
   {
    "duration": 11,
    "start_time": "2024-07-12T13:05:34.100Z"
   },
   {
    "duration": 18,
    "start_time": "2024-07-12T13:05:34.113Z"
   },
   {
    "duration": 71,
    "start_time": "2024-07-12T13:05:34.134Z"
   },
   {
    "duration": 13,
    "start_time": "2024-07-12T13:05:34.206Z"
   },
   {
    "duration": 21,
    "start_time": "2024-07-12T13:05:34.220Z"
   },
   {
    "duration": 12,
    "start_time": "2024-07-12T13:05:34.242Z"
   },
   {
    "duration": 87912,
    "start_time": "2024-07-12T13:05:34.255Z"
   },
   {
    "duration": 42,
    "start_time": "2024-07-12T13:07:02.169Z"
   },
   {
    "duration": 73,
    "start_time": "2024-07-12T13:07:02.212Z"
   },
   {
    "duration": 23,
    "start_time": "2024-07-12T13:07:02.287Z"
   },
   {
    "duration": 8,
    "start_time": "2024-07-12T13:07:02.312Z"
   },
   {
    "duration": 31,
    "start_time": "2024-07-12T13:07:02.322Z"
   },
   {
    "duration": 8,
    "start_time": "2024-07-12T13:07:02.355Z"
   },
   {
    "duration": 185,
    "start_time": "2024-07-12T13:07:02.385Z"
   },
   {
    "duration": 23,
    "start_time": "2024-07-12T13:07:44.982Z"
   },
   {
    "duration": 120,
    "start_time": "2024-07-12T13:07:45.007Z"
   },
   {
    "duration": 52,
    "start_time": "2024-07-12T13:07:45.129Z"
   },
   {
    "duration": 40,
    "start_time": "2024-07-12T13:07:45.183Z"
   },
   {
    "duration": 19,
    "start_time": "2024-07-12T13:07:45.224Z"
   },
   {
    "duration": 48,
    "start_time": "2024-07-12T13:07:45.245Z"
   },
   {
    "duration": 43,
    "start_time": "2024-07-12T13:07:45.295Z"
   },
   {
    "duration": 42,
    "start_time": "2024-07-12T13:07:45.339Z"
   },
   {
    "duration": 73,
    "start_time": "2024-07-12T13:07:45.383Z"
   },
   {
    "duration": 27,
    "start_time": "2024-07-12T13:07:45.459Z"
   },
   {
    "duration": 41,
    "start_time": "2024-07-12T13:07:45.487Z"
   },
   {
    "duration": 339539,
    "start_time": "2024-07-12T13:07:45.530Z"
   },
   {
    "duration": 38,
    "start_time": "2024-07-12T13:13:25.070Z"
   },
   {
    "duration": 64,
    "start_time": "2024-07-12T13:13:25.109Z"
   },
   {
    "duration": 27,
    "start_time": "2024-07-12T13:13:25.175Z"
   },
   {
    "duration": 4,
    "start_time": "2024-07-12T13:13:25.203Z"
   },
   {
    "duration": 21,
    "start_time": "2024-07-12T13:13:25.208Z"
   },
   {
    "duration": 5,
    "start_time": "2024-07-12T13:13:25.231Z"
   },
   {
    "duration": 191,
    "start_time": "2024-07-12T13:13:25.237Z"
   },
   {
    "duration": 16,
    "start_time": "2024-07-12T13:22:53.784Z"
   },
   {
    "duration": 5,
    "start_time": "2024-07-12T13:22:53.802Z"
   },
   {
    "duration": 5,
    "start_time": "2024-07-12T13:22:53.809Z"
   },
   {
    "duration": 5,
    "start_time": "2024-07-12T13:22:53.815Z"
   },
   {
    "duration": 4,
    "start_time": "2024-07-12T13:22:53.822Z"
   },
   {
    "duration": 6,
    "start_time": "2024-07-12T13:22:53.828Z"
   },
   {
    "duration": 3,
    "start_time": "2024-07-12T13:22:53.835Z"
   },
   {
    "duration": 3,
    "start_time": "2024-07-12T13:22:53.840Z"
   },
   {
    "duration": 40,
    "start_time": "2024-07-12T13:22:53.845Z"
   },
   {
    "duration": 7,
    "start_time": "2024-07-12T13:22:53.887Z"
   },
   {
    "duration": 18,
    "start_time": "2024-07-12T13:22:53.895Z"
   },
   {
    "duration": 38,
    "start_time": "2024-07-12T13:22:53.914Z"
   },
   {
    "duration": 366355,
    "start_time": "2024-07-12T13:22:53.954Z"
   },
   {
    "duration": 37,
    "start_time": "2024-07-12T13:29:00.312Z"
   },
   {
    "duration": 5,
    "start_time": "2024-07-12T13:29:00.351Z"
   },
   {
    "duration": 141,
    "start_time": "2024-07-12T13:29:00.357Z"
   },
   {
    "duration": 24,
    "start_time": "2024-07-12T13:29:00.500Z"
   },
   {
    "duration": 41,
    "start_time": "2024-07-12T13:29:00.526Z"
   },
   {
    "duration": 26,
    "start_time": "2024-07-12T13:29:00.569Z"
   },
   {
    "duration": 265,
    "start_time": "2024-07-12T13:29:00.597Z"
   },
   {
    "duration": 5710,
    "start_time": "2024-07-12T13:41:27.321Z"
   },
   {
    "duration": 7,
    "start_time": "2024-07-12T13:41:33.034Z"
   },
   {
    "duration": 13,
    "start_time": "2024-07-12T13:41:33.042Z"
   },
   {
    "duration": 114,
    "start_time": "2024-07-12T13:41:33.057Z"
   },
   {
    "duration": 13,
    "start_time": "2024-07-12T13:41:33.173Z"
   },
   {
    "duration": 31,
    "start_time": "2024-07-12T13:41:33.188Z"
   },
   {
    "duration": 17,
    "start_time": "2024-07-12T13:41:33.221Z"
   },
   {
    "duration": 30,
    "start_time": "2024-07-12T13:41:33.240Z"
   },
   {
    "duration": 15,
    "start_time": "2024-07-12T13:41:33.272Z"
   },
   {
    "duration": 5,
    "start_time": "2024-07-12T13:41:33.291Z"
   },
   {
    "duration": 17,
    "start_time": "2024-07-12T13:41:33.297Z"
   },
   {
    "duration": 5,
    "start_time": "2024-07-12T13:41:33.315Z"
   },
   {
    "duration": 8,
    "start_time": "2024-07-12T13:41:33.321Z"
   },
   {
    "duration": 8,
    "start_time": "2024-07-12T13:41:33.330Z"
   },
   {
    "duration": 12,
    "start_time": "2024-07-12T13:41:33.340Z"
   },
   {
    "duration": 6,
    "start_time": "2024-07-12T13:41:33.353Z"
   },
   {
    "duration": 6,
    "start_time": "2024-07-12T13:41:33.385Z"
   },
   {
    "duration": 10,
    "start_time": "2024-07-12T13:41:33.392Z"
   },
   {
    "duration": 21,
    "start_time": "2024-07-12T13:41:33.403Z"
   },
   {
    "duration": 5,
    "start_time": "2024-07-12T13:41:33.426Z"
   },
   {
    "duration": 11,
    "start_time": "2024-07-12T13:41:33.432Z"
   },
   {
    "duration": 7,
    "start_time": "2024-07-12T13:41:33.444Z"
   },
   {
    "duration": 10,
    "start_time": "2024-07-12T13:41:33.452Z"
   },
   {
    "duration": 5,
    "start_time": "2024-07-12T13:41:33.486Z"
   },
   {
    "duration": 14,
    "start_time": "2024-07-12T13:41:33.492Z"
   },
   {
    "duration": 8,
    "start_time": "2024-07-12T13:41:33.507Z"
   },
   {
    "duration": 3,
    "start_time": "2024-07-12T13:41:33.516Z"
   },
   {
    "duration": 19,
    "start_time": "2024-07-12T13:41:33.523Z"
   },
   {
    "duration": 16193,
    "start_time": "2024-07-12T13:41:33.543Z"
   },
   {
    "duration": 7,
    "start_time": "2024-07-12T13:41:49.737Z"
   },
   {
    "duration": 12,
    "start_time": "2024-07-12T13:41:49.746Z"
   },
   {
    "duration": 610,
    "start_time": "2024-07-12T13:41:49.759Z"
   },
   {
    "duration": 15,
    "start_time": "2024-07-12T13:41:50.370Z"
   },
   {
    "duration": 601,
    "start_time": "2024-07-12T13:41:50.386Z"
   },
   {
    "duration": 572,
    "start_time": "2024-07-12T13:41:50.988Z"
   },
   {
    "duration": 211,
    "start_time": "2024-07-12T13:41:51.561Z"
   },
   {
    "duration": 571,
    "start_time": "2024-07-12T13:41:51.774Z"
   },
   {
    "duration": 14,
    "start_time": "2024-07-12T13:41:52.347Z"
   },
   {
    "duration": 618,
    "start_time": "2024-07-12T13:41:52.363Z"
   },
   {
    "duration": 889,
    "start_time": "2024-07-12T13:41:52.985Z"
   },
   {
    "duration": 22,
    "start_time": "2024-07-12T13:41:53.876Z"
   },
   {
    "duration": 582,
    "start_time": "2024-07-12T13:41:53.901Z"
   },
   {
    "duration": 612,
    "start_time": "2024-07-12T13:41:54.485Z"
   },
   {
    "duration": 6,
    "start_time": "2024-07-12T13:41:55.100Z"
   },
   {
    "duration": 188,
    "start_time": "2024-07-12T13:41:55.108Z"
   },
   {
    "duration": 20,
    "start_time": "2024-07-12T13:41:55.297Z"
   },
   {
    "duration": 3,
    "start_time": "2024-07-12T13:41:55.319Z"
   },
   {
    "duration": 16,
    "start_time": "2024-07-12T13:41:55.324Z"
   },
   {
    "duration": 3,
    "start_time": "2024-07-12T13:41:55.342Z"
   },
   {
    "duration": 46,
    "start_time": "2024-07-12T13:41:55.347Z"
   },
   {
    "duration": 6,
    "start_time": "2024-07-12T13:41:55.394Z"
   },
   {
    "duration": 2492,
    "start_time": "2024-07-12T13:41:55.402Z"
   },
   {
    "duration": 16,
    "start_time": "2024-07-12T13:41:57.895Z"
   },
   {
    "duration": 5,
    "start_time": "2024-07-12T13:41:57.912Z"
   },
   {
    "duration": 4,
    "start_time": "2024-07-12T13:41:57.918Z"
   },
   {
    "duration": 3,
    "start_time": "2024-07-12T13:41:57.924Z"
   },
   {
    "duration": 5,
    "start_time": "2024-07-12T13:41:57.928Z"
   },
   {
    "duration": 5,
    "start_time": "2024-07-12T13:41:57.935Z"
   },
   {
    "duration": 10,
    "start_time": "2024-07-12T13:41:57.942Z"
   },
   {
    "duration": 5,
    "start_time": "2024-07-12T13:41:57.986Z"
   },
   {
    "duration": 11,
    "start_time": "2024-07-12T13:41:57.993Z"
   },
   {
    "duration": 9,
    "start_time": "2024-07-12T13:41:58.005Z"
   },
   {
    "duration": 9,
    "start_time": "2024-07-12T13:41:58.016Z"
   },
   {
    "duration": 348848,
    "start_time": "2024-07-12T13:41:58.027Z"
   },
   {
    "duration": 40,
    "start_time": "2024-07-12T13:47:46.876Z"
   },
   {
    "duration": 2,
    "start_time": "2024-07-12T13:47:46.917Z"
   },
   {
    "duration": 74,
    "start_time": "2024-07-12T13:47:46.921Z"
   },
   {
    "duration": 21,
    "start_time": "2024-07-12T13:47:46.997Z"
   },
   {
    "duration": 20,
    "start_time": "2024-07-12T13:47:47.020Z"
   },
   {
    "duration": 5,
    "start_time": "2024-07-12T13:47:47.042Z"
   },
   {
    "duration": 201,
    "start_time": "2024-07-12T13:47:47.048Z"
   },
   {
    "duration": 10437,
    "start_time": "2024-07-12T13:47:47.253Z"
   },
   {
    "duration": 415,
    "start_time": "2024-07-12T13:47:57.693Z"
   },
   {
    "duration": 142,
    "start_time": "2024-07-12T13:50:59.967Z"
   },
   {
    "duration": 14,
    "start_time": "2024-07-12T13:51:06.335Z"
   },
   {
    "duration": 61,
    "start_time": "2024-07-12T13:51:38.596Z"
   },
   {
    "duration": 14,
    "start_time": "2024-07-12T13:56:30.991Z"
   },
   {
    "duration": 17,
    "start_time": "2024-07-12T14:16:06.176Z"
   },
   {
    "duration": 13,
    "start_time": "2024-07-12T14:16:23.285Z"
   },
   {
    "duration": 20,
    "start_time": "2024-07-12T14:17:28.926Z"
   },
   {
    "duration": 21,
    "start_time": "2024-07-12T14:17:40.234Z"
   },
   {
    "duration": 21,
    "start_time": "2024-07-12T14:18:33.082Z"
   },
   {
    "duration": 11501,
    "start_time": "2024-07-12T14:19:25.592Z"
   },
   {
    "duration": 32,
    "start_time": "2024-07-12T14:19:58.477Z"
   },
   {
    "duration": 11389,
    "start_time": "2024-07-12T14:20:16.696Z"
   },
   {
    "duration": 1774,
    "start_time": "2024-07-12T14:20:28.087Z"
   },
   {
    "duration": 3,
    "start_time": "2024-07-12T14:20:29.863Z"
   },
   {
    "duration": 102,
    "start_time": "2024-07-12T14:20:29.868Z"
   },
   {
    "duration": 18,
    "start_time": "2024-07-12T14:20:29.972Z"
   },
   {
    "duration": 26,
    "start_time": "2024-07-12T14:20:29.991Z"
   },
   {
    "duration": 50,
    "start_time": "2024-07-12T14:20:30.018Z"
   },
   {
    "duration": 47,
    "start_time": "2024-07-12T14:20:30.069Z"
   },
   {
    "duration": 50,
    "start_time": "2024-07-12T14:20:30.118Z"
   },
   {
    "duration": 73,
    "start_time": "2024-07-12T14:20:30.171Z"
   },
   {
    "duration": 83,
    "start_time": "2024-07-12T14:20:30.246Z"
   },
   {
    "duration": 147,
    "start_time": "2024-07-12T14:20:30.331Z"
   },
   {
    "duration": 142,
    "start_time": "2024-07-12T14:20:30.480Z"
   },
   {
    "duration": 105,
    "start_time": "2024-07-12T14:20:30.623Z"
   },
   {
    "duration": 107,
    "start_time": "2024-07-12T14:20:30.729Z"
   },
   {
    "duration": 86,
    "start_time": "2024-07-12T14:20:30.838Z"
   },
   {
    "duration": 73,
    "start_time": "2024-07-12T14:20:30.925Z"
   },
   {
    "duration": 101,
    "start_time": "2024-07-12T14:20:31.000Z"
   },
   {
    "duration": 74,
    "start_time": "2024-07-12T14:20:31.103Z"
   },
   {
    "duration": 136,
    "start_time": "2024-07-12T14:20:31.179Z"
   },
   {
    "duration": 42,
    "start_time": "2024-07-12T14:20:31.317Z"
   },
   {
    "duration": 104,
    "start_time": "2024-07-12T14:20:31.361Z"
   },
   {
    "duration": 42,
    "start_time": "2024-07-12T14:20:31.467Z"
   },
   {
    "duration": 41,
    "start_time": "2024-07-12T14:20:31.511Z"
   },
   {
    "duration": 49,
    "start_time": "2024-07-12T14:20:31.553Z"
   },
   {
    "duration": 59,
    "start_time": "2024-07-12T14:20:31.604Z"
   },
   {
    "duration": 26,
    "start_time": "2024-07-12T14:20:31.664Z"
   },
   {
    "duration": 38,
    "start_time": "2024-07-12T14:20:31.695Z"
   },
   {
    "duration": 15659,
    "start_time": "2024-07-12T14:20:31.735Z"
   },
   {
    "duration": 7,
    "start_time": "2024-07-12T14:20:47.396Z"
   },
   {
    "duration": 49,
    "start_time": "2024-07-12T14:20:47.404Z"
   },
   {
    "duration": 612,
    "start_time": "2024-07-12T14:20:47.455Z"
   },
   {
    "duration": 7,
    "start_time": "2024-07-12T14:20:48.068Z"
   },
   {
    "duration": 613,
    "start_time": "2024-07-12T14:20:48.076Z"
   },
   {
    "duration": 738,
    "start_time": "2024-07-12T14:20:48.691Z"
   },
   {
    "duration": 203,
    "start_time": "2024-07-12T14:20:49.430Z"
   },
   {
    "duration": 556,
    "start_time": "2024-07-12T14:20:49.635Z"
   },
   {
    "duration": 13,
    "start_time": "2024-07-12T14:20:50.193Z"
   },
   {
    "duration": 580,
    "start_time": "2024-07-12T14:20:50.208Z"
   },
   {
    "duration": 569,
    "start_time": "2024-07-12T14:20:50.789Z"
   },
   {
    "duration": 28,
    "start_time": "2024-07-12T14:20:51.359Z"
   },
   {
    "duration": 569,
    "start_time": "2024-07-12T14:20:51.388Z"
   },
   {
    "duration": 606,
    "start_time": "2024-07-12T14:20:51.959Z"
   },
   {
    "duration": 6,
    "start_time": "2024-07-12T14:20:52.566Z"
   },
   {
    "duration": 364,
    "start_time": "2024-07-12T14:20:52.586Z"
   },
   {
    "duration": 19,
    "start_time": "2024-07-12T14:20:52.952Z"
   },
   {
    "duration": 4,
    "start_time": "2024-07-12T14:20:52.985Z"
   },
   {
    "duration": 16,
    "start_time": "2024-07-12T14:20:52.991Z"
   },
   {
    "duration": 11,
    "start_time": "2024-07-12T14:20:53.009Z"
   },
   {
    "duration": 18,
    "start_time": "2024-07-12T14:20:53.022Z"
   },
   {
    "duration": 6,
    "start_time": "2024-07-12T14:20:53.041Z"
   },
   {
    "duration": 2184,
    "start_time": "2024-07-12T14:20:53.049Z"
   },
   {
    "duration": 18,
    "start_time": "2024-07-12T14:20:55.234Z"
   },
   {
    "duration": 4,
    "start_time": "2024-07-12T14:20:55.253Z"
   },
   {
    "duration": 3,
    "start_time": "2024-07-12T14:20:55.259Z"
   },
   {
    "duration": 4,
    "start_time": "2024-07-12T14:20:55.286Z"
   },
   {
    "duration": 6,
    "start_time": "2024-07-12T14:20:55.292Z"
   },
   {
    "duration": 4,
    "start_time": "2024-07-12T14:20:55.299Z"
   },
   {
    "duration": 4,
    "start_time": "2024-07-12T14:20:55.304Z"
   },
   {
    "duration": 9,
    "start_time": "2024-07-12T14:20:55.309Z"
   },
   {
    "duration": 13,
    "start_time": "2024-07-12T14:20:55.319Z"
   },
   {
    "duration": 10,
    "start_time": "2024-07-12T14:20:55.334Z"
   },
   {
    "duration": 6,
    "start_time": "2024-07-12T14:20:55.346Z"
   },
   {
    "duration": 346133,
    "start_time": "2024-07-12T14:20:55.353Z"
   },
   {
    "duration": 38,
    "start_time": "2024-07-12T14:26:41.488Z"
   },
   {
    "duration": 2,
    "start_time": "2024-07-12T14:26:41.527Z"
   },
   {
    "duration": 81,
    "start_time": "2024-07-12T14:26:41.531Z"
   },
   {
    "duration": 23,
    "start_time": "2024-07-12T14:26:41.613Z"
   },
   {
    "duration": 22,
    "start_time": "2024-07-12T14:26:41.637Z"
   },
   {
    "duration": 27,
    "start_time": "2024-07-12T14:26:41.660Z"
   },
   {
    "duration": 191,
    "start_time": "2024-07-12T14:26:41.688Z"
   },
   {
    "duration": 177,
    "start_time": "2024-07-12T14:26:41.880Z"
   },
   {
    "duration": 14,
    "start_time": "2024-07-12T14:31:23.100Z"
   },
   {
    "duration": 13,
    "start_time": "2024-07-12T14:32:51.114Z"
   },
   {
    "duration": 13,
    "start_time": "2024-07-12T14:36:14.768Z"
   },
   {
    "duration": 14,
    "start_time": "2024-07-12T14:36:43.341Z"
   },
   {
    "duration": 13,
    "start_time": "2024-07-12T14:37:03.994Z"
   },
   {
    "duration": 24,
    "start_time": "2024-07-12T14:39:31.366Z"
   },
   {
    "duration": 24,
    "start_time": "2024-07-12T14:39:55.673Z"
   },
   {
    "duration": 29,
    "start_time": "2024-07-12T14:40:12.924Z"
   },
   {
    "duration": 27,
    "start_time": "2024-07-12T14:41:39.873Z"
   },
   {
    "duration": 27,
    "start_time": "2024-07-12T14:44:11.704Z"
   },
   {
    "duration": 18,
    "start_time": "2024-07-12T14:45:02.888Z"
   },
   {
    "duration": 14,
    "start_time": "2024-07-12T14:45:10.670Z"
   },
   {
    "duration": 10874,
    "start_time": "2024-07-12T14:46:05.092Z"
   },
   {
    "duration": 10961,
    "start_time": "2024-07-12T14:46:20.057Z"
   },
   {
    "duration": 6,
    "start_time": "2024-07-12T14:46:36.491Z"
   },
   {
    "duration": 22,
    "start_time": "2024-07-12T14:46:45.262Z"
   },
   {
    "duration": 18,
    "start_time": "2024-07-12T14:46:46.877Z"
   },
   {
    "duration": 10839,
    "start_time": "2024-07-12T14:48:20.845Z"
   },
   {
    "duration": 1718,
    "start_time": "2024-07-12T14:48:31.686Z"
   },
   {
    "duration": 4,
    "start_time": "2024-07-12T14:48:33.406Z"
   },
   {
    "duration": 119,
    "start_time": "2024-07-12T14:48:33.412Z"
   },
   {
    "duration": 18,
    "start_time": "2024-07-12T14:48:33.533Z"
   },
   {
    "duration": 34,
    "start_time": "2024-07-12T14:48:33.553Z"
   },
   {
    "duration": 23,
    "start_time": "2024-07-12T14:48:33.588Z"
   },
   {
    "duration": 21,
    "start_time": "2024-07-12T14:48:33.613Z"
   },
   {
    "duration": 7,
    "start_time": "2024-07-12T14:48:33.635Z"
   },
   {
    "duration": 3,
    "start_time": "2024-07-12T14:48:33.645Z"
   },
   {
    "duration": 13,
    "start_time": "2024-07-12T14:48:33.650Z"
   },
   {
    "duration": 3,
    "start_time": "2024-07-12T14:48:33.665Z"
   },
   {
    "duration": 15,
    "start_time": "2024-07-12T14:48:33.670Z"
   },
   {
    "duration": 7,
    "start_time": "2024-07-12T14:48:33.687Z"
   },
   {
    "duration": 11,
    "start_time": "2024-07-12T14:48:33.695Z"
   },
   {
    "duration": 8,
    "start_time": "2024-07-12T14:48:33.707Z"
   },
   {
    "duration": 14,
    "start_time": "2024-07-12T14:48:33.717Z"
   },
   {
    "duration": 5,
    "start_time": "2024-07-12T14:48:33.733Z"
   },
   {
    "duration": 20,
    "start_time": "2024-07-12T14:48:33.740Z"
   },
   {
    "duration": 14,
    "start_time": "2024-07-12T14:48:33.761Z"
   },
   {
    "duration": 9,
    "start_time": "2024-07-12T14:48:33.777Z"
   },
   {
    "duration": 25,
    "start_time": "2024-07-12T14:48:33.788Z"
   },
   {
    "duration": 18,
    "start_time": "2024-07-12T14:48:33.814Z"
   },
   {
    "duration": 17,
    "start_time": "2024-07-12T14:48:33.833Z"
   },
   {
    "duration": 15,
    "start_time": "2024-07-12T14:48:33.852Z"
   },
   {
    "duration": 7,
    "start_time": "2024-07-12T14:48:33.869Z"
   },
   {
    "duration": 25,
    "start_time": "2024-07-12T14:48:33.877Z"
   },
   {
    "duration": 20,
    "start_time": "2024-07-12T14:48:33.907Z"
   },
   {
    "duration": 14897,
    "start_time": "2024-07-12T14:48:33.928Z"
   },
   {
    "duration": 7,
    "start_time": "2024-07-12T14:48:48.827Z"
   },
   {
    "duration": 14,
    "start_time": "2024-07-12T14:48:48.835Z"
   },
   {
    "duration": 592,
    "start_time": "2024-07-12T14:48:48.851Z"
   },
   {
    "duration": 7,
    "start_time": "2024-07-12T14:48:49.445Z"
   },
   {
    "duration": 621,
    "start_time": "2024-07-12T14:48:49.453Z"
   },
   {
    "duration": 679,
    "start_time": "2024-07-12T14:48:50.075Z"
   },
   {
    "duration": 206,
    "start_time": "2024-07-12T14:48:50.756Z"
   },
   {
    "duration": 566,
    "start_time": "2024-07-12T14:48:50.964Z"
   },
   {
    "duration": 13,
    "start_time": "2024-07-12T14:48:51.532Z"
   },
   {
    "duration": 591,
    "start_time": "2024-07-12T14:48:51.547Z"
   },
   {
    "duration": 555,
    "start_time": "2024-07-12T14:48:52.140Z"
   },
   {
    "duration": 16,
    "start_time": "2024-07-12T14:48:52.697Z"
   },
   {
    "duration": 545,
    "start_time": "2024-07-12T14:48:52.715Z"
   },
   {
    "duration": 597,
    "start_time": "2024-07-12T14:48:53.262Z"
   },
   {
    "duration": 6,
    "start_time": "2024-07-12T14:48:53.862Z"
   },
   {
    "duration": 391,
    "start_time": "2024-07-12T14:48:53.870Z"
   },
   {
    "duration": 24,
    "start_time": "2024-07-12T14:48:54.263Z"
   },
   {
    "duration": 4,
    "start_time": "2024-07-12T14:48:54.289Z"
   },
   {
    "duration": 39,
    "start_time": "2024-07-12T14:48:54.295Z"
   },
   {
    "duration": 4,
    "start_time": "2024-07-12T14:48:54.336Z"
   },
   {
    "duration": 24,
    "start_time": "2024-07-12T14:48:54.341Z"
   },
   {
    "duration": 9,
    "start_time": "2024-07-12T14:48:54.366Z"
   },
   {
    "duration": 2108,
    "start_time": "2024-07-12T14:48:54.377Z"
   },
   {
    "duration": 16,
    "start_time": "2024-07-12T14:48:56.486Z"
   },
   {
    "duration": 21,
    "start_time": "2024-07-12T14:48:56.504Z"
   },
   {
    "duration": 52,
    "start_time": "2024-07-12T14:48:56.527Z"
   },
   {
    "duration": 34,
    "start_time": "2024-07-12T14:48:56.580Z"
   },
   {
    "duration": 25,
    "start_time": "2024-07-12T14:48:56.616Z"
   },
   {
    "duration": 16,
    "start_time": "2024-07-12T14:48:56.643Z"
   },
   {
    "duration": 22,
    "start_time": "2024-07-12T14:48:56.661Z"
   },
   {
    "duration": 23,
    "start_time": "2024-07-12T14:48:56.685Z"
   },
   {
    "duration": 11,
    "start_time": "2024-07-12T14:48:56.710Z"
   },
   {
    "duration": 17,
    "start_time": "2024-07-12T14:48:56.722Z"
   },
   {
    "duration": 19,
    "start_time": "2024-07-12T14:48:56.741Z"
   },
   {
    "duration": 312010,
    "start_time": "2024-07-12T14:48:56.762Z"
   },
   {
    "duration": 41,
    "start_time": "2024-07-12T14:54:08.773Z"
   },
   {
    "duration": 2,
    "start_time": "2024-07-12T14:54:08.816Z"
   },
   {
    "duration": 72,
    "start_time": "2024-07-12T14:54:08.819Z"
   },
   {
    "duration": 22,
    "start_time": "2024-07-12T14:54:08.892Z"
   },
   {
    "duration": 20,
    "start_time": "2024-07-12T14:54:08.915Z"
   },
   {
    "duration": 6,
    "start_time": "2024-07-12T14:54:08.937Z"
   },
   {
    "duration": 195,
    "start_time": "2024-07-12T14:54:08.944Z"
   },
   {
    "duration": 17,
    "start_time": "2024-07-12T14:54:09.140Z"
   },
   {
    "duration": 147,
    "start_time": "2024-07-12T14:54:09.158Z"
   },
   {
    "duration": 0,
    "start_time": "2024-07-12T14:54:09.306Z"
   },
   {
    "duration": 17558,
    "start_time": "2024-07-13T13:35:41.769Z"
   },
   {
    "duration": 1828,
    "start_time": "2024-07-13T13:35:59.329Z"
   },
   {
    "duration": 5,
    "start_time": "2024-07-13T13:36:01.159Z"
   },
   {
    "duration": 383,
    "start_time": "2024-07-13T13:36:01.166Z"
   },
   {
    "duration": 16,
    "start_time": "2024-07-13T13:36:01.550Z"
   },
   {
    "duration": 20,
    "start_time": "2024-07-13T13:36:01.568Z"
   },
   {
    "duration": 40,
    "start_time": "2024-07-13T13:36:01.589Z"
   },
   {
    "duration": 25,
    "start_time": "2024-07-13T13:36:01.631Z"
   },
   {
    "duration": 17,
    "start_time": "2024-07-13T13:36:01.658Z"
   },
   {
    "duration": 24,
    "start_time": "2024-07-13T13:36:01.677Z"
   },
   {
    "duration": 34,
    "start_time": "2024-07-13T13:36:01.703Z"
   },
   {
    "duration": 27,
    "start_time": "2024-07-13T13:36:01.739Z"
   },
   {
    "duration": 29,
    "start_time": "2024-07-13T13:36:01.767Z"
   },
   {
    "duration": 38,
    "start_time": "2024-07-13T13:36:01.797Z"
   },
   {
    "duration": 23,
    "start_time": "2024-07-13T13:36:01.837Z"
   },
   {
    "duration": 7,
    "start_time": "2024-07-13T13:36:01.861Z"
   },
   {
    "duration": 10,
    "start_time": "2024-07-13T13:36:01.869Z"
   },
   {
    "duration": 15,
    "start_time": "2024-07-13T13:36:01.880Z"
   },
   {
    "duration": 10,
    "start_time": "2024-07-13T13:36:01.896Z"
   },
   {
    "duration": 11,
    "start_time": "2024-07-13T13:36:01.907Z"
   },
   {
    "duration": 15,
    "start_time": "2024-07-13T13:36:01.919Z"
   },
   {
    "duration": 8,
    "start_time": "2024-07-13T13:36:01.936Z"
   },
   {
    "duration": 13,
    "start_time": "2024-07-13T13:36:01.945Z"
   },
   {
    "duration": 16,
    "start_time": "2024-07-13T13:36:01.960Z"
   },
   {
    "duration": 16,
    "start_time": "2024-07-13T13:36:01.977Z"
   },
   {
    "duration": 7,
    "start_time": "2024-07-13T13:36:01.994Z"
   },
   {
    "duration": 3,
    "start_time": "2024-07-13T13:36:02.002Z"
   },
   {
    "duration": 34,
    "start_time": "2024-07-13T13:36:02.008Z"
   },
   {
    "duration": 13539,
    "start_time": "2024-07-13T13:36:02.043Z"
   },
   {
    "duration": 9,
    "start_time": "2024-07-13T13:36:15.584Z"
   },
   {
    "duration": 27,
    "start_time": "2024-07-13T13:36:15.594Z"
   },
   {
    "duration": 510,
    "start_time": "2024-07-13T13:36:15.622Z"
   },
   {
    "duration": 7,
    "start_time": "2024-07-13T13:36:16.134Z"
   },
   {
    "duration": 548,
    "start_time": "2024-07-13T13:36:16.142Z"
   },
   {
    "duration": 650,
    "start_time": "2024-07-13T13:36:16.692Z"
   },
   {
    "duration": 182,
    "start_time": "2024-07-13T13:36:17.345Z"
   },
   {
    "duration": 507,
    "start_time": "2024-07-13T13:36:17.529Z"
   },
   {
    "duration": 11,
    "start_time": "2024-07-13T13:36:18.037Z"
   },
   {
    "duration": 504,
    "start_time": "2024-07-13T13:36:18.050Z"
   },
   {
    "duration": 512,
    "start_time": "2024-07-13T13:36:18.555Z"
   },
   {
    "duration": 14,
    "start_time": "2024-07-13T13:36:19.068Z"
   },
   {
    "duration": 493,
    "start_time": "2024-07-13T13:36:19.084Z"
   },
   {
    "duration": 508,
    "start_time": "2024-07-13T13:36:19.579Z"
   },
   {
    "duration": 5,
    "start_time": "2024-07-13T13:36:20.089Z"
   },
   {
    "duration": 318,
    "start_time": "2024-07-13T13:36:20.096Z"
   },
   {
    "duration": 17,
    "start_time": "2024-07-13T13:36:20.432Z"
   },
   {
    "duration": 22,
    "start_time": "2024-07-13T13:36:20.451Z"
   },
   {
    "duration": 33,
    "start_time": "2024-07-13T13:36:20.475Z"
   },
   {
    "duration": 17,
    "start_time": "2024-07-13T13:36:20.510Z"
   },
   {
    "duration": 23,
    "start_time": "2024-07-13T13:36:20.529Z"
   },
   {
    "duration": 11,
    "start_time": "2024-07-13T13:36:20.553Z"
   },
   {
    "duration": 1916,
    "start_time": "2024-07-13T13:36:20.566Z"
   },
   {
    "duration": 18,
    "start_time": "2024-07-13T13:36:22.484Z"
   },
   {
    "duration": 15,
    "start_time": "2024-07-13T13:36:22.517Z"
   },
   {
    "duration": 3,
    "start_time": "2024-07-13T13:36:22.534Z"
   },
   {
    "duration": 3,
    "start_time": "2024-07-13T13:36:22.539Z"
   },
   {
    "duration": 7,
    "start_time": "2024-07-13T13:36:22.544Z"
   },
   {
    "duration": 5,
    "start_time": "2024-07-13T13:36:22.552Z"
   },
   {
    "duration": 5,
    "start_time": "2024-07-13T13:36:22.558Z"
   },
   {
    "duration": 6,
    "start_time": "2024-07-13T13:36:22.564Z"
   },
   {
    "duration": 5,
    "start_time": "2024-07-13T13:36:22.571Z"
   },
   {
    "duration": 8,
    "start_time": "2024-07-13T13:36:22.577Z"
   },
   {
    "duration": 4,
    "start_time": "2024-07-13T13:36:22.586Z"
   },
   {
    "duration": 311930,
    "start_time": "2024-07-13T13:36:22.591Z"
   },
   {
    "duration": 35,
    "start_time": "2024-07-13T13:41:34.533Z"
   },
   {
    "duration": 3,
    "start_time": "2024-07-13T13:41:34.570Z"
   },
   {
    "duration": 82,
    "start_time": "2024-07-13T13:41:34.574Z"
   },
   {
    "duration": 19,
    "start_time": "2024-07-13T13:41:34.658Z"
   },
   {
    "duration": 17,
    "start_time": "2024-07-13T13:41:34.679Z"
   },
   {
    "duration": 5,
    "start_time": "2024-07-13T13:41:34.698Z"
   },
   {
    "duration": 176,
    "start_time": "2024-07-13T13:41:34.704Z"
   },
   {
    "duration": 15,
    "start_time": "2024-07-13T13:41:34.882Z"
   },
   {
    "duration": 192,
    "start_time": "2024-07-13T13:41:34.899Z"
   },
   {
    "duration": 0,
    "start_time": "2024-07-13T13:41:35.093Z"
   },
   {
    "duration": 10,
    "start_time": "2024-07-13T13:43:42.897Z"
   },
   {
    "duration": 555806,
    "start_time": "2024-07-13T13:43:59.874Z"
   },
   {
    "duration": 20,
    "start_time": "2024-07-13T13:54:36.938Z"
   },
   {
    "duration": 10,
    "start_time": "2024-07-13T13:54:51.794Z"
   },
   {
    "duration": 8,
    "start_time": "2024-07-13T13:56:38.854Z"
   },
   {
    "duration": 4,
    "start_time": "2024-07-13T13:57:00.442Z"
   },
   {
    "duration": 18,
    "start_time": "2024-07-13T13:57:06.009Z"
   },
   {
    "duration": 23,
    "start_time": "2024-07-13T13:59:28.767Z"
   },
   {
    "duration": 17,
    "start_time": "2024-07-13T13:59:33.377Z"
   },
   {
    "duration": 10,
    "start_time": "2024-07-13T13:59:34.286Z"
   },
   {
    "duration": 18,
    "start_time": "2024-07-13T14:00:05.233Z"
   },
   {
    "duration": 10,
    "start_time": "2024-07-13T14:00:05.664Z"
   },
   {
    "duration": 12024,
    "start_time": "2024-07-13T14:03:16.309Z"
   },
   {
    "duration": 1636,
    "start_time": "2024-07-13T14:03:28.335Z"
   },
   {
    "duration": 3,
    "start_time": "2024-07-13T14:03:29.973Z"
   },
   {
    "duration": 100,
    "start_time": "2024-07-13T14:03:29.978Z"
   },
   {
    "duration": 15,
    "start_time": "2024-07-13T14:03:30.080Z"
   },
   {
    "duration": 61,
    "start_time": "2024-07-13T14:03:30.096Z"
   },
   {
    "duration": 147,
    "start_time": "2024-07-13T14:03:30.159Z"
   },
   {
    "duration": 63,
    "start_time": "2024-07-13T14:03:30.307Z"
   },
   {
    "duration": 74,
    "start_time": "2024-07-13T14:03:30.372Z"
   },
   {
    "duration": 30,
    "start_time": "2024-07-13T14:03:30.449Z"
   },
   {
    "duration": 55,
    "start_time": "2024-07-13T14:03:30.480Z"
   },
   {
    "duration": 43,
    "start_time": "2024-07-13T14:03:30.537Z"
   },
   {
    "duration": 59,
    "start_time": "2024-07-13T14:03:30.581Z"
   },
   {
    "duration": 50,
    "start_time": "2024-07-13T14:03:30.641Z"
   },
   {
    "duration": 52,
    "start_time": "2024-07-13T14:03:30.692Z"
   },
   {
    "duration": 242,
    "start_time": "2024-07-13T14:03:30.746Z"
   },
   {
    "duration": 165,
    "start_time": "2024-07-13T14:03:30.989Z"
   },
   {
    "duration": 79,
    "start_time": "2024-07-13T14:03:31.156Z"
   },
   {
    "duration": 33,
    "start_time": "2024-07-13T14:03:31.236Z"
   },
   {
    "duration": 37,
    "start_time": "2024-07-13T14:03:31.270Z"
   },
   {
    "duration": 34,
    "start_time": "2024-07-13T14:03:31.308Z"
   },
   {
    "duration": 74,
    "start_time": "2024-07-13T14:03:31.343Z"
   },
   {
    "duration": 33,
    "start_time": "2024-07-13T14:03:31.418Z"
   },
   {
    "duration": 47,
    "start_time": "2024-07-13T14:03:31.452Z"
   },
   {
    "duration": 46,
    "start_time": "2024-07-13T14:03:31.501Z"
   },
   {
    "duration": 50,
    "start_time": "2024-07-13T14:03:31.549Z"
   },
   {
    "duration": 11,
    "start_time": "2024-07-13T14:03:31.601Z"
   },
   {
    "duration": 27,
    "start_time": "2024-07-13T14:03:31.621Z"
   },
   {
    "duration": 14033,
    "start_time": "2024-07-13T14:03:31.649Z"
   },
   {
    "duration": 6,
    "start_time": "2024-07-13T14:03:45.684Z"
   },
   {
    "duration": 11,
    "start_time": "2024-07-13T14:03:45.691Z"
   },
   {
    "duration": 546,
    "start_time": "2024-07-13T14:03:45.703Z"
   },
   {
    "duration": 8,
    "start_time": "2024-07-13T14:03:46.251Z"
   },
   {
    "duration": 562,
    "start_time": "2024-07-13T14:03:46.260Z"
   },
   {
    "duration": 626,
    "start_time": "2024-07-13T14:03:46.837Z"
   },
   {
    "duration": 197,
    "start_time": "2024-07-13T14:03:47.464Z"
   },
   {
    "duration": 505,
    "start_time": "2024-07-13T14:03:47.663Z"
   },
   {
    "duration": 12,
    "start_time": "2024-07-13T14:03:48.170Z"
   },
   {
    "duration": 592,
    "start_time": "2024-07-13T14:03:48.184Z"
   },
   {
    "duration": 481,
    "start_time": "2024-07-13T14:03:48.777Z"
   },
   {
    "duration": 14,
    "start_time": "2024-07-13T14:03:49.259Z"
   },
   {
    "duration": 585,
    "start_time": "2024-07-13T14:03:49.274Z"
   },
   {
    "duration": 511,
    "start_time": "2024-07-13T14:03:49.861Z"
   },
   {
    "duration": 6,
    "start_time": "2024-07-13T14:03:50.374Z"
   },
   {
    "duration": 312,
    "start_time": "2024-07-13T14:03:50.381Z"
   },
   {
    "duration": 43,
    "start_time": "2024-07-13T14:03:50.695Z"
   },
   {
    "duration": 7,
    "start_time": "2024-07-13T14:03:50.748Z"
   },
   {
    "duration": 21,
    "start_time": "2024-07-13T14:03:50.756Z"
   },
   {
    "duration": 78,
    "start_time": "2024-07-13T14:03:50.779Z"
   },
   {
    "duration": 25,
    "start_time": "2024-07-13T14:03:50.859Z"
   },
   {
    "duration": 12,
    "start_time": "2024-07-13T14:03:50.885Z"
   },
   {
    "duration": 1958,
    "start_time": "2024-07-13T14:03:50.899Z"
   },
   {
    "duration": 13,
    "start_time": "2024-07-13T14:03:52.859Z"
   },
   {
    "duration": 10,
    "start_time": "2024-07-13T14:03:52.873Z"
   },
   {
    "duration": 21,
    "start_time": "2024-07-13T14:03:52.884Z"
   },
   {
    "duration": 3,
    "start_time": "2024-07-13T14:03:52.906Z"
   },
   {
    "duration": 19,
    "start_time": "2024-07-13T14:03:52.910Z"
   },
   {
    "duration": 11,
    "start_time": "2024-07-13T14:03:52.930Z"
   },
   {
    "duration": 4,
    "start_time": "2024-07-13T14:03:52.942Z"
   },
   {
    "duration": 5,
    "start_time": "2024-07-13T14:03:52.947Z"
   },
   {
    "duration": 6,
    "start_time": "2024-07-13T14:03:52.953Z"
   },
   {
    "duration": 6,
    "start_time": "2024-07-13T14:03:52.961Z"
   },
   {
    "duration": 3,
    "start_time": "2024-07-13T14:03:52.968Z"
   },
   {
    "duration": 311369,
    "start_time": "2024-07-13T14:03:52.972Z"
   },
   {
    "duration": 36,
    "start_time": "2024-07-13T14:09:04.343Z"
   },
   {
    "duration": 2,
    "start_time": "2024-07-13T14:09:04.380Z"
   },
   {
    "duration": 59,
    "start_time": "2024-07-13T14:09:04.383Z"
   },
   {
    "duration": 18,
    "start_time": "2024-07-13T14:09:04.443Z"
   },
   {
    "duration": 8,
    "start_time": "2024-07-13T14:09:04.462Z"
   },
   {
    "duration": 188,
    "start_time": "2024-07-13T14:09:04.471Z"
   },
   {
    "duration": 15,
    "start_time": "2024-07-13T14:09:04.660Z"
   },
   {
    "duration": 11,
    "start_time": "2024-07-13T14:09:04.677Z"
   },
   {
    "duration": 332133,
    "start_time": "2024-07-13T14:09:04.690Z"
   },
   {
    "duration": 12,
    "start_time": "2024-07-13T14:15:15.420Z"
   },
   {
    "duration": 3,
    "start_time": "2024-07-13T14:15:23.272Z"
   },
   {
    "duration": 6,
    "start_time": "2024-07-13T14:15:24.903Z"
   },
   {
    "duration": 10190,
    "start_time": "2024-07-13T14:15:29.186Z"
   },
   {
    "duration": 137831,
    "start_time": "2024-07-13T14:16:06.863Z"
   },
   {
    "duration": 32,
    "start_time": "2024-07-13T14:18:57.197Z"
   },
   {
    "duration": 2538,
    "start_time": "2024-07-13T14:19:00.041Z"
   },
   {
    "duration": 342084,
    "start_time": "2024-07-13T14:19:11.451Z"
   },
   {
    "duration": 4,
    "start_time": "2024-07-13T14:25:26.521Z"
   },
   {
    "duration": 206263,
    "start_time": "2024-07-13T14:25:42.231Z"
   },
   {
    "duration": 33,
    "start_time": "2024-07-13T14:29:08.496Z"
   },
   {
    "duration": 9,
    "start_time": "2024-07-13T14:29:25.037Z"
   },
   {
    "duration": 8,
    "start_time": "2024-07-13T14:31:16.917Z"
   },
   {
    "duration": 9,
    "start_time": "2024-07-13T14:31:17.650Z"
   },
   {
    "duration": 15,
    "start_time": "2024-07-13T14:31:25.288Z"
   },
   {
    "duration": 10,
    "start_time": "2024-07-13T14:32:04.930Z"
   },
   {
    "duration": 2,
    "start_time": "2024-07-13T14:32:41.701Z"
   },
   {
    "duration": 12,
    "start_time": "2024-07-13T14:32:43.238Z"
   },
   {
    "duration": 9,
    "start_time": "2024-07-13T14:32:58.958Z"
   },
   {
    "duration": 5,
    "start_time": "2024-07-13T14:34:05.345Z"
   },
   {
    "duration": 4,
    "start_time": "2024-07-13T14:34:21.260Z"
   },
   {
    "duration": 4,
    "start_time": "2024-07-13T14:34:52.966Z"
   },
   {
    "duration": 116708,
    "start_time": "2024-07-13T14:35:22.587Z"
   },
   {
    "duration": 18,
    "start_time": "2024-07-13T14:37:22.026Z"
   },
   {
    "duration": 3,
    "start_time": "2024-07-13T14:38:14.527Z"
   },
   {
    "duration": 17,
    "start_time": "2024-07-13T14:38:17.970Z"
   },
   {
    "duration": 221,
    "start_time": "2024-07-13T14:41:49.129Z"
   },
   {
    "duration": 3,
    "start_time": "2024-07-13T14:43:01.943Z"
   },
   {
    "duration": 13,
    "start_time": "2024-07-13T14:43:06.085Z"
   },
   {
    "duration": 111610,
    "start_time": "2024-07-13T14:44:43.277Z"
   },
   {
    "duration": 29,
    "start_time": "2024-07-13T14:46:36.200Z"
   },
   {
    "duration": 553151,
    "start_time": "2024-07-13T14:47:43.352Z"
   },
   {
    "duration": 21,
    "start_time": "2024-07-13T14:56:58.078Z"
   },
   {
    "duration": 226536,
    "start_time": "2024-07-13T14:59:56.819Z"
   },
   {
    "duration": 11,
    "start_time": "2024-07-13T15:10:38.823Z"
   },
   {
    "duration": 4,
    "start_time": "2024-07-13T15:24:35.311Z"
   },
   {
    "duration": 57795,
    "start_time": "2024-07-13T15:24:35.838Z"
   },
   {
    "duration": 13,
    "start_time": "2024-07-13T15:26:19.233Z"
   },
   {
    "duration": 14,
    "start_time": "2024-07-13T15:26:42.668Z"
   },
   {
    "duration": 16,
    "start_time": "2024-07-13T15:27:06.085Z"
   },
   {
    "duration": 14,
    "start_time": "2024-07-13T15:27:11.908Z"
   },
   {
    "duration": 616,
    "start_time": "2024-07-13T15:28:53.847Z"
   },
   {
    "duration": 142,
    "start_time": "2024-07-13T15:28:56.433Z"
   },
   {
    "duration": 150,
    "start_time": "2024-07-13T15:29:07.348Z"
   },
   {
    "duration": 31,
    "start_time": "2024-07-13T15:31:53.719Z"
   },
   {
    "duration": 7,
    "start_time": "2024-07-13T15:32:05.159Z"
   },
   {
    "duration": 84079,
    "start_time": "2024-07-13T15:32:15.099Z"
   },
   {
    "duration": 19,
    "start_time": "2024-07-13T15:35:34.378Z"
   },
   {
    "duration": 12,
    "start_time": "2024-07-13T15:37:00.345Z"
   },
   {
    "duration": 13,
    "start_time": "2024-07-13T15:37:01.722Z"
   },
   {
    "duration": 95101,
    "start_time": "2024-07-13T15:37:02.390Z"
   },
   {
    "duration": 13,
    "start_time": "2024-07-13T15:39:22.831Z"
   },
   {
    "duration": 7,
    "start_time": "2024-07-13T15:39:24.642Z"
   },
   {
    "duration": 102887,
    "start_time": "2024-07-13T15:39:25.450Z"
   },
   {
    "duration": 27,
    "start_time": "2024-07-13T15:41:13.534Z"
   },
   {
    "duration": 19,
    "start_time": "2024-07-13T15:43:51.548Z"
   },
   {
    "duration": 9,
    "start_time": "2024-07-13T15:43:55.454Z"
   },
   {
    "duration": 92077,
    "start_time": "2024-07-13T15:44:02.626Z"
   },
   {
    "duration": 32,
    "start_time": "2024-07-13T15:45:50.196Z"
   },
   {
    "duration": 13,
    "start_time": "2024-07-13T15:50:55.667Z"
   },
   {
    "duration": 14822,
    "start_time": "2024-07-13T15:51:13.985Z"
   },
   {
    "duration": 2043,
    "start_time": "2024-07-13T15:51:28.810Z"
   },
   {
    "duration": 12,
    "start_time": "2024-07-13T15:51:30.865Z"
   },
   {
    "duration": 157,
    "start_time": "2024-07-13T15:51:30.880Z"
   },
   {
    "duration": 35,
    "start_time": "2024-07-13T15:51:31.038Z"
   },
   {
    "duration": 73,
    "start_time": "2024-07-13T15:51:31.076Z"
   },
   {
    "duration": 35,
    "start_time": "2024-07-13T15:51:31.153Z"
   },
   {
    "duration": 59,
    "start_time": "2024-07-13T15:51:31.190Z"
   },
   {
    "duration": 26,
    "start_time": "2024-07-13T15:51:31.250Z"
   },
   {
    "duration": 51,
    "start_time": "2024-07-13T15:51:31.280Z"
   },
   {
    "duration": 29,
    "start_time": "2024-07-13T15:51:31.344Z"
   },
   {
    "duration": 79,
    "start_time": "2024-07-13T15:51:31.378Z"
   },
   {
    "duration": 20,
    "start_time": "2024-07-13T15:51:31.466Z"
   },
   {
    "duration": 41,
    "start_time": "2024-07-13T15:51:31.488Z"
   },
   {
    "duration": 16,
    "start_time": "2024-07-13T15:51:31.537Z"
   },
   {
    "duration": 21,
    "start_time": "2024-07-13T15:51:31.557Z"
   },
   {
    "duration": 24,
    "start_time": "2024-07-13T15:51:31.580Z"
   },
   {
    "duration": 25,
    "start_time": "2024-07-13T15:51:31.606Z"
   },
   {
    "duration": 24,
    "start_time": "2024-07-13T15:51:31.633Z"
   },
   {
    "duration": 9,
    "start_time": "2024-07-13T15:51:31.658Z"
   },
   {
    "duration": 16,
    "start_time": "2024-07-13T15:51:31.669Z"
   },
   {
    "duration": 6,
    "start_time": "2024-07-13T15:51:31.687Z"
   },
   {
    "duration": 79,
    "start_time": "2024-07-13T15:51:31.695Z"
   },
   {
    "duration": 6,
    "start_time": "2024-07-13T15:51:31.776Z"
   },
   {
    "duration": 9,
    "start_time": "2024-07-13T15:51:31.783Z"
   },
   {
    "duration": 11,
    "start_time": "2024-07-13T15:51:31.794Z"
   },
   {
    "duration": 18,
    "start_time": "2024-07-13T15:51:31.807Z"
   },
   {
    "duration": 48,
    "start_time": "2024-07-13T15:51:31.837Z"
   },
   {
    "duration": 18846,
    "start_time": "2024-07-13T15:51:31.887Z"
   },
   {
    "duration": 26,
    "start_time": "2024-07-13T15:51:50.735Z"
   },
   {
    "duration": 33,
    "start_time": "2024-07-13T15:51:50.762Z"
   },
   {
    "duration": 705,
    "start_time": "2024-07-13T15:51:50.797Z"
   },
   {
    "duration": 41,
    "start_time": "2024-07-13T15:51:51.504Z"
   },
   {
    "duration": 568,
    "start_time": "2024-07-13T15:51:51.554Z"
   },
   {
    "duration": 802,
    "start_time": "2024-07-13T15:51:52.123Z"
   },
   {
    "duration": 240,
    "start_time": "2024-07-13T15:51:52.929Z"
   },
   {
    "duration": 579,
    "start_time": "2024-07-13T15:51:53.174Z"
   },
   {
    "duration": 23,
    "start_time": "2024-07-13T15:51:53.758Z"
   },
   {
    "duration": 605,
    "start_time": "2024-07-13T15:51:53.785Z"
   },
   {
    "duration": 604,
    "start_time": "2024-07-13T15:51:54.391Z"
   },
   {
    "duration": 49,
    "start_time": "2024-07-13T15:51:54.996Z"
   },
   {
    "duration": 711,
    "start_time": "2024-07-13T15:51:55.054Z"
   },
   {
    "duration": 699,
    "start_time": "2024-07-13T15:51:55.777Z"
   },
   {
    "duration": 17,
    "start_time": "2024-07-13T15:51:56.481Z"
   },
   {
    "duration": 481,
    "start_time": "2024-07-13T15:51:56.500Z"
   },
   {
    "duration": 31,
    "start_time": "2024-07-13T15:51:56.988Z"
   },
   {
    "duration": 20,
    "start_time": "2024-07-13T15:51:57.025Z"
   },
   {
    "duration": 29,
    "start_time": "2024-07-13T15:51:57.048Z"
   },
   {
    "duration": 5,
    "start_time": "2024-07-13T15:51:57.079Z"
   },
   {
    "duration": 21,
    "start_time": "2024-07-13T15:51:57.090Z"
   },
   {
    "duration": 7,
    "start_time": "2024-07-13T15:51:57.121Z"
   },
   {
    "duration": 2700,
    "start_time": "2024-07-13T15:51:57.130Z"
   },
   {
    "duration": 47,
    "start_time": "2024-07-13T15:51:59.841Z"
   },
   {
    "duration": 6,
    "start_time": "2024-07-13T15:51:59.889Z"
   },
   {
    "duration": 5,
    "start_time": "2024-07-13T15:51:59.896Z"
   },
   {
    "duration": 4,
    "start_time": "2024-07-13T15:51:59.902Z"
   },
   {
    "duration": 6,
    "start_time": "2024-07-13T15:51:59.908Z"
   },
   {
    "duration": 4,
    "start_time": "2024-07-13T15:51:59.918Z"
   },
   {
    "duration": 7,
    "start_time": "2024-07-13T15:51:59.923Z"
   },
   {
    "duration": 11,
    "start_time": "2024-07-13T15:51:59.932Z"
   },
   {
    "duration": 9,
    "start_time": "2024-07-13T15:51:59.944Z"
   },
   {
    "duration": 14,
    "start_time": "2024-07-13T15:51:59.954Z"
   },
   {
    "duration": 12,
    "start_time": "2024-07-13T15:51:59.973Z"
   },
   {
    "duration": 422809,
    "start_time": "2024-07-13T15:51:59.988Z"
   },
   {
    "duration": 55,
    "start_time": "2024-07-13T15:59:02.798Z"
   },
   {
    "duration": 12,
    "start_time": "2024-07-13T15:59:02.854Z"
   },
   {
    "duration": 20,
    "start_time": "2024-07-13T15:59:02.867Z"
   },
   {
    "duration": 18,
    "start_time": "2024-07-13T15:59:02.889Z"
   },
   {
    "duration": 21,
    "start_time": "2024-07-13T15:59:02.908Z"
   },
   {
    "duration": 238,
    "start_time": "2024-07-13T15:59:02.941Z"
   },
   {
    "duration": 26,
    "start_time": "2024-07-13T15:59:03.181Z"
   },
   {
    "duration": 20,
    "start_time": "2024-07-13T15:59:03.208Z"
   },
   {
    "duration": 205,
    "start_time": "2024-07-13T15:59:03.249Z"
   },
   {
    "duration": 0,
    "start_time": "2024-07-13T15:59:03.456Z"
   },
   {
    "duration": 0,
    "start_time": "2024-07-13T15:59:03.456Z"
   },
   {
    "duration": 61,
    "start_time": "2024-07-13T16:04:01.534Z"
   },
   {
    "duration": 50186,
    "start_time": "2024-07-13T16:04:05.455Z"
   },
   {
    "duration": 16,
    "start_time": "2024-07-13T16:04:57.085Z"
   },
   {
    "duration": 15,
    "start_time": "2024-07-13T16:05:03.081Z"
   },
   {
    "duration": 10,
    "start_time": "2024-07-13T16:06:41.280Z"
   },
   {
    "duration": 114159,
    "start_time": "2024-07-13T16:06:42.333Z"
   },
   {
    "duration": 11,
    "start_time": "2024-07-13T16:49:45.779Z"
   },
   {
    "duration": 7,
    "start_time": "2024-07-13T16:49:58.296Z"
   },
   {
    "duration": 6,
    "start_time": "2024-07-13T16:50:02.057Z"
   },
   {
    "duration": 10,
    "start_time": "2024-07-13T17:15:23.842Z"
   },
   {
    "duration": 11,
    "start_time": "2024-07-13T17:15:42.355Z"
   },
   {
    "duration": 14,
    "start_time": "2024-07-13T17:15:45.259Z"
   },
   {
    "duration": 13,
    "start_time": "2024-07-13T17:17:31.268Z"
   },
   {
    "duration": 13,
    "start_time": "2024-07-13T17:17:35.837Z"
   },
   {
    "duration": 388,
    "start_time": "2024-07-13T17:29:11.896Z"
   },
   {
    "duration": 353,
    "start_time": "2024-07-13T17:29:27.435Z"
   },
   {
    "duration": 133,
    "start_time": "2024-07-13T17:33:05.788Z"
   },
   {
    "duration": 13,
    "start_time": "2024-07-13T17:33:27.607Z"
   },
   {
    "duration": 207514,
    "start_time": "2024-07-13T17:33:30.274Z"
   },
   {
    "duration": 11,
    "start_time": "2024-07-13T17:37:04.192Z"
   },
   {
    "duration": 12,
    "start_time": "2024-07-13T17:37:51.821Z"
   },
   {
    "duration": 96052,
    "start_time": "2024-07-13T17:37:54.201Z"
   },
   {
    "duration": 14,
    "start_time": "2024-07-13T17:39:31.275Z"
   },
   {
    "duration": 12,
    "start_time": "2024-07-13T17:39:48.510Z"
   },
   {
    "duration": 9,
    "start_time": "2024-07-13T17:39:58.168Z"
   },
   {
    "duration": 28584,
    "start_time": "2024-07-13T17:39:59.243Z"
   },
   {
    "duration": 0,
    "start_time": "2024-07-13T17:40:27.829Z"
   },
   {
    "duration": 5,
    "start_time": "2024-07-13T17:40:33.724Z"
   },
   {
    "duration": 11428,
    "start_time": "2024-07-13T17:41:00.023Z"
   },
   {
    "duration": 1532,
    "start_time": "2024-07-13T17:41:11.454Z"
   },
   {
    "duration": 4,
    "start_time": "2024-07-13T17:41:12.987Z"
   },
   {
    "duration": 89,
    "start_time": "2024-07-13T17:41:12.992Z"
   },
   {
    "duration": 14,
    "start_time": "2024-07-13T17:41:13.082Z"
   },
   {
    "duration": 18,
    "start_time": "2024-07-13T17:41:13.098Z"
   },
   {
    "duration": 8,
    "start_time": "2024-07-13T17:41:13.117Z"
   },
   {
    "duration": 6,
    "start_time": "2024-07-13T17:41:13.126Z"
   },
   {
    "duration": 6,
    "start_time": "2024-07-13T17:41:13.133Z"
   },
   {
    "duration": 4,
    "start_time": "2024-07-13T17:41:13.142Z"
   },
   {
    "duration": 11,
    "start_time": "2024-07-13T17:41:13.147Z"
   },
   {
    "duration": 3,
    "start_time": "2024-07-13T17:41:13.159Z"
   },
   {
    "duration": 10,
    "start_time": "2024-07-13T17:41:13.164Z"
   },
   {
    "duration": 30,
    "start_time": "2024-07-13T17:41:13.176Z"
   },
   {
    "duration": 14,
    "start_time": "2024-07-13T17:41:13.208Z"
   },
   {
    "duration": 15,
    "start_time": "2024-07-13T17:41:13.223Z"
   },
   {
    "duration": 6,
    "start_time": "2024-07-13T17:41:13.240Z"
   },
   {
    "duration": 13,
    "start_time": "2024-07-13T17:41:13.248Z"
   },
   {
    "duration": 13,
    "start_time": "2024-07-13T17:41:13.263Z"
   },
   {
    "duration": 13,
    "start_time": "2024-07-13T17:41:13.277Z"
   },
   {
    "duration": 20,
    "start_time": "2024-07-13T17:41:13.291Z"
   },
   {
    "duration": 9,
    "start_time": "2024-07-13T17:41:13.313Z"
   },
   {
    "duration": 17,
    "start_time": "2024-07-13T17:41:13.324Z"
   },
   {
    "duration": 4,
    "start_time": "2024-07-13T17:41:13.342Z"
   },
   {
    "duration": 8,
    "start_time": "2024-07-13T17:41:13.348Z"
   },
   {
    "duration": 22,
    "start_time": "2024-07-13T17:41:13.358Z"
   },
   {
    "duration": 2,
    "start_time": "2024-07-13T17:41:13.381Z"
   },
   {
    "duration": 14,
    "start_time": "2024-07-13T17:41:13.387Z"
   },
   {
    "duration": 12343,
    "start_time": "2024-07-13T17:41:13.403Z"
   },
   {
    "duration": 5,
    "start_time": "2024-07-13T17:41:25.748Z"
   },
   {
    "duration": 16,
    "start_time": "2024-07-13T17:41:25.755Z"
   },
   {
    "duration": 466,
    "start_time": "2024-07-13T17:41:25.773Z"
   },
   {
    "duration": 6,
    "start_time": "2024-07-13T17:41:26.240Z"
   },
   {
    "duration": 495,
    "start_time": "2024-07-13T17:41:26.247Z"
   },
   {
    "duration": 589,
    "start_time": "2024-07-13T17:41:26.743Z"
   },
   {
    "duration": 207,
    "start_time": "2024-07-13T17:41:27.333Z"
   },
   {
    "duration": 802,
    "start_time": "2024-07-13T17:41:27.541Z"
   },
   {
    "duration": 11,
    "start_time": "2024-07-13T17:41:28.345Z"
   },
   {
    "duration": 663,
    "start_time": "2024-07-13T17:41:28.357Z"
   },
   {
    "duration": 514,
    "start_time": "2024-07-13T17:41:29.021Z"
   },
   {
    "duration": 14,
    "start_time": "2024-07-13T17:41:29.536Z"
   },
   {
    "duration": 464,
    "start_time": "2024-07-13T17:41:29.551Z"
   },
   {
    "duration": 519,
    "start_time": "2024-07-13T17:41:30.017Z"
   },
   {
    "duration": 5,
    "start_time": "2024-07-13T17:41:30.538Z"
   },
   {
    "duration": 370,
    "start_time": "2024-07-13T17:41:30.544Z"
   },
   {
    "duration": 18,
    "start_time": "2024-07-13T17:41:30.915Z"
   },
   {
    "duration": 138,
    "start_time": "2024-07-13T17:41:30.934Z"
   },
   {
    "duration": 45,
    "start_time": "2024-07-13T17:41:31.073Z"
   },
   {
    "duration": 16,
    "start_time": "2024-07-13T17:41:31.120Z"
   },
   {
    "duration": 60,
    "start_time": "2024-07-13T17:41:31.138Z"
   },
   {
    "duration": 62,
    "start_time": "2024-07-13T17:41:31.200Z"
   },
   {
    "duration": 1895,
    "start_time": "2024-07-13T17:41:31.264Z"
   },
   {
    "duration": 12,
    "start_time": "2024-07-13T17:41:33.161Z"
   },
   {
    "duration": 7,
    "start_time": "2024-07-13T17:41:33.174Z"
   },
   {
    "duration": 4,
    "start_time": "2024-07-13T17:41:33.182Z"
   },
   {
    "duration": 19,
    "start_time": "2024-07-13T17:41:33.212Z"
   },
   {
    "duration": 5,
    "start_time": "2024-07-13T17:41:33.233Z"
   },
   {
    "duration": 4,
    "start_time": "2024-07-13T17:41:33.239Z"
   },
   {
    "duration": 4,
    "start_time": "2024-07-13T17:41:33.244Z"
   },
   {
    "duration": 4,
    "start_time": "2024-07-13T17:41:33.250Z"
   },
   {
    "duration": 7,
    "start_time": "2024-07-13T17:41:33.255Z"
   },
   {
    "duration": 51,
    "start_time": "2024-07-13T17:41:33.263Z"
   },
   {
    "duration": 5,
    "start_time": "2024-07-13T17:41:33.315Z"
   },
   {
    "duration": 53225,
    "start_time": "2024-07-13T17:41:33.321Z"
   },
   {
    "duration": 0,
    "start_time": "2024-07-13T17:42:26.548Z"
   },
   {
    "duration": 0,
    "start_time": "2024-07-13T17:42:26.549Z"
   },
   {
    "duration": 0,
    "start_time": "2024-07-13T17:42:26.550Z"
   },
   {
    "duration": 0,
    "start_time": "2024-07-13T17:42:26.550Z"
   },
   {
    "duration": 0,
    "start_time": "2024-07-13T17:42:26.552Z"
   },
   {
    "duration": 0,
    "start_time": "2024-07-13T17:42:26.553Z"
   },
   {
    "duration": 0,
    "start_time": "2024-07-13T17:42:26.553Z"
   },
   {
    "duration": 0,
    "start_time": "2024-07-13T17:42:26.554Z"
   },
   {
    "duration": 0,
    "start_time": "2024-07-13T17:42:26.555Z"
   },
   {
    "duration": 1,
    "start_time": "2024-07-13T17:42:26.555Z"
   },
   {
    "duration": 12351,
    "start_time": "2024-07-13T17:43:49.755Z"
   },
   {
    "duration": 1655,
    "start_time": "2024-07-13T17:44:02.108Z"
   },
   {
    "duration": 4,
    "start_time": "2024-07-13T17:44:03.765Z"
   },
   {
    "duration": 84,
    "start_time": "2024-07-13T17:44:03.771Z"
   },
   {
    "duration": 18,
    "start_time": "2024-07-13T17:44:03.856Z"
   },
   {
    "duration": 18,
    "start_time": "2024-07-13T17:44:03.875Z"
   },
   {
    "duration": 9,
    "start_time": "2024-07-13T17:44:03.894Z"
   },
   {
    "duration": 7,
    "start_time": "2024-07-13T17:44:03.904Z"
   },
   {
    "duration": 14,
    "start_time": "2024-07-13T17:44:03.912Z"
   },
   {
    "duration": 4,
    "start_time": "2024-07-13T17:44:03.929Z"
   },
   {
    "duration": 11,
    "start_time": "2024-07-13T17:44:03.934Z"
   },
   {
    "duration": 48,
    "start_time": "2024-07-13T17:44:03.947Z"
   },
   {
    "duration": 59,
    "start_time": "2024-07-13T17:44:03.997Z"
   },
   {
    "duration": 10,
    "start_time": "2024-07-13T17:44:04.057Z"
   },
   {
    "duration": 6,
    "start_time": "2024-07-13T17:44:04.068Z"
   },
   {
    "duration": 5,
    "start_time": "2024-07-13T17:44:04.076Z"
   },
   {
    "duration": 15,
    "start_time": "2024-07-13T17:44:04.082Z"
   },
   {
    "duration": 6,
    "start_time": "2024-07-13T17:44:04.098Z"
   },
   {
    "duration": 10,
    "start_time": "2024-07-13T17:44:04.106Z"
   },
   {
    "duration": 8,
    "start_time": "2024-07-13T17:44:04.118Z"
   },
   {
    "duration": 10,
    "start_time": "2024-07-13T17:44:04.127Z"
   },
   {
    "duration": 9,
    "start_time": "2024-07-13T17:44:04.138Z"
   },
   {
    "duration": 14,
    "start_time": "2024-07-13T17:44:04.148Z"
   },
   {
    "duration": 9,
    "start_time": "2024-07-13T17:44:04.163Z"
   },
   {
    "duration": 12,
    "start_time": "2024-07-13T17:44:04.173Z"
   },
   {
    "duration": 6,
    "start_time": "2024-07-13T17:44:04.186Z"
   },
   {
    "duration": 3,
    "start_time": "2024-07-13T17:44:04.194Z"
   },
   {
    "duration": 20,
    "start_time": "2024-07-13T17:44:04.215Z"
   },
   {
    "duration": 13294,
    "start_time": "2024-07-13T17:44:04.236Z"
   },
   {
    "duration": 6,
    "start_time": "2024-07-13T17:44:17.532Z"
   },
   {
    "duration": 25,
    "start_time": "2024-07-13T17:44:17.539Z"
   },
   {
    "duration": 497,
    "start_time": "2024-07-13T17:44:17.565Z"
   },
   {
    "duration": 6,
    "start_time": "2024-07-13T17:44:18.064Z"
   },
   {
    "duration": 534,
    "start_time": "2024-07-13T17:44:18.071Z"
   },
   {
    "duration": 641,
    "start_time": "2024-07-13T17:44:18.606Z"
   },
   {
    "duration": 180,
    "start_time": "2024-07-13T17:44:19.248Z"
   },
   {
    "duration": 522,
    "start_time": "2024-07-13T17:44:19.429Z"
   },
   {
    "duration": 12,
    "start_time": "2024-07-13T17:44:19.952Z"
   },
   {
    "duration": 620,
    "start_time": "2024-07-13T17:44:19.965Z"
   },
   {
    "duration": 535,
    "start_time": "2024-07-13T17:44:20.586Z"
   },
   {
    "duration": 17,
    "start_time": "2024-07-13T17:44:21.125Z"
   },
   {
    "duration": 504,
    "start_time": "2024-07-13T17:44:21.143Z"
   },
   {
    "duration": 534,
    "start_time": "2024-07-13T17:44:21.648Z"
   },
   {
    "duration": 5,
    "start_time": "2024-07-13T17:44:22.183Z"
   },
   {
    "duration": 304,
    "start_time": "2024-07-13T17:44:22.189Z"
   },
   {
    "duration": 19,
    "start_time": "2024-07-13T17:44:22.494Z"
   },
   {
    "duration": 8,
    "start_time": "2024-07-13T17:44:22.515Z"
   },
   {
    "duration": 17,
    "start_time": "2024-07-13T17:44:22.524Z"
   },
   {
    "duration": 3,
    "start_time": "2024-07-13T17:44:22.543Z"
   },
   {
    "duration": 11,
    "start_time": "2024-07-13T17:44:22.547Z"
   },
   {
    "duration": 4,
    "start_time": "2024-07-13T17:44:22.560Z"
   },
   {
    "duration": 1955,
    "start_time": "2024-07-13T17:44:22.566Z"
   },
   {
    "duration": 17,
    "start_time": "2024-07-13T17:44:24.523Z"
   },
   {
    "duration": 19,
    "start_time": "2024-07-13T17:44:24.542Z"
   },
   {
    "duration": 4,
    "start_time": "2024-07-13T17:44:24.562Z"
   },
   {
    "duration": 11,
    "start_time": "2024-07-13T17:44:24.567Z"
   },
   {
    "duration": 5,
    "start_time": "2024-07-13T17:44:24.579Z"
   },
   {
    "duration": 16,
    "start_time": "2024-07-13T17:44:24.586Z"
   },
   {
    "duration": 4,
    "start_time": "2024-07-13T17:44:24.604Z"
   },
   {
    "duration": 6,
    "start_time": "2024-07-13T17:44:24.609Z"
   },
   {
    "duration": 11,
    "start_time": "2024-07-13T17:44:24.616Z"
   },
   {
    "duration": 9,
    "start_time": "2024-07-13T17:44:24.629Z"
   },
   {
    "duration": 3,
    "start_time": "2024-07-13T17:44:24.639Z"
   },
   {
    "duration": 123988,
    "start_time": "2024-07-13T17:44:24.643Z"
   },
   {
    "duration": 0,
    "start_time": "2024-07-13T17:46:28.632Z"
   },
   {
    "duration": 0,
    "start_time": "2024-07-13T17:46:28.634Z"
   },
   {
    "duration": 0,
    "start_time": "2024-07-13T17:46:28.635Z"
   },
   {
    "duration": 0,
    "start_time": "2024-07-13T17:46:28.636Z"
   },
   {
    "duration": 0,
    "start_time": "2024-07-13T17:46:28.637Z"
   },
   {
    "duration": 0,
    "start_time": "2024-07-13T17:46:28.638Z"
   },
   {
    "duration": 0,
    "start_time": "2024-07-13T17:46:28.639Z"
   },
   {
    "duration": 0,
    "start_time": "2024-07-13T17:46:28.640Z"
   },
   {
    "duration": 0,
    "start_time": "2024-07-13T17:46:28.641Z"
   },
   {
    "duration": 0,
    "start_time": "2024-07-13T17:46:28.642Z"
   },
   {
    "duration": 11264,
    "start_time": "2024-07-13T17:49:07.685Z"
   },
   {
    "duration": 1562,
    "start_time": "2024-07-13T17:49:18.952Z"
   },
   {
    "duration": 4,
    "start_time": "2024-07-13T17:49:20.515Z"
   },
   {
    "duration": 93,
    "start_time": "2024-07-13T17:49:20.521Z"
   },
   {
    "duration": 16,
    "start_time": "2024-07-13T17:49:20.615Z"
   },
   {
    "duration": 50,
    "start_time": "2024-07-13T17:49:20.632Z"
   },
   {
    "duration": 37,
    "start_time": "2024-07-13T17:49:20.684Z"
   },
   {
    "duration": 8,
    "start_time": "2024-07-13T17:49:20.723Z"
   },
   {
    "duration": 17,
    "start_time": "2024-07-13T17:49:20.732Z"
   },
   {
    "duration": 7,
    "start_time": "2024-07-13T17:49:20.753Z"
   },
   {
    "duration": 16,
    "start_time": "2024-07-13T17:49:20.762Z"
   },
   {
    "duration": 5,
    "start_time": "2024-07-13T17:49:20.779Z"
   },
   {
    "duration": 50,
    "start_time": "2024-07-13T17:49:20.786Z"
   },
   {
    "duration": 13,
    "start_time": "2024-07-13T17:49:20.837Z"
   },
   {
    "duration": 14,
    "start_time": "2024-07-13T17:49:20.852Z"
   },
   {
    "duration": 8,
    "start_time": "2024-07-13T17:49:20.868Z"
   },
   {
    "duration": 24,
    "start_time": "2024-07-13T17:49:20.878Z"
   },
   {
    "duration": 7,
    "start_time": "2024-07-13T17:49:20.903Z"
   },
   {
    "duration": 145,
    "start_time": "2024-07-13T17:49:20.912Z"
   },
   {
    "duration": 18,
    "start_time": "2024-07-13T17:49:21.058Z"
   },
   {
    "duration": 9,
    "start_time": "2024-07-13T17:49:21.078Z"
   },
   {
    "duration": 5,
    "start_time": "2024-07-13T17:49:21.088Z"
   },
   {
    "duration": 9,
    "start_time": "2024-07-13T17:49:21.095Z"
   },
   {
    "duration": 5,
    "start_time": "2024-07-13T17:49:21.106Z"
   },
   {
    "duration": 10,
    "start_time": "2024-07-13T17:49:21.112Z"
   },
   {
    "duration": 7,
    "start_time": "2024-07-13T17:49:21.123Z"
   },
   {
    "duration": 2,
    "start_time": "2024-07-13T17:49:21.131Z"
   },
   {
    "duration": 14,
    "start_time": "2024-07-13T17:49:21.137Z"
   },
   {
    "duration": 12450,
    "start_time": "2024-07-13T17:49:21.152Z"
   },
   {
    "duration": 5,
    "start_time": "2024-07-13T17:49:33.604Z"
   },
   {
    "duration": 18,
    "start_time": "2024-07-13T17:49:33.611Z"
   },
   {
    "duration": 485,
    "start_time": "2024-07-13T17:49:33.631Z"
   },
   {
    "duration": 6,
    "start_time": "2024-07-13T17:49:34.117Z"
   },
   {
    "duration": 507,
    "start_time": "2024-07-13T17:49:34.124Z"
   },
   {
    "duration": 599,
    "start_time": "2024-07-13T17:49:34.632Z"
   },
   {
    "duration": 177,
    "start_time": "2024-07-13T17:49:35.233Z"
   },
   {
    "duration": 502,
    "start_time": "2024-07-13T17:49:35.412Z"
   },
   {
    "duration": 11,
    "start_time": "2024-07-13T17:49:35.916Z"
   },
   {
    "duration": 511,
    "start_time": "2024-07-13T17:49:35.928Z"
   },
   {
    "duration": 491,
    "start_time": "2024-07-13T17:49:36.440Z"
   },
   {
    "duration": 20,
    "start_time": "2024-07-13T17:49:36.932Z"
   },
   {
    "duration": 490,
    "start_time": "2024-07-13T17:49:36.954Z"
   },
   {
    "duration": 508,
    "start_time": "2024-07-13T17:49:37.446Z"
   },
   {
    "duration": 5,
    "start_time": "2024-07-13T17:49:37.956Z"
   },
   {
    "duration": 324,
    "start_time": "2024-07-13T17:49:37.962Z"
   },
   {
    "duration": 17,
    "start_time": "2024-07-13T17:49:38.288Z"
   },
   {
    "duration": 3,
    "start_time": "2024-07-13T17:49:38.312Z"
   },
   {
    "duration": 14,
    "start_time": "2024-07-13T17:49:38.316Z"
   },
   {
    "duration": 2,
    "start_time": "2024-07-13T17:49:38.332Z"
   },
   {
    "duration": 34,
    "start_time": "2024-07-13T17:49:38.336Z"
   },
   {
    "duration": 5,
    "start_time": "2024-07-13T17:49:38.371Z"
   },
   {
    "duration": 1972,
    "start_time": "2024-07-13T17:49:38.377Z"
   },
   {
    "duration": 12,
    "start_time": "2024-07-13T17:49:40.351Z"
   },
   {
    "duration": 5,
    "start_time": "2024-07-13T17:49:40.364Z"
   },
   {
    "duration": 14,
    "start_time": "2024-07-13T17:49:40.370Z"
   },
   {
    "duration": 4,
    "start_time": "2024-07-13T17:49:40.385Z"
   },
   {
    "duration": 11,
    "start_time": "2024-07-13T17:49:40.390Z"
   },
   {
    "duration": 14,
    "start_time": "2024-07-13T17:49:40.402Z"
   },
   {
    "duration": 15,
    "start_time": "2024-07-13T17:49:40.418Z"
   },
   {
    "duration": 7,
    "start_time": "2024-07-13T17:49:40.435Z"
   },
   {
    "duration": 8,
    "start_time": "2024-07-13T17:49:40.443Z"
   },
   {
    "duration": 9,
    "start_time": "2024-07-13T17:49:40.453Z"
   },
   {
    "duration": 4,
    "start_time": "2024-07-13T17:49:40.463Z"
   },
   {
    "duration": 273558,
    "start_time": "2024-07-13T17:49:40.468Z"
   },
   {
    "duration": 30,
    "start_time": "2024-07-13T17:54:14.028Z"
   },
   {
    "duration": 59,
    "start_time": "2024-07-13T17:54:14.059Z"
   },
   {
    "duration": 163,
    "start_time": "2024-07-13T17:54:14.120Z"
   },
   {
    "duration": 0,
    "start_time": "2024-07-13T17:54:14.284Z"
   },
   {
    "duration": 0,
    "start_time": "2024-07-13T17:54:14.285Z"
   },
   {
    "duration": 0,
    "start_time": "2024-07-13T17:54:14.286Z"
   },
   {
    "duration": 0,
    "start_time": "2024-07-13T17:54:14.287Z"
   },
   {
    "duration": 0,
    "start_time": "2024-07-13T17:54:14.288Z"
   },
   {
    "duration": 0,
    "start_time": "2024-07-13T17:54:14.289Z"
   },
   {
    "duration": 0,
    "start_time": "2024-07-13T17:54:14.290Z"
   },
   {
    "duration": 11398,
    "start_time": "2024-07-13T19:44:17.160Z"
   },
   {
    "duration": 7,
    "start_time": "2024-07-13T19:44:28.560Z"
   },
   {
    "duration": 12,
    "start_time": "2024-07-13T19:44:28.569Z"
   },
   {
    "duration": 80,
    "start_time": "2024-07-13T19:44:28.582Z"
   },
   {
    "duration": 11,
    "start_time": "2024-07-13T19:44:28.664Z"
   },
   {
    "duration": 13,
    "start_time": "2024-07-13T19:44:28.676Z"
   },
   {
    "duration": 7,
    "start_time": "2024-07-13T19:44:28.690Z"
   },
   {
    "duration": 5,
    "start_time": "2024-07-13T19:44:28.698Z"
   },
   {
    "duration": 6,
    "start_time": "2024-07-13T19:44:28.704Z"
   },
   {
    "duration": 3,
    "start_time": "2024-07-13T19:44:28.712Z"
   },
   {
    "duration": 13,
    "start_time": "2024-07-13T19:44:28.716Z"
   },
   {
    "duration": 5,
    "start_time": "2024-07-13T19:44:28.730Z"
   },
   {
    "duration": 5,
    "start_time": "2024-07-13T19:44:28.736Z"
   },
   {
    "duration": 5,
    "start_time": "2024-07-13T19:44:28.743Z"
   },
   {
    "duration": 8,
    "start_time": "2024-07-13T19:44:28.749Z"
   },
   {
    "duration": 20,
    "start_time": "2024-07-13T19:44:28.758Z"
   },
   {
    "duration": 6,
    "start_time": "2024-07-13T19:44:28.779Z"
   },
   {
    "duration": 8,
    "start_time": "2024-07-13T19:44:28.786Z"
   },
   {
    "duration": 23,
    "start_time": "2024-07-13T19:44:28.795Z"
   },
   {
    "duration": 4,
    "start_time": "2024-07-13T19:44:28.819Z"
   },
   {
    "duration": 7,
    "start_time": "2024-07-13T19:44:28.825Z"
   },
   {
    "duration": 4,
    "start_time": "2024-07-13T19:44:28.834Z"
   },
   {
    "duration": 8,
    "start_time": "2024-07-13T19:44:28.839Z"
   },
   {
    "duration": 14,
    "start_time": "2024-07-13T19:44:28.849Z"
   },
   {
    "duration": 9,
    "start_time": "2024-07-13T19:44:28.864Z"
   },
   {
    "duration": 6,
    "start_time": "2024-07-13T19:44:28.874Z"
   },
   {
    "duration": 16,
    "start_time": "2024-07-13T19:44:28.881Z"
   },
   {
    "duration": 25,
    "start_time": "2024-07-13T19:44:28.898Z"
   },
   {
    "duration": 12980,
    "start_time": "2024-07-13T19:44:28.924Z"
   },
   {
    "duration": 8,
    "start_time": "2024-07-13T19:44:41.905Z"
   },
   {
    "duration": 9,
    "start_time": "2024-07-13T19:44:41.914Z"
   },
   {
    "duration": 510,
    "start_time": "2024-07-13T19:44:41.924Z"
   },
   {
    "duration": 6,
    "start_time": "2024-07-13T19:44:42.435Z"
   },
   {
    "duration": 610,
    "start_time": "2024-07-13T19:44:42.442Z"
   },
   {
    "duration": 469,
    "start_time": "2024-07-13T19:44:43.054Z"
   },
   {
    "duration": 174,
    "start_time": "2024-07-13T19:44:43.525Z"
   },
   {
    "duration": 496,
    "start_time": "2024-07-13T19:44:43.700Z"
   },
   {
    "duration": 14,
    "start_time": "2024-07-13T19:44:44.198Z"
   },
   {
    "duration": 508,
    "start_time": "2024-07-13T19:44:44.213Z"
   },
   {
    "duration": 520,
    "start_time": "2024-07-13T19:44:44.723Z"
   },
   {
    "duration": 14,
    "start_time": "2024-07-13T19:44:45.246Z"
   },
   {
    "duration": 746,
    "start_time": "2024-07-13T19:44:45.261Z"
   },
   {
    "duration": 516,
    "start_time": "2024-07-13T19:44:46.012Z"
   },
   {
    "duration": 5,
    "start_time": "2024-07-13T19:44:46.529Z"
   },
   {
    "duration": 160,
    "start_time": "2024-07-13T19:44:46.535Z"
   },
   {
    "duration": 27,
    "start_time": "2024-07-13T19:44:46.696Z"
   },
   {
    "duration": 4,
    "start_time": "2024-07-13T19:44:46.724Z"
   },
   {
    "duration": 16,
    "start_time": "2024-07-13T19:44:46.729Z"
   },
   {
    "duration": 3,
    "start_time": "2024-07-13T19:44:46.746Z"
   },
   {
    "duration": 10,
    "start_time": "2024-07-13T19:44:46.750Z"
   },
   {
    "duration": 6,
    "start_time": "2024-07-13T19:44:46.761Z"
   },
   {
    "duration": 1782,
    "start_time": "2024-07-13T19:44:46.768Z"
   },
   {
    "duration": 12,
    "start_time": "2024-07-13T19:44:48.552Z"
   },
   {
    "duration": 6,
    "start_time": "2024-07-13T19:44:48.566Z"
   },
   {
    "duration": 3,
    "start_time": "2024-07-13T19:44:48.573Z"
   },
   {
    "duration": 32,
    "start_time": "2024-07-13T19:44:48.577Z"
   },
   {
    "duration": 10,
    "start_time": "2024-07-13T19:44:48.610Z"
   },
   {
    "duration": 4,
    "start_time": "2024-07-13T19:44:48.621Z"
   },
   {
    "duration": 3,
    "start_time": "2024-07-13T19:44:48.626Z"
   },
   {
    "duration": 6,
    "start_time": "2024-07-13T19:44:48.630Z"
   },
   {
    "duration": 4,
    "start_time": "2024-07-13T19:44:48.637Z"
   },
   {
    "duration": 6,
    "start_time": "2024-07-13T19:44:48.643Z"
   },
   {
    "duration": 3,
    "start_time": "2024-07-13T19:44:48.650Z"
   },
   {
    "duration": 281186,
    "start_time": "2024-07-13T19:44:48.654Z"
   },
   {
    "duration": 27,
    "start_time": "2024-07-13T19:49:29.842Z"
   },
   {
    "duration": 2,
    "start_time": "2024-07-13T19:49:29.871Z"
   },
   {
    "duration": 39,
    "start_time": "2024-07-13T19:49:29.874Z"
   },
   {
    "duration": 19,
    "start_time": "2024-07-13T19:49:29.915Z"
   },
   {
    "duration": 5,
    "start_time": "2024-07-13T19:49:29.935Z"
   },
   {
    "duration": 160,
    "start_time": "2024-07-13T19:49:29.942Z"
   },
   {
    "duration": 25,
    "start_time": "2024-07-13T19:49:30.104Z"
   },
   {
    "duration": 32,
    "start_time": "2024-07-13T19:49:30.131Z"
   },
   {
    "duration": 104865,
    "start_time": "2024-07-13T19:49:30.164Z"
   },
   {
    "duration": 15,
    "start_time": "2024-07-13T19:51:15.031Z"
   },
   {
    "duration": 10978,
    "start_time": "2024-07-14T11:45:56.547Z"
   },
   {
    "duration": 2394,
    "start_time": "2024-07-14T11:46:07.528Z"
   },
   {
    "duration": 4,
    "start_time": "2024-07-14T11:46:09.924Z"
   },
   {
    "duration": 356,
    "start_time": "2024-07-14T11:46:09.929Z"
   },
   {
    "duration": 16,
    "start_time": "2024-07-14T11:46:10.287Z"
   },
   {
    "duration": 79,
    "start_time": "2024-07-14T11:46:10.305Z"
   },
   {
    "duration": 20,
    "start_time": "2024-07-14T11:46:10.386Z"
   },
   {
    "duration": 7,
    "start_time": "2024-07-14T11:46:10.408Z"
   },
   {
    "duration": 10,
    "start_time": "2024-07-14T11:46:10.417Z"
   },
   {
    "duration": 6,
    "start_time": "2024-07-14T11:46:10.429Z"
   },
   {
    "duration": 19,
    "start_time": "2024-07-14T11:46:10.437Z"
   },
   {
    "duration": 5,
    "start_time": "2024-07-14T11:46:10.457Z"
   },
   {
    "duration": 10,
    "start_time": "2024-07-14T11:46:10.463Z"
   },
   {
    "duration": 7,
    "start_time": "2024-07-14T11:46:10.474Z"
   },
   {
    "duration": 66,
    "start_time": "2024-07-14T11:46:10.482Z"
   },
   {
    "duration": 6,
    "start_time": "2024-07-14T11:46:10.550Z"
   },
   {
    "duration": 6,
    "start_time": "2024-07-14T11:46:10.557Z"
   },
   {
    "duration": 6,
    "start_time": "2024-07-14T11:46:10.564Z"
   },
   {
    "duration": 15,
    "start_time": "2024-07-14T11:46:10.571Z"
   },
   {
    "duration": 6,
    "start_time": "2024-07-14T11:46:10.587Z"
   },
   {
    "duration": 11,
    "start_time": "2024-07-14T11:46:10.594Z"
   },
   {
    "duration": 6,
    "start_time": "2024-07-14T11:46:10.606Z"
   },
   {
    "duration": 9,
    "start_time": "2024-07-14T11:46:10.614Z"
   },
   {
    "duration": 5,
    "start_time": "2024-07-14T11:46:10.625Z"
   },
   {
    "duration": 20,
    "start_time": "2024-07-14T11:46:10.631Z"
   },
   {
    "duration": 9,
    "start_time": "2024-07-14T11:46:10.653Z"
   },
   {
    "duration": 3,
    "start_time": "2024-07-14T11:46:10.664Z"
   },
   {
    "duration": 37,
    "start_time": "2024-07-14T11:46:10.670Z"
   },
   {
    "duration": 14857,
    "start_time": "2024-07-14T11:46:10.708Z"
   },
   {
    "duration": 6,
    "start_time": "2024-07-14T11:46:25.567Z"
   },
   {
    "duration": 16,
    "start_time": "2024-07-14T11:46:25.575Z"
   },
   {
    "duration": 681,
    "start_time": "2024-07-14T11:46:25.593Z"
   },
   {
    "duration": 6,
    "start_time": "2024-07-14T11:46:26.276Z"
   },
   {
    "duration": 705,
    "start_time": "2024-07-14T11:46:26.284Z"
   },
   {
    "duration": 573,
    "start_time": "2024-07-14T11:46:26.991Z"
   },
   {
    "duration": 206,
    "start_time": "2024-07-14T11:46:27.565Z"
   },
   {
    "duration": 582,
    "start_time": "2024-07-14T11:46:27.772Z"
   },
   {
    "duration": 15,
    "start_time": "2024-07-14T11:46:28.355Z"
   },
   {
    "duration": 622,
    "start_time": "2024-07-14T11:46:28.371Z"
   },
   {
    "duration": 562,
    "start_time": "2024-07-14T11:46:28.995Z"
   },
   {
    "duration": 15,
    "start_time": "2024-07-14T11:46:29.558Z"
   },
   {
    "duration": 777,
    "start_time": "2024-07-14T11:46:29.575Z"
   },
   {
    "duration": 584,
    "start_time": "2024-07-14T11:46:30.354Z"
   },
   {
    "duration": 6,
    "start_time": "2024-07-14T11:46:30.940Z"
   },
   {
    "duration": 199,
    "start_time": "2024-07-14T11:46:30.948Z"
   },
   {
    "duration": 26,
    "start_time": "2024-07-14T11:46:31.149Z"
   },
   {
    "duration": 50,
    "start_time": "2024-07-14T11:46:31.177Z"
   },
   {
    "duration": 86,
    "start_time": "2024-07-14T11:46:31.229Z"
   },
   {
    "duration": 47,
    "start_time": "2024-07-14T11:46:31.317Z"
   },
   {
    "duration": 30,
    "start_time": "2024-07-14T11:46:31.366Z"
   },
   {
    "duration": 15,
    "start_time": "2024-07-14T11:46:31.398Z"
   },
   {
    "duration": 2124,
    "start_time": "2024-07-14T11:46:31.415Z"
   },
   {
    "duration": 16,
    "start_time": "2024-07-14T11:46:33.541Z"
   },
   {
    "duration": 25,
    "start_time": "2024-07-14T11:46:33.558Z"
   },
   {
    "duration": 4,
    "start_time": "2024-07-14T11:46:33.585Z"
   },
   {
    "duration": 13,
    "start_time": "2024-07-14T11:46:33.590Z"
   },
   {
    "duration": 8,
    "start_time": "2024-07-14T11:46:33.604Z"
   },
   {
    "duration": 13,
    "start_time": "2024-07-14T11:46:33.613Z"
   },
   {
    "duration": 3,
    "start_time": "2024-07-14T11:46:33.627Z"
   },
   {
    "duration": 7,
    "start_time": "2024-07-14T11:46:33.632Z"
   },
   {
    "duration": 9,
    "start_time": "2024-07-14T11:46:33.640Z"
   },
   {
    "duration": 9,
    "start_time": "2024-07-14T11:46:33.651Z"
   },
   {
    "duration": 5,
    "start_time": "2024-07-14T11:46:33.662Z"
   },
   {
    "duration": 319071,
    "start_time": "2024-07-14T11:46:33.669Z"
   },
   {
    "duration": 38,
    "start_time": "2024-07-14T11:51:52.742Z"
   },
   {
    "duration": 2,
    "start_time": "2024-07-14T11:51:52.783Z"
   },
   {
    "duration": 22,
    "start_time": "2024-07-14T11:51:52.805Z"
   },
   {
    "duration": 20,
    "start_time": "2024-07-14T11:51:52.829Z"
   },
   {
    "duration": 6,
    "start_time": "2024-07-14T11:51:52.851Z"
   },
   {
    "duration": 198,
    "start_time": "2024-07-14T11:51:52.859Z"
   },
   {
    "duration": 23,
    "start_time": "2024-07-14T11:51:53.059Z"
   },
   {
    "duration": 27,
    "start_time": "2024-07-14T11:51:53.084Z"
   },
   {
    "duration": 352047,
    "start_time": "2024-07-14T11:51:53.113Z"
   },
   {
    "duration": 1148,
    "start_time": "2024-07-14T11:57:45.162Z"
   },
   {
    "duration": 175,
    "start_time": "2024-07-14T12:00:41.048Z"
   },
   {
    "duration": 11,
    "start_time": "2024-07-14T12:00:46.500Z"
   },
   {
    "duration": 1114,
    "start_time": "2024-07-14T12:01:50.035Z"
   },
   {
    "duration": 1530,
    "start_time": "2024-07-14T12:02:59.128Z"
   },
   {
    "duration": 1199,
    "start_time": "2024-07-14T12:03:55.959Z"
   },
   {
    "duration": 1213,
    "start_time": "2024-07-14T12:04:04.528Z"
   },
   {
    "duration": 66,
    "start_time": "2024-07-14T12:04:12.072Z"
   },
   {
    "duration": 1078,
    "start_time": "2024-07-14T12:04:14.116Z"
   },
   {
    "duration": 1085,
    "start_time": "2024-07-14T12:04:35.820Z"
   },
   {
    "duration": 1026,
    "start_time": "2024-07-14T12:04:42.184Z"
   },
   {
    "duration": 1109,
    "start_time": "2024-07-14T12:04:46.283Z"
   },
   {
    "duration": 1343,
    "start_time": "2024-07-14T12:04:57.368Z"
   },
   {
    "duration": 1140,
    "start_time": "2024-07-14T12:05:03.991Z"
   },
   {
    "duration": 1178,
    "start_time": "2024-07-14T12:05:33.979Z"
   },
   {
    "duration": 68,
    "start_time": "2024-07-15T10:02:46.267Z"
   },
   {
    "duration": 47,
    "start_time": "2024-07-15T10:04:18.911Z"
   },
   {
    "duration": 19525,
    "start_time": "2024-07-15T10:04:25.571Z"
   },
   {
    "duration": 2029,
    "start_time": "2024-07-15T10:04:45.098Z"
   },
   {
    "duration": 4,
    "start_time": "2024-07-15T10:04:47.129Z"
   },
   {
    "duration": 322,
    "start_time": "2024-07-15T10:04:47.135Z"
   },
   {
    "duration": 17,
    "start_time": "2024-07-15T10:04:47.459Z"
   },
   {
    "duration": 23,
    "start_time": "2024-07-15T10:04:47.478Z"
   },
   {
    "duration": 22,
    "start_time": "2024-07-15T10:04:47.502Z"
   },
   {
    "duration": 10,
    "start_time": "2024-07-15T10:04:47.525Z"
   },
   {
    "duration": 7,
    "start_time": "2024-07-15T10:04:47.537Z"
   },
   {
    "duration": 12,
    "start_time": "2024-07-15T10:04:47.547Z"
   },
   {
    "duration": 17,
    "start_time": "2024-07-15T10:04:47.561Z"
   },
   {
    "duration": 12,
    "start_time": "2024-07-15T10:04:47.580Z"
   },
   {
    "duration": 6,
    "start_time": "2024-07-15T10:04:47.593Z"
   },
   {
    "duration": 9,
    "start_time": "2024-07-15T10:04:47.600Z"
   },
   {
    "duration": 10,
    "start_time": "2024-07-15T10:04:47.611Z"
   },
   {
    "duration": 6,
    "start_time": "2024-07-15T10:04:47.623Z"
   },
   {
    "duration": 26,
    "start_time": "2024-07-15T10:04:47.631Z"
   },
   {
    "duration": 9,
    "start_time": "2024-07-15T10:04:47.658Z"
   },
   {
    "duration": 16,
    "start_time": "2024-07-15T10:04:47.669Z"
   },
   {
    "duration": 10,
    "start_time": "2024-07-15T10:04:47.687Z"
   },
   {
    "duration": 46,
    "start_time": "2024-07-15T10:04:47.698Z"
   },
   {
    "duration": 15,
    "start_time": "2024-07-15T10:04:47.746Z"
   },
   {
    "duration": 13,
    "start_time": "2024-07-15T10:04:47.763Z"
   },
   {
    "duration": 5,
    "start_time": "2024-07-15T10:04:47.778Z"
   },
   {
    "duration": 11,
    "start_time": "2024-07-15T10:04:47.784Z"
   },
   {
    "duration": 16,
    "start_time": "2024-07-15T10:04:47.796Z"
   },
   {
    "duration": 7,
    "start_time": "2024-07-15T10:04:47.814Z"
   },
   {
    "duration": 36,
    "start_time": "2024-07-15T10:04:47.825Z"
   },
   {
    "duration": 15729,
    "start_time": "2024-07-15T10:04:47.863Z"
   },
   {
    "duration": 7,
    "start_time": "2024-07-15T10:05:03.594Z"
   },
   {
    "duration": 16,
    "start_time": "2024-07-15T10:05:03.602Z"
   },
   {
    "duration": 578,
    "start_time": "2024-07-15T10:05:03.620Z"
   },
   {
    "duration": 7,
    "start_time": "2024-07-15T10:05:04.200Z"
   },
   {
    "duration": 602,
    "start_time": "2024-07-15T10:05:04.209Z"
   },
   {
    "duration": 727,
    "start_time": "2024-07-15T10:05:04.813Z"
   },
   {
    "duration": 216,
    "start_time": "2024-07-15T10:05:05.542Z"
   },
   {
    "duration": 614,
    "start_time": "2024-07-15T10:05:05.765Z"
   },
   {
    "duration": 15,
    "start_time": "2024-07-15T10:05:06.380Z"
   },
   {
    "duration": 618,
    "start_time": "2024-07-15T10:05:06.397Z"
   },
   {
    "duration": 645,
    "start_time": "2024-07-15T10:05:07.018Z"
   },
   {
    "duration": 23,
    "start_time": "2024-07-15T10:05:07.665Z"
   },
   {
    "duration": 606,
    "start_time": "2024-07-15T10:05:07.690Z"
   },
   {
    "duration": 580,
    "start_time": "2024-07-15T10:05:08.297Z"
   },
   {
    "duration": 6,
    "start_time": "2024-07-15T10:05:08.879Z"
   },
   {
    "duration": 387,
    "start_time": "2024-07-15T10:05:08.886Z"
   },
   {
    "duration": 20,
    "start_time": "2024-07-15T10:05:09.275Z"
   },
   {
    "duration": 4,
    "start_time": "2024-07-15T10:05:09.297Z"
   },
   {
    "duration": 19,
    "start_time": "2024-07-15T10:05:09.302Z"
   },
   {
    "duration": 3,
    "start_time": "2024-07-15T10:05:09.323Z"
   },
   {
    "duration": 42,
    "start_time": "2024-07-15T10:05:09.328Z"
   },
   {
    "duration": 47,
    "start_time": "2024-07-15T10:05:09.372Z"
   },
   {
    "duration": 2291,
    "start_time": "2024-07-15T10:05:09.420Z"
   },
   {
    "duration": 16,
    "start_time": "2024-07-15T10:05:11.713Z"
   },
   {
    "duration": 20,
    "start_time": "2024-07-15T10:05:11.730Z"
   },
   {
    "duration": 5,
    "start_time": "2024-07-15T10:05:11.752Z"
   },
   {
    "duration": 3,
    "start_time": "2024-07-15T10:05:11.764Z"
   },
   {
    "duration": 4,
    "start_time": "2024-07-15T10:05:11.769Z"
   },
   {
    "duration": 4,
    "start_time": "2024-07-15T10:05:11.775Z"
   },
   {
    "duration": 14,
    "start_time": "2024-07-15T10:05:11.781Z"
   },
   {
    "duration": 8,
    "start_time": "2024-07-15T10:05:11.796Z"
   },
   {
    "duration": 6,
    "start_time": "2024-07-15T10:05:11.805Z"
   },
   {
    "duration": 11,
    "start_time": "2024-07-15T10:05:11.813Z"
   },
   {
    "duration": 5,
    "start_time": "2024-07-15T10:05:11.826Z"
   },
   {
    "duration": 334764,
    "start_time": "2024-07-15T10:05:11.833Z"
   },
   {
    "duration": 37,
    "start_time": "2024-07-15T10:10:46.599Z"
   },
   {
    "duration": 15,
    "start_time": "2024-07-15T10:10:46.637Z"
   },
   {
    "duration": 25,
    "start_time": "2024-07-15T10:10:46.664Z"
   },
   {
    "duration": 72,
    "start_time": "2024-07-15T10:10:46.691Z"
   },
   {
    "duration": 7,
    "start_time": "2024-07-15T10:10:46.764Z"
   },
   {
    "duration": 198,
    "start_time": "2024-07-15T10:10:46.772Z"
   },
   {
    "duration": 26,
    "start_time": "2024-07-15T10:10:46.971Z"
   },
   {
    "duration": 12,
    "start_time": "2024-07-15T10:10:46.998Z"
   },
   {
    "duration": 369677,
    "start_time": "2024-07-15T10:10:47.012Z"
   },
   {
    "duration": 1332,
    "start_time": "2024-07-15T10:16:56.691Z"
   },
   {
    "duration": 7,
    "start_time": "2024-07-15T10:16:58.025Z"
   },
   {
    "duration": 18,
    "start_time": "2024-07-15T10:23:36.444Z"
   },
   {
    "duration": 14,
    "start_time": "2024-07-15T10:24:07.295Z"
   },
   {
    "duration": 16,
    "start_time": "2024-07-15T10:24:53.639Z"
   },
   {
    "duration": 153,
    "start_time": "2024-07-15T10:38:08.516Z"
   },
   {
    "duration": 11,
    "start_time": "2024-07-15T10:40:05.544Z"
   },
   {
    "duration": 7,
    "start_time": "2024-07-15T10:40:12.320Z"
   },
   {
    "duration": 17,
    "start_time": "2024-07-15T10:40:17.496Z"
   },
   {
    "duration": 31,
    "start_time": "2024-07-15T10:41:11.669Z"
   },
   {
    "duration": 6,
    "start_time": "2024-07-15T10:42:59.504Z"
   },
   {
    "duration": 26,
    "start_time": "2024-07-15T10:43:00.768Z"
   },
   {
    "duration": 7,
    "start_time": "2024-07-15T10:44:15.884Z"
   },
   {
    "duration": 16,
    "start_time": "2024-07-15T10:44:16.276Z"
   },
   {
    "duration": 11,
    "start_time": "2024-07-15T10:44:53.192Z"
   },
   {
    "duration": 4,
    "start_time": "2024-07-15T10:44:58.340Z"
   },
   {
    "duration": 4,
    "start_time": "2024-07-15T10:45:12.856Z"
   },
   {
    "duration": 15,
    "start_time": "2024-07-15T10:52:20.432Z"
   },
   {
    "duration": 11,
    "start_time": "2024-07-15T10:52:36.974Z"
   },
   {
    "duration": 14,
    "start_time": "2024-07-15T10:53:51.768Z"
   },
   {
    "duration": 12,
    "start_time": "2024-07-15T10:54:04.220Z"
   },
   {
    "duration": 15,
    "start_time": "2024-07-15T10:54:46.112Z"
   },
   {
    "duration": 4,
    "start_time": "2024-07-15T10:55:01.140Z"
   },
   {
    "duration": 3,
    "start_time": "2024-07-15T11:03:11.725Z"
   },
   {
    "duration": 8,
    "start_time": "2024-07-15T11:03:16.713Z"
   },
   {
    "duration": 32,
    "start_time": "2024-07-15T11:03:20.236Z"
   },
   {
    "duration": 11176,
    "start_time": "2024-07-15T11:04:19.032Z"
   },
   {
    "duration": 7,
    "start_time": "2024-07-15T11:04:30.211Z"
   },
   {
    "duration": 173,
    "start_time": "2024-07-15T11:04:30.220Z"
   },
   {
    "duration": 176,
    "start_time": "2024-07-15T11:04:30.395Z"
   },
   {
    "duration": 27,
    "start_time": "2024-07-15T11:04:30.573Z"
   },
   {
    "duration": 20,
    "start_time": "2024-07-15T11:04:30.601Z"
   },
   {
    "duration": 0,
    "start_time": "2024-07-15T11:04:30.626Z"
   },
   {
    "duration": 0,
    "start_time": "2024-07-15T11:04:30.627Z"
   },
   {
    "duration": 0,
    "start_time": "2024-07-15T11:04:30.629Z"
   },
   {
    "duration": 0,
    "start_time": "2024-07-15T11:04:30.630Z"
   },
   {
    "duration": 0,
    "start_time": "2024-07-15T11:04:30.631Z"
   },
   {
    "duration": 0,
    "start_time": "2024-07-15T11:04:30.632Z"
   },
   {
    "duration": 0,
    "start_time": "2024-07-15T11:04:30.634Z"
   },
   {
    "duration": 0,
    "start_time": "2024-07-15T11:04:30.635Z"
   },
   {
    "duration": 0,
    "start_time": "2024-07-15T11:04:30.636Z"
   },
   {
    "duration": 0,
    "start_time": "2024-07-15T11:04:30.638Z"
   },
   {
    "duration": 0,
    "start_time": "2024-07-15T11:04:30.639Z"
   },
   {
    "duration": 0,
    "start_time": "2024-07-15T11:04:30.640Z"
   },
   {
    "duration": 0,
    "start_time": "2024-07-15T11:04:30.641Z"
   },
   {
    "duration": 0,
    "start_time": "2024-07-15T11:04:30.642Z"
   },
   {
    "duration": 0,
    "start_time": "2024-07-15T11:04:30.643Z"
   },
   {
    "duration": 0,
    "start_time": "2024-07-15T11:04:30.644Z"
   },
   {
    "duration": 0,
    "start_time": "2024-07-15T11:04:30.645Z"
   },
   {
    "duration": 0,
    "start_time": "2024-07-15T11:04:30.646Z"
   },
   {
    "duration": 0,
    "start_time": "2024-07-15T11:04:30.647Z"
   },
   {
    "duration": 0,
    "start_time": "2024-07-15T11:04:30.665Z"
   },
   {
    "duration": 0,
    "start_time": "2024-07-15T11:04:30.667Z"
   },
   {
    "duration": 0,
    "start_time": "2024-07-15T11:04:30.669Z"
   },
   {
    "duration": 0,
    "start_time": "2024-07-15T11:04:30.671Z"
   },
   {
    "duration": 0,
    "start_time": "2024-07-15T11:04:30.672Z"
   },
   {
    "duration": 0,
    "start_time": "2024-07-15T11:04:30.674Z"
   },
   {
    "duration": 0,
    "start_time": "2024-07-15T11:04:30.675Z"
   },
   {
    "duration": 0,
    "start_time": "2024-07-15T11:04:30.677Z"
   },
   {
    "duration": 0,
    "start_time": "2024-07-15T11:04:30.679Z"
   },
   {
    "duration": 0,
    "start_time": "2024-07-15T11:04:30.680Z"
   },
   {
    "duration": 0,
    "start_time": "2024-07-15T11:04:30.681Z"
   },
   {
    "duration": 0,
    "start_time": "2024-07-15T11:04:30.683Z"
   },
   {
    "duration": 0,
    "start_time": "2024-07-15T11:04:30.684Z"
   },
   {
    "duration": 0,
    "start_time": "2024-07-15T11:04:30.686Z"
   },
   {
    "duration": 0,
    "start_time": "2024-07-15T11:04:30.687Z"
   },
   {
    "duration": 0,
    "start_time": "2024-07-15T11:04:30.689Z"
   },
   {
    "duration": 0,
    "start_time": "2024-07-15T11:04:30.690Z"
   },
   {
    "duration": 0,
    "start_time": "2024-07-15T11:04:30.691Z"
   },
   {
    "duration": 0,
    "start_time": "2024-07-15T11:04:30.692Z"
   },
   {
    "duration": 0,
    "start_time": "2024-07-15T11:04:30.693Z"
   },
   {
    "duration": 0,
    "start_time": "2024-07-15T11:04:30.695Z"
   },
   {
    "duration": 0,
    "start_time": "2024-07-15T11:04:30.696Z"
   },
   {
    "duration": 0,
    "start_time": "2024-07-15T11:04:30.697Z"
   },
   {
    "duration": 0,
    "start_time": "2024-07-15T11:04:30.699Z"
   },
   {
    "duration": 0,
    "start_time": "2024-07-15T11:04:30.700Z"
   },
   {
    "duration": 0,
    "start_time": "2024-07-15T11:04:30.701Z"
   },
   {
    "duration": 0,
    "start_time": "2024-07-15T11:04:30.702Z"
   },
   {
    "duration": 0,
    "start_time": "2024-07-15T11:04:30.766Z"
   },
   {
    "duration": 0,
    "start_time": "2024-07-15T11:04:30.767Z"
   },
   {
    "duration": 0,
    "start_time": "2024-07-15T11:04:30.768Z"
   },
   {
    "duration": 0,
    "start_time": "2024-07-15T11:04:30.770Z"
   },
   {
    "duration": 0,
    "start_time": "2024-07-15T11:04:30.771Z"
   },
   {
    "duration": 0,
    "start_time": "2024-07-15T11:04:30.772Z"
   },
   {
    "duration": 0,
    "start_time": "2024-07-15T11:04:30.774Z"
   },
   {
    "duration": 0,
    "start_time": "2024-07-15T11:04:30.775Z"
   },
   {
    "duration": 0,
    "start_time": "2024-07-15T11:04:30.776Z"
   },
   {
    "duration": 0,
    "start_time": "2024-07-15T11:04:30.777Z"
   },
   {
    "duration": 0,
    "start_time": "2024-07-15T11:04:30.779Z"
   },
   {
    "duration": 0,
    "start_time": "2024-07-15T11:04:30.782Z"
   },
   {
    "duration": 0,
    "start_time": "2024-07-15T11:04:30.783Z"
   },
   {
    "duration": 0,
    "start_time": "2024-07-15T11:04:30.788Z"
   },
   {
    "duration": 0,
    "start_time": "2024-07-15T11:04:30.789Z"
   },
   {
    "duration": 0,
    "start_time": "2024-07-15T11:04:30.790Z"
   },
   {
    "duration": 0,
    "start_time": "2024-07-15T11:04:30.791Z"
   },
   {
    "duration": 0,
    "start_time": "2024-07-15T11:04:30.792Z"
   },
   {
    "duration": 0,
    "start_time": "2024-07-15T11:04:30.793Z"
   },
   {
    "duration": 0,
    "start_time": "2024-07-15T11:04:30.794Z"
   },
   {
    "duration": 0,
    "start_time": "2024-07-15T11:04:30.796Z"
   },
   {
    "duration": 0,
    "start_time": "2024-07-15T11:04:30.797Z"
   },
   {
    "duration": 1,
    "start_time": "2024-07-15T11:04:30.797Z"
   },
   {
    "duration": 0,
    "start_time": "2024-07-15T11:04:30.799Z"
   },
   {
    "duration": 0,
    "start_time": "2024-07-15T11:04:30.800Z"
   },
   {
    "duration": 0,
    "start_time": "2024-07-15T11:04:30.801Z"
   },
   {
    "duration": 0,
    "start_time": "2024-07-15T11:04:30.803Z"
   },
   {
    "duration": 24,
    "start_time": "2024-07-15T11:34:40.317Z"
   },
   {
    "duration": 11931,
    "start_time": "2024-07-15T11:35:43.284Z"
   },
   {
    "duration": 9,
    "start_time": "2024-07-15T11:35:55.219Z"
   },
   {
    "duration": 8,
    "start_time": "2024-07-15T11:35:55.230Z"
   },
   {
    "duration": 87,
    "start_time": "2024-07-15T11:35:55.240Z"
   },
   {
    "duration": 15,
    "start_time": "2024-07-15T11:35:55.329Z"
   },
   {
    "duration": 16,
    "start_time": "2024-07-15T11:35:55.345Z"
   },
   {
    "duration": 15,
    "start_time": "2024-07-15T11:35:55.363Z"
   },
   {
    "duration": 8,
    "start_time": "2024-07-15T11:35:55.380Z"
   },
   {
    "duration": 11,
    "start_time": "2024-07-15T11:35:55.390Z"
   },
   {
    "duration": 7,
    "start_time": "2024-07-15T11:35:55.404Z"
   },
   {
    "duration": 17,
    "start_time": "2024-07-15T11:35:55.413Z"
   },
   {
    "duration": 6,
    "start_time": "2024-07-15T11:35:55.431Z"
   },
   {
    "duration": 8,
    "start_time": "2024-07-15T11:35:55.438Z"
   },
   {
    "duration": 7,
    "start_time": "2024-07-15T11:35:55.466Z"
   },
   {
    "duration": 8,
    "start_time": "2024-07-15T11:35:55.474Z"
   },
   {
    "duration": 5,
    "start_time": "2024-07-15T11:35:55.484Z"
   },
   {
    "duration": 6,
    "start_time": "2024-07-15T11:35:55.491Z"
   },
   {
    "duration": 7,
    "start_time": "2024-07-15T11:35:55.499Z"
   },
   {
    "duration": 10,
    "start_time": "2024-07-15T11:35:55.508Z"
   },
   {
    "duration": 49,
    "start_time": "2024-07-15T11:35:55.520Z"
   },
   {
    "duration": 33,
    "start_time": "2024-07-15T11:35:55.571Z"
   },
   {
    "duration": 12,
    "start_time": "2024-07-15T11:35:55.606Z"
   },
   {
    "duration": 11,
    "start_time": "2024-07-15T11:35:55.620Z"
   },
   {
    "duration": 6,
    "start_time": "2024-07-15T11:35:55.633Z"
   },
   {
    "duration": 21,
    "start_time": "2024-07-15T11:35:55.641Z"
   },
   {
    "duration": 41,
    "start_time": "2024-07-15T11:35:55.664Z"
   },
   {
    "duration": 13,
    "start_time": "2024-07-15T11:35:55.706Z"
   },
   {
    "duration": 17,
    "start_time": "2024-07-15T11:35:55.723Z"
   },
   {
    "duration": 16625,
    "start_time": "2024-07-15T11:35:55.742Z"
   },
   {
    "duration": 7,
    "start_time": "2024-07-15T11:36:12.369Z"
   },
   {
    "duration": 41,
    "start_time": "2024-07-15T11:36:12.378Z"
   },
   {
    "duration": 648,
    "start_time": "2024-07-15T11:36:12.421Z"
   },
   {
    "duration": 8,
    "start_time": "2024-07-15T11:36:13.070Z"
   },
   {
    "duration": 614,
    "start_time": "2024-07-15T11:36:13.079Z"
   },
   {
    "duration": 626,
    "start_time": "2024-07-15T11:36:13.695Z"
   },
   {
    "duration": 224,
    "start_time": "2024-07-15T11:36:14.323Z"
   },
   {
    "duration": 574,
    "start_time": "2024-07-15T11:36:14.549Z"
   },
   {
    "duration": 13,
    "start_time": "2024-07-15T11:36:15.125Z"
   },
   {
    "duration": 635,
    "start_time": "2024-07-15T11:36:15.139Z"
   },
   {
    "duration": 1065,
    "start_time": "2024-07-15T11:36:15.776Z"
   },
   {
    "duration": 24,
    "start_time": "2024-07-15T11:36:16.843Z"
   },
   {
    "duration": 582,
    "start_time": "2024-07-15T11:36:16.869Z"
   },
   {
    "duration": 636,
    "start_time": "2024-07-15T11:36:17.453Z"
   },
   {
    "duration": 6,
    "start_time": "2024-07-15T11:36:18.091Z"
   },
   {
    "duration": 192,
    "start_time": "2024-07-15T11:36:18.098Z"
   },
   {
    "duration": 21,
    "start_time": "2024-07-15T11:36:18.291Z"
   },
   {
    "duration": 4,
    "start_time": "2024-07-15T11:36:18.314Z"
   },
   {
    "duration": 22,
    "start_time": "2024-07-15T11:36:18.320Z"
   },
   {
    "duration": 24,
    "start_time": "2024-07-15T11:36:18.343Z"
   },
   {
    "duration": 16,
    "start_time": "2024-07-15T11:36:18.369Z"
   },
   {
    "duration": 7,
    "start_time": "2024-07-15T11:36:18.386Z"
   },
   {
    "duration": 2331,
    "start_time": "2024-07-15T11:36:18.395Z"
   },
   {
    "duration": 25,
    "start_time": "2024-07-15T11:36:20.728Z"
   },
   {
    "duration": 7,
    "start_time": "2024-07-15T11:36:20.765Z"
   },
   {
    "duration": 15,
    "start_time": "2024-07-15T11:36:20.774Z"
   },
   {
    "duration": 4,
    "start_time": "2024-07-15T11:36:20.791Z"
   },
   {
    "duration": 7,
    "start_time": "2024-07-15T11:36:20.797Z"
   },
   {
    "duration": 16,
    "start_time": "2024-07-15T11:36:20.806Z"
   },
   {
    "duration": 5,
    "start_time": "2024-07-15T11:36:20.824Z"
   },
   {
    "duration": 6,
    "start_time": "2024-07-15T11:36:20.830Z"
   },
   {
    "duration": 10,
    "start_time": "2024-07-15T11:36:20.838Z"
   },
   {
    "duration": 18,
    "start_time": "2024-07-15T11:36:20.849Z"
   },
   {
    "duration": 3,
    "start_time": "2024-07-15T11:36:20.869Z"
   },
   {
    "duration": 336628,
    "start_time": "2024-07-15T11:36:20.874Z"
   },
   {
    "duration": 36,
    "start_time": "2024-07-15T11:41:57.504Z"
   },
   {
    "duration": 24,
    "start_time": "2024-07-15T11:41:57.542Z"
   },
   {
    "duration": 22,
    "start_time": "2024-07-15T11:41:57.567Z"
   },
   {
    "duration": 21,
    "start_time": "2024-07-15T11:41:57.591Z"
   },
   {
    "duration": 6,
    "start_time": "2024-07-15T11:41:57.614Z"
   },
   {
    "duration": 225,
    "start_time": "2024-07-15T11:41:57.621Z"
   },
   {
    "duration": 37,
    "start_time": "2024-07-15T11:41:57.848Z"
   },
   {
    "duration": 13,
    "start_time": "2024-07-15T11:41:57.887Z"
   },
   {
    "duration": 365310,
    "start_time": "2024-07-15T11:41:57.902Z"
   },
   {
    "duration": 1259,
    "start_time": "2024-07-15T11:48:03.214Z"
   },
   {
    "duration": 4,
    "start_time": "2024-07-15T11:48:04.475Z"
   },
   {
    "duration": 8,
    "start_time": "2024-07-15T11:48:04.480Z"
   },
   {
    "duration": 5,
    "start_time": "2024-07-15T11:48:04.490Z"
   },
   {
    "duration": 17,
    "start_time": "2024-07-15T11:48:04.496Z"
   },
   {
    "duration": 0,
    "start_time": "2024-07-15T11:48:04.515Z"
   },
   {
    "duration": 0,
    "start_time": "2024-07-15T11:48:04.516Z"
   },
   {
    "duration": 3,
    "start_time": "2024-07-15T11:50:04.190Z"
   },
   {
    "duration": 7,
    "start_time": "2024-07-15T11:50:07.677Z"
   },
   {
    "duration": 32,
    "start_time": "2024-07-15T11:50:08.389Z"
   },
   {
    "duration": 22,
    "start_time": "2024-07-15T11:50:35.133Z"
   },
   {
    "duration": 11101,
    "start_time": "2024-07-15T11:52:56.569Z"
   },
   {
    "duration": 7,
    "start_time": "2024-07-15T11:53:07.673Z"
   },
   {
    "duration": 28,
    "start_time": "2024-07-15T11:53:07.682Z"
   },
   {
    "duration": 87,
    "start_time": "2024-07-15T11:53:07.712Z"
   },
   {
    "duration": 20,
    "start_time": "2024-07-15T11:53:07.801Z"
   },
   {
    "duration": 26,
    "start_time": "2024-07-15T11:53:07.823Z"
   },
   {
    "duration": 29,
    "start_time": "2024-07-15T11:53:07.851Z"
   },
   {
    "duration": 28,
    "start_time": "2024-07-15T11:53:07.882Z"
   },
   {
    "duration": 62,
    "start_time": "2024-07-15T11:53:07.912Z"
   },
   {
    "duration": 25,
    "start_time": "2024-07-15T11:53:07.978Z"
   },
   {
    "duration": 36,
    "start_time": "2024-07-15T11:53:08.006Z"
   },
   {
    "duration": 16,
    "start_time": "2024-07-15T11:53:08.045Z"
   },
   {
    "duration": 27,
    "start_time": "2024-07-15T11:53:08.062Z"
   },
   {
    "duration": 36,
    "start_time": "2024-07-15T11:53:08.090Z"
   },
   {
    "duration": 15,
    "start_time": "2024-07-15T11:53:08.128Z"
   },
   {
    "duration": 15,
    "start_time": "2024-07-15T11:53:08.145Z"
   },
   {
    "duration": 17,
    "start_time": "2024-07-15T11:53:08.161Z"
   },
   {
    "duration": 10,
    "start_time": "2024-07-15T11:53:08.180Z"
   },
   {
    "duration": 17,
    "start_time": "2024-07-15T11:53:08.192Z"
   },
   {
    "duration": 6,
    "start_time": "2024-07-15T11:53:08.211Z"
   },
   {
    "duration": 11,
    "start_time": "2024-07-15T11:53:08.219Z"
   },
   {
    "duration": 7,
    "start_time": "2024-07-15T11:53:08.231Z"
   },
   {
    "duration": 11,
    "start_time": "2024-07-15T11:53:08.240Z"
   },
   {
    "duration": 15,
    "start_time": "2024-07-15T11:53:08.253Z"
   },
   {
    "duration": 18,
    "start_time": "2024-07-15T11:53:08.270Z"
   },
   {
    "duration": 17,
    "start_time": "2024-07-15T11:53:08.290Z"
   },
   {
    "duration": 3,
    "start_time": "2024-07-15T11:53:08.309Z"
   },
   {
    "duration": 22,
    "start_time": "2024-07-15T11:53:08.316Z"
   },
   {
    "duration": 16409,
    "start_time": "2024-07-15T11:53:08.340Z"
   },
   {
    "duration": 14,
    "start_time": "2024-07-15T11:53:24.751Z"
   },
   {
    "duration": 15,
    "start_time": "2024-07-15T11:53:24.767Z"
   },
   {
    "duration": 586,
    "start_time": "2024-07-15T11:53:24.784Z"
   },
   {
    "duration": 7,
    "start_time": "2024-07-15T11:53:25.372Z"
   },
   {
    "duration": 1074,
    "start_time": "2024-07-15T11:53:25.380Z"
   },
   {
    "duration": 585,
    "start_time": "2024-07-15T11:53:26.456Z"
   },
   {
    "duration": 231,
    "start_time": "2024-07-15T11:53:27.042Z"
   },
   {
    "duration": 561,
    "start_time": "2024-07-15T11:53:27.275Z"
   },
   {
    "duration": 13,
    "start_time": "2024-07-15T11:53:27.838Z"
   },
   {
    "duration": 573,
    "start_time": "2024-07-15T11:53:27.866Z"
   },
   {
    "duration": 605,
    "start_time": "2024-07-15T11:53:28.440Z"
   },
   {
    "duration": 19,
    "start_time": "2024-07-15T11:53:29.047Z"
   },
   {
    "duration": 580,
    "start_time": "2024-07-15T11:53:29.067Z"
   },
   {
    "duration": 623,
    "start_time": "2024-07-15T11:53:29.649Z"
   },
   {
    "duration": 7,
    "start_time": "2024-07-15T11:53:30.273Z"
   },
   {
    "duration": 260,
    "start_time": "2024-07-15T11:53:30.282Z"
   },
   {
    "duration": 26,
    "start_time": "2024-07-15T11:53:30.545Z"
   },
   {
    "duration": 71,
    "start_time": "2024-07-15T11:53:30.573Z"
   },
   {
    "duration": 109,
    "start_time": "2024-07-15T11:53:30.646Z"
   },
   {
    "duration": 61,
    "start_time": "2024-07-15T11:53:30.757Z"
   },
   {
    "duration": 64,
    "start_time": "2024-07-15T11:53:30.819Z"
   },
   {
    "duration": 35,
    "start_time": "2024-07-15T11:53:30.885Z"
   },
   {
    "duration": 2294,
    "start_time": "2024-07-15T11:53:30.922Z"
   },
   {
    "duration": 17,
    "start_time": "2024-07-15T11:53:33.218Z"
   },
   {
    "duration": 5,
    "start_time": "2024-07-15T11:53:33.237Z"
   },
   {
    "duration": 3,
    "start_time": "2024-07-15T11:53:33.264Z"
   },
   {
    "duration": 11,
    "start_time": "2024-07-15T11:53:33.268Z"
   },
   {
    "duration": 14,
    "start_time": "2024-07-15T11:53:33.280Z"
   },
   {
    "duration": 9,
    "start_time": "2024-07-15T11:53:33.296Z"
   },
   {
    "duration": 7,
    "start_time": "2024-07-15T11:53:33.308Z"
   },
   {
    "duration": 7,
    "start_time": "2024-07-15T11:53:33.317Z"
   },
   {
    "duration": 16,
    "start_time": "2024-07-15T11:53:33.326Z"
   },
   {
    "duration": 24,
    "start_time": "2024-07-15T11:53:33.344Z"
   },
   {
    "duration": 9,
    "start_time": "2024-07-15T11:53:33.369Z"
   },
   {
    "duration": 337719,
    "start_time": "2024-07-15T11:53:33.380Z"
   },
   {
    "duration": 35,
    "start_time": "2024-07-15T11:59:11.100Z"
   },
   {
    "duration": 3,
    "start_time": "2024-07-15T11:59:11.136Z"
   },
   {
    "duration": 71,
    "start_time": "2024-07-15T11:59:11.140Z"
   },
   {
    "duration": 21,
    "start_time": "2024-07-15T11:59:11.213Z"
   },
   {
    "duration": 6,
    "start_time": "2024-07-15T11:59:11.236Z"
   },
   {
    "duration": 191,
    "start_time": "2024-07-15T11:59:11.244Z"
   },
   {
    "duration": 38,
    "start_time": "2024-07-15T11:59:11.438Z"
   },
   {
    "duration": 12,
    "start_time": "2024-07-15T11:59:11.478Z"
   },
   {
    "duration": 366737,
    "start_time": "2024-07-15T11:59:11.492Z"
   },
   {
    "duration": 1168,
    "start_time": "2024-07-15T12:05:18.231Z"
   },
   {
    "duration": 4,
    "start_time": "2024-07-15T12:05:19.401Z"
   },
   {
    "duration": 25,
    "start_time": "2024-07-15T12:05:19.407Z"
   },
   {
    "duration": 25,
    "start_time": "2024-07-15T12:05:19.433Z"
   },
   {
    "duration": 18,
    "start_time": "2024-07-15T12:05:19.459Z"
   },
   {
    "duration": 9,
    "start_time": "2024-07-15T12:05:19.478Z"
   },
   {
    "duration": 8,
    "start_time": "2024-07-15T12:05:19.489Z"
   },
   {
    "duration": 27,
    "start_time": "2024-07-15T12:05:19.499Z"
   },
   {
    "duration": 13,
    "start_time": "2024-07-15T12:10:07.349Z"
   },
   {
    "duration": 29,
    "start_time": "2024-07-15T12:10:12.573Z"
   },
   {
    "duration": 18,
    "start_time": "2024-07-15T12:10:19.357Z"
   },
   {
    "duration": 16,
    "start_time": "2024-07-15T12:10:25.445Z"
   },
   {
    "duration": 25,
    "start_time": "2024-07-15T12:10:58.801Z"
   },
   {
    "duration": 5,
    "start_time": "2024-07-15T12:13:33.761Z"
   },
   {
    "duration": 8,
    "start_time": "2024-07-15T12:14:19.994Z"
   },
   {
    "duration": 38,
    "start_time": "2024-07-15T12:16:23.422Z"
   },
   {
    "duration": 16672,
    "start_time": "2024-07-17T08:54:18.645Z"
   },
   {
    "duration": 1835,
    "start_time": "2024-07-17T08:54:35.320Z"
   },
   {
    "duration": 4,
    "start_time": "2024-07-17T08:54:37.157Z"
   },
   {
    "duration": 451,
    "start_time": "2024-07-17T08:54:37.162Z"
   },
   {
    "duration": 17,
    "start_time": "2024-07-17T08:54:37.615Z"
   },
   {
    "duration": 11,
    "start_time": "2024-07-17T08:54:37.633Z"
   },
   {
    "duration": 7,
    "start_time": "2024-07-17T08:54:37.646Z"
   },
   {
    "duration": 8,
    "start_time": "2024-07-17T08:54:37.654Z"
   },
   {
    "duration": 15,
    "start_time": "2024-07-17T08:54:37.663Z"
   },
   {
    "duration": 21,
    "start_time": "2024-07-17T08:54:37.681Z"
   },
   {
    "duration": 12,
    "start_time": "2024-07-17T08:54:37.704Z"
   },
   {
    "duration": 72,
    "start_time": "2024-07-17T08:54:37.717Z"
   },
   {
    "duration": 6,
    "start_time": "2024-07-17T08:54:37.790Z"
   },
   {
    "duration": 6,
    "start_time": "2024-07-17T08:54:37.798Z"
   },
   {
    "duration": 7,
    "start_time": "2024-07-17T08:54:37.806Z"
   },
   {
    "duration": 9,
    "start_time": "2024-07-17T08:54:37.814Z"
   },
   {
    "duration": 6,
    "start_time": "2024-07-17T08:54:37.825Z"
   },
   {
    "duration": 6,
    "start_time": "2024-07-17T08:54:37.833Z"
   },
   {
    "duration": 11,
    "start_time": "2024-07-17T08:54:37.841Z"
   },
   {
    "duration": 6,
    "start_time": "2024-07-17T08:54:37.885Z"
   },
   {
    "duration": 10,
    "start_time": "2024-07-17T08:54:37.893Z"
   },
   {
    "duration": 6,
    "start_time": "2024-07-17T08:54:37.905Z"
   },
   {
    "duration": 9,
    "start_time": "2024-07-17T08:54:37.913Z"
   },
   {
    "duration": 5,
    "start_time": "2024-07-17T08:54:37.924Z"
   },
   {
    "duration": 9,
    "start_time": "2024-07-17T08:54:37.931Z"
   },
   {
    "duration": 49,
    "start_time": "2024-07-17T08:54:37.942Z"
   },
   {
    "duration": 2,
    "start_time": "2024-07-17T08:54:37.992Z"
   },
   {
    "duration": 17,
    "start_time": "2024-07-17T08:54:37.998Z"
   },
   {
    "duration": 15077,
    "start_time": "2024-07-17T08:54:38.016Z"
   },
   {
    "duration": 7,
    "start_time": "2024-07-17T08:54:53.095Z"
   },
   {
    "duration": 30,
    "start_time": "2024-07-17T08:54:53.104Z"
   },
   {
    "duration": 535,
    "start_time": "2024-07-17T08:54:53.135Z"
   },
   {
    "duration": 7,
    "start_time": "2024-07-17T08:54:53.672Z"
   },
   {
    "duration": 634,
    "start_time": "2024-07-17T08:54:53.685Z"
   },
   {
    "duration": 716,
    "start_time": "2024-07-17T08:54:54.321Z"
   },
   {
    "duration": 207,
    "start_time": "2024-07-17T08:54:55.039Z"
   },
   {
    "duration": 586,
    "start_time": "2024-07-17T08:54:55.248Z"
   },
   {
    "duration": 13,
    "start_time": "2024-07-17T08:54:55.836Z"
   },
   {
    "duration": 588,
    "start_time": "2024-07-17T08:54:55.851Z"
   },
   {
    "duration": 537,
    "start_time": "2024-07-17T08:54:56.441Z"
   },
   {
    "duration": 15,
    "start_time": "2024-07-17T08:54:56.979Z"
   },
   {
    "duration": 543,
    "start_time": "2024-07-17T08:54:56.996Z"
   },
   {
    "duration": 573,
    "start_time": "2024-07-17T08:54:57.541Z"
   },
   {
    "duration": 6,
    "start_time": "2024-07-17T08:54:58.115Z"
   },
   {
    "duration": 353,
    "start_time": "2024-07-17T08:54:58.122Z"
   },
   {
    "duration": 19,
    "start_time": "2024-07-17T08:54:58.484Z"
   },
   {
    "duration": 3,
    "start_time": "2024-07-17T08:54:58.505Z"
   },
   {
    "duration": 18,
    "start_time": "2024-07-17T08:54:58.509Z"
   },
   {
    "duration": 3,
    "start_time": "2024-07-17T08:54:58.529Z"
   },
   {
    "duration": 14,
    "start_time": "2024-07-17T08:54:58.533Z"
   },
   {
    "duration": 6,
    "start_time": "2024-07-17T08:54:58.549Z"
   },
   {
    "duration": 2140,
    "start_time": "2024-07-17T08:54:58.585Z"
   },
   {
    "duration": 18,
    "start_time": "2024-07-17T08:55:00.727Z"
   },
   {
    "duration": 185,
    "start_time": "2024-07-17T08:55:00.747Z"
   },
   {
    "duration": 152,
    "start_time": "2024-07-17T08:55:00.934Z"
   },
   {
    "duration": 70,
    "start_time": "2024-07-17T08:55:01.088Z"
   },
   {
    "duration": 117,
    "start_time": "2024-07-17T08:55:01.160Z"
   },
   {
    "duration": 74,
    "start_time": "2024-07-17T08:55:01.279Z"
   },
   {
    "duration": 38,
    "start_time": "2024-07-17T08:55:01.354Z"
   },
   {
    "duration": 38,
    "start_time": "2024-07-17T08:55:01.394Z"
   },
   {
    "duration": 41,
    "start_time": "2024-07-17T08:55:01.434Z"
   },
   {
    "duration": 33,
    "start_time": "2024-07-17T08:55:01.477Z"
   },
   {
    "duration": 47,
    "start_time": "2024-07-17T08:55:01.512Z"
   },
   {
    "duration": 326945,
    "start_time": "2024-07-17T08:55:01.560Z"
   },
   {
    "duration": 37,
    "start_time": "2024-07-17T09:00:28.508Z"
   },
   {
    "duration": 3,
    "start_time": "2024-07-17T09:00:28.547Z"
   },
   {
    "duration": 50,
    "start_time": "2024-07-17T09:00:28.551Z"
   },
   {
    "duration": 20,
    "start_time": "2024-07-17T09:00:28.602Z"
   },
   {
    "duration": 6,
    "start_time": "2024-07-17T09:00:28.623Z"
   },
   {
    "duration": 200,
    "start_time": "2024-07-17T09:00:28.631Z"
   },
   {
    "duration": 23,
    "start_time": "2024-07-17T09:00:28.833Z"
   },
   {
    "duration": 10,
    "start_time": "2024-07-17T09:00:28.858Z"
   },
   {
    "duration": 361602,
    "start_time": "2024-07-17T09:00:28.870Z"
   },
   {
    "duration": 1175,
    "start_time": "2024-07-17T09:06:30.473Z"
   },
   {
    "duration": 4,
    "start_time": "2024-07-17T09:06:31.650Z"
   },
   {
    "duration": 48,
    "start_time": "2024-07-17T09:06:31.655Z"
   },
   {
    "duration": 10,
    "start_time": "2024-07-17T09:06:31.705Z"
   },
   {
    "duration": 19,
    "start_time": "2024-07-17T09:06:31.717Z"
   },
   {
    "duration": 7,
    "start_time": "2024-07-17T09:06:31.737Z"
   },
   {
    "duration": 5,
    "start_time": "2024-07-17T09:06:31.745Z"
   },
   {
    "duration": 5,
    "start_time": "2024-07-17T09:06:31.751Z"
   },
   {
    "duration": 19,
    "start_time": "2024-07-17T09:06:31.761Z"
   },
   {
    "duration": 80,
    "start_time": "2024-07-17T09:06:31.781Z"
   },
   {
    "duration": 61,
    "start_time": "2024-07-17T09:11:25.235Z"
   },
   {
    "duration": 82,
    "start_time": "2024-07-17T09:11:43.895Z"
   },
   {
    "duration": 90,
    "start_time": "2024-07-17T09:11:52.702Z"
   },
   {
    "duration": 7,
    "start_time": "2024-07-17T09:11:56.368Z"
   },
   {
    "duration": 69,
    "start_time": "2024-07-17T09:15:54.577Z"
   },
   {
    "duration": 36,
    "start_time": "2024-07-17T09:16:02.528Z"
   },
   {
    "duration": 159,
    "start_time": "2024-07-17T09:16:27.554Z"
   },
   {
    "duration": 32,
    "start_time": "2024-07-17T09:16:38.377Z"
   },
   {
    "duration": 8,
    "start_time": "2024-07-17T09:32:43.260Z"
   },
   {
    "duration": 15,
    "start_time": "2024-07-17T09:33:52.718Z"
   },
   {
    "duration": 4,
    "start_time": "2024-07-17T09:34:33.993Z"
   },
   {
    "duration": 10,
    "start_time": "2024-07-17T09:34:38.070Z"
   },
   {
    "duration": 9,
    "start_time": "2024-07-17T09:35:04.857Z"
   },
   {
    "duration": 10,
    "start_time": "2024-07-17T09:35:19.436Z"
   },
   {
    "duration": 7,
    "start_time": "2024-07-17T09:35:47.423Z"
   },
   {
    "duration": 5,
    "start_time": "2024-07-17T09:35:48.814Z"
   },
   {
    "duration": 23,
    "start_time": "2024-07-17T09:35:50.128Z"
   },
   {
    "duration": 11279,
    "start_time": "2024-07-17T09:36:22.021Z"
   },
   {
    "duration": 6,
    "start_time": "2024-07-17T09:36:33.303Z"
   },
   {
    "duration": 46,
    "start_time": "2024-07-17T09:36:33.310Z"
   },
   {
    "duration": 160,
    "start_time": "2024-07-17T09:36:33.358Z"
   },
   {
    "duration": 13,
    "start_time": "2024-07-17T09:36:33.520Z"
   },
   {
    "duration": 39,
    "start_time": "2024-07-17T09:36:33.535Z"
   },
   {
    "duration": 25,
    "start_time": "2024-07-17T09:36:33.576Z"
   },
   {
    "duration": 37,
    "start_time": "2024-07-17T09:36:33.603Z"
   },
   {
    "duration": 22,
    "start_time": "2024-07-17T09:36:33.642Z"
   },
   {
    "duration": 20,
    "start_time": "2024-07-17T09:36:33.667Z"
   },
   {
    "duration": 24,
    "start_time": "2024-07-17T09:36:33.688Z"
   },
   {
    "duration": 17,
    "start_time": "2024-07-17T09:36:33.714Z"
   },
   {
    "duration": 14,
    "start_time": "2024-07-17T09:36:33.733Z"
   },
   {
    "duration": 33,
    "start_time": "2024-07-17T09:36:33.749Z"
   },
   {
    "duration": 12,
    "start_time": "2024-07-17T09:36:33.784Z"
   },
   {
    "duration": 28,
    "start_time": "2024-07-17T09:36:33.797Z"
   },
   {
    "duration": 12,
    "start_time": "2024-07-17T09:36:33.826Z"
   },
   {
    "duration": 13,
    "start_time": "2024-07-17T09:36:33.839Z"
   },
   {
    "duration": 37,
    "start_time": "2024-07-17T09:36:33.854Z"
   },
   {
    "duration": 36,
    "start_time": "2024-07-17T09:36:33.892Z"
   },
   {
    "duration": 25,
    "start_time": "2024-07-17T09:36:33.929Z"
   },
   {
    "duration": 33,
    "start_time": "2024-07-17T09:36:33.955Z"
   },
   {
    "duration": 18,
    "start_time": "2024-07-17T09:36:33.990Z"
   },
   {
    "duration": 12,
    "start_time": "2024-07-17T09:36:34.010Z"
   },
   {
    "duration": 25,
    "start_time": "2024-07-17T09:36:34.023Z"
   },
   {
    "duration": 16,
    "start_time": "2024-07-17T09:36:34.050Z"
   },
   {
    "duration": 31,
    "start_time": "2024-07-17T09:36:34.068Z"
   },
   {
    "duration": 34,
    "start_time": "2024-07-17T09:36:34.107Z"
   },
   {
    "duration": 16115,
    "start_time": "2024-07-17T09:36:34.143Z"
   },
   {
    "duration": 6,
    "start_time": "2024-07-17T09:36:50.260Z"
   },
   {
    "duration": 21,
    "start_time": "2024-07-17T09:36:50.268Z"
   },
   {
    "duration": 586,
    "start_time": "2024-07-17T09:36:50.290Z"
   },
   {
    "duration": 12,
    "start_time": "2024-07-17T09:36:50.877Z"
   },
   {
    "duration": 606,
    "start_time": "2024-07-17T09:36:50.890Z"
   },
   {
    "duration": 571,
    "start_time": "2024-07-17T09:36:51.498Z"
   },
   {
    "duration": 216,
    "start_time": "2024-07-17T09:36:52.071Z"
   },
   {
    "duration": 575,
    "start_time": "2024-07-17T09:36:52.289Z"
   },
   {
    "duration": 20,
    "start_time": "2024-07-17T09:36:52.866Z"
   },
   {
    "duration": 581,
    "start_time": "2024-07-17T09:36:52.887Z"
   },
   {
    "duration": 886,
    "start_time": "2024-07-17T09:36:53.469Z"
   },
   {
    "duration": 16,
    "start_time": "2024-07-17T09:36:54.356Z"
   },
   {
    "duration": 566,
    "start_time": "2024-07-17T09:36:54.384Z"
   },
   {
    "duration": 613,
    "start_time": "2024-07-17T09:36:54.952Z"
   },
   {
    "duration": 6,
    "start_time": "2024-07-17T09:36:55.567Z"
   },
   {
    "duration": 188,
    "start_time": "2024-07-17T09:36:55.586Z"
   },
   {
    "duration": 27,
    "start_time": "2024-07-17T09:36:55.776Z"
   },
   {
    "duration": 5,
    "start_time": "2024-07-17T09:36:55.805Z"
   },
   {
    "duration": 27,
    "start_time": "2024-07-17T09:36:55.812Z"
   },
   {
    "duration": 4,
    "start_time": "2024-07-17T09:36:55.841Z"
   },
   {
    "duration": 39,
    "start_time": "2024-07-17T09:36:55.846Z"
   },
   {
    "duration": 27,
    "start_time": "2024-07-17T09:36:55.886Z"
   },
   {
    "duration": 2154,
    "start_time": "2024-07-17T09:36:55.915Z"
   },
   {
    "duration": 24,
    "start_time": "2024-07-17T09:36:58.071Z"
   },
   {
    "duration": 18,
    "start_time": "2024-07-17T09:36:58.096Z"
   },
   {
    "duration": 17,
    "start_time": "2024-07-17T09:36:58.116Z"
   },
   {
    "duration": 4,
    "start_time": "2024-07-17T09:36:58.134Z"
   },
   {
    "duration": 21,
    "start_time": "2024-07-17T09:36:58.140Z"
   },
   {
    "duration": 5,
    "start_time": "2024-07-17T09:36:58.163Z"
   },
   {
    "duration": 6,
    "start_time": "2024-07-17T09:36:58.169Z"
   },
   {
    "duration": 7,
    "start_time": "2024-07-17T09:36:58.176Z"
   },
   {
    "duration": 13,
    "start_time": "2024-07-17T09:36:58.184Z"
   },
   {
    "duration": 14,
    "start_time": "2024-07-17T09:36:58.199Z"
   },
   {
    "duration": 6,
    "start_time": "2024-07-17T09:36:58.214Z"
   },
   {
    "duration": 332604,
    "start_time": "2024-07-17T09:36:58.222Z"
   },
   {
    "duration": 34,
    "start_time": "2024-07-17T09:42:30.828Z"
   },
   {
    "duration": 25,
    "start_time": "2024-07-17T09:42:30.864Z"
   },
   {
    "duration": 74,
    "start_time": "2024-07-17T09:42:30.891Z"
   },
   {
    "duration": 69,
    "start_time": "2024-07-17T09:42:30.967Z"
   },
   {
    "duration": 44,
    "start_time": "2024-07-17T09:42:31.038Z"
   },
   {
    "duration": 236,
    "start_time": "2024-07-17T09:42:31.084Z"
   },
   {
    "duration": 26,
    "start_time": "2024-07-17T09:42:31.322Z"
   },
   {
    "duration": 34,
    "start_time": "2024-07-17T09:42:31.349Z"
   },
   {
    "duration": 360289,
    "start_time": "2024-07-17T09:42:31.384Z"
   },
   {
    "duration": 1270,
    "start_time": "2024-07-17T09:48:31.675Z"
   },
   {
    "duration": 3,
    "start_time": "2024-07-17T09:48:32.947Z"
   },
   {
    "duration": 14,
    "start_time": "2024-07-17T09:48:32.952Z"
   },
   {
    "duration": 6,
    "start_time": "2024-07-17T09:48:32.968Z"
   },
   {
    "duration": 17,
    "start_time": "2024-07-17T09:48:32.985Z"
   },
   {
    "duration": 22,
    "start_time": "2024-07-17T09:48:33.004Z"
   },
   {
    "duration": 11,
    "start_time": "2024-07-17T09:48:33.027Z"
   },
   {
    "duration": 10,
    "start_time": "2024-07-17T09:48:33.040Z"
   },
   {
    "duration": 4,
    "start_time": "2024-07-17T09:48:33.056Z"
   },
   {
    "duration": 33,
    "start_time": "2024-07-17T09:48:33.062Z"
   },
   {
    "duration": 792,
    "start_time": "2024-07-17T09:48:33.096Z"
   },
   {
    "duration": 2,
    "start_time": "2024-07-17T09:50:18.492Z"
   },
   {
    "duration": 6,
    "start_time": "2024-07-17T09:50:20.823Z"
   },
   {
    "duration": 4,
    "start_time": "2024-07-17T09:50:21.336Z"
   },
   {
    "duration": 23,
    "start_time": "2024-07-17T09:50:21.849Z"
   },
   {
    "duration": 24,
    "start_time": "2024-07-17T09:50:46.990Z"
   },
   {
    "duration": 6,
    "start_time": "2024-07-17T09:50:52.209Z"
   },
   {
    "duration": 4,
    "start_time": "2024-07-17T09:50:52.736Z"
   },
   {
    "duration": 16,
    "start_time": "2024-07-17T09:50:53.362Z"
   },
   {
    "duration": 3,
    "start_time": "2024-07-17T09:50:58.399Z"
   },
   {
    "duration": 10,
    "start_time": "2024-07-17T09:51:00.511Z"
   },
   {
    "duration": 3,
    "start_time": "2024-07-17T09:51:01.074Z"
   },
   {
    "duration": 16,
    "start_time": "2024-07-17T09:51:09.972Z"
   },
   {
    "duration": 6,
    "start_time": "2024-07-17T09:51:16.640Z"
   },
   {
    "duration": 4,
    "start_time": "2024-07-17T09:51:16.992Z"
   },
   {
    "duration": 18,
    "start_time": "2024-07-17T09:51:17.708Z"
   },
   {
    "duration": 5,
    "start_time": "2024-07-17T09:53:38.451Z"
   },
   {
    "duration": 0,
    "start_time": "2024-07-17T09:54:02.613Z"
   },
   {
    "duration": 46573,
    "start_time": "2024-07-17T09:54:06.540Z"
   },
   {
    "duration": 5,
    "start_time": "2024-07-17T09:57:38.968Z"
   },
   {
    "duration": 4,
    "start_time": "2024-07-17T09:57:42.793Z"
   },
   {
    "duration": 7,
    "start_time": "2024-07-17T09:58:17.944Z"
   },
   {
    "duration": 4,
    "start_time": "2024-07-17T09:58:18.924Z"
   },
   {
    "duration": 10,
    "start_time": "2024-07-17T09:58:19.637Z"
   },
   {
    "duration": 20184,
    "start_time": "2024-07-17T09:58:42.904Z"
   },
   {
    "duration": 20025,
    "start_time": "2024-07-17T09:59:17.822Z"
   },
   {
    "duration": 27,
    "start_time": "2024-07-17T09:59:55.203Z"
   },
   {
    "duration": 28155,
    "start_time": "2024-07-17T10:01:21.519Z"
   },
   {
    "duration": 32842,
    "start_time": "2024-07-17T10:02:34.630Z"
   },
   {
    "duration": 252,
    "start_time": "2024-07-17T10:04:21.322Z"
   },
   {
    "duration": 42815,
    "start_time": "2024-07-17T10:04:31.450Z"
   },
   {
    "duration": 11776,
    "start_time": "2024-07-17T10:06:52.593Z"
   },
   {
    "duration": 3119,
    "start_time": "2024-07-17T10:07:04.371Z"
   },
   {
    "duration": 4,
    "start_time": "2024-07-17T10:07:07.492Z"
   },
   {
    "duration": 451,
    "start_time": "2024-07-17T10:07:07.497Z"
   },
   {
    "duration": 18,
    "start_time": "2024-07-17T10:07:07.950Z"
   },
   {
    "duration": 12,
    "start_time": "2024-07-17T10:07:07.970Z"
   },
   {
    "duration": 49,
    "start_time": "2024-07-17T10:07:07.983Z"
   },
   {
    "duration": 10,
    "start_time": "2024-07-17T10:07:08.034Z"
   },
   {
    "duration": 15,
    "start_time": "2024-07-17T10:07:08.046Z"
   },
   {
    "duration": 5,
    "start_time": "2024-07-17T10:07:08.064Z"
   },
   {
    "duration": 15,
    "start_time": "2024-07-17T10:07:08.070Z"
   },
   {
    "duration": 4,
    "start_time": "2024-07-17T10:07:08.087Z"
   },
   {
    "duration": 9,
    "start_time": "2024-07-17T10:07:08.092Z"
   },
   {
    "duration": 8,
    "start_time": "2024-07-17T10:07:08.102Z"
   },
   {
    "duration": 19,
    "start_time": "2024-07-17T10:07:08.111Z"
   },
   {
    "duration": 9,
    "start_time": "2024-07-17T10:07:08.132Z"
   },
   {
    "duration": 9,
    "start_time": "2024-07-17T10:07:08.142Z"
   },
   {
    "duration": 11,
    "start_time": "2024-07-17T10:07:08.152Z"
   },
   {
    "duration": 25,
    "start_time": "2024-07-17T10:07:08.165Z"
   },
   {
    "duration": 6,
    "start_time": "2024-07-17T10:07:08.192Z"
   },
   {
    "duration": 12,
    "start_time": "2024-07-17T10:07:08.199Z"
   },
   {
    "duration": 6,
    "start_time": "2024-07-17T10:07:08.213Z"
   },
   {
    "duration": 11,
    "start_time": "2024-07-17T10:07:08.221Z"
   },
   {
    "duration": 5,
    "start_time": "2024-07-17T10:07:08.234Z"
   },
   {
    "duration": 48,
    "start_time": "2024-07-17T10:07:08.241Z"
   },
   {
    "duration": 9,
    "start_time": "2024-07-17T10:07:08.291Z"
   },
   {
    "duration": 3,
    "start_time": "2024-07-17T10:07:08.302Z"
   },
   {
    "duration": 17,
    "start_time": "2024-07-17T10:07:08.310Z"
   },
   {
    "duration": 15400,
    "start_time": "2024-07-17T10:07:08.329Z"
   },
   {
    "duration": 6,
    "start_time": "2024-07-17T10:07:23.732Z"
   },
   {
    "duration": 12,
    "start_time": "2024-07-17T10:07:23.740Z"
   },
   {
    "duration": 597,
    "start_time": "2024-07-17T10:07:23.753Z"
   },
   {
    "duration": 7,
    "start_time": "2024-07-17T10:07:24.352Z"
   },
   {
    "duration": 617,
    "start_time": "2024-07-17T10:07:24.360Z"
   },
   {
    "duration": 717,
    "start_time": "2024-07-17T10:07:24.978Z"
   },
   {
    "duration": 225,
    "start_time": "2024-07-17T10:07:25.697Z"
   },
   {
    "duration": 530,
    "start_time": "2024-07-17T10:07:25.923Z"
   },
   {
    "duration": 14,
    "start_time": "2024-07-17T10:07:26.454Z"
   },
   {
    "duration": 593,
    "start_time": "2024-07-17T10:07:26.469Z"
   },
   {
    "duration": 583,
    "start_time": "2024-07-17T10:07:27.064Z"
   },
   {
    "duration": 16,
    "start_time": "2024-07-17T10:07:27.648Z"
   },
   {
    "duration": 579,
    "start_time": "2024-07-17T10:07:27.665Z"
   },
   {
    "duration": 613,
    "start_time": "2024-07-17T10:07:28.246Z"
   },
   {
    "duration": 5,
    "start_time": "2024-07-17T10:07:28.861Z"
   },
   {
    "duration": 373,
    "start_time": "2024-07-17T10:07:28.868Z"
   },
   {
    "duration": 19,
    "start_time": "2024-07-17T10:07:29.243Z"
   },
   {
    "duration": 4,
    "start_time": "2024-07-17T10:07:29.264Z"
   },
   {
    "duration": 16,
    "start_time": "2024-07-17T10:07:29.285Z"
   },
   {
    "duration": 3,
    "start_time": "2024-07-17T10:07:29.303Z"
   },
   {
    "duration": 13,
    "start_time": "2024-07-17T10:07:29.308Z"
   },
   {
    "duration": 5,
    "start_time": "2024-07-17T10:07:29.323Z"
   },
   {
    "duration": 2247,
    "start_time": "2024-07-17T10:07:29.330Z"
   },
   {
    "duration": 20,
    "start_time": "2024-07-17T10:07:31.579Z"
   },
   {
    "duration": 51,
    "start_time": "2024-07-17T10:07:31.600Z"
   },
   {
    "duration": 25,
    "start_time": "2024-07-17T10:07:31.652Z"
   },
   {
    "duration": 19,
    "start_time": "2024-07-17T10:07:31.679Z"
   },
   {
    "duration": 36,
    "start_time": "2024-07-17T10:07:31.700Z"
   },
   {
    "duration": 27,
    "start_time": "2024-07-17T10:07:31.737Z"
   },
   {
    "duration": 15,
    "start_time": "2024-07-17T10:07:31.766Z"
   },
   {
    "duration": 20,
    "start_time": "2024-07-17T10:07:31.783Z"
   },
   {
    "duration": 36,
    "start_time": "2024-07-17T10:07:31.804Z"
   },
   {
    "duration": 21,
    "start_time": "2024-07-17T10:07:31.841Z"
   },
   {
    "duration": 16,
    "start_time": "2024-07-17T10:07:31.863Z"
   },
   {
    "duration": 336439,
    "start_time": "2024-07-17T10:07:31.880Z"
   },
   {
    "duration": 43,
    "start_time": "2024-07-17T10:13:08.321Z"
   },
   {
    "duration": 20,
    "start_time": "2024-07-17T10:13:08.365Z"
   },
   {
    "duration": 31,
    "start_time": "2024-07-17T10:13:08.387Z"
   },
   {
    "duration": 23,
    "start_time": "2024-07-17T10:13:08.419Z"
   },
   {
    "duration": 7,
    "start_time": "2024-07-17T10:13:08.444Z"
   },
   {
    "duration": 206,
    "start_time": "2024-07-17T10:13:08.453Z"
   },
   {
    "duration": 39,
    "start_time": "2024-07-17T10:13:08.661Z"
   },
   {
    "duration": 13,
    "start_time": "2024-07-17T10:13:08.701Z"
   },
   {
    "duration": 360320,
    "start_time": "2024-07-17T10:13:08.716Z"
   },
   {
    "duration": 1192,
    "start_time": "2024-07-17T10:19:09.037Z"
   },
   {
    "duration": 4,
    "start_time": "2024-07-17T10:19:10.230Z"
   },
   {
    "duration": 17,
    "start_time": "2024-07-17T10:19:10.235Z"
   },
   {
    "duration": 7,
    "start_time": "2024-07-17T10:19:10.254Z"
   },
   {
    "duration": 29,
    "start_time": "2024-07-17T10:19:10.262Z"
   },
   {
    "duration": 4,
    "start_time": "2024-07-17T10:19:10.292Z"
   },
   {
    "duration": 13,
    "start_time": "2024-07-17T10:19:10.297Z"
   },
   {
    "duration": 3,
    "start_time": "2024-07-17T10:19:10.311Z"
   },
   {
    "duration": 16,
    "start_time": "2024-07-17T10:19:10.320Z"
   },
   {
    "duration": 6,
    "start_time": "2024-07-17T10:19:10.337Z"
   },
   {
    "duration": 12,
    "start_time": "2024-07-17T10:19:10.345Z"
   },
   {
    "duration": 40,
    "start_time": "2024-07-17T10:19:10.358Z"
   },
   {
    "duration": 4,
    "start_time": "2024-07-17T10:19:10.400Z"
   },
   {
    "duration": 38170,
    "start_time": "2024-07-17T10:19:10.405Z"
   },
   {
    "duration": 8,
    "start_time": "2024-07-17T10:19:48.577Z"
   },
   {
    "duration": 11,
    "start_time": "2024-07-17T10:19:48.587Z"
   },
   {
    "duration": 50,
    "start_time": "2024-07-17T10:20:30.186Z"
   },
   {
    "duration": 6,
    "start_time": "2024-07-17T10:20:32.490Z"
   },
   {
    "duration": 11442,
    "start_time": "2024-07-17T10:20:57.023Z"
   },
   {
    "duration": 2943,
    "start_time": "2024-07-17T10:21:08.468Z"
   },
   {
    "duration": 4,
    "start_time": "2024-07-17T10:21:11.412Z"
   },
   {
    "duration": 452,
    "start_time": "2024-07-17T10:21:11.418Z"
   },
   {
    "duration": 19,
    "start_time": "2024-07-17T10:21:11.871Z"
   },
   {
    "duration": 12,
    "start_time": "2024-07-17T10:21:11.892Z"
   },
   {
    "duration": 9,
    "start_time": "2024-07-17T10:21:11.905Z"
   },
   {
    "duration": 8,
    "start_time": "2024-07-17T10:21:11.916Z"
   },
   {
    "duration": 7,
    "start_time": "2024-07-17T10:21:11.925Z"
   },
   {
    "duration": 5,
    "start_time": "2024-07-17T10:21:11.935Z"
   },
   {
    "duration": 50,
    "start_time": "2024-07-17T10:21:11.941Z"
   },
   {
    "duration": 4,
    "start_time": "2024-07-17T10:21:11.993Z"
   },
   {
    "duration": 14,
    "start_time": "2024-07-17T10:21:11.998Z"
   },
   {
    "duration": 9,
    "start_time": "2024-07-17T10:21:12.013Z"
   },
   {
    "duration": 6,
    "start_time": "2024-07-17T10:21:12.023Z"
   },
   {
    "duration": 7,
    "start_time": "2024-07-17T10:21:12.030Z"
   },
   {
    "duration": 6,
    "start_time": "2024-07-17T10:21:12.038Z"
   },
   {
    "duration": 5,
    "start_time": "2024-07-17T10:21:12.045Z"
   },
   {
    "duration": 42,
    "start_time": "2024-07-17T10:21:12.052Z"
   },
   {
    "duration": 9,
    "start_time": "2024-07-17T10:21:12.096Z"
   },
   {
    "duration": 14,
    "start_time": "2024-07-17T10:21:12.107Z"
   },
   {
    "duration": 10,
    "start_time": "2024-07-17T10:21:12.124Z"
   },
   {
    "duration": 15,
    "start_time": "2024-07-17T10:21:12.136Z"
   },
   {
    "duration": 5,
    "start_time": "2024-07-17T10:21:12.184Z"
   },
   {
    "duration": 10,
    "start_time": "2024-07-17T10:21:12.191Z"
   },
   {
    "duration": 9,
    "start_time": "2024-07-17T10:21:12.203Z"
   },
   {
    "duration": 2,
    "start_time": "2024-07-17T10:21:12.214Z"
   },
   {
    "duration": 18,
    "start_time": "2024-07-17T10:21:12.222Z"
   },
   {
    "duration": 16131,
    "start_time": "2024-07-17T10:21:12.242Z"
   },
   {
    "duration": 7,
    "start_time": "2024-07-17T10:21:28.375Z"
   },
   {
    "duration": 15,
    "start_time": "2024-07-17T10:21:28.384Z"
   },
   {
    "duration": 572,
    "start_time": "2024-07-17T10:21:28.401Z"
   },
   {
    "duration": 15,
    "start_time": "2024-07-17T10:21:28.974Z"
   },
   {
    "duration": 599,
    "start_time": "2024-07-17T10:21:28.991Z"
   },
   {
    "duration": 754,
    "start_time": "2024-07-17T10:21:29.592Z"
   },
   {
    "duration": 214,
    "start_time": "2024-07-17T10:21:30.348Z"
   },
   {
    "duration": 582,
    "start_time": "2024-07-17T10:21:30.564Z"
   },
   {
    "duration": 13,
    "start_time": "2024-07-17T10:21:31.148Z"
   },
   {
    "duration": 614,
    "start_time": "2024-07-17T10:21:31.163Z"
   },
   {
    "duration": 596,
    "start_time": "2024-07-17T10:21:31.778Z"
   },
   {
    "duration": 16,
    "start_time": "2024-07-17T10:21:32.376Z"
   },
   {
    "duration": 575,
    "start_time": "2024-07-17T10:21:32.394Z"
   },
   {
    "duration": 618,
    "start_time": "2024-07-17T10:21:32.971Z"
   },
   {
    "duration": 6,
    "start_time": "2024-07-17T10:21:33.591Z"
   },
   {
    "duration": 375,
    "start_time": "2024-07-17T10:21:33.598Z"
   },
   {
    "duration": 30,
    "start_time": "2024-07-17T10:21:33.975Z"
   },
   {
    "duration": 5,
    "start_time": "2024-07-17T10:21:34.007Z"
   },
   {
    "duration": 22,
    "start_time": "2024-07-17T10:21:34.014Z"
   },
   {
    "duration": 4,
    "start_time": "2024-07-17T10:21:34.038Z"
   },
   {
    "duration": 73,
    "start_time": "2024-07-17T10:21:34.044Z"
   },
   {
    "duration": 10,
    "start_time": "2024-07-17T10:21:34.118Z"
   },
   {
    "duration": 2297,
    "start_time": "2024-07-17T10:21:34.130Z"
   },
   {
    "duration": 16,
    "start_time": "2024-07-17T10:21:36.429Z"
   },
   {
    "duration": 26,
    "start_time": "2024-07-17T10:21:36.446Z"
   },
   {
    "duration": 26,
    "start_time": "2024-07-17T10:21:36.474Z"
   },
   {
    "duration": 16,
    "start_time": "2024-07-17T10:21:36.502Z"
   },
   {
    "duration": 24,
    "start_time": "2024-07-17T10:21:36.520Z"
   },
   {
    "duration": 31,
    "start_time": "2024-07-17T10:21:36.545Z"
   },
   {
    "duration": 25,
    "start_time": "2024-07-17T10:21:36.578Z"
   },
   {
    "duration": 30,
    "start_time": "2024-07-17T10:21:36.604Z"
   },
   {
    "duration": 84,
    "start_time": "2024-07-17T10:21:36.635Z"
   },
   {
    "duration": 22,
    "start_time": "2024-07-17T10:21:36.721Z"
   },
   {
    "duration": 10,
    "start_time": "2024-07-17T10:21:36.745Z"
   },
   {
    "duration": 336567,
    "start_time": "2024-07-17T10:21:36.756Z"
   },
   {
    "duration": 84,
    "start_time": "2024-07-17T10:27:13.325Z"
   },
   {
    "duration": 2,
    "start_time": "2024-07-17T10:27:13.411Z"
   },
   {
    "duration": 29,
    "start_time": "2024-07-17T10:27:13.414Z"
   },
   {
    "duration": 21,
    "start_time": "2024-07-17T10:27:13.445Z"
   },
   {
    "duration": 7,
    "start_time": "2024-07-17T10:27:13.484Z"
   },
   {
    "duration": 194,
    "start_time": "2024-07-17T10:27:13.493Z"
   },
   {
    "duration": 25,
    "start_time": "2024-07-17T10:27:13.688Z"
   },
   {
    "duration": 11,
    "start_time": "2024-07-17T10:27:13.714Z"
   },
   {
    "duration": 366679,
    "start_time": "2024-07-17T10:27:13.727Z"
   },
   {
    "duration": 1209,
    "start_time": "2024-07-17T10:33:20.407Z"
   },
   {
    "duration": 3,
    "start_time": "2024-07-17T10:33:21.618Z"
   },
   {
    "duration": 11,
    "start_time": "2024-07-17T10:33:21.623Z"
   },
   {
    "duration": 3,
    "start_time": "2024-07-17T10:33:21.636Z"
   },
   {
    "duration": 16,
    "start_time": "2024-07-17T10:33:21.641Z"
   },
   {
    "duration": 27,
    "start_time": "2024-07-17T10:33:21.658Z"
   },
   {
    "duration": 16,
    "start_time": "2024-07-17T10:33:21.687Z"
   },
   {
    "duration": 6,
    "start_time": "2024-07-17T10:33:21.705Z"
   },
   {
    "duration": 16,
    "start_time": "2024-07-17T10:33:21.717Z"
   },
   {
    "duration": 7,
    "start_time": "2024-07-17T10:33:21.734Z"
   },
   {
    "duration": 8,
    "start_time": "2024-07-17T10:33:21.742Z"
   },
   {
    "duration": 35,
    "start_time": "2024-07-17T10:33:21.751Z"
   },
   {
    "duration": 5,
    "start_time": "2024-07-17T10:33:21.787Z"
   },
   {
    "duration": 9,
    "start_time": "2024-07-17T10:33:21.794Z"
   },
   {
    "duration": 5,
    "start_time": "2024-07-17T10:33:21.805Z"
   },
   {
    "duration": 27,
    "start_time": "2024-07-17T10:33:21.811Z"
   },
   {
    "duration": 288,
    "start_time": "2024-07-17T10:34:32.189Z"
   },
   {
    "duration": 286,
    "start_time": "2024-07-17T10:35:00.355Z"
   },
   {
    "duration": 283,
    "start_time": "2024-07-17T10:35:37.863Z"
   },
   {
    "duration": 348,
    "start_time": "2024-07-17T10:35:55.309Z"
   },
   {
    "duration": 11,
    "start_time": "2024-07-17T10:36:39.425Z"
   },
   {
    "duration": 183,
    "start_time": "2024-07-17T10:37:26.713Z"
   },
   {
    "duration": 16,
    "start_time": "2024-07-17T10:37:40.395Z"
   },
   {
    "duration": 237,
    "start_time": "2024-07-17T10:38:07.830Z"
   },
   {
    "duration": 238,
    "start_time": "2024-07-17T10:38:28.053Z"
   },
   {
    "duration": 230,
    "start_time": "2024-07-17T10:38:45.367Z"
   },
   {
    "duration": 234,
    "start_time": "2024-07-17T10:39:21.803Z"
   },
   {
    "duration": 329,
    "start_time": "2024-07-17T10:39:39.175Z"
   },
   {
    "duration": 327,
    "start_time": "2024-07-17T10:39:50.344Z"
   },
   {
    "duration": 525,
    "start_time": "2024-07-17T10:41:01.710Z"
   },
   {
    "duration": 328,
    "start_time": "2024-07-17T10:43:33.343Z"
   },
   {
    "duration": 329,
    "start_time": "2024-07-17T10:43:59.919Z"
   },
   {
    "duration": 13,
    "start_time": "2024-07-17T10:45:14.502Z"
   },
   {
    "duration": 8,
    "start_time": "2024-07-17T10:45:30.649Z"
   },
   {
    "duration": 5,
    "start_time": "2024-07-17T10:49:07.520Z"
   },
   {
    "duration": 7,
    "start_time": "2024-07-17T10:49:27.294Z"
   },
   {
    "duration": 351,
    "start_time": "2024-07-17T10:49:32.197Z"
   },
   {
    "duration": 245,
    "start_time": "2024-07-17T10:51:02.487Z"
   },
   {
    "duration": 494,
    "start_time": "2024-07-17T10:51:05.461Z"
   },
   {
    "duration": 490,
    "start_time": "2024-07-17T10:51:25.363Z"
   },
   {
    "duration": 465,
    "start_time": "2024-07-17T10:51:45.224Z"
   },
   {
    "duration": 32,
    "start_time": "2024-07-17T10:54:54.990Z"
   },
   {
    "duration": 10,
    "start_time": "2024-07-17T10:55:38.712Z"
   },
   {
    "duration": 4,
    "start_time": "2024-07-17T10:56:33.210Z"
   },
   {
    "duration": 21,
    "start_time": "2024-07-17T10:56:41.493Z"
   },
   {
    "duration": 12,
    "start_time": "2024-07-17T10:59:27.092Z"
   },
   {
    "duration": 208,
    "start_time": "2024-07-17T10:59:36.022Z"
   },
   {
    "duration": 9,
    "start_time": "2024-07-17T10:59:38.944Z"
   },
   {
    "duration": 9,
    "start_time": "2024-07-17T11:00:51.961Z"
   },
   {
    "duration": 4,
    "start_time": "2024-07-17T11:01:42.685Z"
   },
   {
    "duration": 5,
    "start_time": "2024-07-17T11:01:46.729Z"
   },
   {
    "duration": 3,
    "start_time": "2024-07-17T11:01:52.851Z"
   },
   {
    "duration": 27,
    "start_time": "2024-07-17T11:01:54.766Z"
   },
   {
    "duration": 11,
    "start_time": "2024-07-17T11:02:02.509Z"
   },
   {
    "duration": 16,
    "start_time": "2024-07-17T11:02:35.532Z"
   },
   {
    "duration": 13,
    "start_time": "2024-07-17T11:03:10.758Z"
   },
   {
    "duration": 5,
    "start_time": "2024-07-17T11:03:14.838Z"
   },
   {
    "duration": 16,
    "start_time": "2024-07-17T11:03:15.300Z"
   },
   {
    "duration": 13,
    "start_time": "2024-07-17T11:03:17.393Z"
   },
   {
    "duration": 10,
    "start_time": "2024-07-17T11:03:29.535Z"
   },
   {
    "duration": 9,
    "start_time": "2024-07-17T11:03:57.630Z"
   },
   {
    "duration": 7,
    "start_time": "2024-07-17T11:04:48.404Z"
   },
   {
    "duration": 432,
    "start_time": "2024-07-17T11:05:08.714Z"
   },
   {
    "duration": 441,
    "start_time": "2024-07-17T11:05:19.622Z"
   },
   {
    "duration": 8,
    "start_time": "2024-07-17T11:06:11.353Z"
   },
   {
    "duration": 3,
    "start_time": "2024-07-17T11:06:14.554Z"
   },
   {
    "duration": 9,
    "start_time": "2024-07-17T11:06:17.770Z"
   },
   {
    "duration": 5,
    "start_time": "2024-07-17T11:06:20.243Z"
   },
   {
    "duration": 5,
    "start_time": "2024-07-17T11:06:34.055Z"
   },
   {
    "duration": 402,
    "start_time": "2024-07-17T11:07:02.488Z"
   },
   {
    "duration": 482,
    "start_time": "2024-07-17T11:09:28.579Z"
   },
   {
    "duration": 464,
    "start_time": "2024-07-17T11:09:42.553Z"
   },
   {
    "duration": 7,
    "start_time": "2024-07-17T11:10:50.135Z"
   },
   {
    "duration": 3,
    "start_time": "2024-07-17T11:10:56.659Z"
   },
   {
    "duration": 10,
    "start_time": "2024-07-17T11:10:58.696Z"
   },
   {
    "duration": 7,
    "start_time": "2024-07-17T11:11:51.896Z"
   },
   {
    "duration": 4,
    "start_time": "2024-07-17T11:11:58.113Z"
   },
   {
    "duration": 6,
    "start_time": "2024-07-17T11:11:58.808Z"
   },
   {
    "duration": 4,
    "start_time": "2024-07-17T11:11:59.400Z"
   },
   {
    "duration": 16,
    "start_time": "2024-07-17T11:11:59.860Z"
   },
   {
    "duration": 5,
    "start_time": "2024-07-17T11:12:00.405Z"
   },
   {
    "duration": 8,
    "start_time": "2024-07-17T11:12:02.606Z"
   },
   {
    "duration": 9,
    "start_time": "2024-07-17T11:12:03.912Z"
   },
   {
    "duration": 468,
    "start_time": "2024-07-17T11:12:06.860Z"
   },
   {
    "duration": 7,
    "start_time": "2024-07-17T11:12:19.353Z"
   },
   {
    "duration": 4,
    "start_time": "2024-07-17T11:12:29.718Z"
   },
   {
    "duration": 10,
    "start_time": "2024-07-17T11:12:31.430Z"
   },
   {
    "duration": 397,
    "start_time": "2024-07-17T11:12:33.694Z"
   },
   {
    "duration": 368,
    "start_time": "2024-07-17T11:12:50.107Z"
   },
   {
    "duration": 427,
    "start_time": "2024-07-17T11:12:55.762Z"
   },
   {
    "duration": 306,
    "start_time": "2024-07-17T11:13:03.841Z"
   },
   {
    "duration": 7,
    "start_time": "2024-07-17T11:13:14.036Z"
   },
   {
    "duration": 7,
    "start_time": "2024-07-17T11:13:18.842Z"
   },
   {
    "duration": 5,
    "start_time": "2024-07-17T11:13:22.991Z"
   },
   {
    "duration": 9,
    "start_time": "2024-07-17T11:31:51.572Z"
   },
   {
    "duration": 7,
    "start_time": "2024-07-17T11:32:15.306Z"
   },
   {
    "duration": 5,
    "start_time": "2024-07-17T11:34:19.900Z"
   },
   {
    "duration": 7,
    "start_time": "2024-07-17T11:47:06.793Z"
   },
   {
    "duration": 7,
    "start_time": "2024-07-17T11:48:36.416Z"
   },
   {
    "duration": 8,
    "start_time": "2024-07-17T11:48:37.487Z"
   },
   {
    "duration": 11633,
    "start_time": "2024-07-17T12:12:49.514Z"
   },
   {
    "duration": 7,
    "start_time": "2024-07-17T12:13:01.150Z"
   },
   {
    "duration": 84,
    "start_time": "2024-07-17T12:13:01.158Z"
   },
   {
    "duration": 157,
    "start_time": "2024-07-17T12:13:01.244Z"
   },
   {
    "duration": 15,
    "start_time": "2024-07-17T12:13:01.403Z"
   },
   {
    "duration": 51,
    "start_time": "2024-07-17T12:13:01.419Z"
   },
   {
    "duration": 49,
    "start_time": "2024-07-17T12:13:01.472Z"
   },
   {
    "duration": 40,
    "start_time": "2024-07-17T12:13:01.522Z"
   },
   {
    "duration": 50,
    "start_time": "2024-07-17T12:13:01.564Z"
   },
   {
    "duration": 73,
    "start_time": "2024-07-17T12:13:01.617Z"
   },
   {
    "duration": 32,
    "start_time": "2024-07-17T12:13:01.692Z"
   },
   {
    "duration": 56,
    "start_time": "2024-07-17T12:13:01.726Z"
   },
   {
    "duration": 35,
    "start_time": "2024-07-17T12:13:01.784Z"
   },
   {
    "duration": 26,
    "start_time": "2024-07-17T12:13:01.821Z"
   },
   {
    "duration": 26,
    "start_time": "2024-07-17T12:13:01.848Z"
   },
   {
    "duration": 27,
    "start_time": "2024-07-17T12:13:01.876Z"
   },
   {
    "duration": 34,
    "start_time": "2024-07-17T12:13:01.905Z"
   },
   {
    "duration": 12,
    "start_time": "2024-07-17T12:13:01.941Z"
   },
   {
    "duration": 16,
    "start_time": "2024-07-17T12:13:01.955Z"
   },
   {
    "duration": 15,
    "start_time": "2024-07-17T12:13:01.972Z"
   },
   {
    "duration": 33,
    "start_time": "2024-07-17T12:13:01.989Z"
   },
   {
    "duration": 25,
    "start_time": "2024-07-17T12:13:02.023Z"
   },
   {
    "duration": 45,
    "start_time": "2024-07-17T12:13:02.049Z"
   },
   {
    "duration": 18,
    "start_time": "2024-07-17T12:13:02.096Z"
   },
   {
    "duration": 24,
    "start_time": "2024-07-17T12:13:02.115Z"
   },
   {
    "duration": 10,
    "start_time": "2024-07-17T12:13:02.140Z"
   },
   {
    "duration": 32,
    "start_time": "2024-07-17T12:13:02.152Z"
   },
   {
    "duration": 24,
    "start_time": "2024-07-17T12:13:02.188Z"
   },
   {
    "duration": 16348,
    "start_time": "2024-07-17T12:13:02.214Z"
   },
   {
    "duration": 21,
    "start_time": "2024-07-17T12:13:18.565Z"
   },
   {
    "duration": 36,
    "start_time": "2024-07-17T12:13:18.588Z"
   },
   {
    "duration": 547,
    "start_time": "2024-07-17T12:13:18.626Z"
   },
   {
    "duration": 11,
    "start_time": "2024-07-17T12:13:19.175Z"
   },
   {
    "duration": 610,
    "start_time": "2024-07-17T12:13:19.188Z"
   },
   {
    "duration": 561,
    "start_time": "2024-07-17T12:13:19.800Z"
   },
   {
    "duration": 222,
    "start_time": "2024-07-17T12:13:20.363Z"
   },
   {
    "duration": 570,
    "start_time": "2024-07-17T12:13:20.586Z"
   },
   {
    "duration": 13,
    "start_time": "2024-07-17T12:13:21.157Z"
   },
   {
    "duration": 603,
    "start_time": "2024-07-17T12:13:21.171Z"
   },
   {
    "duration": 890,
    "start_time": "2024-07-17T12:13:21.776Z"
   },
   {
    "duration": 26,
    "start_time": "2024-07-17T12:13:22.668Z"
   },
   {
    "duration": 583,
    "start_time": "2024-07-17T12:13:22.696Z"
   },
   {
    "duration": 579,
    "start_time": "2024-07-17T12:13:23.285Z"
   },
   {
    "duration": 5,
    "start_time": "2024-07-17T12:13:23.866Z"
   },
   {
    "duration": 187,
    "start_time": "2024-07-17T12:13:23.873Z"
   },
   {
    "duration": 38,
    "start_time": "2024-07-17T12:13:24.061Z"
   },
   {
    "duration": 6,
    "start_time": "2024-07-17T12:13:24.100Z"
   },
   {
    "duration": 30,
    "start_time": "2024-07-17T12:13:24.108Z"
   },
   {
    "duration": 5,
    "start_time": "2024-07-17T12:13:24.140Z"
   },
   {
    "duration": 38,
    "start_time": "2024-07-17T12:13:24.147Z"
   },
   {
    "duration": 7,
    "start_time": "2024-07-17T12:13:24.187Z"
   },
   {
    "duration": 2178,
    "start_time": "2024-07-17T12:13:24.195Z"
   },
   {
    "duration": 21,
    "start_time": "2024-07-17T12:13:26.375Z"
   },
   {
    "duration": 11,
    "start_time": "2024-07-17T12:13:26.398Z"
   },
   {
    "duration": 12,
    "start_time": "2024-07-17T12:13:26.410Z"
   },
   {
    "duration": 15,
    "start_time": "2024-07-17T12:13:26.423Z"
   },
   {
    "duration": 18,
    "start_time": "2024-07-17T12:13:26.440Z"
   },
   {
    "duration": 3,
    "start_time": "2024-07-17T12:13:26.460Z"
   },
   {
    "duration": 4,
    "start_time": "2024-07-17T12:13:26.465Z"
   },
   {
    "duration": 6,
    "start_time": "2024-07-17T12:13:26.470Z"
   },
   {
    "duration": 18,
    "start_time": "2024-07-17T12:13:26.477Z"
   },
   {
    "duration": 9,
    "start_time": "2024-07-17T12:13:26.497Z"
   },
   {
    "duration": 4,
    "start_time": "2024-07-17T12:13:26.507Z"
   },
   {
    "duration": 329805,
    "start_time": "2024-07-17T12:13:26.512Z"
   },
   {
    "duration": 37,
    "start_time": "2024-07-17T12:18:56.318Z"
   },
   {
    "duration": 3,
    "start_time": "2024-07-17T12:18:56.356Z"
   },
   {
    "duration": 44,
    "start_time": "2024-07-17T12:18:56.360Z"
   },
   {
    "duration": 21,
    "start_time": "2024-07-17T12:18:56.406Z"
   },
   {
    "duration": 6,
    "start_time": "2024-07-17T12:18:56.429Z"
   },
   {
    "duration": 200,
    "start_time": "2024-07-17T12:18:56.436Z"
   },
   {
    "duration": 24,
    "start_time": "2024-07-17T12:18:56.638Z"
   },
   {
    "duration": 46,
    "start_time": "2024-07-17T12:18:56.664Z"
   },
   {
    "duration": 352669,
    "start_time": "2024-07-17T12:18:56.712Z"
   },
   {
    "duration": 1136,
    "start_time": "2024-07-17T12:24:49.383Z"
   },
   {
    "duration": 4,
    "start_time": "2024-07-17T12:24:50.521Z"
   },
   {
    "duration": 13,
    "start_time": "2024-07-17T12:24:50.526Z"
   },
   {
    "duration": 4,
    "start_time": "2024-07-17T12:24:50.541Z"
   },
   {
    "duration": 17,
    "start_time": "2024-07-17T12:24:50.547Z"
   },
   {
    "duration": 4,
    "start_time": "2024-07-17T12:24:50.584Z"
   },
   {
    "duration": 14,
    "start_time": "2024-07-17T12:24:50.590Z"
   },
   {
    "duration": 25,
    "start_time": "2024-07-17T12:24:50.606Z"
   },
   {
    "duration": 20,
    "start_time": "2024-07-17T12:24:50.638Z"
   },
   {
    "duration": 60,
    "start_time": "2024-07-17T12:24:50.660Z"
   },
   {
    "duration": 32,
    "start_time": "2024-07-17T12:24:50.721Z"
   },
   {
    "duration": 39,
    "start_time": "2024-07-17T12:24:50.755Z"
   },
   {
    "duration": 25,
    "start_time": "2024-07-17T12:24:50.796Z"
   },
   {
    "duration": 10,
    "start_time": "2024-07-17T12:24:50.823Z"
   },
   {
    "duration": 27,
    "start_time": "2024-07-17T12:24:50.835Z"
   },
   {
    "duration": 19,
    "start_time": "2024-07-17T12:24:50.864Z"
   },
   {
    "duration": 8,
    "start_time": "2024-07-17T12:24:50.885Z"
   },
   {
    "duration": 9,
    "start_time": "2024-07-17T12:24:50.895Z"
   },
   {
    "duration": 16,
    "start_time": "2024-07-17T12:24:50.905Z"
   },
   {
    "duration": 17,
    "start_time": "2024-07-17T12:24:50.923Z"
   },
   {
    "duration": 683,
    "start_time": "2024-07-17T12:24:50.942Z"
   },
   {
    "duration": 5,
    "start_time": "2024-07-17T12:24:51.627Z"
   },
   {
    "duration": 19,
    "start_time": "2024-07-17T12:24:51.634Z"
   },
   {
    "duration": 322,
    "start_time": "2024-07-17T12:24:51.655Z"
   },
   {
    "duration": 12,
    "start_time": "2024-07-17T12:24:51.979Z"
   },
   {
    "duration": 27,
    "start_time": "2024-07-17T12:24:51.993Z"
   },
   {
    "duration": 14,
    "start_time": "2024-07-17T12:24:52.022Z"
   },
   {
    "duration": 9,
    "start_time": "2024-07-17T12:24:52.038Z"
   },
   {
    "duration": 8,
    "start_time": "2024-07-17T12:24:52.049Z"
   },
   {
    "duration": 10670,
    "start_time": "2024-07-17T12:52:29.853Z"
   },
   {
    "duration": 1626,
    "start_time": "2024-07-17T12:52:40.526Z"
   },
   {
    "duration": 4,
    "start_time": "2024-07-17T12:52:42.153Z"
   },
   {
    "duration": 104,
    "start_time": "2024-07-17T12:52:42.159Z"
   },
   {
    "duration": 16,
    "start_time": "2024-07-17T12:52:42.264Z"
   },
   {
    "duration": 15,
    "start_time": "2024-07-17T12:52:42.281Z"
   },
   {
    "duration": 9,
    "start_time": "2024-07-17T12:52:42.298Z"
   },
   {
    "duration": 7,
    "start_time": "2024-07-17T12:52:42.308Z"
   },
   {
    "duration": 9,
    "start_time": "2024-07-17T12:52:42.316Z"
   },
   {
    "duration": 5,
    "start_time": "2024-07-17T12:52:42.327Z"
   },
   {
    "duration": 12,
    "start_time": "2024-07-17T12:52:42.333Z"
   },
   {
    "duration": 5,
    "start_time": "2024-07-17T12:52:42.346Z"
   },
   {
    "duration": 9,
    "start_time": "2024-07-17T12:52:42.353Z"
   },
   {
    "duration": 26,
    "start_time": "2024-07-17T12:52:42.363Z"
   },
   {
    "duration": 19,
    "start_time": "2024-07-17T12:52:42.390Z"
   },
   {
    "duration": 6,
    "start_time": "2024-07-17T12:52:42.410Z"
   },
   {
    "duration": 14,
    "start_time": "2024-07-17T12:52:42.417Z"
   },
   {
    "duration": 11,
    "start_time": "2024-07-17T12:52:42.433Z"
   },
   {
    "duration": 9,
    "start_time": "2024-07-17T12:52:42.446Z"
   },
   {
    "duration": 5,
    "start_time": "2024-07-17T12:52:42.457Z"
   },
   {
    "duration": 23,
    "start_time": "2024-07-17T12:52:42.463Z"
   },
   {
    "duration": 6,
    "start_time": "2024-07-17T12:52:42.487Z"
   },
   {
    "duration": 14,
    "start_time": "2024-07-17T12:52:42.494Z"
   },
   {
    "duration": 23,
    "start_time": "2024-07-17T12:52:42.509Z"
   },
   {
    "duration": 10,
    "start_time": "2024-07-17T12:52:42.533Z"
   },
   {
    "duration": 10,
    "start_time": "2024-07-17T12:52:42.545Z"
   },
   {
    "duration": 2,
    "start_time": "2024-07-17T12:52:42.557Z"
   },
   {
    "duration": 24,
    "start_time": "2024-07-17T12:52:42.563Z"
   },
   {
    "duration": 14609,
    "start_time": "2024-07-17T12:52:42.588Z"
   },
   {
    "duration": 6,
    "start_time": "2024-07-17T12:52:57.199Z"
   },
   {
    "duration": 9,
    "start_time": "2024-07-17T12:52:57.207Z"
   },
   {
    "duration": 521,
    "start_time": "2024-07-17T12:52:57.218Z"
   },
   {
    "duration": 6,
    "start_time": "2024-07-17T12:52:57.741Z"
   },
   {
    "duration": 604,
    "start_time": "2024-07-17T12:52:57.749Z"
   },
   {
    "duration": 678,
    "start_time": "2024-07-17T12:52:58.355Z"
   },
   {
    "duration": 190,
    "start_time": "2024-07-17T12:52:59.034Z"
   },
   {
    "duration": 515,
    "start_time": "2024-07-17T12:52:59.225Z"
   },
   {
    "duration": 14,
    "start_time": "2024-07-17T12:52:59.742Z"
   },
   {
    "duration": 573,
    "start_time": "2024-07-17T12:52:59.757Z"
   },
   {
    "duration": 566,
    "start_time": "2024-07-17T12:53:00.332Z"
   },
   {
    "duration": 15,
    "start_time": "2024-07-17T12:53:00.900Z"
   },
   {
    "duration": 616,
    "start_time": "2024-07-17T12:53:00.916Z"
   },
   {
    "duration": 548,
    "start_time": "2024-07-17T12:53:01.534Z"
   },
   {
    "duration": 6,
    "start_time": "2024-07-17T12:53:02.083Z"
   },
   {
    "duration": 396,
    "start_time": "2024-07-17T12:53:02.092Z"
   },
   {
    "duration": 18,
    "start_time": "2024-07-17T12:53:02.490Z"
   },
   {
    "duration": 38,
    "start_time": "2024-07-17T12:53:02.510Z"
   },
   {
    "duration": 25,
    "start_time": "2024-07-17T12:53:02.550Z"
   },
   {
    "duration": 5,
    "start_time": "2024-07-17T12:53:02.577Z"
   },
   {
    "duration": 21,
    "start_time": "2024-07-17T12:53:02.584Z"
   },
   {
    "duration": 23,
    "start_time": "2024-07-17T12:53:02.606Z"
   },
   {
    "duration": 2123,
    "start_time": "2024-07-17T12:53:02.631Z"
   },
   {
    "duration": 15,
    "start_time": "2024-07-17T12:53:04.756Z"
   },
   {
    "duration": 27,
    "start_time": "2024-07-17T12:53:04.772Z"
   },
   {
    "duration": 21,
    "start_time": "2024-07-17T12:53:04.800Z"
   },
   {
    "duration": 7,
    "start_time": "2024-07-17T12:53:04.823Z"
   },
   {
    "duration": 13,
    "start_time": "2024-07-17T12:53:04.831Z"
   },
   {
    "duration": 5,
    "start_time": "2024-07-17T12:53:04.846Z"
   },
   {
    "duration": 5,
    "start_time": "2024-07-17T12:53:04.852Z"
   },
   {
    "duration": 6,
    "start_time": "2024-07-17T12:53:04.858Z"
   },
   {
    "duration": 5,
    "start_time": "2024-07-17T12:53:04.865Z"
   },
   {
    "duration": 8,
    "start_time": "2024-07-17T12:53:04.872Z"
   },
   {
    "duration": 3,
    "start_time": "2024-07-17T12:53:04.881Z"
   },
   {
    "duration": 298925,
    "start_time": "2024-07-17T12:53:04.886Z"
   },
   {
    "duration": 34,
    "start_time": "2024-07-17T12:58:03.813Z"
   },
   {
    "duration": 2,
    "start_time": "2024-07-17T12:58:03.849Z"
   },
   {
    "duration": 46,
    "start_time": "2024-07-17T12:58:03.852Z"
   },
   {
    "duration": 20,
    "start_time": "2024-07-17T12:58:03.899Z"
   },
   {
    "duration": 5,
    "start_time": "2024-07-17T12:58:03.921Z"
   },
   {
    "duration": 203,
    "start_time": "2024-07-17T12:58:03.928Z"
   },
   {
    "duration": 28,
    "start_time": "2024-07-17T12:58:04.133Z"
   },
   {
    "duration": 26,
    "start_time": "2024-07-17T12:58:04.163Z"
   },
   {
    "duration": 339681,
    "start_time": "2024-07-17T12:58:04.190Z"
   },
   {
    "duration": 1322,
    "start_time": "2024-07-17T13:03:43.873Z"
   },
   {
    "duration": 5,
    "start_time": "2024-07-17T13:03:45.196Z"
   },
   {
    "duration": 49,
    "start_time": "2024-07-17T13:03:45.203Z"
   },
   {
    "duration": 23,
    "start_time": "2024-07-17T13:03:45.253Z"
   },
   {
    "duration": 45,
    "start_time": "2024-07-17T13:03:45.278Z"
   },
   {
    "duration": 11,
    "start_time": "2024-07-17T13:03:45.325Z"
   },
   {
    "duration": 27,
    "start_time": "2024-07-17T13:03:45.338Z"
   },
   {
    "duration": 11,
    "start_time": "2024-07-17T13:03:45.367Z"
   },
   {
    "duration": 20,
    "start_time": "2024-07-17T13:03:45.387Z"
   },
   {
    "duration": 11,
    "start_time": "2024-07-17T13:03:45.408Z"
   },
   {
    "duration": 18,
    "start_time": "2024-07-17T13:03:45.420Z"
   },
   {
    "duration": 19,
    "start_time": "2024-07-17T13:03:45.439Z"
   },
   {
    "duration": 10,
    "start_time": "2024-07-17T13:03:45.459Z"
   },
   {
    "duration": 7,
    "start_time": "2024-07-17T13:03:45.470Z"
   },
   {
    "duration": 8,
    "start_time": "2024-07-17T13:03:45.478Z"
   },
   {
    "duration": 23,
    "start_time": "2024-07-17T13:03:45.487Z"
   },
   {
    "duration": 11,
    "start_time": "2024-07-17T13:03:45.512Z"
   },
   {
    "duration": 13,
    "start_time": "2024-07-17T13:03:45.525Z"
   },
   {
    "duration": 13,
    "start_time": "2024-07-17T13:03:45.539Z"
   },
   {
    "duration": 8,
    "start_time": "2024-07-17T13:03:45.553Z"
   },
   {
    "duration": 469,
    "start_time": "2024-07-17T13:03:45.562Z"
   },
   {
    "duration": 4,
    "start_time": "2024-07-17T13:03:46.033Z"
   },
   {
    "duration": 16,
    "start_time": "2024-07-17T13:03:46.038Z"
   },
   {
    "duration": 305,
    "start_time": "2024-07-17T13:03:46.056Z"
   },
   {
    "duration": 7,
    "start_time": "2024-07-17T13:03:46.362Z"
   },
   {
    "duration": 16,
    "start_time": "2024-07-17T13:03:46.370Z"
   },
   {
    "duration": 9,
    "start_time": "2024-07-17T13:03:46.387Z"
   },
   {
    "duration": 11,
    "start_time": "2024-07-17T13:03:46.397Z"
   },
   {
    "duration": 18,
    "start_time": "2024-07-17T13:03:46.409Z"
   },
   {
    "duration": 52,
    "start_time": "2024-07-18T15:53:42.425Z"
   },
   {
    "duration": 17094,
    "start_time": "2024-07-18T15:53:49.084Z"
   },
   {
    "duration": 1782,
    "start_time": "2024-07-18T15:54:06.181Z"
   },
   {
    "duration": 6,
    "start_time": "2024-07-18T15:54:07.964Z"
   },
   {
    "duration": 335,
    "start_time": "2024-07-18T15:54:07.975Z"
   },
   {
    "duration": 17,
    "start_time": "2024-07-18T15:54:08.313Z"
   },
   {
    "duration": 48,
    "start_time": "2024-07-18T15:54:08.332Z"
   },
   {
    "duration": 27,
    "start_time": "2024-07-18T15:54:08.382Z"
   },
   {
    "duration": 23,
    "start_time": "2024-07-18T15:54:08.411Z"
   },
   {
    "duration": 11,
    "start_time": "2024-07-18T15:54:08.435Z"
   },
   {
    "duration": 5,
    "start_time": "2024-07-18T15:54:08.448Z"
   },
   {
    "duration": 28,
    "start_time": "2024-07-18T15:54:08.455Z"
   },
   {
    "duration": 5,
    "start_time": "2024-07-18T15:54:08.484Z"
   },
   {
    "duration": 9,
    "start_time": "2024-07-18T15:54:08.490Z"
   },
   {
    "duration": 12,
    "start_time": "2024-07-18T15:54:08.501Z"
   },
   {
    "duration": 9,
    "start_time": "2024-07-18T15:54:08.514Z"
   },
   {
    "duration": 17,
    "start_time": "2024-07-18T15:54:08.524Z"
   },
   {
    "duration": 13,
    "start_time": "2024-07-18T15:54:08.542Z"
   },
   {
    "duration": 20,
    "start_time": "2024-07-18T15:54:08.556Z"
   },
   {
    "duration": 11,
    "start_time": "2024-07-18T15:54:08.578Z"
   },
   {
    "duration": 7,
    "start_time": "2024-07-18T15:54:08.590Z"
   },
   {
    "duration": 12,
    "start_time": "2024-07-18T15:54:08.599Z"
   },
   {
    "duration": 4,
    "start_time": "2024-07-18T15:54:08.612Z"
   },
   {
    "duration": 8,
    "start_time": "2024-07-18T15:54:08.618Z"
   },
   {
    "duration": 4,
    "start_time": "2024-07-18T15:54:08.627Z"
   },
   {
    "duration": 16,
    "start_time": "2024-07-18T15:54:08.632Z"
   },
   {
    "duration": 18,
    "start_time": "2024-07-18T15:54:08.657Z"
   },
   {
    "duration": 30,
    "start_time": "2024-07-18T15:54:08.676Z"
   },
   {
    "duration": 12788,
    "start_time": "2024-07-18T15:54:08.708Z"
   },
   {
    "duration": 6,
    "start_time": "2024-07-18T15:54:21.497Z"
   },
   {
    "duration": 24,
    "start_time": "2024-07-18T15:54:21.504Z"
   },
   {
    "duration": 501,
    "start_time": "2024-07-18T15:54:21.530Z"
   },
   {
    "duration": 6,
    "start_time": "2024-07-18T15:54:22.033Z"
   },
   {
    "duration": 559,
    "start_time": "2024-07-18T15:54:22.040Z"
   },
   {
    "duration": 586,
    "start_time": "2024-07-18T15:54:22.600Z"
   },
   {
    "duration": 180,
    "start_time": "2024-07-18T15:54:23.187Z"
   },
   {
    "duration": 479,
    "start_time": "2024-07-18T15:54:23.372Z"
   },
   {
    "duration": 20,
    "start_time": "2024-07-18T15:54:23.852Z"
   },
   {
    "duration": 507,
    "start_time": "2024-07-18T15:54:23.874Z"
   },
   {
    "duration": 498,
    "start_time": "2024-07-18T15:54:24.383Z"
   },
   {
    "duration": 14,
    "start_time": "2024-07-18T15:54:24.883Z"
   },
   {
    "duration": 466,
    "start_time": "2024-07-18T15:54:24.901Z"
   },
   {
    "duration": 703,
    "start_time": "2024-07-18T15:54:25.368Z"
   },
   {
    "duration": 6,
    "start_time": "2024-07-18T15:54:26.073Z"
   },
   {
    "duration": 161,
    "start_time": "2024-07-18T15:54:26.080Z"
   },
   {
    "duration": 856,
    "start_time": "2024-07-18T15:54:26.242Z"
   },
   {
    "duration": 17,
    "start_time": "2024-07-18T15:54:27.099Z"
   },
   {
    "duration": 3,
    "start_time": "2024-07-18T15:54:27.117Z"
   },
   {
    "duration": 17,
    "start_time": "2024-07-18T15:54:27.121Z"
   },
   {
    "duration": 4,
    "start_time": "2024-07-18T15:54:27.139Z"
   },
   {
    "duration": 14,
    "start_time": "2024-07-18T15:54:27.165Z"
   },
   {
    "duration": 6,
    "start_time": "2024-07-18T15:54:27.180Z"
   },
   {
    "duration": 662,
    "start_time": "2024-07-18T15:54:27.187Z"
   },
   {
    "duration": 1205,
    "start_time": "2024-07-18T15:54:27.850Z"
   },
   {
    "duration": 15,
    "start_time": "2024-07-18T15:54:29.057Z"
   },
   {
    "duration": 6,
    "start_time": "2024-07-18T15:54:29.073Z"
   },
   {
    "duration": 9,
    "start_time": "2024-07-18T15:54:29.080Z"
   },
   {
    "duration": 3,
    "start_time": "2024-07-18T15:54:29.091Z"
   },
   {
    "duration": 4,
    "start_time": "2024-07-18T15:54:29.095Z"
   },
   {
    "duration": 4,
    "start_time": "2024-07-18T15:54:29.101Z"
   },
   {
    "duration": 5,
    "start_time": "2024-07-18T15:54:29.106Z"
   },
   {
    "duration": 5,
    "start_time": "2024-07-18T15:54:29.112Z"
   },
   {
    "duration": 7,
    "start_time": "2024-07-18T15:54:29.118Z"
   },
   {
    "duration": 43,
    "start_time": "2024-07-18T15:54:29.127Z"
   },
   {
    "duration": 280516,
    "start_time": "2024-07-18T15:54:29.171Z"
   },
   {
    "duration": 30,
    "start_time": "2024-07-18T15:59:09.689Z"
   },
   {
    "duration": 59,
    "start_time": "2024-07-18T15:59:09.720Z"
   },
   {
    "duration": 24,
    "start_time": "2024-07-18T15:59:09.781Z"
   },
   {
    "duration": 7,
    "start_time": "2024-07-18T15:59:09.806Z"
   },
   {
    "duration": 167,
    "start_time": "2024-07-18T15:59:09.814Z"
   },
   {
    "duration": 20,
    "start_time": "2024-07-18T15:59:09.983Z"
   },
   {
    "duration": 11,
    "start_time": "2024-07-18T15:59:10.005Z"
   },
   {
    "duration": 321119,
    "start_time": "2024-07-18T15:59:10.017Z"
   },
   {
    "duration": 1107,
    "start_time": "2024-07-18T16:04:31.138Z"
   },
   {
    "duration": 4,
    "start_time": "2024-07-18T16:04:32.246Z"
   },
   {
    "duration": 25,
    "start_time": "2024-07-18T16:04:32.251Z"
   },
   {
    "duration": 25,
    "start_time": "2024-07-18T16:04:32.278Z"
   },
   {
    "duration": 66,
    "start_time": "2024-07-18T16:04:32.304Z"
   },
   {
    "duration": 48,
    "start_time": "2024-07-18T16:04:32.371Z"
   },
   {
    "duration": 32,
    "start_time": "2024-07-18T16:04:32.420Z"
   },
   {
    "duration": 23,
    "start_time": "2024-07-18T16:04:32.453Z"
   },
   {
    "duration": 52,
    "start_time": "2024-07-18T16:04:32.477Z"
   },
   {
    "duration": 14,
    "start_time": "2024-07-18T16:04:32.530Z"
   },
   {
    "duration": 26,
    "start_time": "2024-07-18T16:04:32.546Z"
   },
   {
    "duration": 44,
    "start_time": "2024-07-18T16:04:32.573Z"
   },
   {
    "duration": 30,
    "start_time": "2024-07-18T16:04:32.618Z"
   },
   {
    "duration": 19,
    "start_time": "2024-07-18T16:04:32.650Z"
   },
   {
    "duration": 61,
    "start_time": "2024-07-18T16:04:32.674Z"
   },
   {
    "duration": 50,
    "start_time": "2024-07-18T16:04:32.737Z"
   },
   {
    "duration": 46,
    "start_time": "2024-07-18T16:04:32.789Z"
   },
   {
    "duration": 44,
    "start_time": "2024-07-18T16:04:32.836Z"
   },
   {
    "duration": 32,
    "start_time": "2024-07-18T16:04:32.881Z"
   },
   {
    "duration": 36,
    "start_time": "2024-07-18T16:04:32.915Z"
   },
   {
    "duration": 417,
    "start_time": "2024-07-18T16:04:32.953Z"
   },
   {
    "duration": 6,
    "start_time": "2024-07-18T16:04:33.371Z"
   },
   {
    "duration": 23,
    "start_time": "2024-07-18T16:04:33.379Z"
   },
   {
    "duration": 269,
    "start_time": "2024-07-18T16:04:33.403Z"
   },
   {
    "duration": 7,
    "start_time": "2024-07-18T16:04:33.674Z"
   },
   {
    "duration": 10,
    "start_time": "2024-07-18T16:04:33.683Z"
   },
   {
    "duration": 12,
    "start_time": "2024-07-18T16:04:33.694Z"
   },
   {
    "duration": 24,
    "start_time": "2024-07-18T16:04:33.707Z"
   },
   {
    "duration": 41,
    "start_time": "2024-07-18T16:04:33.732Z"
   },
   {
    "duration": 137,
    "start_time": "2024-07-18T18:01:28.654Z"
   },
   {
    "duration": 11242,
    "start_time": "2024-07-18T18:02:14.256Z"
   },
   {
    "duration": 8,
    "start_time": "2024-07-18T18:02:25.501Z"
   },
   {
    "duration": 16,
    "start_time": "2024-07-18T18:02:25.510Z"
   },
   {
    "duration": 83,
    "start_time": "2024-07-18T18:02:25.528Z"
   },
   {
    "duration": 11,
    "start_time": "2024-07-18T18:02:25.612Z"
   },
   {
    "duration": 17,
    "start_time": "2024-07-18T18:02:25.625Z"
   },
   {
    "duration": 9,
    "start_time": "2024-07-18T18:02:25.643Z"
   },
   {
    "duration": 16,
    "start_time": "2024-07-18T18:02:25.653Z"
   },
   {
    "duration": 56,
    "start_time": "2024-07-18T18:02:25.670Z"
   },
   {
    "duration": 9,
    "start_time": "2024-07-18T18:02:25.729Z"
   },
   {
    "duration": 12,
    "start_time": "2024-07-18T18:02:25.739Z"
   },
   {
    "duration": 4,
    "start_time": "2024-07-18T18:02:25.752Z"
   },
   {
    "duration": 17,
    "start_time": "2024-07-18T18:02:25.757Z"
   },
   {
    "duration": 19,
    "start_time": "2024-07-18T18:02:25.775Z"
   },
   {
    "duration": 14,
    "start_time": "2024-07-18T18:02:25.795Z"
   },
   {
    "duration": 8,
    "start_time": "2024-07-18T18:02:25.810Z"
   },
   {
    "duration": 9,
    "start_time": "2024-07-18T18:02:25.819Z"
   },
   {
    "duration": 15,
    "start_time": "2024-07-18T18:02:25.829Z"
   },
   {
    "duration": 28,
    "start_time": "2024-07-18T18:02:25.845Z"
   },
   {
    "duration": 23,
    "start_time": "2024-07-18T18:02:25.875Z"
   },
   {
    "duration": 22,
    "start_time": "2024-07-18T18:02:25.899Z"
   },
   {
    "duration": 5,
    "start_time": "2024-07-18T18:02:25.923Z"
   },
   {
    "duration": 13,
    "start_time": "2024-07-18T18:02:25.930Z"
   },
   {
    "duration": 5,
    "start_time": "2024-07-18T18:02:25.945Z"
   },
   {
    "duration": 22,
    "start_time": "2024-07-18T18:02:25.951Z"
   },
   {
    "duration": 11,
    "start_time": "2024-07-18T18:02:25.974Z"
   },
   {
    "duration": 17,
    "start_time": "2024-07-18T18:02:25.986Z"
   },
   {
    "duration": 13468,
    "start_time": "2024-07-18T18:02:26.007Z"
   },
   {
    "duration": 9,
    "start_time": "2024-07-18T18:02:39.476Z"
   },
   {
    "duration": 11,
    "start_time": "2024-07-18T18:02:39.486Z"
   },
   {
    "duration": 496,
    "start_time": "2024-07-18T18:02:39.499Z"
   },
   {
    "duration": 6,
    "start_time": "2024-07-18T18:02:39.996Z"
   },
   {
    "duration": 560,
    "start_time": "2024-07-18T18:02:40.003Z"
   },
   {
    "duration": 493,
    "start_time": "2024-07-18T18:02:40.564Z"
   },
   {
    "duration": 392,
    "start_time": "2024-07-18T18:02:41.058Z"
   },
   {
    "duration": 487,
    "start_time": "2024-07-18T18:02:41.457Z"
   },
   {
    "duration": 13,
    "start_time": "2024-07-18T18:02:41.945Z"
   },
   {
    "duration": 518,
    "start_time": "2024-07-18T18:02:41.959Z"
   },
   {
    "duration": 486,
    "start_time": "2024-07-18T18:02:42.478Z"
   },
   {
    "duration": 13,
    "start_time": "2024-07-18T18:02:42.965Z"
   },
   {
    "duration": 476,
    "start_time": "2024-07-18T18:02:42.980Z"
   },
   {
    "duration": 511,
    "start_time": "2024-07-18T18:02:43.458Z"
   },
   {
    "duration": 6,
    "start_time": "2024-07-18T18:02:43.970Z"
   },
   {
    "duration": 157,
    "start_time": "2024-07-18T18:02:43.977Z"
   },
   {
    "duration": 0,
    "start_time": "2024-07-18T18:02:44.136Z"
   },
   {
    "duration": 0,
    "start_time": "2024-07-18T18:02:44.138Z"
   },
   {
    "duration": 0,
    "start_time": "2024-07-18T18:02:44.139Z"
   },
   {
    "duration": 0,
    "start_time": "2024-07-18T18:02:44.140Z"
   },
   {
    "duration": 0,
    "start_time": "2024-07-18T18:02:44.140Z"
   },
   {
    "duration": 0,
    "start_time": "2024-07-18T18:02:44.141Z"
   },
   {
    "duration": 0,
    "start_time": "2024-07-18T18:02:44.142Z"
   },
   {
    "duration": 0,
    "start_time": "2024-07-18T18:02:44.158Z"
   },
   {
    "duration": 0,
    "start_time": "2024-07-18T18:02:44.160Z"
   },
   {
    "duration": 0,
    "start_time": "2024-07-18T18:02:44.161Z"
   },
   {
    "duration": 0,
    "start_time": "2024-07-18T18:02:44.161Z"
   },
   {
    "duration": 0,
    "start_time": "2024-07-18T18:02:44.162Z"
   },
   {
    "duration": 0,
    "start_time": "2024-07-18T18:02:44.163Z"
   },
   {
    "duration": 0,
    "start_time": "2024-07-18T18:02:44.164Z"
   },
   {
    "duration": 0,
    "start_time": "2024-07-18T18:02:44.164Z"
   },
   {
    "duration": 0,
    "start_time": "2024-07-18T18:02:44.165Z"
   },
   {
    "duration": 0,
    "start_time": "2024-07-18T18:02:44.165Z"
   },
   {
    "duration": 0,
    "start_time": "2024-07-18T18:02:44.166Z"
   },
   {
    "duration": 0,
    "start_time": "2024-07-18T18:02:44.167Z"
   },
   {
    "duration": 0,
    "start_time": "2024-07-18T18:02:44.168Z"
   },
   {
    "duration": 0,
    "start_time": "2024-07-18T18:02:44.168Z"
   },
   {
    "duration": 0,
    "start_time": "2024-07-18T18:02:44.169Z"
   },
   {
    "duration": 0,
    "start_time": "2024-07-18T18:02:44.170Z"
   },
   {
    "duration": 0,
    "start_time": "2024-07-18T18:02:44.171Z"
   },
   {
    "duration": 0,
    "start_time": "2024-07-18T18:02:44.173Z"
   },
   {
    "duration": 0,
    "start_time": "2024-07-18T18:02:44.174Z"
   },
   {
    "duration": 0,
    "start_time": "2024-07-18T18:02:44.175Z"
   },
   {
    "duration": 0,
    "start_time": "2024-07-18T18:02:44.176Z"
   },
   {
    "duration": 0,
    "start_time": "2024-07-18T18:02:44.177Z"
   },
   {
    "duration": 0,
    "start_time": "2024-07-18T18:02:44.178Z"
   },
   {
    "duration": 0,
    "start_time": "2024-07-18T18:02:44.178Z"
   },
   {
    "duration": 0,
    "start_time": "2024-07-18T18:02:44.179Z"
   },
   {
    "duration": 0,
    "start_time": "2024-07-18T18:02:44.180Z"
   },
   {
    "duration": 0,
    "start_time": "2024-07-18T18:02:44.181Z"
   },
   {
    "duration": 0,
    "start_time": "2024-07-18T18:02:44.182Z"
   },
   {
    "duration": 0,
    "start_time": "2024-07-18T18:02:44.183Z"
   },
   {
    "duration": 0,
    "start_time": "2024-07-18T18:02:44.183Z"
   },
   {
    "duration": 0,
    "start_time": "2024-07-18T18:02:44.184Z"
   },
   {
    "duration": 0,
    "start_time": "2024-07-18T18:02:44.185Z"
   },
   {
    "duration": 0,
    "start_time": "2024-07-18T18:02:44.186Z"
   },
   {
    "duration": 0,
    "start_time": "2024-07-18T18:02:44.187Z"
   },
   {
    "duration": 0,
    "start_time": "2024-07-18T18:02:44.188Z"
   },
   {
    "duration": 0,
    "start_time": "2024-07-18T18:02:44.189Z"
   },
   {
    "duration": 0,
    "start_time": "2024-07-18T18:02:44.190Z"
   },
   {
    "duration": 0,
    "start_time": "2024-07-18T18:02:44.191Z"
   },
   {
    "duration": 0,
    "start_time": "2024-07-18T18:02:44.192Z"
   },
   {
    "duration": 0,
    "start_time": "2024-07-18T18:02:44.257Z"
   },
   {
    "duration": 0,
    "start_time": "2024-07-18T18:02:44.258Z"
   },
   {
    "duration": 0,
    "start_time": "2024-07-18T18:02:44.259Z"
   },
   {
    "duration": 0,
    "start_time": "2024-07-18T18:02:44.260Z"
   },
   {
    "duration": 0,
    "start_time": "2024-07-18T18:02:44.261Z"
   },
   {
    "duration": 0,
    "start_time": "2024-07-18T18:02:44.261Z"
   },
   {
    "duration": 0,
    "start_time": "2024-07-18T18:02:44.262Z"
   },
   {
    "duration": 0,
    "start_time": "2024-07-18T18:02:44.263Z"
   },
   {
    "duration": 0,
    "start_time": "2024-07-18T18:02:44.264Z"
   },
   {
    "duration": 0,
    "start_time": "2024-07-18T18:02:44.265Z"
   },
   {
    "duration": 94,
    "start_time": "2024-07-19T10:51:12.532Z"
   },
   {
    "duration": 4,
    "start_time": "2024-07-19T10:51:15.539Z"
   },
   {
    "duration": 10663,
    "start_time": "2024-07-19T10:52:33.199Z"
   },
   {
    "duration": 7,
    "start_time": "2024-07-19T10:52:43.865Z"
   },
   {
    "duration": 7,
    "start_time": "2024-07-19T10:52:43.874Z"
   },
   {
    "duration": 86,
    "start_time": "2024-07-19T10:52:43.883Z"
   },
   {
    "duration": 13,
    "start_time": "2024-07-19T10:52:43.971Z"
   },
   {
    "duration": 16,
    "start_time": "2024-07-19T10:52:43.985Z"
   },
   {
    "duration": 10,
    "start_time": "2024-07-19T10:52:44.002Z"
   },
   {
    "duration": 8,
    "start_time": "2024-07-19T10:52:44.014Z"
   },
   {
    "duration": 18,
    "start_time": "2024-07-19T10:52:44.023Z"
   },
   {
    "duration": 5,
    "start_time": "2024-07-19T10:52:44.043Z"
   },
   {
    "duration": 16,
    "start_time": "2024-07-19T10:52:44.049Z"
   },
   {
    "duration": 5,
    "start_time": "2024-07-19T10:52:44.067Z"
   },
   {
    "duration": 5,
    "start_time": "2024-07-19T10:52:44.074Z"
   },
   {
    "duration": 17,
    "start_time": "2024-07-19T10:52:44.080Z"
   },
   {
    "duration": 6,
    "start_time": "2024-07-19T10:52:44.099Z"
   },
   {
    "duration": 34,
    "start_time": "2024-07-19T10:52:44.106Z"
   },
   {
    "duration": 7,
    "start_time": "2024-07-19T10:52:44.142Z"
   },
   {
    "duration": 7,
    "start_time": "2024-07-19T10:52:44.150Z"
   },
   {
    "duration": 13,
    "start_time": "2024-07-19T10:52:44.158Z"
   },
   {
    "duration": 7,
    "start_time": "2024-07-19T10:52:44.172Z"
   },
   {
    "duration": 13,
    "start_time": "2024-07-19T10:52:44.180Z"
   },
   {
    "duration": 6,
    "start_time": "2024-07-19T10:52:44.194Z"
   },
   {
    "duration": 44,
    "start_time": "2024-07-19T10:52:44.201Z"
   },
   {
    "duration": 14,
    "start_time": "2024-07-19T10:52:44.246Z"
   },
   {
    "duration": 14,
    "start_time": "2024-07-19T10:52:44.262Z"
   },
   {
    "duration": 11,
    "start_time": "2024-07-19T10:52:44.278Z"
   },
   {
    "duration": 20,
    "start_time": "2024-07-19T10:52:44.291Z"
   },
   {
    "duration": 10656,
    "start_time": "2024-07-19T10:52:57.599Z"
   },
   {
    "duration": 1831,
    "start_time": "2024-07-19T10:53:08.257Z"
   },
   {
    "duration": 5,
    "start_time": "2024-07-19T10:53:10.090Z"
   },
   {
    "duration": 124,
    "start_time": "2024-07-19T10:53:10.097Z"
   },
   {
    "duration": 18,
    "start_time": "2024-07-19T10:53:10.224Z"
   },
   {
    "duration": 34,
    "start_time": "2024-07-19T10:53:10.244Z"
   },
   {
    "duration": 27,
    "start_time": "2024-07-19T10:53:10.280Z"
   },
   {
    "duration": 41,
    "start_time": "2024-07-19T10:53:10.309Z"
   },
   {
    "duration": 42,
    "start_time": "2024-07-19T10:53:10.352Z"
   },
   {
    "duration": 34,
    "start_time": "2024-07-19T10:53:10.396Z"
   },
   {
    "duration": 43,
    "start_time": "2024-07-19T10:53:10.432Z"
   },
   {
    "duration": 31,
    "start_time": "2024-07-19T10:53:10.476Z"
   },
   {
    "duration": 26,
    "start_time": "2024-07-19T10:53:10.508Z"
   },
   {
    "duration": 29,
    "start_time": "2024-07-19T10:53:10.538Z"
   },
   {
    "duration": 44,
    "start_time": "2024-07-19T10:53:10.568Z"
   },
   {
    "duration": 74,
    "start_time": "2024-07-19T10:53:10.613Z"
   },
   {
    "duration": 36,
    "start_time": "2024-07-19T10:53:10.689Z"
   },
   {
    "duration": 90,
    "start_time": "2024-07-19T10:53:10.727Z"
   },
   {
    "duration": 43,
    "start_time": "2024-07-19T10:53:10.819Z"
   },
   {
    "duration": 36,
    "start_time": "2024-07-19T10:53:10.863Z"
   },
   {
    "duration": 31,
    "start_time": "2024-07-19T10:53:10.901Z"
   },
   {
    "duration": 40,
    "start_time": "2024-07-19T10:53:10.933Z"
   },
   {
    "duration": 31,
    "start_time": "2024-07-19T10:53:10.974Z"
   },
   {
    "duration": 26,
    "start_time": "2024-07-19T10:53:11.007Z"
   },
   {
    "duration": 44,
    "start_time": "2024-07-19T10:53:11.035Z"
   },
   {
    "duration": 30,
    "start_time": "2024-07-19T10:53:11.080Z"
   },
   {
    "duration": 47,
    "start_time": "2024-07-19T10:53:11.112Z"
   },
   {
    "duration": 14879,
    "start_time": "2024-07-19T10:53:11.160Z"
   },
   {
    "duration": 7,
    "start_time": "2024-07-19T10:53:26.041Z"
   },
   {
    "duration": 28,
    "start_time": "2024-07-19T10:53:26.049Z"
   },
   {
    "duration": 600,
    "start_time": "2024-07-19T10:53:26.078Z"
   },
   {
    "duration": 7,
    "start_time": "2024-07-19T10:53:26.679Z"
   },
   {
    "duration": 618,
    "start_time": "2024-07-19T10:53:26.688Z"
   },
   {
    "duration": 718,
    "start_time": "2024-07-19T10:53:27.308Z"
   },
   {
    "duration": 225,
    "start_time": "2024-07-19T10:53:28.029Z"
   },
   {
    "duration": 511,
    "start_time": "2024-07-19T10:53:28.256Z"
   },
   {
    "duration": 14,
    "start_time": "2024-07-19T10:53:28.769Z"
   },
   {
    "duration": 611,
    "start_time": "2024-07-19T10:53:28.784Z"
   },
   {
    "duration": 588,
    "start_time": "2024-07-19T10:53:29.396Z"
   },
   {
    "duration": 16,
    "start_time": "2024-07-19T10:53:29.985Z"
   },
   {
    "duration": 579,
    "start_time": "2024-07-19T10:53:30.004Z"
   },
   {
    "duration": 556,
    "start_time": "2024-07-19T10:53:30.584Z"
   },
   {
    "duration": 6,
    "start_time": "2024-07-19T10:53:31.142Z"
   },
   {
    "duration": 86,
    "start_time": "2024-07-19T10:53:31.150Z"
   },
   {
    "duration": 389,
    "start_time": "2024-07-19T10:53:31.238Z"
   },
   {
    "duration": 148,
    "start_time": "2024-07-19T10:53:31.629Z"
   },
   {
    "duration": 198,
    "start_time": "2024-07-19T10:54:16.530Z"
   },
   {
    "duration": 144,
    "start_time": "2024-07-19T10:56:34.248Z"
   },
   {
    "duration": 12,
    "start_time": "2024-07-19T11:03:04.979Z"
   },
   {
    "duration": 1584,
    "start_time": "2024-07-19T11:03:13.202Z"
   },
   {
    "duration": 1111,
    "start_time": "2024-07-19T11:03:23.913Z"
   },
   {
    "duration": 526,
    "start_time": "2024-07-19T11:03:49.553Z"
   },
   {
    "duration": 9,
    "start_time": "2024-07-19T11:04:13.255Z"
   },
   {
    "duration": 10,
    "start_time": "2024-07-19T11:04:45.485Z"
   },
   {
    "duration": 11,
    "start_time": "2024-07-19T11:05:19.403Z"
   },
   {
    "duration": 11,
    "start_time": "2024-07-19T11:06:24.633Z"
   },
   {
    "duration": 8,
    "start_time": "2024-07-19T11:06:39.142Z"
   },
   {
    "duration": 15,
    "start_time": "2024-07-19T11:09:52.422Z"
   },
   {
    "duration": 15,
    "start_time": "2024-07-19T11:11:08.833Z"
   },
   {
    "duration": 4,
    "start_time": "2024-07-19T11:12:03.309Z"
   },
   {
    "duration": 561,
    "start_time": "2024-07-19T11:12:25.222Z"
   },
   {
    "duration": 179,
    "start_time": "2024-07-19T11:13:00.850Z"
   },
   {
    "duration": 11,
    "start_time": "2024-07-19T11:14:18.598Z"
   },
   {
    "duration": 559,
    "start_time": "2024-07-19T11:14:32.884Z"
   },
   {
    "duration": 10,
    "start_time": "2024-07-19T11:14:56.275Z"
   },
   {
    "duration": 1093,
    "start_time": "2024-07-19T11:15:08.960Z"
   },
   {
    "duration": 570,
    "start_time": "2024-07-19T11:15:16.437Z"
   },
   {
    "duration": 19,
    "start_time": "2024-07-19T11:19:57.710Z"
   },
   {
    "duration": 4,
    "start_time": "2024-07-19T11:19:59.447Z"
   },
   {
    "duration": 16,
    "start_time": "2024-07-19T11:19:59.817Z"
   },
   {
    "duration": 4,
    "start_time": "2024-07-19T11:20:01.982Z"
   },
   {
    "duration": 13,
    "start_time": "2024-07-19T11:20:02.215Z"
   },
   {
    "duration": 3,
    "start_time": "2024-07-19T11:22:57.554Z"
   },
   {
    "duration": 868,
    "start_time": "2024-07-19T11:23:00.544Z"
   },
   {
    "duration": 1489,
    "start_time": "2024-07-19T11:23:04.831Z"
   },
   {
    "duration": 1296,
    "start_time": "2024-07-19T11:23:31.082Z"
   },
   {
    "duration": 15,
    "start_time": "2024-07-19T11:24:24.027Z"
   },
   {
    "duration": 5,
    "start_time": "2024-07-19T11:24:26.931Z"
   },
   {
    "duration": 3,
    "start_time": "2024-07-19T11:24:28.496Z"
   },
   {
    "duration": 4,
    "start_time": "2024-07-19T11:24:29.096Z"
   },
   {
    "duration": 3,
    "start_time": "2024-07-19T11:24:29.616Z"
   },
   {
    "duration": 3,
    "start_time": "2024-07-19T11:24:30.384Z"
   },
   {
    "duration": 6,
    "start_time": "2024-07-19T11:24:33.278Z"
   },
   {
    "duration": 3,
    "start_time": "2024-07-19T11:24:34.051Z"
   },
   {
    "duration": 9,
    "start_time": "2024-07-19T11:24:34.773Z"
   },
   {
    "duration": 3,
    "start_time": "2024-07-19T11:24:36.054Z"
   },
   {
    "duration": 318404,
    "start_time": "2024-07-19T11:24:37.459Z"
   },
   {
    "duration": 34,
    "start_time": "2024-07-19T11:42:06.718Z"
   },
   {
    "duration": 33,
    "start_time": "2024-07-19T11:42:26.697Z"
   },
   {
    "duration": 29,
    "start_time": "2024-07-19T11:43:06.764Z"
   },
   {
    "duration": 12,
    "start_time": "2024-07-19T11:43:23.508Z"
   },
   {
    "duration": 6,
    "start_time": "2024-07-19T11:43:27.006Z"
   },
   {
    "duration": 164,
    "start_time": "2024-07-19T11:43:28.624Z"
   },
   {
    "duration": 12,
    "start_time": "2024-07-19T11:59:30.033Z"
   },
   {
    "duration": 6,
    "start_time": "2024-07-19T12:00:17.075Z"
   },
   {
    "duration": 3,
    "start_time": "2024-07-19T12:00:46.131Z"
   },
   {
    "duration": 7,
    "start_time": "2024-07-19T12:01:10.282Z"
   },
   {
    "duration": 6,
    "start_time": "2024-07-19T12:02:14.952Z"
   },
   {
    "duration": 16,
    "start_time": "2024-07-19T12:02:44.401Z"
   },
   {
    "duration": 6,
    "start_time": "2024-07-19T12:06:47.925Z"
   },
   {
    "duration": 6,
    "start_time": "2024-07-19T12:06:48.935Z"
   },
   {
    "duration": 5,
    "start_time": "2024-07-19T12:06:59.251Z"
   },
   {
    "duration": 5,
    "start_time": "2024-07-19T12:07:00.084Z"
   },
   {
    "duration": 7,
    "start_time": "2024-07-19T12:09:23.540Z"
   },
   {
    "duration": 7,
    "start_time": "2024-07-19T12:09:26.942Z"
   },
   {
    "duration": 12,
    "start_time": "2024-07-19T12:15:01.329Z"
   },
   {
    "duration": 10,
    "start_time": "2024-07-19T12:15:07.808Z"
   },
   {
    "duration": 6,
    "start_time": "2024-07-19T12:16:57.612Z"
   },
   {
    "duration": 11,
    "start_time": "2024-07-19T12:16:58.698Z"
   },
   {
    "duration": 6,
    "start_time": "2024-07-19T12:17:17.140Z"
   },
   {
    "duration": 12,
    "start_time": "2024-07-19T12:17:24.659Z"
   },
   {
    "duration": 20,
    "start_time": "2024-07-19T12:18:10.522Z"
   },
   {
    "duration": 20,
    "start_time": "2024-07-19T12:18:29.033Z"
   },
   {
    "duration": 21,
    "start_time": "2024-07-19T12:19:03.249Z"
   },
   {
    "duration": 22,
    "start_time": "2024-07-19T12:19:44.982Z"
   },
   {
    "duration": 21,
    "start_time": "2024-07-19T12:19:48.357Z"
   },
   {
    "duration": 23,
    "start_time": "2024-07-19T12:19:51.568Z"
   },
   {
    "duration": 26,
    "start_time": "2024-07-19T12:20:10.372Z"
   },
   {
    "duration": 12,
    "start_time": "2024-07-19T12:20:11.128Z"
   },
   {
    "duration": 334493,
    "start_time": "2024-07-19T12:20:13.336Z"
   },
   {
    "duration": 1217,
    "start_time": "2024-07-19T12:26:06.400Z"
   },
   {
    "duration": 1190,
    "start_time": "2024-07-19T12:26:51.307Z"
   },
   {
    "duration": 1910,
    "start_time": "2024-07-19T12:28:11.894Z"
   },
   {
    "duration": 1519,
    "start_time": "2024-07-19T12:30:46.620Z"
   },
   {
    "duration": 1121,
    "start_time": "2024-07-19T12:30:55.429Z"
   },
   {
    "duration": 1269,
    "start_time": "2024-07-19T12:32:20.745Z"
   },
   {
    "duration": 1216,
    "start_time": "2024-07-19T12:34:26.830Z"
   },
   {
    "duration": 1201,
    "start_time": "2024-07-19T12:34:36.456Z"
   },
   {
    "duration": 1222,
    "start_time": "2024-07-19T12:34:49.014Z"
   },
   {
    "duration": 1124,
    "start_time": "2024-07-19T12:35:20.903Z"
   },
   {
    "duration": 1205,
    "start_time": "2024-07-19T12:35:25.009Z"
   },
   {
    "duration": 1137,
    "start_time": "2024-07-19T12:35:30.690Z"
   },
   {
    "duration": 1379,
    "start_time": "2024-07-19T12:39:05.938Z"
   },
   {
    "duration": 1151,
    "start_time": "2024-07-19T12:39:13.591Z"
   },
   {
    "duration": 1153,
    "start_time": "2024-07-19T12:39:22.594Z"
   },
   {
    "duration": 1143,
    "start_time": "2024-07-19T12:39:50.276Z"
   },
   {
    "duration": 1187,
    "start_time": "2024-07-19T12:39:59.516Z"
   },
   {
    "duration": 1344,
    "start_time": "2024-07-19T12:40:13.658Z"
   },
   {
    "duration": 10500,
    "start_time": "2024-07-19T12:41:03.302Z"
   },
   {
    "duration": 1782,
    "start_time": "2024-07-19T12:41:13.806Z"
   },
   {
    "duration": 4,
    "start_time": "2024-07-19T12:41:15.590Z"
   },
   {
    "duration": 110,
    "start_time": "2024-07-19T12:41:15.596Z"
   },
   {
    "duration": 18,
    "start_time": "2024-07-19T12:41:15.708Z"
   },
   {
    "duration": 23,
    "start_time": "2024-07-19T12:41:15.728Z"
   },
   {
    "duration": 8,
    "start_time": "2024-07-19T12:41:15.753Z"
   },
   {
    "duration": 8,
    "start_time": "2024-07-19T12:41:15.762Z"
   },
   {
    "duration": 9,
    "start_time": "2024-07-19T12:41:15.772Z"
   },
   {
    "duration": 19,
    "start_time": "2024-07-19T12:41:15.785Z"
   },
   {
    "duration": 14,
    "start_time": "2024-07-19T12:41:15.806Z"
   },
   {
    "duration": 11,
    "start_time": "2024-07-19T12:41:15.822Z"
   },
   {
    "duration": 4,
    "start_time": "2024-07-19T12:41:15.837Z"
   },
   {
    "duration": 9,
    "start_time": "2024-07-19T12:41:15.843Z"
   },
   {
    "duration": 6,
    "start_time": "2024-07-19T12:41:15.854Z"
   },
   {
    "duration": 7,
    "start_time": "2024-07-19T12:41:15.862Z"
   },
   {
    "duration": 6,
    "start_time": "2024-07-19T12:41:15.871Z"
   },
   {
    "duration": 6,
    "start_time": "2024-07-19T12:41:15.879Z"
   },
   {
    "duration": 18,
    "start_time": "2024-07-19T12:41:15.887Z"
   },
   {
    "duration": 35,
    "start_time": "2024-07-19T12:41:15.907Z"
   },
   {
    "duration": 15,
    "start_time": "2024-07-19T12:41:15.944Z"
   },
   {
    "duration": 5,
    "start_time": "2024-07-19T12:41:15.961Z"
   },
   {
    "duration": 16,
    "start_time": "2024-07-19T12:41:15.968Z"
   },
   {
    "duration": 7,
    "start_time": "2024-07-19T12:41:15.986Z"
   },
   {
    "duration": 11,
    "start_time": "2024-07-19T12:41:15.995Z"
   },
   {
    "duration": 32,
    "start_time": "2024-07-19T12:41:16.007Z"
   },
   {
    "duration": 16,
    "start_time": "2024-07-19T12:41:16.040Z"
   },
   {
    "duration": 14794,
    "start_time": "2024-07-19T12:41:16.061Z"
   },
   {
    "duration": 6,
    "start_time": "2024-07-19T12:41:30.857Z"
   },
   {
    "duration": 50,
    "start_time": "2024-07-19T12:41:30.866Z"
   },
   {
    "duration": 568,
    "start_time": "2024-07-19T12:41:30.918Z"
   },
   {
    "duration": 7,
    "start_time": "2024-07-19T12:41:31.488Z"
   },
   {
    "duration": 620,
    "start_time": "2024-07-19T12:41:31.496Z"
   },
   {
    "duration": 701,
    "start_time": "2024-07-19T12:41:32.118Z"
   },
   {
    "duration": 194,
    "start_time": "2024-07-19T12:41:32.821Z"
   },
   {
    "duration": 557,
    "start_time": "2024-07-19T12:41:33.016Z"
   },
   {
    "duration": 13,
    "start_time": "2024-07-19T12:41:33.575Z"
   },
   {
    "duration": 606,
    "start_time": "2024-07-19T12:41:33.590Z"
   },
   {
    "duration": 536,
    "start_time": "2024-07-19T12:41:34.199Z"
   },
   {
    "duration": 14,
    "start_time": "2024-07-19T12:41:34.737Z"
   },
   {
    "duration": 552,
    "start_time": "2024-07-19T12:41:34.752Z"
   },
   {
    "duration": 570,
    "start_time": "2024-07-19T12:41:35.306Z"
   },
   {
    "duration": 5,
    "start_time": "2024-07-19T12:41:35.878Z"
   },
   {
    "duration": 10,
    "start_time": "2024-07-19T12:41:35.884Z"
   },
   {
    "duration": 324,
    "start_time": "2024-07-19T12:41:35.896Z"
   },
   {
    "duration": 195,
    "start_time": "2024-07-19T12:41:36.222Z"
   },
   {
    "duration": 143,
    "start_time": "2024-07-19T12:41:36.419Z"
   },
   {
    "duration": 167,
    "start_time": "2024-07-19T12:41:36.564Z"
   },
   {
    "duration": 10,
    "start_time": "2024-07-19T12:41:36.732Z"
   },
   {
    "duration": 586,
    "start_time": "2024-07-19T12:41:36.743Z"
   },
   {
    "duration": 12,
    "start_time": "2024-07-19T12:41:37.331Z"
   },
   {
    "duration": 21,
    "start_time": "2024-07-19T12:41:37.345Z"
   },
   {
    "duration": 12,
    "start_time": "2024-07-19T12:41:37.368Z"
   },
   {
    "duration": 555,
    "start_time": "2024-07-19T12:41:37.381Z"
   },
   {
    "duration": 584,
    "start_time": "2024-07-19T12:41:37.938Z"
   },
   {
    "duration": 563,
    "start_time": "2024-07-19T12:41:38.523Z"
   },
   {
    "duration": 26,
    "start_time": "2024-07-19T12:41:39.088Z"
   },
   {
    "duration": 5,
    "start_time": "2024-07-19T12:41:39.116Z"
   },
   {
    "duration": 17,
    "start_time": "2024-07-19T12:41:39.137Z"
   },
   {
    "duration": 4,
    "start_time": "2024-07-19T12:41:39.155Z"
   },
   {
    "duration": 29,
    "start_time": "2024-07-19T12:41:39.160Z"
   },
   {
    "duration": 66,
    "start_time": "2024-07-19T12:41:39.191Z"
   },
   {
    "duration": 807,
    "start_time": "2024-07-19T12:41:39.259Z"
   },
   {
    "duration": 1511,
    "start_time": "2024-07-19T12:41:40.067Z"
   },
   {
    "duration": 17,
    "start_time": "2024-07-19T12:41:41.580Z"
   },
   {
    "duration": 19,
    "start_time": "2024-07-19T12:41:41.599Z"
   },
   {
    "duration": 22,
    "start_time": "2024-07-19T12:41:41.620Z"
   },
   {
    "duration": 4,
    "start_time": "2024-07-19T12:41:41.643Z"
   },
   {
    "duration": 7,
    "start_time": "2024-07-19T12:41:41.648Z"
   },
   {
    "duration": 10,
    "start_time": "2024-07-19T12:41:41.656Z"
   },
   {
    "duration": 18,
    "start_time": "2024-07-19T12:41:41.668Z"
   },
   {
    "duration": 8,
    "start_time": "2024-07-19T12:41:41.687Z"
   },
   {
    "duration": 14,
    "start_time": "2024-07-19T12:41:41.696Z"
   },
   {
    "duration": 4,
    "start_time": "2024-07-19T12:41:41.711Z"
   },
   {
    "duration": 326461,
    "start_time": "2024-07-19T12:41:41.716Z"
   },
   {
    "duration": 79,
    "start_time": "2024-07-19T12:47:08.178Z"
   },
   {
    "duration": 30,
    "start_time": "2024-07-19T12:47:08.258Z"
   },
   {
    "duration": 9,
    "start_time": "2024-07-19T12:47:08.290Z"
   },
   {
    "duration": 19,
    "start_time": "2024-07-19T12:47:08.301Z"
   },
   {
    "duration": 194,
    "start_time": "2024-07-19T12:47:08.321Z"
   },
   {
    "duration": 6,
    "start_time": "2024-07-19T12:47:08.517Z"
   },
   {
    "duration": 22,
    "start_time": "2024-07-19T12:47:08.542Z"
   },
   {
    "duration": 15,
    "start_time": "2024-07-19T12:47:08.565Z"
   },
   {
    "duration": 33,
    "start_time": "2024-07-19T12:47:08.581Z"
   },
   {
    "duration": 25,
    "start_time": "2024-07-19T12:47:08.616Z"
   },
   {
    "duration": 339698,
    "start_time": "2024-07-19T12:47:08.642Z"
   },
   {
    "duration": 1184,
    "start_time": "2024-07-19T12:52:48.342Z"
   },
   {
    "duration": 10,
    "start_time": "2024-07-19T12:52:49.528Z"
   },
   {
    "duration": 7,
    "start_time": "2024-07-19T12:52:49.540Z"
   },
   {
    "duration": 3,
    "start_time": "2024-07-19T12:52:49.549Z"
   },
   {
    "duration": 32,
    "start_time": "2024-07-19T12:52:49.554Z"
   },
   {
    "duration": 11,
    "start_time": "2024-07-19T12:52:49.595Z"
   },
   {
    "duration": 13,
    "start_time": "2024-07-19T12:52:49.608Z"
   },
   {
    "duration": 16,
    "start_time": "2024-07-19T12:52:49.623Z"
   },
   {
    "duration": 22,
    "start_time": "2024-07-19T12:52:49.641Z"
   },
   {
    "duration": 7,
    "start_time": "2024-07-19T12:52:49.665Z"
   },
   {
    "duration": 4,
    "start_time": "2024-07-19T12:52:49.674Z"
   },
   {
    "duration": 23,
    "start_time": "2024-07-19T12:52:49.679Z"
   },
   {
    "duration": 35,
    "start_time": "2024-07-19T12:52:49.703Z"
   },
   {
    "duration": 14,
    "start_time": "2024-07-19T12:52:49.739Z"
   },
   {
    "duration": 11,
    "start_time": "2024-07-19T12:52:49.755Z"
   },
   {
    "duration": 17,
    "start_time": "2024-07-19T12:52:49.768Z"
   },
   {
    "duration": 27,
    "start_time": "2024-07-19T12:52:49.787Z"
   },
   {
    "duration": 9,
    "start_time": "2024-07-19T12:52:49.815Z"
   },
   {
    "duration": 29,
    "start_time": "2024-07-19T12:52:49.826Z"
   },
   {
    "duration": 7,
    "start_time": "2024-07-19T12:52:49.857Z"
   },
   {
    "duration": 456,
    "start_time": "2024-07-19T12:52:49.866Z"
   },
   {
    "duration": 13,
    "start_time": "2024-07-19T12:52:50.324Z"
   },
   {
    "duration": 24,
    "start_time": "2024-07-19T12:52:50.339Z"
   },
   {
    "duration": 283,
    "start_time": "2024-07-19T12:52:50.365Z"
   },
   {
    "duration": 8,
    "start_time": "2024-07-19T12:52:50.650Z"
   },
   {
    "duration": 9,
    "start_time": "2024-07-19T12:52:50.660Z"
   },
   {
    "duration": 5,
    "start_time": "2024-07-19T12:52:50.671Z"
   },
   {
    "duration": 17,
    "start_time": "2024-07-19T12:52:50.678Z"
   },
   {
    "duration": 20,
    "start_time": "2024-07-19T12:52:50.697Z"
   },
   {
    "duration": 46,
    "start_time": "2024-07-20T08:23:33.865Z"
   },
   {
    "duration": 16859,
    "start_time": "2024-07-20T08:24:32.412Z"
   },
   {
    "duration": 1712,
    "start_time": "2024-07-20T08:24:49.274Z"
   },
   {
    "duration": 3,
    "start_time": "2024-07-20T08:24:50.988Z"
   },
   {
    "duration": 381,
    "start_time": "2024-07-20T08:24:50.993Z"
   },
   {
    "duration": 17,
    "start_time": "2024-07-20T08:24:51.375Z"
   },
   {
    "duration": 27,
    "start_time": "2024-07-20T08:24:51.393Z"
   },
   {
    "duration": 66,
    "start_time": "2024-07-20T08:24:51.421Z"
   },
   {
    "duration": 12,
    "start_time": "2024-07-20T08:24:51.488Z"
   },
   {
    "duration": 9,
    "start_time": "2024-07-20T08:24:51.502Z"
   },
   {
    "duration": 20,
    "start_time": "2024-07-20T08:24:51.513Z"
   },
   {
    "duration": 23,
    "start_time": "2024-07-20T08:24:51.534Z"
   },
   {
    "duration": 12,
    "start_time": "2024-07-20T08:24:51.558Z"
   },
   {
    "duration": 18,
    "start_time": "2024-07-20T08:24:51.571Z"
   },
   {
    "duration": 15,
    "start_time": "2024-07-20T08:24:51.591Z"
   },
   {
    "duration": 8,
    "start_time": "2024-07-20T08:24:51.608Z"
   },
   {
    "duration": 16,
    "start_time": "2024-07-20T08:24:51.618Z"
   },
   {
    "duration": 14,
    "start_time": "2024-07-20T08:24:51.635Z"
   },
   {
    "duration": 37,
    "start_time": "2024-07-20T08:24:51.650Z"
   },
   {
    "duration": 12,
    "start_time": "2024-07-20T08:24:51.688Z"
   },
   {
    "duration": 5,
    "start_time": "2024-07-20T08:24:51.701Z"
   },
   {
    "duration": 8,
    "start_time": "2024-07-20T08:24:51.708Z"
   },
   {
    "duration": 5,
    "start_time": "2024-07-20T08:24:51.717Z"
   },
   {
    "duration": 21,
    "start_time": "2024-07-20T08:24:51.723Z"
   },
   {
    "duration": 4,
    "start_time": "2024-07-20T08:24:51.746Z"
   },
   {
    "duration": 17,
    "start_time": "2024-07-20T08:24:51.751Z"
   },
   {
    "duration": 12,
    "start_time": "2024-07-20T08:24:51.769Z"
   },
   {
    "duration": 14,
    "start_time": "2024-07-20T08:24:51.783Z"
   },
   {
    "duration": 12697,
    "start_time": "2024-07-20T08:24:51.801Z"
   },
   {
    "duration": 6,
    "start_time": "2024-07-20T08:25:04.499Z"
   },
   {
    "duration": 21,
    "start_time": "2024-07-20T08:25:04.506Z"
   },
   {
    "duration": 506,
    "start_time": "2024-07-20T08:25:04.529Z"
   },
   {
    "duration": 6,
    "start_time": "2024-07-20T08:25:05.037Z"
   },
   {
    "duration": 513,
    "start_time": "2024-07-20T08:25:05.044Z"
   },
   {
    "duration": 591,
    "start_time": "2024-07-20T08:25:05.558Z"
   },
   {
    "duration": 178,
    "start_time": "2024-07-20T08:25:06.151Z"
   },
   {
    "duration": 490,
    "start_time": "2024-07-20T08:25:06.330Z"
   },
   {
    "duration": 11,
    "start_time": "2024-07-20T08:25:06.822Z"
   },
   {
    "duration": 519,
    "start_time": "2024-07-20T08:25:06.834Z"
   },
   {
    "duration": 487,
    "start_time": "2024-07-20T08:25:07.354Z"
   },
   {
    "duration": 15,
    "start_time": "2024-07-20T08:25:07.842Z"
   },
   {
    "duration": 477,
    "start_time": "2024-07-20T08:25:07.858Z"
   },
   {
    "duration": 509,
    "start_time": "2024-07-20T08:25:08.336Z"
   },
   {
    "duration": 5,
    "start_time": "2024-07-20T08:25:08.847Z"
   },
   {
    "duration": 4,
    "start_time": "2024-07-20T08:25:08.853Z"
   },
   {
    "duration": 267,
    "start_time": "2024-07-20T08:25:08.858Z"
   },
   {
    "duration": 191,
    "start_time": "2024-07-20T08:25:09.126Z"
   },
   {
    "duration": 136,
    "start_time": "2024-07-20T08:25:09.319Z"
   },
   {
    "duration": 160,
    "start_time": "2024-07-20T08:25:09.456Z"
   },
   {
    "duration": 8,
    "start_time": "2024-07-20T08:25:09.617Z"
   },
   {
    "duration": 493,
    "start_time": "2024-07-20T08:25:09.626Z"
   },
   {
    "duration": 7,
    "start_time": "2024-07-20T08:25:10.121Z"
   },
   {
    "duration": 9,
    "start_time": "2024-07-20T08:25:10.129Z"
   },
   {
    "duration": 6,
    "start_time": "2024-07-20T08:25:10.140Z"
   },
   {
    "duration": 495,
    "start_time": "2024-07-20T08:25:10.147Z"
   },
   {
    "duration": 519,
    "start_time": "2024-07-20T08:25:10.643Z"
   },
   {
    "duration": 475,
    "start_time": "2024-07-20T08:25:11.163Z"
   },
   {
    "duration": 17,
    "start_time": "2024-07-20T08:25:11.639Z"
   },
   {
    "duration": 3,
    "start_time": "2024-07-20T08:25:11.658Z"
   },
   {
    "duration": 14,
    "start_time": "2024-07-20T08:25:11.662Z"
   },
   {
    "duration": 3,
    "start_time": "2024-07-20T08:25:11.677Z"
   },
   {
    "duration": 37,
    "start_time": "2024-07-20T08:25:11.682Z"
   },
   {
    "duration": 2,
    "start_time": "2024-07-20T08:25:11.721Z"
   },
   {
    "duration": 765,
    "start_time": "2024-07-20T08:25:11.725Z"
   },
   {
    "duration": 1297,
    "start_time": "2024-07-20T08:25:12.491Z"
   },
   {
    "duration": 13,
    "start_time": "2024-07-20T08:25:13.789Z"
   },
   {
    "duration": 16,
    "start_time": "2024-07-20T08:25:13.803Z"
   },
   {
    "duration": 4,
    "start_time": "2024-07-20T08:25:13.820Z"
   },
   {
    "duration": 7,
    "start_time": "2024-07-20T08:25:13.825Z"
   },
   {
    "duration": 9,
    "start_time": "2024-07-20T08:25:13.834Z"
   },
   {
    "duration": 4,
    "start_time": "2024-07-20T08:25:13.845Z"
   },
   {
    "duration": 16,
    "start_time": "2024-07-20T08:25:13.850Z"
   },
   {
    "duration": 7,
    "start_time": "2024-07-20T08:25:13.868Z"
   },
   {
    "duration": 10,
    "start_time": "2024-07-20T08:25:13.877Z"
   },
   {
    "duration": 4,
    "start_time": "2024-07-20T08:25:13.888Z"
   },
   {
    "duration": 290535,
    "start_time": "2024-07-20T08:25:13.894Z"
   },
   {
    "duration": 30,
    "start_time": "2024-07-20T08:30:04.431Z"
   },
   {
    "duration": 26,
    "start_time": "2024-07-20T08:30:04.462Z"
   },
   {
    "duration": 29,
    "start_time": "2024-07-20T08:30:04.489Z"
   },
   {
    "duration": 11,
    "start_time": "2024-07-20T08:30:04.520Z"
   },
   {
    "duration": 177,
    "start_time": "2024-07-20T08:30:04.533Z"
   },
   {
    "duration": 6,
    "start_time": "2024-07-20T08:36:18.198Z"
   },
   {
    "duration": 5,
    "start_time": "2024-07-20T08:36:20.829Z"
   },
   {
    "duration": 3,
    "start_time": "2024-07-20T08:36:31.880Z"
   },
   {
    "duration": 4,
    "start_time": "2024-07-20T08:37:41.107Z"
   },
   {
    "duration": 10,
    "start_time": "2024-07-20T08:37:42.379Z"
   },
   {
    "duration": 4,
    "start_time": "2024-07-20T08:38:28.826Z"
   },
   {
    "duration": 4,
    "start_time": "2024-07-20T08:38:29.828Z"
   },
   {
    "duration": 10,
    "start_time": "2024-07-20T08:38:30.556Z"
   },
   {
    "duration": 11,
    "start_time": "2024-07-20T08:47:59.706Z"
   },
   {
    "duration": 12012,
    "start_time": "2024-07-20T08:50:30.361Z"
   },
   {
    "duration": 1581,
    "start_time": "2024-07-20T08:50:42.375Z"
   },
   {
    "duration": 4,
    "start_time": "2024-07-20T08:50:43.957Z"
   },
   {
    "duration": 97,
    "start_time": "2024-07-20T08:50:43.963Z"
   },
   {
    "duration": 16,
    "start_time": "2024-07-20T08:50:44.061Z"
   },
   {
    "duration": 11,
    "start_time": "2024-07-20T08:50:44.078Z"
   },
   {
    "duration": 10,
    "start_time": "2024-07-20T08:50:44.090Z"
   },
   {
    "duration": 6,
    "start_time": "2024-07-20T08:50:44.101Z"
   },
   {
    "duration": 27,
    "start_time": "2024-07-20T08:50:44.108Z"
   },
   {
    "duration": 4,
    "start_time": "2024-07-20T08:50:44.138Z"
   },
   {
    "duration": 10,
    "start_time": "2024-07-20T08:50:44.143Z"
   },
   {
    "duration": 4,
    "start_time": "2024-07-20T08:50:44.154Z"
   },
   {
    "duration": 6,
    "start_time": "2024-07-20T08:50:44.159Z"
   },
   {
    "duration": 5,
    "start_time": "2024-07-20T08:50:44.166Z"
   },
   {
    "duration": 8,
    "start_time": "2024-07-20T08:50:44.172Z"
   },
   {
    "duration": 5,
    "start_time": "2024-07-20T08:50:44.181Z"
   },
   {
    "duration": 5,
    "start_time": "2024-07-20T08:50:44.188Z"
   },
   {
    "duration": 27,
    "start_time": "2024-07-20T08:50:44.194Z"
   },
   {
    "duration": 11,
    "start_time": "2024-07-20T08:50:44.234Z"
   },
   {
    "duration": 6,
    "start_time": "2024-07-20T08:50:44.246Z"
   },
   {
    "duration": 13,
    "start_time": "2024-07-20T08:50:44.254Z"
   },
   {
    "duration": 17,
    "start_time": "2024-07-20T08:50:44.268Z"
   },
   {
    "duration": 9,
    "start_time": "2024-07-20T08:50:44.287Z"
   },
   {
    "duration": 5,
    "start_time": "2024-07-20T08:50:44.297Z"
   },
   {
    "duration": 30,
    "start_time": "2024-07-20T08:50:44.303Z"
   },
   {
    "duration": 7,
    "start_time": "2024-07-20T08:50:44.334Z"
   },
   {
    "duration": 15,
    "start_time": "2024-07-20T08:50:44.343Z"
   },
   {
    "duration": 13648,
    "start_time": "2024-07-20T08:50:44.362Z"
   },
   {
    "duration": 8,
    "start_time": "2024-07-20T08:50:58.011Z"
   },
   {
    "duration": 18,
    "start_time": "2024-07-20T08:50:58.020Z"
   },
   {
    "duration": 511,
    "start_time": "2024-07-20T08:50:58.040Z"
   },
   {
    "duration": 6,
    "start_time": "2024-07-20T08:50:58.553Z"
   },
   {
    "duration": 512,
    "start_time": "2024-07-20T08:50:58.561Z"
   },
   {
    "duration": 666,
    "start_time": "2024-07-20T08:50:59.074Z"
   },
   {
    "duration": 197,
    "start_time": "2024-07-20T08:50:59.741Z"
   },
   {
    "duration": 505,
    "start_time": "2024-07-20T08:50:59.939Z"
   },
   {
    "duration": 13,
    "start_time": "2024-07-20T08:51:00.446Z"
   },
   {
    "duration": 615,
    "start_time": "2024-07-20T08:51:00.460Z"
   },
   {
    "duration": 522,
    "start_time": "2024-07-20T08:51:01.077Z"
   },
   {
    "duration": 41,
    "start_time": "2024-07-20T08:51:01.600Z"
   },
   {
    "duration": 486,
    "start_time": "2024-07-20T08:51:01.651Z"
   },
   {
    "duration": 519,
    "start_time": "2024-07-20T08:51:02.138Z"
   },
   {
    "duration": 5,
    "start_time": "2024-07-20T08:51:02.659Z"
   },
   {
    "duration": 4,
    "start_time": "2024-07-20T08:51:02.665Z"
   },
   {
    "duration": 304,
    "start_time": "2024-07-20T08:51:02.670Z"
   },
   {
    "duration": 194,
    "start_time": "2024-07-20T08:51:02.975Z"
   },
   {
    "duration": 166,
    "start_time": "2024-07-20T08:51:03.171Z"
   },
   {
    "duration": 156,
    "start_time": "2024-07-20T08:51:03.339Z"
   },
   {
    "duration": 7,
    "start_time": "2024-07-20T08:51:03.496Z"
   },
   {
    "duration": 530,
    "start_time": "2024-07-20T08:51:03.504Z"
   },
   {
    "duration": 8,
    "start_time": "2024-07-20T08:51:04.035Z"
   },
   {
    "duration": 14,
    "start_time": "2024-07-20T08:51:04.045Z"
   },
   {
    "duration": 7,
    "start_time": "2024-07-20T08:51:04.060Z"
   },
   {
    "duration": 582,
    "start_time": "2024-07-20T08:51:04.069Z"
   },
   {
    "duration": 505,
    "start_time": "2024-07-20T08:51:04.653Z"
   },
   {
    "duration": 510,
    "start_time": "2024-07-20T08:51:05.159Z"
   },
   {
    "duration": 16,
    "start_time": "2024-07-20T08:51:05.671Z"
   },
   {
    "duration": 3,
    "start_time": "2024-07-20T08:51:05.689Z"
   },
   {
    "duration": 25,
    "start_time": "2024-07-20T08:51:05.718Z"
   },
   {
    "duration": 5,
    "start_time": "2024-07-20T08:51:05.745Z"
   },
   {
    "duration": 25,
    "start_time": "2024-07-20T08:51:05.751Z"
   },
   {
    "duration": 5,
    "start_time": "2024-07-20T08:51:05.778Z"
   },
   {
    "duration": 808,
    "start_time": "2024-07-20T08:51:05.784Z"
   },
   {
    "duration": 1406,
    "start_time": "2024-07-20T08:51:06.593Z"
   },
   {
    "duration": 36,
    "start_time": "2024-07-20T08:51:08.001Z"
   },
   {
    "duration": 6,
    "start_time": "2024-07-20T08:51:08.039Z"
   },
   {
    "duration": 3,
    "start_time": "2024-07-20T08:51:08.047Z"
   },
   {
    "duration": 4,
    "start_time": "2024-07-20T08:51:08.054Z"
   },
   {
    "duration": 18,
    "start_time": "2024-07-20T08:51:08.063Z"
   },
   {
    "duration": 4,
    "start_time": "2024-07-20T08:51:08.083Z"
   },
   {
    "duration": 4,
    "start_time": "2024-07-20T08:51:08.089Z"
   },
   {
    "duration": 3,
    "start_time": "2024-07-20T08:51:08.095Z"
   },
   {
    "duration": 34,
    "start_time": "2024-07-20T08:51:08.099Z"
   },
   {
    "duration": 4,
    "start_time": "2024-07-20T08:51:08.134Z"
   },
   {
    "duration": 322503,
    "start_time": "2024-07-20T08:51:08.139Z"
   },
   {
    "duration": 32,
    "start_time": "2024-07-20T08:56:30.644Z"
   },
   {
    "duration": 74,
    "start_time": "2024-07-20T08:56:30.677Z"
   },
   {
    "duration": 26,
    "start_time": "2024-07-20T08:56:30.753Z"
   },
   {
    "duration": 65,
    "start_time": "2024-07-20T08:56:30.781Z"
   },
   {
    "duration": 225,
    "start_time": "2024-07-20T08:56:30.848Z"
   },
   {
    "duration": 6,
    "start_time": "2024-07-20T08:56:31.075Z"
   },
   {
    "duration": 83,
    "start_time": "2024-07-20T08:56:31.088Z"
   },
   {
    "duration": 65,
    "start_time": "2024-07-20T08:56:31.173Z"
   },
   {
    "duration": 44,
    "start_time": "2024-07-20T08:56:31.239Z"
   },
   {
    "duration": 190,
    "start_time": "2024-07-20T08:56:31.285Z"
   }
  ],
  "colab": {
   "provenance": []
  },
  "kernelspec": {
   "display_name": "Python 3 (ipykernel)",
   "language": "python",
   "name": "python3"
  },
  "language_info": {
   "codemirror_mode": {
    "name": "ipython",
    "version": 3
   },
   "file_extension": ".py",
   "mimetype": "text/x-python",
   "name": "python",
   "nbconvert_exporter": "python",
   "pygments_lexer": "ipython3",
   "version": "3.9.5"
  },
  "toc": {
   "base_numbering": 1,
   "nav_menu": {},
   "number_sections": true,
   "sideBar": true,
   "skip_h1_title": true,
   "title_cell": "Table of Contents",
   "title_sidebar": "Contents",
   "toc_cell": false,
   "toc_position": {
    "height": "calc(100% - 180px)",
    "left": "10px",
    "top": "150px",
    "width": "246.927px"
   },
   "toc_section_display": true,
   "toc_window_display": true
  }
 },
 "nbformat": 4,
 "nbformat_minor": 1
}
